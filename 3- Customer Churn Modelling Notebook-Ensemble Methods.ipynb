{
 "cells": [
  {
   "cell_type": "markdown",
   "metadata": {
    "toc": true
   },
   "source": [
    "<h1>Table of Contents<span class=\"tocSkip\"></span></h1>\n",
    "<div class=\"toc\"><ul class=\"toc-item\"><li><ul class=\"toc-item\"><li><span><a href=\"#Final-Project-Notebook-3-Ensemble-Modelling\" data-toc-modified-id=\"Final-Project-Notebook-3-Ensemble-Modelling-0.1\"><span class=\"toc-item-num\">0.1&nbsp;&nbsp;</span>Final Project Notebook-3 Ensemble Modelling</a></span><ul class=\"toc-item\"><li><ul class=\"toc-item\"><li><span><a href=\"#Modelling-notebook-1:-In-this-notebook:\" data-toc-modified-id=\"Modelling-notebook-1:-In-this-notebook:-0.1.0.1\"><span class=\"toc-item-num\">0.1.0.1&nbsp;&nbsp;</span>Modelling notebook 1: In this notebook:</a></span></li><li><span><a href=\"#Import-the-necessary-libraries.\" data-toc-modified-id=\"Import-the-necessary-libraries.-0.1.0.2\"><span class=\"toc-item-num\">0.1.0.2&nbsp;&nbsp;</span>Import the necessary libraries.</a></span></li></ul></li><li><span><a href=\"#Splitting-the-data-into-test-and-train-sets\" data-toc-modified-id=\"Splitting-the-data-into-test-and-train-sets-0.1.1\"><span class=\"toc-item-num\">0.1.1&nbsp;&nbsp;</span>Splitting the data into test and train sets</a></span></li><li><span><a href=\"#Scaling-the-data-by-sklearn-Standard-Scaler\" data-toc-modified-id=\"Scaling-the-data-by-sklearn-Standard-Scaler-0.1.2\"><span class=\"toc-item-num\">0.1.2&nbsp;&nbsp;</span>Scaling the data by sklearn Standard Scaler</a></span></li><li><span><a href=\"#Functions-to-evaluate-the-model\" data-toc-modified-id=\"Functions-to-evaluate-the-model-0.1.3\"><span class=\"toc-item-num\">0.1.3&nbsp;&nbsp;</span>Functions to evaluate the model</a></span><ul class=\"toc-item\"><li><span><a href=\"#Function-to-draw-the-ROC-curve-and-to-calculate-the-area-under-the-curve\" data-toc-modified-id=\"Function-to-draw-the-ROC-curve-and-to-calculate-the-area-under-the-curve-0.1.3.1\"><span class=\"toc-item-num\">0.1.3.1&nbsp;&nbsp;</span>Function to draw the ROC curve and to calculate the area under the curve</a></span></li><li><span><a href=\"#Function-to-draw-Precision-Recall-Curve\" data-toc-modified-id=\"Function-to-draw-Precision-Recall-Curve-0.1.3.2\"><span class=\"toc-item-num\">0.1.3.2&nbsp;&nbsp;</span>Function to draw Precision-Recall Curve</a></span></li><li><span><a href=\"#Function-to-draw-the-feature-importances\" data-toc-modified-id=\"Function-to-draw-the-feature-importances-0.1.3.3\"><span class=\"toc-item-num\">0.1.3.3&nbsp;&nbsp;</span>Function to draw the feature importances</a></span></li><li><span><a href=\"#Function-to-print-the-confusion-matrix-in-a-data-frame-to-make-the-matrix-more-readable.\" data-toc-modified-id=\"Function-to-print-the-confusion-matrix-in-a-data-frame-to-make-the-matrix-more-readable.-0.1.3.4\"><span class=\"toc-item-num\">0.1.3.4&nbsp;&nbsp;</span>Function to print the confusion matrix in a data frame to make the matrix more readable.</a></span></li><li><span><a href=\"#Function-to-print-the-metrics:-Confusion-Matrix,-Classification-Report,-Cohen's-Kappa,-F-beta-score,-roc-auc-score-and-mean-cross-validation-score.\" data-toc-modified-id=\"Function-to-print-the-metrics:-Confusion-Matrix,-Classification-Report,-Cohen's-Kappa,-F-beta-score,-roc-auc-score-and-mean-cross-validation-score.-0.1.3.5\"><span class=\"toc-item-num\">0.1.3.5&nbsp;&nbsp;</span>Function to print the metrics: Confusion Matrix, Classification Report, Cohen's Kappa, F beta score, roc-auc score and mean cross validation score.</a></span></li></ul></li><li><span><a href=\"#Handling-Imbalanced-Data\" data-toc-modified-id=\"Handling-Imbalanced-Data-0.1.4\"><span class=\"toc-item-num\">0.1.4&nbsp;&nbsp;</span>Handling Imbalanced Data</a></span><ul class=\"toc-item\"><li><span><a href=\"#SMOTE\" data-toc-modified-id=\"SMOTE-0.1.4.1\"><span class=\"toc-item-num\">0.1.4.1&nbsp;&nbsp;</span>SMOTE</a></span></li><li><span><a href=\"#ADASYN\" data-toc-modified-id=\"ADASYN-0.1.4.2\"><span class=\"toc-item-num\">0.1.4.2&nbsp;&nbsp;</span>ADASYN</a></span></li></ul></li></ul></li></ul></li><li><span><a href=\"#RANDOM-FOREST\" data-toc-modified-id=\"RANDOM-FOREST-1\"><span class=\"toc-item-num\">1&nbsp;&nbsp;</span>RANDOM FOREST</a></span><ul class=\"toc-item\"><li><span><a href=\"#Random-Forest-Baseline-Model\" data-toc-modified-id=\"Random-Forest-Baseline-Model-1.1\"><span class=\"toc-item-num\">1.1&nbsp;&nbsp;</span>Random Forest Baseline Model</a></span><ul class=\"toc-item\"><li><span><a href=\"#Instantiate,-fit-and-predict\" data-toc-modified-id=\"Instantiate,-fit-and-predict-1.1.1\"><span class=\"toc-item-num\">1.1.1&nbsp;&nbsp;</span>Instantiate, fit and predict</a></span></li><li><span><a href=\"#Print-evaluation-metrics\" data-toc-modified-id=\"Print-evaluation-metrics-1.1.2\"><span class=\"toc-item-num\">1.1.2&nbsp;&nbsp;</span>Print evaluation metrics</a></span></li><li><span><a href=\"#Feature-Importances\" data-toc-modified-id=\"Feature-Importances-1.1.3\"><span class=\"toc-item-num\">1.1.3&nbsp;&nbsp;</span>Feature Importances</a></span></li><li><span><a href=\"#Precision-Recall-Curve\" data-toc-modified-id=\"Precision-Recall-Curve-1.1.4\"><span class=\"toc-item-num\">1.1.4&nbsp;&nbsp;</span>Precision-Recall Curve</a></span></li><li><span><a href=\"#Interpreting-the-results-of-the-first-Random-Forest-model\" data-toc-modified-id=\"Interpreting-the-results-of-the-first-Random-Forest-model-1.1.5\"><span class=\"toc-item-num\">1.1.5&nbsp;&nbsp;</span>Interpreting the results of the first Random Forest model</a></span></li></ul></li><li><span><a href=\"#Random-Forest(-Grid-search-and--pipeline-)\" data-toc-modified-id=\"Random-Forest(-Grid-search-and--pipeline-)-1.2\"><span class=\"toc-item-num\">1.2&nbsp;&nbsp;</span>Random Forest( Grid search and  pipeline )</a></span><ul class=\"toc-item\"><li><span><a href=\"#Instantiate-the-pipeline\" data-toc-modified-id=\"Instantiate-the-pipeline-1.2.1\"><span class=\"toc-item-num\">1.2.1&nbsp;&nbsp;</span>Instantiate the pipeline</a></span></li><li><span><a href=\"#Define-the-grid\" data-toc-modified-id=\"Define-the-grid-1.2.2\"><span class=\"toc-item-num\">1.2.2&nbsp;&nbsp;</span>Define the grid</a></span></li><li><span><a href=\"#Instantiate,-fit-and-predict\" data-toc-modified-id=\"Instantiate,-fit-and-predict-1.2.3\"><span class=\"toc-item-num\">1.2.3&nbsp;&nbsp;</span>Instantiate, fit and predict</a></span></li><li><span><a href=\"#Print-evaluation-metrics\" data-toc-modified-id=\"Print-evaluation-metrics-1.2.4\"><span class=\"toc-item-num\">1.2.4&nbsp;&nbsp;</span>Print evaluation metrics</a></span></li><li><span><a href=\"#Best-Scores\" data-toc-modified-id=\"Best-Scores-1.2.5\"><span class=\"toc-item-num\">1.2.5&nbsp;&nbsp;</span>Best Scores</a></span></li><li><span><a href=\"#Best-Parameters\" data-toc-modified-id=\"Best-Parameters-1.2.6\"><span class=\"toc-item-num\">1.2.6&nbsp;&nbsp;</span>Best Parameters</a></span></li><li><span><a href=\"#Precision-Recall-Curve\" data-toc-modified-id=\"Precision-Recall-Curve-1.2.7\"><span class=\"toc-item-num\">1.2.7&nbsp;&nbsp;</span>Precision-Recall Curve</a></span></li><li><span><a href=\"#Interpreting-the-results-of-the-second-Random-Forest-model\" data-toc-modified-id=\"Interpreting-the-results-of-the-second-Random-Forest-model-1.2.8\"><span class=\"toc-item-num\">1.2.8&nbsp;&nbsp;</span>Interpreting the results of the second Random Forest model</a></span></li></ul></li></ul></li><li><span><a href=\"#Xgboost\" data-toc-modified-id=\"Xgboost-2\"><span class=\"toc-item-num\">2&nbsp;&nbsp;</span>Xgboost</a></span><ul class=\"toc-item\"><li><ul class=\"toc-item\"><li><span><a href=\"#Instantiate,-fit-and-predict\" data-toc-modified-id=\"Instantiate,-fit-and-predict-2.0.1\"><span class=\"toc-item-num\">2.0.1&nbsp;&nbsp;</span>Instantiate, fit and predict</a></span></li><li><span><a href=\"#Print-evaluation-metrics\" data-toc-modified-id=\"Print-evaluation-metrics-2.0.2\"><span class=\"toc-item-num\">2.0.2&nbsp;&nbsp;</span>Print evaluation metrics</a></span></li><li><span><a href=\"#Feature-Importances\" data-toc-modified-id=\"Feature-Importances-2.0.3\"><span class=\"toc-item-num\">2.0.3&nbsp;&nbsp;</span>Feature Importances</a></span></li><li><span><a href=\"#Precision-Recall-Curve\" data-toc-modified-id=\"Precision-Recall-Curve-2.0.4\"><span class=\"toc-item-num\">2.0.4&nbsp;&nbsp;</span>Precision-Recall Curve</a></span></li><li><span><a href=\"#Interpreting-the-results-of-the-XGBoost-model\" data-toc-modified-id=\"Interpreting-the-results-of-the-XGBoost-model-2.0.5\"><span class=\"toc-item-num\">2.0.5&nbsp;&nbsp;</span>Interpreting the results of the XGBoost model</a></span></li></ul></li></ul></li><li><span><a href=\"#Conclusion:\" data-toc-modified-id=\"Conclusion:-3\"><span class=\"toc-item-num\">3&nbsp;&nbsp;</span>Conclusion:</a></span><ul class=\"toc-item\"><li><span><a href=\"#Business-questions-answered\" data-toc-modified-id=\"Business-questions-answered-3.1\"><span class=\"toc-item-num\">3.1&nbsp;&nbsp;</span>Business questions answered</a></span></li><li><span><a href=\"#Summary:\" data-toc-modified-id=\"Summary:-3.2\"><span class=\"toc-item-num\">3.2&nbsp;&nbsp;</span>Summary:</a></span></li><li><span><a href=\"#Sources\" data-toc-modified-id=\"Sources-3.3\"><span class=\"toc-item-num\">3.3&nbsp;&nbsp;</span>Sources</a></span></li></ul></li></ul></div>"
   ]
  },
  {
   "cell_type": "markdown",
   "metadata": {},
   "source": [
    "## Final Project Notebook-3 Ensemble Modelling\n",
    "\n",
    "Please fill out:\n",
    "* Student name: Seyma Tas\n",
    "* Student pace: full time\n",
    "* Scheduled project review date/time: \n",
    "* Instructor name: Amber Yandow\n",
    "* Blog post URL:\n"
   ]
  },
  {
   "cell_type": "markdown",
   "metadata": {},
   "source": [
    "#### Modelling notebook 1: In this notebook:\n",
    "\n",
    "Random Forest Classifier\n",
    "\n",
    "XGBoost Classifier\n",
    "\n",
    "are used for modelling the customer churn analysis. \n",
    "\n",
    "Grid search algorithm is used to make exhaustive search of hyper parameters.\n",
    "\n",
    "Pipeline is used to streamline the routine processes."
   ]
  },
  {
   "cell_type": "markdown",
   "metadata": {},
   "source": [
    "#### Import the necessary libraries."
   ]
  },
  {
   "cell_type": "code",
   "execution_count": 24,
   "metadata": {
    "ExecuteTime": {
     "end_time": "2020-06-01T17:36:40.852893Z",
     "start_time": "2020-06-01T17:36:40.835470Z"
    }
   },
   "outputs": [],
   "source": [
    "import warnings\n",
    "warnings.filterwarnings('ignore')\n",
    "\n",
    "import seaborn as sns\n",
    "import pandas as pd\n",
    "import numpy as np\n",
    "import matplotlib.pyplot as plt\n",
    "%matplotlib inline\n",
    "\n",
    "sns.set_style('darkgrid', {'axes.facecolor': '0.9'})\n",
    "\n",
    "from sklearn.preprocessing import LabelEncoder, OneHotEncoder, StandardScaler\n",
    "from sklearn.model_selection import train_test_split, cross_val_score, GridSearchCV, ParameterGrid\n",
    "from sklearn.metrics import recall_score, f1_score, fbeta_score, r2_score, roc_auc_score, roc_curve, auc, cohen_kappa_score\n",
    "from sklearn.metrics import classification_report, confusion_matrix, accuracy_score, precision_score\n",
    "from sklearn.metrics import make_scorer\n",
    "# from sklearn.metrics import plot_confusion_matrix\n",
    "## This function is going to be available in the scikit-learn 0.23.1 \n",
    "from sklearn.metrics import precision_recall_curve\n",
    "from sklearn.metrics import plot_precision_recall_curve, average_precision_score\n",
    "from sklearn.linear_model import LogisticRegression, SGDClassifier\n",
    "from imblearn.over_sampling import SMOTE, ADASYN\n",
    "from sklearn.tree import DecisionTreeClassifier\n",
    "from sklearn.ensemble import RandomForestClassifier, AdaBoostClassifier, GradientBoostingClassifier, BaggingClassifier\n",
    "from sklearn.pipeline import Pipeline\n",
    "import xgboost as xgb\n",
    "\n"
   ]
  },
  {
   "cell_type": "markdown",
   "metadata": {},
   "source": [
    "##### Download the data set which was cleaned, unnecessary columns are omitted and one hot encoded."
   ]
  },
  {
   "cell_type": "code",
   "execution_count": 3,
   "metadata": {
    "ExecuteTime": {
     "end_time": "2020-06-01T17:19:35.947825Z",
     "start_time": "2020-06-01T17:19:35.929425Z"
    }
   },
   "outputs": [],
   "source": [
    "df = pd.read_csv('TelcoCustomerChurnData_cleaned_ohe.csv')"
   ]
  },
  {
   "cell_type": "code",
   "execution_count": 4,
   "metadata": {
    "ExecuteTime": {
     "end_time": "2020-06-01T17:19:36.629241Z",
     "start_time": "2020-06-01T17:19:36.601655Z"
    }
   },
   "outputs": [
    {
     "data": {
      "text/html": [
       "<div>\n",
       "<style scoped>\n",
       "    .dataframe tbody tr th:only-of-type {\n",
       "        vertical-align: middle;\n",
       "    }\n",
       "\n",
       "    .dataframe tbody tr th {\n",
       "        vertical-align: top;\n",
       "    }\n",
       "\n",
       "    .dataframe thead th {\n",
       "        text-align: right;\n",
       "    }\n",
       "</style>\n",
       "<table border=\"1\" class=\"dataframe\">\n",
       "  <thead>\n",
       "    <tr style=\"text-align: right;\">\n",
       "      <th></th>\n",
       "      <th>tenure</th>\n",
       "      <th>MonthlyCharges</th>\n",
       "      <th>TotalCharges</th>\n",
       "      <th>Churn</th>\n",
       "      <th>SeniorCitizen_1</th>\n",
       "      <th>Partner_Yes</th>\n",
       "      <th>Dependents_Yes</th>\n",
       "      <th>MultipleLines_No phone service</th>\n",
       "      <th>MultipleLines_Yes</th>\n",
       "      <th>InternetService_Fiber optic</th>\n",
       "      <th>...</th>\n",
       "      <th>TechSupport_No internet service</th>\n",
       "      <th>TechSupport_Yes</th>\n",
       "      <th>StreamingTV_No internet service</th>\n",
       "      <th>StreamingTV_Yes</th>\n",
       "      <th>Contract_One year</th>\n",
       "      <th>Contract_Two year</th>\n",
       "      <th>PaperlessBilling_Yes</th>\n",
       "      <th>PaymentMethod_Credit card (automatic)</th>\n",
       "      <th>PaymentMethod_Electronic check</th>\n",
       "      <th>PaymentMethod_Mailed check</th>\n",
       "    </tr>\n",
       "  </thead>\n",
       "  <tbody>\n",
       "    <tr>\n",
       "      <td>0</td>\n",
       "      <td>1</td>\n",
       "      <td>29.85</td>\n",
       "      <td>29.85</td>\n",
       "      <td>0</td>\n",
       "      <td>0</td>\n",
       "      <td>1</td>\n",
       "      <td>0</td>\n",
       "      <td>1</td>\n",
       "      <td>0</td>\n",
       "      <td>0</td>\n",
       "      <td>...</td>\n",
       "      <td>0</td>\n",
       "      <td>0</td>\n",
       "      <td>0</td>\n",
       "      <td>0</td>\n",
       "      <td>0</td>\n",
       "      <td>0</td>\n",
       "      <td>1</td>\n",
       "      <td>0</td>\n",
       "      <td>1</td>\n",
       "      <td>0</td>\n",
       "    </tr>\n",
       "    <tr>\n",
       "      <td>1</td>\n",
       "      <td>34</td>\n",
       "      <td>56.95</td>\n",
       "      <td>1889.50</td>\n",
       "      <td>0</td>\n",
       "      <td>0</td>\n",
       "      <td>0</td>\n",
       "      <td>0</td>\n",
       "      <td>0</td>\n",
       "      <td>0</td>\n",
       "      <td>0</td>\n",
       "      <td>...</td>\n",
       "      <td>0</td>\n",
       "      <td>0</td>\n",
       "      <td>0</td>\n",
       "      <td>0</td>\n",
       "      <td>1</td>\n",
       "      <td>0</td>\n",
       "      <td>0</td>\n",
       "      <td>0</td>\n",
       "      <td>0</td>\n",
       "      <td>1</td>\n",
       "    </tr>\n",
       "    <tr>\n",
       "      <td>2</td>\n",
       "      <td>2</td>\n",
       "      <td>53.85</td>\n",
       "      <td>108.15</td>\n",
       "      <td>1</td>\n",
       "      <td>0</td>\n",
       "      <td>0</td>\n",
       "      <td>0</td>\n",
       "      <td>0</td>\n",
       "      <td>0</td>\n",
       "      <td>0</td>\n",
       "      <td>...</td>\n",
       "      <td>0</td>\n",
       "      <td>0</td>\n",
       "      <td>0</td>\n",
       "      <td>0</td>\n",
       "      <td>0</td>\n",
       "      <td>0</td>\n",
       "      <td>1</td>\n",
       "      <td>0</td>\n",
       "      <td>0</td>\n",
       "      <td>1</td>\n",
       "    </tr>\n",
       "    <tr>\n",
       "      <td>3</td>\n",
       "      <td>45</td>\n",
       "      <td>42.30</td>\n",
       "      <td>1840.75</td>\n",
       "      <td>0</td>\n",
       "      <td>0</td>\n",
       "      <td>0</td>\n",
       "      <td>0</td>\n",
       "      <td>1</td>\n",
       "      <td>0</td>\n",
       "      <td>0</td>\n",
       "      <td>...</td>\n",
       "      <td>0</td>\n",
       "      <td>1</td>\n",
       "      <td>0</td>\n",
       "      <td>0</td>\n",
       "      <td>1</td>\n",
       "      <td>0</td>\n",
       "      <td>0</td>\n",
       "      <td>0</td>\n",
       "      <td>0</td>\n",
       "      <td>0</td>\n",
       "    </tr>\n",
       "    <tr>\n",
       "      <td>4</td>\n",
       "      <td>2</td>\n",
       "      <td>70.70</td>\n",
       "      <td>151.65</td>\n",
       "      <td>1</td>\n",
       "      <td>0</td>\n",
       "      <td>0</td>\n",
       "      <td>0</td>\n",
       "      <td>0</td>\n",
       "      <td>0</td>\n",
       "      <td>1</td>\n",
       "      <td>...</td>\n",
       "      <td>0</td>\n",
       "      <td>0</td>\n",
       "      <td>0</td>\n",
       "      <td>0</td>\n",
       "      <td>0</td>\n",
       "      <td>0</td>\n",
       "      <td>1</td>\n",
       "      <td>0</td>\n",
       "      <td>1</td>\n",
       "      <td>0</td>\n",
       "    </tr>\n",
       "  </tbody>\n",
       "</table>\n",
       "<p>5 rows × 25 columns</p>\n",
       "</div>"
      ],
      "text/plain": [
       "   tenure  MonthlyCharges  TotalCharges  Churn  SeniorCitizen_1  Partner_Yes  \\\n",
       "0       1           29.85         29.85      0                0            1   \n",
       "1      34           56.95       1889.50      0                0            0   \n",
       "2       2           53.85        108.15      1                0            0   \n",
       "3      45           42.30       1840.75      0                0            0   \n",
       "4       2           70.70        151.65      1                0            0   \n",
       "\n",
       "   Dependents_Yes  MultipleLines_No phone service  MultipleLines_Yes  \\\n",
       "0               0                               1                  0   \n",
       "1               0                               0                  0   \n",
       "2               0                               0                  0   \n",
       "3               0                               1                  0   \n",
       "4               0                               0                  0   \n",
       "\n",
       "   InternetService_Fiber optic  ...  TechSupport_No internet service  \\\n",
       "0                            0  ...                                0   \n",
       "1                            0  ...                                0   \n",
       "2                            0  ...                                0   \n",
       "3                            0  ...                                0   \n",
       "4                            1  ...                                0   \n",
       "\n",
       "   TechSupport_Yes  StreamingTV_No internet service  StreamingTV_Yes  \\\n",
       "0                0                                0                0   \n",
       "1                0                                0                0   \n",
       "2                0                                0                0   \n",
       "3                1                                0                0   \n",
       "4                0                                0                0   \n",
       "\n",
       "   Contract_One year  Contract_Two year  PaperlessBilling_Yes  \\\n",
       "0                  0                  0                     1   \n",
       "1                  1                  0                     0   \n",
       "2                  0                  0                     1   \n",
       "3                  1                  0                     0   \n",
       "4                  0                  0                     1   \n",
       "\n",
       "   PaymentMethod_Credit card (automatic)  PaymentMethod_Electronic check  \\\n",
       "0                                      0                               1   \n",
       "1                                      0                               0   \n",
       "2                                      0                               0   \n",
       "3                                      0                               0   \n",
       "4                                      0                               1   \n",
       "\n",
       "   PaymentMethod_Mailed check  \n",
       "0                           0  \n",
       "1                           1  \n",
       "2                           1  \n",
       "3                           0  \n",
       "4                           0  \n",
       "\n",
       "[5 rows x 25 columns]"
      ]
     },
     "execution_count": 4,
     "metadata": {},
     "output_type": "execute_result"
    }
   ],
   "source": [
    "df.head()"
   ]
  },
  {
   "cell_type": "markdown",
   "metadata": {},
   "source": [
    "### Splitting the data into test and train sets"
   ]
  },
  {
   "cell_type": "code",
   "execution_count": 5,
   "metadata": {
    "ExecuteTime": {
     "end_time": "2020-06-01T17:19:37.898471Z",
     "start_time": "2020-06-01T17:19:37.888224Z"
    }
   },
   "outputs": [],
   "source": [
    "X = df.drop(['Churn'], axis=1)\n",
    "y = df['Churn']"
   ]
  },
  {
   "cell_type": "code",
   "execution_count": 6,
   "metadata": {
    "ExecuteTime": {
     "end_time": "2020-06-01T17:19:38.481309Z",
     "start_time": "2020-06-01T17:19:38.472343Z"
    }
   },
   "outputs": [],
   "source": [
    "X_train, X_test, y_train, y_test = train_test_split(X, y, random_state=42)"
   ]
  },
  {
   "cell_type": "markdown",
   "metadata": {},
   "source": [
    "### Scaling the data by sklearn Standard Scaler"
   ]
  },
  {
   "cell_type": "code",
   "execution_count": 7,
   "metadata": {
    "ExecuteTime": {
     "end_time": "2020-06-01T17:19:40.874640Z",
     "start_time": "2020-06-01T17:19:40.851941Z"
    }
   },
   "outputs": [],
   "source": [
    "scaler = StandardScaler()\n",
    "scaled_x_train = scaler.fit_transform(X_train)\n",
    "scaled_X_test = scaler.transform(X_test)\n",
    "scaled_X_train = pd.DataFrame(scaled_x_train, columns=X_train.columns)"
   ]
  },
  {
   "cell_type": "markdown",
   "metadata": {},
   "source": [
    "### Functions to evaluate the model"
   ]
  },
  {
   "cell_type": "markdown",
   "metadata": {},
   "source": [
    "#### Function to draw the ROC curve and to calculate the area under the curve"
   ]
  },
  {
   "cell_type": "code",
   "execution_count": 8,
   "metadata": {
    "ExecuteTime": {
     "end_time": "2020-06-01T17:19:42.603332Z",
     "start_time": "2020-06-01T17:19:42.591746Z"
    },
    "code_folding": []
   },
   "outputs": [],
   "source": [
    "def roc_curve_and_auc(clf, X_train, X_test, y_train, y_test):\n",
    "\n",
    "    # Calculate the probability scores of each point in the training set\n",
    "    y_train_score = clf.fit(X_train, y_train).decision_function(X_train)\n",
    "\n",
    "    # Calculate the fpr, tpr, and thresholds for the training set\n",
    "    train_fpr, train_tpr, thresholds = roc_curve(y_train, y_train_score)\n",
    "\n",
    "    # Calculate the probability scores of each point in the test set\n",
    "    y_test_score = clf.decision_function(X_test)\n",
    "\n",
    "    # Calculate the fpr, tpr, and thresholds for the test set\n",
    "    test_fpr, test_tpr, test_thresholds = roc_curve(y_test, y_test_score)\n",
    "\n",
    "    # ROC curve for training set\n",
    "    plt.figure(figsize=(10, 8))\n",
    "    lw = 2\n",
    "    plt.plot(train_fpr, train_tpr, color='darkorange',\n",
    "             lw=lw, label='Train ROC curve')\n",
    "    plt.plot(test_fpr, test_tpr, color='blue',\n",
    "             lw=lw, label='Test ROC curve')\n",
    "    plt.plot([0, 1], [0, 1], color='navy', lw=lw, linestyle='--')\n",
    "    plt.xlim([0.0, 1.0])\n",
    "    plt.ylim([0.0, 1.05])\n",
    "    plt.yticks([i/20.0 for i in range(21)])\n",
    "    plt.xticks([i/20.0 for i in range(21)])\n",
    "    plt.xlabel('False Positive Rate')\n",
    "    plt.ylabel('True Positive Rate')\n",
    "    plt.title(\n",
    "        'Receiver operating characteristic (ROC) Curve for Training and Testing Sets')\n",
    "    plt.legend(loc='lower right')\n",
    "    plt.show()\n",
    "    # Print the area under the roc curve\n",
    "    print('Training AUC: {}'.format(round(auc(train_fpr, train_tpr), 5)))\n",
    "    print('Testing AUC: {}'.format(round(auc(test_fpr, test_tpr), 5)))"
   ]
  },
  {
   "cell_type": "markdown",
   "metadata": {},
   "source": [
    "#### Function to draw Precision-Recall Curve"
   ]
  },
  {
   "cell_type": "code",
   "execution_count": 22,
   "metadata": {
    "ExecuteTime": {
     "end_time": "2020-06-01T17:35:47.275517Z",
     "start_time": "2020-06-01T17:35:47.267704Z"
    }
   },
   "outputs": [],
   "source": [
    "def plot_pr_rc_curve(y_test, y_pred_test, y_train, y_pred_train):\n",
    "    fig = plt.figure(figsize = (8, 8))\n",
    "    lw =3\n",
    "    no_skill = len(y[y==1]) / len(y)\n",
    "    # plot the no skill precision-recall curve\n",
    "    plt.plot([0, 1], [no_skill, no_skill], linestyle='--', lw = lw, label='No Skill')\n",
    "    # calculate model precision-recall curve\n",
    "    precision, recall, _ = precision_recall_curve(y_test, y_pred_test)\n",
    "    train_precision, train_recall, _ = precision_recall_curve(y_train, y_pred_train)\n",
    "    # plot the model precision-recall curve\n",
    "    plt.plot(recall, precision, marker='.', lw = lw, label='Test Set')\n",
    "    plt.plot(train_recall,train_precision, marker='.',lw=lw, label='Train Set')\n",
    "    # axis labels\n",
    "    plt.xlabel('Recall')\n",
    "    plt.ylabel('Precision')\n",
    "    # show the legend\n",
    "    plt.legend()\n",
    "\n",
    "    # show the plot\n",
    "    plt.show()"
   ]
  },
  {
   "cell_type": "markdown",
   "metadata": {},
   "source": [
    "#### Function to draw the feature importances"
   ]
  },
  {
   "cell_type": "code",
   "execution_count": 10,
   "metadata": {
    "ExecuteTime": {
     "end_time": "2020-06-01T17:21:30.232214Z",
     "start_time": "2020-06-01T17:21:30.228406Z"
    },
    "code_folding": []
   },
   "outputs": [],
   "source": [
    "def plot_feature_importances(model):\n",
    "    n_features = X_train.shape[1]\n",
    "    plt.figure(figsize=(8, 8))\n",
    "    plt.barh(range(n_features), model.feature_importances_, align='center')\n",
    "    plt.yticks(np.arange(n_features), X_train.columns.values)\n",
    "    plt.xlabel('Feature importance')\n",
    "    plt.ylabel('Feature')"
   ]
  },
  {
   "cell_type": "markdown",
   "metadata": {},
   "source": [
    "#### Function to print the confusion matrix in a data frame to make the matrix more readable."
   ]
  },
  {
   "cell_type": "code",
   "execution_count": 11,
   "metadata": {
    "ExecuteTime": {
     "end_time": "2020-06-01T17:21:31.474341Z",
     "start_time": "2020-06-01T17:21:31.468277Z"
    },
    "code_folding": []
   },
   "outputs": [],
   "source": [
    " def confusion_matrix_df(y_test, y_pred_test):\n",
    "    confusion_mat = confusion_matrix(y_test, y_pred_test, labels=[0, 1])\n",
    "    _row = confusion_mat.sum(axis=0)\n",
    "    _col = [np.nan] + list(confusion_mat.sum(axis=1)) + [sum(_row)]\n",
    "    con_df = pd.DataFrame({})\n",
    "    con_df[\"Predicted\"] = [\"Actual\"] + [\"No Churn\", \"Churn\"] + [\"All\"]\n",
    "    for label, idx in {\"No Churn\": 0, \"Churn\": 1}.items():\n",
    "        temp = [np.nan] + list(confusion_mat[:, idx]) + [_row[idx]]\n",
    "        con_df[label] = temp\n",
    "\n",
    "    con_df[\"All\"] = _col\n",
    "    print(con_df)"
   ]
  },
  {
   "cell_type": "markdown",
   "metadata": {},
   "source": [
    "#### Function to print the metrics: Confusion Matrix, Classification Report, Cohen's Kappa, F beta score, roc-auc score and mean cross validation score."
   ]
  },
  {
   "cell_type": "code",
   "execution_count": 12,
   "metadata": {
    "ExecuteTime": {
     "end_time": "2020-06-01T17:21:34.964308Z",
     "start_time": "2020-06-01T17:21:34.956942Z"
    },
    "code_folding": []
   },
   "outputs": [],
   "source": [
    "def model_evaluation(X_train, X_test, y_train, y_test, y_pred_train, y_pred_test):\n",
    "\n",
    "    print('MODEL EVALUATION METRICS:\\n',\n",
    "          '-----------------------------------------------------')\n",
    "\n",
    "    print('Confusion Matrix for train & test set: \\n')\n",
    "    print(confusion_matrix_df(y_train, y_pred_train), '\\n')\n",
    "    print(confusion_matrix_df(y_test, y_pred_test), '\\n')\n",
    "\n",
    "    print('-----------------------------------------------------')\n",
    "    print('\\nClassification Report for train & test set\\n',\n",
    "          '\\nTrain set\\n',\n",
    "          classification_report(y_train, y_pred_train),\n",
    "          '\\n\\nTest set\\n',\n",
    "          classification_report(y_test, y_pred_test))\n",
    "\n",
    "    print('-----------------------------------------------------\\n')\n",
    "    print(\"Cohen's Kappa for train and test set:\\n \",\n",
    "          round(cohen_kappa_score(y_train, y_pred_train), 4),\n",
    "          round(cohen_kappa_score(y_test, y_pred_test), 4))\n",
    "\n",
    "    print(\"f2 score for train and test set: \\n \",\n",
    "          round(fbeta_score(y_train, y_pred_train, 2.0), 4),\n",
    "          round(fbeta_score(y_test, y_pred_test, 2.0), 4))\n",
    "\n",
    "    print('roc auc score for train and test set:\\n ',\n",
    "          round(roc_auc_score(y_train, y_pred_train), 4),\n",
    "          round(roc_auc_score(y_test, y_pred_test), 4))\n",
    "\n",
    "    print('Mean Cross Validation Score:\\n', round(\n",
    "        cross_val_score(clf, X, y, cv=5).mean(), 4))"
   ]
  },
  {
   "cell_type": "markdown",
   "metadata": {},
   "source": [
    "### Handling Imbalanced Data"
   ]
  },
  {
   "cell_type": "markdown",
   "metadata": {},
   "source": [
    "We have an imbalanced data set. We have to find ways to handle it or we are going to have a high accuracy but we can not make true predictions of the minority class which is 'Churn' in this project. \n",
    "We can use class_weight parameter of the models, we can make synthetic samples of the minority class using SMOTE or ADASYN or we can just oversample or under sample the necessary class."
   ]
  },
  {
   "cell_type": "markdown",
   "metadata": {},
   "source": [
    "#### SMOTE\n"
   ]
  },
  {
   "cell_type": "code",
   "execution_count": 13,
   "metadata": {
    "ExecuteTime": {
     "end_time": "2020-06-01T17:21:39.809412Z",
     "start_time": "2020-06-01T17:21:39.732079Z"
    }
   },
   "outputs": [],
   "source": [
    "smote = SMOTE()\n",
    "scaled_X_train_smoted, y_train_smoted = smote.fit_sample(scaled_X_train, y_train)"
   ]
  },
  {
   "cell_type": "code",
   "execution_count": 14,
   "metadata": {
    "ExecuteTime": {
     "end_time": "2020-06-01T17:21:40.202271Z",
     "start_time": "2020-06-01T17:21:40.197821Z"
    }
   },
   "outputs": [],
   "source": [
    "# smote = SMOTE()\n",
    "# X_train_smoted, y_train_smoted = smote.fit_sample(X_train, y_train)"
   ]
  },
  {
   "cell_type": "markdown",
   "metadata": {},
   "source": [
    "#### ADASYN"
   ]
  },
  {
   "cell_type": "code",
   "execution_count": 15,
   "metadata": {
    "ExecuteTime": {
     "end_time": "2020-06-01T17:21:41.015121Z",
     "start_time": "2020-06-01T17:21:41.012391Z"
    }
   },
   "outputs": [],
   "source": [
    "adasyn = ADASYN()"
   ]
  },
  {
   "cell_type": "code",
   "execution_count": 16,
   "metadata": {
    "ExecuteTime": {
     "end_time": "2020-06-01T17:21:41.699256Z",
     "start_time": "2020-06-01T17:21:41.587602Z"
    }
   },
   "outputs": [],
   "source": [
    "X_train_ada, y_train_ada = adasyn.fit_sample(X_train, y_train)"
   ]
  },
  {
   "cell_type": "markdown",
   "metadata": {},
   "source": [
    "# RANDOM FOREST "
   ]
  },
  {
   "cell_type": "markdown",
   "metadata": {},
   "source": [
    "## Random Forest Baseline Model"
   ]
  },
  {
   "cell_type": "markdown",
   "metadata": {},
   "source": [
    "### Instantiate, fit and predict"
   ]
  },
  {
   "cell_type": "code",
   "execution_count": 17,
   "metadata": {
    "ExecuteTime": {
     "end_time": "2020-06-01T17:21:44.348307Z",
     "start_time": "2020-06-01T17:21:43.849260Z"
    }
   },
   "outputs": [],
   "source": [
    "clf = RandomForestClassifier(\n",
    "    max_depth=5, n_jobs=-1, class_weight='balanced', random_state=42)\n",
    "clf.fit(X_train, y_train)\n",
    "y_pred_train = clf.predict(X_train)\n",
    "y_pred_test = clf.predict(X_test)"
   ]
  },
  {
   "cell_type": "markdown",
   "metadata": {},
   "source": [
    "### Print evaluation metrics "
   ]
  },
  {
   "cell_type": "code",
   "execution_count": 18,
   "metadata": {
    "ExecuteTime": {
     "end_time": "2020-06-01T17:21:49.712590Z",
     "start_time": "2020-06-01T17:21:46.227789Z"
    }
   },
   "outputs": [
    {
     "name": "stdout",
     "output_type": "stream",
     "text": [
      "MODEL EVALUATION METRICS:\n",
      " -----------------------------------------------------\n",
      "Confusion Matrix for train & test set: \n",
      "\n",
      "  Predicted  No Churn   Churn     All\n",
      "0    Actual       NaN     NaN     NaN\n",
      "1  No Churn    2874.0   989.0  3863.0\n",
      "2     Churn     264.0  1147.0  1411.0\n",
      "3       All    3138.0  2136.0  5274.0\n",
      "None \n",
      "\n",
      "  Predicted  No Churn  Churn     All\n",
      "0    Actual       NaN    NaN     NaN\n",
      "1  No Churn     930.0  370.0  1300.0\n",
      "2     Churn      96.0  362.0   458.0\n",
      "3       All    1026.0  732.0  1758.0\n",
      "None \n",
      "\n",
      "-----------------------------------------------------\n",
      "\n",
      "Classification Report for train & test set\n",
      " \n",
      "Train set\n",
      "               precision    recall  f1-score   support\n",
      "\n",
      "           0       0.92      0.74      0.82      3863\n",
      "           1       0.54      0.81      0.65      1411\n",
      "\n",
      "    accuracy                           0.76      5274\n",
      "   macro avg       0.73      0.78      0.73      5274\n",
      "weighted avg       0.81      0.76      0.77      5274\n",
      " \n",
      "\n",
      "Test set\n",
      "               precision    recall  f1-score   support\n",
      "\n",
      "           0       0.91      0.72      0.80      1300\n",
      "           1       0.49      0.79      0.61       458\n",
      "\n",
      "    accuracy                           0.73      1758\n",
      "   macro avg       0.70      0.75      0.70      1758\n",
      "weighted avg       0.80      0.73      0.75      1758\n",
      "\n",
      "-----------------------------------------------------\n",
      "\n",
      "Cohen's Kappa for train and test set:\n",
      "  0.4788 0.4237\n",
      "f2 score for train and test set: \n",
      "  0.7371 0.7059\n",
      "roc auc score for train and test set:\n",
      "  0.7784 0.7529\n",
      "Mean Cross Validation Score:\n",
      " 0.742\n"
     ]
    }
   ],
   "source": [
    "model_evaluation(X_train, X_test, y_train, y_test, y_pred_train, y_pred_test)"
   ]
  },
  {
   "cell_type": "markdown",
   "metadata": {},
   "source": [
    "### Feature Importances"
   ]
  },
  {
   "cell_type": "code",
   "execution_count": 19,
   "metadata": {
    "ExecuteTime": {
     "end_time": "2020-06-01T17:21:56.398866Z",
     "start_time": "2020-06-01T17:21:56.291417Z"
    }
   },
   "outputs": [
    {
     "data": {
      "text/plain": [
       "array([0.19212, 0.05404, 0.10972, 0.00814, 0.00585, 0.00752, 0.00254,\n",
       "       0.00282, 0.12785, 0.02821, 0.03809, 0.00555, 0.03972, 0.00357,\n",
       "       0.02484, 0.0315 , 0.01662, 0.00409, 0.052  , 0.17183, 0.00792,\n",
       "       0.00601, 0.05586, 0.00357])"
      ]
     },
     "execution_count": 19,
     "metadata": {},
     "output_type": "execute_result"
    }
   ],
   "source": [
    "clf.feature_importances_.round(5)"
   ]
  },
  {
   "cell_type": "code",
   "execution_count": 20,
   "metadata": {
    "ExecuteTime": {
     "end_time": "2020-06-01T17:21:57.323944Z",
     "start_time": "2020-06-01T17:21:56.787832Z"
    },
    "scrolled": true
   },
   "outputs": [
    {
     "data": {
      "image/png": "[encoded data removed]",
      "text/plain": [
       "<Figure size 576x576 with 1 Axes>"
      ]
     },
     "metadata": {},
     "output_type": "display_data"
    }
   ],
   "source": [
    "plot_feature_importances(clf)"
   ]
  },
  {
   "cell_type": "markdown",
   "metadata": {},
   "source": [
    "### Precision-Recall Curve"
   ]
  },
  {
   "cell_type": "code",
   "execution_count": 25,
   "metadata": {
    "ExecuteTime": {
     "end_time": "2020-06-01T17:36:49.926468Z",
     "start_time": "2020-06-01T17:36:49.603167Z"
    }
   },
   "outputs": [
    {
     "data": {
      "image/png": "[encoded data removed]",
      "text/plain": [
       "<Figure size 576x576 with 1 Axes>"
      ]
     },
     "metadata": {},
     "output_type": "display_data"
    }
   ],
   "source": [
    "plot_pr_rc_curve(y_test, y_pred_test, y_train, y_pred_train)"
   ]
  },
  {
   "cell_type": "markdown",
   "metadata": {},
   "source": [
    "### Interpreting the results of the first Random Forest model\n",
    "\n",
    "We have a precision of 0.51 and recall of 0.77 in the test set. We don't have overfitting. It means we are able to detect the churn customers 77% but 51% of the customers we say 'churn' was true. \n",
    "\n",
    "The most important features in this model are: Contract_Two_Year, InternetService_FiberOptic,TotalCharges and Tenure."
   ]
  },
  {
   "cell_type": "markdown",
   "metadata": {},
   "source": [
    "##### Note\n",
    "To solve the class imbalance problem I made synthetic samples using SMOTE and ADASYN but 'class_weight' parameter did a better job."
   ]
  },
  {
   "cell_type": "markdown",
   "metadata": {},
   "source": [
    "## Random Forest( Grid search and  pipeline )"
   ]
  },
  {
   "cell_type": "markdown",
   "metadata": {},
   "source": [
    "### Instantiate the pipeline"
   ]
  },
  {
   "cell_type": "code",
   "execution_count": 26,
   "metadata": {
    "ExecuteTime": {
     "end_time": "2020-06-01T17:37:40.684762Z",
     "start_time": "2020-06-01T17:37:40.681368Z"
    }
   },
   "outputs": [],
   "source": [
    "pipe = Pipeline([('classifier', RandomForestClassifier(random_state=123))])"
   ]
  },
  {
   "cell_type": "markdown",
   "metadata": {},
   "source": [
    "### Define the grid"
   ]
  },
  {
   "cell_type": "code",
   "execution_count": 27,
   "metadata": {
    "ExecuteTime": {
     "end_time": "2020-06-01T17:37:41.661023Z",
     "start_time": "2020-06-01T17:37:41.656275Z"
    }
   },
   "outputs": [],
   "source": [
    "grid = [{'classifier__criterion': ['gini', 'entropy'],\n",
    "         'classifier__n_estimators':[10, 20, 50, 100, 150, 200],\n",
    "         'classifier__max_depth': [3, 4, 5, 6, 7],\n",
    "         'classifier__min_samples_split': [1.0, 2, 3, 4, 5, 6, 7, 8, 9, 10],\n",
    "         'classifier__min_samples_leaf': [1, 2, 3, 4, 5, 6, 7, 8, 9, 10],\n",
    "         'classifier__class_weight':['balanced']}]"
   ]
  },
  {
   "cell_type": "markdown",
   "metadata": {},
   "source": [
    "### Instantiate, fit and predict"
   ]
  },
  {
   "cell_type": "code",
   "execution_count": 28,
   "metadata": {
    "ExecuteTime": {
     "end_time": "2020-06-01T18:27:12.761377Z",
     "start_time": "2020-06-01T17:37:42.712612Z"
    }
   },
   "outputs": [],
   "source": [
    "clf = GridSearchCV(estimator=pipe, param_grid=grid,\n",
    "                   cv=5, scoring='roc_auc', n_jobs=-1)\n",
    "clf.fit(X_train, y_train)\n",
    "y_pred_train = clf.predict(X_train)\n",
    "y_pred_test = clf.predict(X_test)"
   ]
  },
  {
   "cell_type": "markdown",
   "metadata": {},
   "source": [
    "### Print evaluation metrics "
   ]
  },
  {
   "cell_type": "code",
   "execution_count": null,
   "metadata": {
    "ExecuteTime": {
     "start_time": "2020-06-01T17:37:44.791Z"
    }
   },
   "outputs": [
    {
     "name": "stdout",
     "output_type": "stream",
     "text": [
      "MODEL EVALUATION METRICS:\n",
      " -----------------------------------------------------\n",
      "Confusion Matrix for train & test set: \n",
      "\n",
      "  Predicted  No Churn   Churn     All\n",
      "0    Actual       NaN     NaN     NaN\n",
      "1  No Churn    2950.0   913.0  3863.0\n",
      "2     Churn     260.0  1151.0  1411.0\n",
      "3       All    3210.0  2064.0  5274.0\n",
      "None \n",
      "\n",
      "  Predicted  No Churn  Churn     All\n",
      "0    Actual       NaN    NaN     NaN\n",
      "1  No Churn     943.0  357.0  1300.0\n",
      "2     Churn     104.0  354.0   458.0\n",
      "3       All    1047.0  711.0  1758.0\n",
      "None \n",
      "\n",
      "-----------------------------------------------------\n",
      "\n",
      "Classification Report for train & test set\n",
      " \n",
      "Train set\n",
      "               precision    recall  f1-score   support\n",
      "\n",
      "           0       0.92      0.76      0.83      3863\n",
      "           1       0.56      0.82      0.66      1411\n",
      "\n",
      "    accuracy                           0.78      5274\n",
      "   macro avg       0.74      0.79      0.75      5274\n",
      "weighted avg       0.82      0.78      0.79      5274\n",
      " \n",
      "\n",
      "Test set\n",
      "               precision    recall  f1-score   support\n",
      "\n",
      "           0       0.90      0.73      0.80      1300\n",
      "           1       0.50      0.77      0.61       458\n",
      "\n",
      "    accuracy                           0.74      1758\n",
      "   macro avg       0.70      0.75      0.70      1758\n",
      "weighted avg       0.80      0.74      0.75      1758\n",
      "\n",
      "-----------------------------------------------------\n",
      "\n",
      "Cohen's Kappa for train and test set:\n",
      "  0.5052 0.4227\n",
      "f2 score for train and test set: \n",
      "  0.7466 0.696\n",
      "roc auc score for train and test set:\n",
      "  0.7897 0.7492\n"
     ]
    }
   ],
   "source": [
    "model_evaluation(X_train, X_test, y_train, y_test, y_pred_train, y_pred_test)"
   ]
  },
  {
   "cell_type": "markdown",
   "metadata": {},
   "source": [
    "### Best Scores"
   ]
  },
  {
   "cell_type": "code",
   "execution_count": null,
   "metadata": {
    "ExecuteTime": {
     "start_time": "2020-06-01T17:37:47.630Z"
    }
   },
   "outputs": [],
   "source": [
    "print(clf.score(X_train, y_train))\n",
    "print(clf.score(X_test, y_test))"
   ]
  },
  {
   "cell_type": "markdown",
   "metadata": {},
   "source": [
    "### Best Parameters"
   ]
  },
  {
   "cell_type": "code",
   "execution_count": null,
   "metadata": {
    "ExecuteTime": {
     "start_time": "2020-06-01T17:37:48.982Z"
    },
    "scrolled": true
   },
   "outputs": [],
   "source": [
    "clf.best_params_"
   ]
  },
  {
   "cell_type": "markdown",
   "metadata": {},
   "source": [
    "### Precision-Recall Curve"
   ]
  },
  {
   "cell_type": "code",
   "execution_count": null,
   "metadata": {
    "ExecuteTime": {
     "start_time": "2020-06-01T17:37:50.919Z"
    }
   },
   "outputs": [],
   "source": [
    "plot_pr_rc_curve(y_test, y_pred_test, y_train, y_pred_train)"
   ]
  },
  {
   "cell_type": "markdown",
   "metadata": {},
   "source": [
    "### Interpreting the results of the second Random Forest model\n",
    "\n",
    "We have a precision of 0.50 and recall of 0.78 in the test set. We don't have overfitting. It means we are able to detect the churn customers 77% but 51% of the customers we say 'churn' was true. \n",
    "\n",
    "We used gridsearch to find the best parameters.\n",
    "\n",
    "We used pipeline to prrevent data leakage and to have clean code."
   ]
  },
  {
   "cell_type": "markdown",
   "metadata": {},
   "source": [
    "# Xgboost"
   ]
  },
  {
   "cell_type": "markdown",
   "metadata": {},
   "source": [
    "### Instantiate, fit and predict"
   ]
  },
  {
   "cell_type": "code",
   "execution_count": 25,
   "metadata": {
    "ExecuteTime": {
     "end_time": "2020-05-31T18:02:38.973832Z",
     "start_time": "2020-05-31T18:02:38.227548Z"
    },
    "scrolled": true
   },
   "outputs": [],
   "source": [
    "clf = xgb.XGBClassifier(objective='binary:logistic',\n",
    "                        nthread=4,\n",
    "                        scale_pos_weight=3,\n",
    "                        seed=42,\n",
    "                        max_depth=3,\n",
    "                        n_estimators=140,\n",
    "                        learning_rate=0.05,\n",
    "                        )\n",
    "clf.fit(scaled_X_train_smoted, y_train_smoted)\n",
    "y_pred_train = clf.predict(scaled_X_train_smoted)\n",
    "y_pred_test = clf.predict(scaled_X_test)"
   ]
  },
  {
   "cell_type": "markdown",
   "metadata": {},
   "source": [
    "### Print evaluation metrics "
   ]
  },
  {
   "cell_type": "code",
   "execution_count": 26,
   "metadata": {
    "ExecuteTime": {
     "end_time": "2020-05-31T18:02:41.800046Z",
     "start_time": "2020-05-31T18:02:38.976070Z"
    }
   },
   "outputs": [
    {
     "name": "stdout",
     "output_type": "stream",
     "text": [
      "MODEL EVALUATION METRICS:\n",
      " -----------------------------------------------------\n",
      "Confusion Matrix for train & test set: \n",
      "\n",
      "  Predicted  No Churn   Churn     All\n",
      "0    Actual       NaN     NaN     NaN\n",
      "1  No Churn    2278.0  1585.0  3863.0\n",
      "2     Churn     138.0  3725.0  3863.0\n",
      "3       All    2416.0  5310.0  7726.0\n",
      "None \n",
      "\n",
      "  Predicted  No Churn  Churn     All\n",
      "0    Actual       NaN    NaN     NaN\n",
      "1  No Churn     744.0  556.0  1300.0\n",
      "2     Churn      39.0  419.0   458.0\n",
      "3       All     783.0  975.0  1758.0\n",
      "None \n",
      "\n",
      "-----------------------------------------------------\n",
      "\n",
      "Classification Report for train & test set\n",
      " \n",
      "Train set\n",
      "               precision    recall  f1-score   support\n",
      "\n",
      "           0       0.94      0.59      0.73      3863\n",
      "           1       0.70      0.96      0.81      3863\n",
      "\n",
      "    accuracy                           0.78      7726\n",
      "   macro avg       0.82      0.78      0.77      7726\n",
      "weighted avg       0.82      0.78      0.77      7726\n",
      " \n",
      "\n",
      "Test set\n",
      "               precision    recall  f1-score   support\n",
      "\n",
      "           0       0.95      0.57      0.71      1300\n",
      "           1       0.43      0.91      0.58       458\n",
      "\n",
      "    accuracy                           0.66      1758\n",
      "   macro avg       0.69      0.74      0.65      1758\n",
      "weighted avg       0.81      0.66      0.68      1758\n",
      "\n",
      "-----------------------------------------------------\n",
      "\n",
      "Cohen's Kappa for train and test set:\n",
      "  0.554 0.3567\n",
      "f2 score for train and test set: \n",
      "  0.8971 0.7463\n",
      "roc auc score for train and test set:\n",
      "  0.777 0.7436\n",
      "Mean Cross Validation Score:\n",
      " 0.7418\n"
     ]
    }
   ],
   "source": [
    "model_evaluation(scaled_X_train_smoted, scaled_X_test,\n",
    "                 y_train_smoted, y_test, y_pred_train, y_pred_test)"
   ]
  },
  {
   "cell_type": "markdown",
   "metadata": {},
   "source": [
    "### Feature Importances"
   ]
  },
  {
   "cell_type": "code",
   "execution_count": 27,
   "metadata": {
    "ExecuteTime": {
     "end_time": "2020-05-31T18:02:41.820397Z",
     "start_time": "2020-05-31T18:02:41.802326Z"
    }
   },
   "outputs": [
    {
     "data": {
      "text/plain": [
       "array([0.03146, 0.02814, 0.00936, 0.01565, 0.02105, 0.02862, 0.00986,\n",
       "       0.02262, 0.0632 , 0.03288, 0.     , 0.02407, 0.     , 0.01592,\n",
       "       0.     , 0.02632, 0.     , 0.04567, 0.15787, 0.38146, 0.02893,\n",
       "       0.00686, 0.03482, 0.01523], dtype=float32)"
      ]
     },
     "execution_count": 27,
     "metadata": {},
     "output_type": "execute_result"
    }
   ],
   "source": [
    "clf.feature_importances_.round(5)"
   ]
  },
  {
   "cell_type": "code",
   "execution_count": 28,
   "metadata": {
    "ExecuteTime": {
     "end_time": "2020-05-31T18:02:42.368949Z",
     "start_time": "2020-05-31T18:02:41.822709Z"
    }
   },
   "outputs": [
    {
     "data": {
      "image/png": "[encoded data removed]",
      "text/plain": [
       "<Figure size 576x576 with 1 Axes>"
      ]
     },
     "metadata": {
      "needs_background": "light"
     },
     "output_type": "display_data"
    }
   ],
   "source": [
    "plot_feature_importances(clf)"
   ]
  },
  {
   "cell_type": "markdown",
   "metadata": {},
   "source": [
    "### Precision-Recall Curve"
   ]
  },
  {
   "cell_type": "code",
   "execution_count": 156,
   "metadata": {
    "ExecuteTime": {
     "end_time": "2020-06-01T16:38:19.426290Z",
     "start_time": "2020-06-01T16:38:19.100774Z"
    }
   },
   "outputs": [
    {
     "data": {
      "image/png": "[encoded data removed]",
      "text/plain": [
       "<Figure size 576x576 with 1 Axes>"
      ]
     },
     "metadata": {},
     "output_type": "display_data"
    }
   ],
   "source": [
    "plot_pr_rc_curve(y_test, y_pred_test, y_train, y_pred_train)"
   ]
  },
  {
   "cell_type": "markdown",
   "metadata": {},
   "source": [
    "### Interpreting the results of the XGBoost model\n",
    "\n",
    "We have a precision of 0.50 and recall of 0.78 in the test set. We don't have overfitting. It means we are able to detect the churn customers 77% but 51% of the customers we say 'churn' was true. \n",
    "\n",
    "The most important features are 'Contract_two_year', 'Contract_one_year', 'InternetService_Fiber optic'.\n",
    "\n",
    "We used gridsearch to find the best parameters.\n",
    "\n",
    "We used pipeline to prrevent data leakage and to have clean code."
   ]
  },
  {
   "cell_type": "markdown",
   "metadata": {},
   "source": [
    "# Conclusion: \n",
    "\n",
    "\n",
    "\n",
    "## Business questions answered\n",
    "\n",
    "1. What are the most important factors affecting the customer churn?\n",
    "\n",
    "According to the results of many models and EDA, I noted that;\n",
    "\n",
    "One year or two year contract, Tenure and Tech support decrease churn rate.\n",
    "\n",
    "Month to month contract, high monthly charges, bad fiber optic internet service increase churn rate.\n",
    "\n",
    "2. How can telecomunication companies handle the problem of customer churn with predictive modelling?\n",
    "\n",
    "Machine learning models derived from the given data predict customer churn with 80% accuracy.\n",
    "\n",
    "Find the customers at high risk to churn.\n",
    "\n",
    "Direct retention efforts toward such customers.\n",
    "\n",
    "3. What is needed to be done to retain churning customers?\n",
    "\n",
    "Direct retention efforts toward such customers.\n",
    "\n",
    "Invest on internet quality and coverage.\n",
    "Check the coverage and internet speed of of high risk customers.\n",
    "\n",
    "Make offers to tenure customers to increase loyalty and keep them engaged.\n",
    "\n",
    "Make offers to month to month customers and make yearly contract.\n",
    "\n",
    "## Summary: \n",
    "\n",
    "Churn prediction is made with the information of customers. \n",
    "Yearly contract and internet speed, tenure and total charges are important in the model. \n",
    "The goal is to retain customers before they leave."
   ]
  },
  {
   "cell_type": "markdown",
   "metadata": {},
   "source": [
    "## Sources\n",
    "\n",
    "I used many sources that I can not write them all here. But I am going to write the ones I use and like the most. \n",
    "\n",
    "##### I used wikipedia to refer to the definitions of many concepts.\n",
    "\n",
    "##### I used the official documentation pages of the libraries I imported.\n",
    "\n",
    "#####  These are some of the articles I read before I decide to use one metric, to interpret the results of one plot etc. \n",
    "\n",
    "##### To decide the use of evaluation metrics:\n",
    "\n",
    "Tour of Evaluation Metrics for Imbalanced Classification\n",
    "https://machinelearningmastery.com/tour-of-evaluation-metrics-for-imbalanced-classification/\n",
    "\n",
    "What metrics should be used for evaluating a model on an imbalanced data set? (precision + recall or ROC=TPR+FPR)\n",
    "https://towardsdatascience.com/what-metrics-should-we-use-on-imbalanced-data-set-precision-recall-roc-e2e79252aeba\n",
    "\n",
    "Beyond Accuracy: Precision and Recall\n",
    "https://towardsdatascience.com/beyond-accuracy-precision-and-recall-3da06bea9f6c\n",
    "\n",
    "\n",
    "##### To draw and interpret the ROC Curve and the precision-recall curve:\n",
    "\n",
    "How to Use ROC Curves and Precision-Recall Curves for Classification in Python\n",
    "https://machinelearningmastery.com/roc-curves-and-precision-recall-curves-for-classification-in-python/#:~:text=Recall%20is%20calculated%20as%20the,is%20the%20same%20as%20sensitivity.&text=A%20precision%2Drecall%20curve%20is,much%20like%20the%20ROC%20curve.\n",
    "\n",
    "##### To decide to use FBeta score:\n",
    "\n",
    "A Gentle Introduction to the Fbeta-Measure for Machine Learning\n",
    "https://machinelearningmastery.com/fbeta-measure-for-machine-learning/\n",
    "\n",
    "##### To decide to use Cohens Kappa Score:\n",
    "\n",
    "Cohen’s Kappa\n",
    "https://towardsdatascience.com/cohens-kappa-9786ceceab58#:~:text=Cohen's%20kappa%20measures%20the%20agreement,raters%20may%20agree%20by%20chance.\n"
   ]
  }
 ],
 "metadata": {
  "kernelspec": {
   "display_name": "Python 3",
   "language": "python",
   "name": "python3"
  },
  "language_info": {
   "codemirror_mode": {
    "name": "ipython",
    "version": 3
   },
   "file_extension": ".py",
   "mimetype": "text/x-python",
   "name": "python",
   "nbconvert_exporter": "python",
   "pygments_lexer": "ipython3",
   "version": "3.7.4"
  },
  "toc": {
   "base_numbering": 1,
   "nav_menu": {},
   "number_sections": true,
   "sideBar": true,
   "skip_h1_title": false,
   "title_cell": "Table of Contents",
   "title_sidebar": "Contents",
   "toc_cell": true,
   "toc_position": {},
   "toc_section_display": true,
   "toc_window_display": false
  },
  "varInspector": {
   "cols": {
    "lenName": 16,
    "lenType": 16,
    "lenVar": 40
   },
   "kernels_config": {
    "python": {
     "delete_cmd_postfix": "",
     "delete_cmd_prefix": "del ",
     "library": "var_list.py",
     "varRefreshCmd": "print(var_dic_list())"
    },
    "r": {
     "delete_cmd_postfix": ") ",
     "delete_cmd_prefix": "rm(",
     "library": "var_list.r",
     "varRefreshCmd": "cat(var_dic_list()) "
    }
   },
   "types_to_exclude": [
    "module",
    "function",
    "builtin_function_or_method",
    "instance",
    "_Feature"
   ],
   "window_display": false
  }
 },
 "nbformat": 4,
 "nbformat_minor": 2
}
