{
 "cells": [
  {
   "cell_type": "code",
   "execution_count": null,
   "metadata": {},
   "outputs": [],
   "source": []
  },
  {
   "cell_type": "markdown",
   "metadata": {},
   "source": [
    "https://stats.idre.ucla.edu/other/mult-pkg/faq/general/faq-how-do-i-interpret-odds-ratios-in-logistic-regression/"
   ]
  },
  {
   "cell_type": "markdown",
   "metadata": {},
   "source": [
    "https://www.analyticsvidhya.com/blog/2020/03/google-colab-machine-learning-deep-learning/"
   ]
  },
  {
   "cell_type": "markdown",
   "metadata": {},
   "source": [
    "https://jamesrledoux.com/code/grid_search"
   ]
  },
  {
   "cell_type": "code",
   "execution_count": null,
   "metadata": {},
   "outputs": [],
   "source": []
  },
  {
   "cell_type": "markdown",
   "metadata": {},
   "source": [
    "\n",
    "https://www.kaggle.com/nicholasgah/churn-prediction-model-and-cap-curve"
   ]
  },
  {
   "cell_type": "code",
   "execution_count": null,
   "metadata": {
    "ExecuteTime": {
     "end_time": "2020-05-29T22:32:39.023884Z",
     "start_time": "2020-05-29T22:32:29.244Z"
    }
   },
   "outputs": [],
   "source": [
    "df[\"Responsibility_Score\"] = (df[\"Partner\"] + df[\"Dependents\"] + df[\"SeniorCitizen\"]) / 3\n",
    "df[\"Phone_Reliance\"] = (df[\"PhoneService\"] + df[\"MultipleLines\"]) / 2\n",
    "df[\"Support\"] = (df[\"OnlineSecurity\"] + df[\"OnlineBackup\"] + df[\"DeviceProtection\"] + df[\"TechSupport\"]) / 4\n",
    "df[\"Online_Services\"] = (df[\"InternetService\"] + df[\"StreamingTV\"] + df[\"StreamingMovies\"]) / 3\n",
    "df[\"Duration\"] = (df[\"tenure\"] + df[\"Contract\"]) / 2\n"
   ]
  },
  {
   "cell_type": "code",
   "execution_count": null,
   "metadata": {
    "ExecuteTime": {
     "end_time": "2020-05-29T22:32:39.024993Z",
     "start_time": "2020-05-29T22:32:29.246Z"
    }
   },
   "outputs": [],
   "source": [
    "\n",
    "drop_cols = [\"PaperlessBilling\",\"Partner\", \"Dependents\", \"SeniorCitizen\", \"PhoneService\", \"MultipleLines\",\n",
    "            \"OnlineSecurity\", \"OnlineBackup\", \"DeviceProtection\", \"TechSupport\",\n",
    "            \"InternetService\", \"StreamingTV\", \"StreamingMovies\",\n",
    "            \"tenure\", \"Contract\"]\n",
    "df = df.drop(drop_cols, axis=1)\n",
    "df.head()\n"
   ]
  },
  {
   "cell_type": "code",
   "execution_count": null,
   "metadata": {},
   "outputs": [],
   "source": []
  },
  {
   "cell_type": "code",
   "execution_count": null,
   "metadata": {},
   "outputs": [],
   "source": []
  }
 ],
 "metadata": {
  "kernelspec": {
   "display_name": "Python 3",
   "language": "python",
   "name": "python3"
  },
  "language_info": {
   "codemirror_mode": {
    "name": "ipython",
    "version": 3
   },
   "file_extension": ".py",
   "mimetype": "text/x-python",
   "name": "python",
   "nbconvert_exporter": "python",
   "pygments_lexer": "ipython3",
   "version": "3.7.4"
  },
  "varInspector": {
   "cols": {
    "lenName": 16,
    "lenType": 16,
    "lenVar": 40
   },
   "kernels_config": {
    "python": {
     "delete_cmd_postfix": "",
     "delete_cmd_prefix": "del ",
     "library": "var_list.py",
     "varRefreshCmd": "print(var_dic_list())"
    },
    "r": {
     "delete_cmd_postfix": ") ",
     "delete_cmd_prefix": "rm(",
     "library": "var_list.r",
     "varRefreshCmd": "cat(var_dic_list()) "
    }
   },
   "types_to_exclude": [
    "module",
    "function",
    "builtin_function_or_method",
    "instance",
    "_Feature"
   ],
   "window_display": false
  }
 },
 "nbformat": 4,
 "nbformat_minor": 2
}
