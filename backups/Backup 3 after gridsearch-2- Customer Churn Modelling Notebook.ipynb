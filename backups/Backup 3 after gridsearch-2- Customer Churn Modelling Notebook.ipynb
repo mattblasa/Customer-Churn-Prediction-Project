{
 "cells": [
  {
   "cell_type": "markdown",
   "metadata": {},
   "source": [
    "## Final Project Submission\n",
    "\n",
    "Please fill out:\n",
    "* Student name: Seyma Tas\n",
    "* Student pace: full time\n",
    "* Scheduled project review date/time: \n",
    "* Instructor name: Amber Yandow\n",
    "* Blog post URL:\n"
   ]
  },
  {
   "cell_type": "code",
   "execution_count": 1,
   "metadata": {
    "ExecuteTime": {
     "end_time": "2020-05-28T14:16:04.613146Z",
     "start_time": "2020-05-28T14:16:03.062990Z"
    }
   },
   "outputs": [],
   "source": [
    "import seaborn as sns\n",
    "import pandas as pd\n",
    "import numpy as np\n",
    "import matplotlib.pyplot as plt\n",
    "%matplotlib inline\n",
    "sns.set_style('darkgrid', {'axes.facecolor': '0.9'})\n",
    "\n",
    "from sklearn.preprocessing import LabelEncoder, OneHotEncoder, MinMaxScaler, StandardScaler\n",
    "from sklearn.model_selection import train_test_split, cross_val_score, GridSearchCV, ParameterGrid\n",
    "from sklearn.linear_model import LogisticRegression, SGDClassifier\n",
    "from imblearn.over_sampling import SMOTE, ADASYN\n",
    "from sklearn.naive_bayes import GaussianNB\n",
    "from sklearn.svm import SVC\n",
    "from sklearn.tree import DecisionTreeClassifier\n",
    "from sklearn.neighbors import KNeighborsClassifier\n",
    "from sklearn.ensemble import RandomForestClassifier, AdaBoostClassifier, GradientBoostingClassifier, BaggingClassifier\n",
    "from sklearn.metrics import recall_score, f1_score, r2_score, roc_auc_score, roc_curve, auc, cohen_kappa_score\n",
    "from sklearn.metrics import classification_report, confusion_matrix, accuracy_score, precision_score\n",
    "from sklearn.metrics import make_scorer\n",
    "from sklearn.pipeline import Pipeline\n",
    "import xgboost as xgb\n",
    "# from sklearn.metrics import plot_confusion_matrix\n",
    "\n",
    "import warnings\n",
    "warnings.filterwarnings('ignore')"
   ]
  },
  {
   "cell_type": "code",
   "execution_count": 2,
   "metadata": {
    "ExecuteTime": {
     "end_time": "2020-05-28T14:16:04.652223Z",
     "start_time": "2020-05-28T14:16:04.627488Z"
    }
   },
   "outputs": [],
   "source": [
    "df = pd.read_csv('TelcoCustomerChurnData_cleaned_ohe.csv')"
   ]
  },
  {
   "cell_type": "markdown",
   "metadata": {},
   "source": [
    "# Splitting the data into test and train sets"
   ]
  },
  {
   "cell_type": "code",
   "execution_count": 3,
   "metadata": {
    "ExecuteTime": {
     "end_time": "2020-05-28T14:16:06.997194Z",
     "start_time": "2020-05-28T14:16:06.992105Z"
    }
   },
   "outputs": [],
   "source": [
    "X = df.drop(['Churn'], axis=1)\n",
    "y = df['Churn']"
   ]
  },
  {
   "cell_type": "code",
   "execution_count": 4,
   "metadata": {
    "ExecuteTime": {
     "end_time": "2020-05-28T14:16:09.232688Z",
     "start_time": "2020-05-28T14:16:09.224084Z"
    }
   },
   "outputs": [],
   "source": [
    "X_train, X_test, y_train, y_test = train_test_split(X, y, random_state=42)"
   ]
  },
  {
   "cell_type": "code",
   "execution_count": 5,
   "metadata": {
    "ExecuteTime": {
     "end_time": "2020-05-28T14:16:10.094136Z",
     "start_time": "2020-05-28T14:16:10.072695Z"
    }
   },
   "outputs": [],
   "source": [
    "scaler = StandardScaler()\n",
    "scaled_x_train = scaler.fit_transform(X_train)\n",
    "scaled_X_test = scaler.transform(X_test)\n",
    "scaled_X_train = pd.DataFrame(scaled_x_train, columns=X_train.columns)\n"
   ]
  },
  {
   "cell_type": "markdown",
   "metadata": {},
   "source": [
    "## Functions to evaluate the model"
   ]
  },
  {
   "cell_type": "code",
   "execution_count": 6,
   "metadata": {
    "ExecuteTime": {
     "end_time": "2020-05-28T14:16:13.512780Z",
     "start_time": "2020-05-28T14:16:13.503392Z"
    },
    "code_folding": [
     0
    ]
   },
   "outputs": [],
   "source": [
    "def roc_curve_and_auc(clf, X_train, X_test, y_train, y_test):\n",
    "\n",
    "    # Calculate the probability scores of each point in the training set\n",
    "    y_train_score = clf.fit(X_train, y_train).decision_function(X_train)\n",
    "\n",
    "    # Calculate the fpr, tpr, and thresholds for the training set\n",
    "    train_fpr, train_tpr, thresholds = roc_curve(y_train, y_train_score)\n",
    "\n",
    "    # Calculate the probability scores of each point in the test set\n",
    "    y_test_score = clf.decision_function(X_test)\n",
    "\n",
    "    # Calculate the fpr, tpr, and thresholds for the test set\n",
    "    test_fpr, test_tpr, test_thresholds = roc_curve(y_test, y_test_score)\n",
    "\n",
    "    # ROC curve for training set\n",
    "    plt.figure(figsize=(10, 8))\n",
    "    lw = 2\n",
    "    plt.plot(train_fpr, train_tpr, color='darkorange',\n",
    "             lw=lw, label='Train ROC curve')\n",
    "    plt.plot(test_fpr, test_tpr, color='blue',\n",
    "             lw=lw, label='Test ROC curve')\n",
    "    plt.plot([0, 1], [0, 1], color='navy', lw=lw, linestyle='--')\n",
    "    plt.xlim([0.0, 1.0])\n",
    "    plt.ylim([0.0, 1.05])\n",
    "    plt.yticks([i/20.0 for i in range(21)])\n",
    "    plt.xticks([i/20.0 for i in range(21)])\n",
    "    plt.xlabel('False Positive Rate')\n",
    "    plt.ylabel('True Positive Rate')\n",
    "    plt.title('Receiver operating characteristic (ROC) Curve for Training and Testing Sets')\n",
    "    plt.legend(loc='lower right')\n",
    "    plt.show()\n",
    "    # Print the area under the roc curve\n",
    "    print('Training AUC: {}'.format(round(auc(train_fpr, train_tpr), 5)))\n",
    "    print('Testing AUC: {}'.format(round(auc(test_fpr, test_tpr), 5)))"
   ]
  },
  {
   "cell_type": "code",
   "execution_count": 7,
   "metadata": {
    "ExecuteTime": {
     "end_time": "2020-05-28T14:16:14.453349Z",
     "start_time": "2020-05-28T14:16:14.448995Z"
    },
    "code_folding": [
     0
    ]
   },
   "outputs": [],
   "source": [
    "def plot_feature_importances(model):\n",
    "    n_features = X_train.shape[1]\n",
    "    plt.figure(figsize=(8,8))\n",
    "    plt.barh(range(n_features), model.feature_importances_, align='center') \n",
    "    plt.yticks(np.arange(n_features), X_train.columns.values) \n",
    "    plt.xlabel('Feature importance')\n",
    "    plt.ylabel('Feature')\n",
    "\n"
   ]
  },
  {
   "cell_type": "code",
   "execution_count": 8,
   "metadata": {
    "ExecuteTime": {
     "end_time": "2020-05-28T14:16:15.248560Z",
     "start_time": "2020-05-28T14:16:15.241600Z"
    },
    "code_folding": []
   },
   "outputs": [],
   "source": [
    "def model_evaluation(X_train, X_test, y_train, y_test, y_pred_train, y_pred_test):\n",
    "\n",
    "    print('MODEL EVALUATION METRICS:\\n',\n",
    "          '-----------------------------------------------------')\n",
    "    print('Confusion Matrix for train & test set: \\n')\n",
    "    print(confusion_matrix(y_train, y_pred_train),'\\n')\n",
    "    \n",
    "    print(confusion_matrix(y_test, y_pred_test))\n",
    "    \n",
    "    print('-----------------------------------------------------')\n",
    "    print('\\nClassification Report for train & test set\\n',\n",
    "          '\\nTrain set\\n',\n",
    "          classification_report(y_train, y_pred_train),\n",
    "          '\\n\\nTest set\\n',\n",
    "          classification_report(y_test, y_pred_test))\n",
    "    \n",
    "#     print('\\nRecall for train & test set:\\n',\n",
    "#           round(recall_score(y_train, y_pred_train), 4),\n",
    "#           round(recall_score(y_test, y_pred_test), 4))\n",
    "       \n",
    "#     print('Precision for train & test set:\\n', \n",
    "#           round(precision_score(y_train, y_pred_train), 4),\n",
    "#           round(precision_score(y_test, y_pred_test), 4))\n",
    "\n",
    "#     print('f1 score for train & test set:\\n', \n",
    "#           round(f1_score(y_train, y_pred_train), 4),\n",
    "#           round(f1_score(y_test, y_pred_test), 4))\n",
    "\n",
    "#     print('Accuracy for train and test set:\\n ',\n",
    "#           round(accuracy_score(y_train, y_pred_train), 4),\n",
    "#           round(accuracy_score(y_test, y_pred_test), 4))\n",
    "    print('-----------------------------------------------------\\n')\n",
    "    print(\"Cohen's Kappa for train and test set:\\n \",\n",
    "    round(cohen_kappa_score(y_train, y_pred_train), 4),\n",
    "    round(cohen_kappa_score(y_test, y_pred_test), 4))\n",
    "\n",
    "    \n",
    "    print ('roc auc score for train and test set:\\n ', round(roc_auc_score(y_train, y_pred_train),4),round(roc_auc_score(y_test, y_pred_test),4) )\n",
    "   \n",
    "    \n",
    "    \n",
    "    print('Mean Cross Validation Score:\\n', round(cross_val_score(clf, X, y, cv=5).mean(), 4))   "
   ]
  },
  {
   "cell_type": "markdown",
   "metadata": {},
   "source": [
    "# Logistic Regression"
   ]
  },
  {
   "cell_type": "markdown",
   "metadata": {},
   "source": [
    "## Baseline model"
   ]
  },
  {
   "cell_type": "code",
   "execution_count": 49,
   "metadata": {
    "ExecuteTime": {
     "end_time": "2020-05-28T05:40:38.155962Z",
     "start_time": "2020-05-28T05:40:38.117490Z"
    }
   },
   "outputs": [
    {
     "data": {
      "text/plain": [
       "LogisticRegression(C=1000000000000.0, class_weight=None, dual=False,\n",
       "                   fit_intercept=False, intercept_scaling=1, l1_ratio=None,\n",
       "                   max_iter=100, multi_class='warn', n_jobs=None, penalty='l2',\n",
       "                   random_state=None, solver='liblinear', tol=0.0001, verbose=0,\n",
       "                   warm_start=False)"
      ]
     },
     "execution_count": 49,
     "metadata": {},
     "output_type": "execute_result"
    }
   ],
   "source": [
    "clf = LogisticRegression(fit_intercept=False, C=1e12, solver='liblinear')\n",
    "clf.fit(X_train, y_train)"
   ]
  },
  {
   "cell_type": "code",
   "execution_count": 50,
   "metadata": {
    "ExecuteTime": {
     "end_time": "2020-05-28T05:40:40.155409Z",
     "start_time": "2020-05-28T05:40:40.149871Z"
    }
   },
   "outputs": [],
   "source": [
    "y_pred_train = clf.predict(X_train)\n",
    "y_pred_test = clf.predict(X_test)"
   ]
  },
  {
   "cell_type": "code",
   "execution_count": 51,
   "metadata": {
    "ExecuteTime": {
     "end_time": "2020-05-28T05:40:42.263563Z",
     "start_time": "2020-05-28T05:40:42.033819Z"
    },
    "scrolled": true
   },
   "outputs": [
    {
     "name": "stdout",
     "output_type": "stream",
     "text": [
      "MODEL EVALUATION METRICS:\n",
      " -----------------------------------------------------\n",
      "Confusion Matrix for train & test set: \n",
      "\n",
      "[[3460  403]\n",
      " [ 618  793]] \n",
      "\n",
      "[[1153  147]\n",
      " [ 224  234]]\n",
      "-----------------------------------------------------\n",
      "\n",
      "Classification Report for train & test set\n",
      " \n",
      "Train set\n",
      "               precision    recall  f1-score   support\n",
      "\n",
      "           0       0.85      0.90      0.87      3863\n",
      "           1       0.66      0.56      0.61      1411\n",
      "\n",
      "    accuracy                           0.81      5274\n",
      "   macro avg       0.76      0.73      0.74      5274\n",
      "weighted avg       0.80      0.81      0.80      5274\n",
      " \n",
      "\n",
      "Test set\n",
      "               precision    recall  f1-score   support\n",
      "\n",
      "           0       0.84      0.89      0.86      1300\n",
      "           1       0.61      0.51      0.56       458\n",
      "\n",
      "    accuracy                           0.79      1758\n",
      "   macro avg       0.73      0.70      0.71      1758\n",
      "weighted avg       0.78      0.79      0.78      1758\n",
      "\n",
      "-----------------------------------------------------\n",
      "\n",
      "Cohen's Kappa for train and test set:\n",
      "  0.4809 0.4207\n",
      "roc auc score for train and test set:\n",
      "  0.7288 0.6989\n",
      "Mean Cross Validation Score:\n",
      " 0.804\n"
     ]
    }
   ],
   "source": [
    "model_evaluation(X_train, X_test, y_train, y_test, y_pred_train, y_pred_test)\n"
   ]
  },
  {
   "cell_type": "code",
   "execution_count": 15,
   "metadata": {
    "ExecuteTime": {
     "end_time": "2020-05-28T03:56:05.815020Z",
     "start_time": "2020-05-28T03:56:05.396338Z"
    },
    "scrolled": true
   },
   "outputs": [
    {
     "data": {
      "image/png": "[encoded data removed]",
      "text/plain": [
       "<Figure size 720x576 with 1 Axes>"
      ]
     },
     "metadata": {
      "needs_background": "light"
     },
     "output_type": "display_data"
    },
    {
     "name": "stdout",
     "output_type": "stream",
     "text": [
      "Training AUC: 0.8515\n",
      "Testing AUC: 0.83351\n"
     ]
    }
   ],
   "source": [
    "roc_curve_and_auc(clf, X_train, X_test, y_train, y_test)"
   ]
  },
  {
   "cell_type": "code",
   "execution_count": 52,
   "metadata": {
    "ExecuteTime": {
     "end_time": "2020-05-28T05:41:30.385832Z",
     "start_time": "2020-05-28T05:41:30.381512Z"
    }
   },
   "outputs": [
    {
     "data": {
      "text/plain": [
       "array([[-0.06,  0.  ,  0.  , -0.04,  0.24,  0.11, -0.26, -0.54,  0.23,\n",
       "         0.16,  0.74, -0.1 , -0.1 , -0.48, -0.1 , -0.15, -0.1 , -0.02,\n",
       "        -0.1 , -0.44, -0.1 ,  0.15, -0.1 ,  0.2 , -0.69, -1.03,  0.22,\n",
       "        -0.16,  0.21, -0.08]])"
      ]
     },
     "execution_count": 52,
     "metadata": {},
     "output_type": "execute_result"
    }
   ],
   "source": [
    "clf.coef_.round(2)\n"
   ]
  },
  {
   "cell_type": "code",
   "execution_count": null,
   "metadata": {},
   "outputs": [],
   "source": [
    "# plot_feature_importances(clf)"
   ]
  },
  {
   "cell_type": "markdown",
   "metadata": {
    "heading_collapsed": true
   },
   "source": [
    "### Note: I tried all the other solvers here, 'liblinear' gave the best results."
   ]
  },
  {
   "cell_type": "markdown",
   "metadata": {},
   "source": [
    "## Handling Imbalanced Data"
   ]
  },
  {
   "cell_type": "markdown",
   "metadata": {},
   "source": [
    "## SMOTE\n"
   ]
  },
  {
   "cell_type": "code",
   "execution_count": 12,
   "metadata": {
    "ExecuteTime": {
     "end_time": "2020-05-28T14:26:41.583329Z",
     "start_time": "2020-05-28T14:26:41.488485Z"
    }
   },
   "outputs": [],
   "source": [
    "smote = SMOTE()\n",
    "scaled_X_train_smoted, y_train_smoted = smote.fit_sample(scaled_X_train, y_train)"
   ]
  },
  {
   "cell_type": "markdown",
   "metadata": {},
   "source": [
    "# L1 regression (Lasso)"
   ]
  },
  {
   "cell_type": "code",
   "execution_count": 54,
   "metadata": {
    "ExecuteTime": {
     "end_time": "2020-05-28T05:41:52.978310Z",
     "start_time": "2020-05-28T05:41:52.851367Z"
    }
   },
   "outputs": [
    {
     "data": {
      "text/plain": [
       "SGDClassifier(alpha=0.0001, average=False, class_weight=None,\n",
       "              early_stopping=False, epsilon=0.1, eta0=0.0, fit_intercept=True,\n",
       "              l1_ratio=0.15, learning_rate='optimal', loss='hinge',\n",
       "              max_iter=1000, n_iter_no_change=5, n_jobs=None, penalty='l1',\n",
       "              power_t=0.5, random_state=None, shuffle=True, tol=0.001,\n",
       "              validation_fraction=0.1, verbose=0, warm_start=False)"
      ]
     },
     "execution_count": 54,
     "metadata": {},
     "output_type": "execute_result"
    }
   ],
   "source": [
    "clf = SGDClassifier(penalty='l1')\n",
    "clf.fit(scaled_X_train_smoted, y_train_smoted)"
   ]
  },
  {
   "cell_type": "code",
   "execution_count": 55,
   "metadata": {
    "ExecuteTime": {
     "end_time": "2020-05-28T05:41:55.192867Z",
     "start_time": "2020-05-28T05:41:55.188460Z"
    }
   },
   "outputs": [],
   "source": [
    "y_pred_train = clf.predict(scaled_X_train)\n",
    "y_pred_test = clf.predict(scaled_X_test)"
   ]
  },
  {
   "cell_type": "code",
   "execution_count": 56,
   "metadata": {
    "ExecuteTime": {
     "end_time": "2020-05-28T05:42:03.204736Z",
     "start_time": "2020-05-28T05:42:02.643429Z"
    }
   },
   "outputs": [
    {
     "name": "stdout",
     "output_type": "stream",
     "text": [
      "MODEL EVALUATION METRICS:\n",
      " -----------------------------------------------------\n",
      "Confusion Matrix for train & test set: \n",
      "\n",
      "[[2889  974]\n",
      " [ 304 1107]] \n",
      "\n",
      "[[960 340]\n",
      " [111 347]]\n",
      "-----------------------------------------------------\n",
      "\n",
      "Classification Report for train & test set\n",
      " \n",
      "Train set\n",
      "               precision    recall  f1-score   support\n",
      "\n",
      "           0       0.90      0.75      0.82      3863\n",
      "           1       0.53      0.78      0.63      1411\n",
      "\n",
      "    accuracy                           0.76      5274\n",
      "   macro avg       0.72      0.77      0.73      5274\n",
      "weighted avg       0.81      0.76      0.77      5274\n",
      " \n",
      "\n",
      "Test set\n",
      "               precision    recall  f1-score   support\n",
      "\n",
      "           0       0.90      0.74      0.81      1300\n",
      "           1       0.51      0.76      0.61       458\n",
      "\n",
      "    accuracy                           0.74      1758\n",
      "   macro avg       0.70      0.75      0.71      1758\n",
      "weighted avg       0.79      0.74      0.76      1758\n",
      "\n",
      "-----------------------------------------------------\n",
      "\n",
      "Cohen's Kappa for train and test set:\n",
      "  0.4627 0.427\n",
      "roc auc score for train and test set:\n",
      "  0.7662 0.7481\n",
      "Mean Cross Validation Score:\n",
      " 0.7811\n"
     ]
    }
   ],
   "source": [
    "model_evaluation(scaled_X_train, scaled_X_test, y_train, y_test, y_pred_train, y_pred_test)"
   ]
  },
  {
   "cell_type": "markdown",
   "metadata": {},
   "source": [
    "MODEL EVALUATION METRICS: SGD SMOTE ELASTICNET\n",
    " -----------------------------------------------------\n",
    "Confusion Matrix for train & test set: \n",
    "\n",
    "[[2853 1010]\n",
    " [ 281 1130]] \n",
    "\n",
    "[[944 356]\n",
    " [ 99 359]]\n",
    "-----------------------------------------------------\n",
    "\n",
    "Classification Report for train & test set\n",
    " \n",
    "Train set\n",
    "               precision    recall  f1-score   support\n",
    "\n",
    "           0       0.91      0.74      0.82      3863\n",
    "           1       0.53      0.80      0.64      1411\n",
    "\n",
    "    accuracy                           0.76      5274\n",
    "   macro avg       0.72      0.77      0.73      5274\n",
    "weighted avg       0.81      0.76      0.77      5274\n",
    " \n",
    "\n",
    "Test set\n",
    "               precision    recall  f1-score   support\n",
    "\n",
    "           0       0.91      0.73      0.81      1300\n",
    "           1       0.50      0.78      0.61       458\n",
    "\n",
    "    accuracy                           0.74      1758\n",
    "   macro avg       0.70      0.75      0.71      1758\n",
    "weighted avg       0.80      0.74      0.76      1758\n",
    "\n",
    "-----------------------------------------------------\n",
    "\n",
    "Cohen's Kappa for train and test set:\n",
    "  0.4634 0.4316\n",
    "roc auc score for train and test set:\n",
    "  0.7697 0.755\n",
    "Mean Cross Validation Score:\n",
    " 0.7588"
   ]
  },
  {
   "cell_type": "markdown",
   "metadata": {
    "ExecuteTime": {
     "end_time": "2020-05-28T01:39:51.334584Z",
     "start_time": "2020-05-28T01:39:51.323547Z"
    }
   },
   "source": [
    "MODEL EVALUATION METRICS: SCD WITHOUT SMOTE\n",
    " -----------------------------------------------------\n",
    "Confusion Matrix for train & test set: \n",
    "\n",
    "[[3120  743]\n",
    " [ 469  942]] \n",
    "\n",
    "[[1047  253]\n",
    " [ 163  295]]\n",
    "-----------------------------------------------------\n",
    "\n",
    "Classification Report for train & test set\n",
    " \n",
    "Train set\n",
    "               precision    recall  f1-score   support\n",
    "\n",
    "           0       0.87      0.81      0.84      3863\n",
    "           1       0.56      0.67      0.61      1411\n",
    "\n",
    "    accuracy                           0.77      5274\n",
    "   macro avg       0.71      0.74      0.72      5274\n",
    "weighted avg       0.79      0.77      0.78      5274\n",
    " \n",
    "\n",
    "Test set\n",
    "               precision    recall  f1-score   support\n",
    "\n",
    "           0       0.87      0.81      0.83      1300\n",
    "           1       0.54      0.64      0.59       458\n",
    "\n",
    "    accuracy                           0.76      1758\n",
    "   macro avg       0.70      0.72      0.71      1758\n",
    "weighted avg       0.78      0.76      0.77      1758\n",
    "\n",
    "-----------------------------------------------------\n",
    "\n",
    "Cohen's Kappa for train and test set:\n",
    "  0.4477 0.4226\n",
    "roc auc score for train and test set:\n",
    "  0.7376 0.7247\n",
    "Mean Cross Validation Score:\n",
    " 0.775"
   ]
  },
  {
   "cell_type": "markdown",
   "metadata": {},
   "source": [
    "### I tried SGDClassifier without SMOTE. \n",
    "I tried SGDClassifier with smote and penalty elastisnet\n",
    "\n"
   ]
  },
  {
   "cell_type": "markdown",
   "metadata": {},
   "source": [
    "## SGD Classifier with SMOTE and GRID\n",
    "## There is a problem in this grid search, if I can not solve it I will try alphas manually"
   ]
  },
  {
   "cell_type": "code",
   "execution_count": 57,
   "metadata": {
    "ExecuteTime": {
     "end_time": "2020-05-28T05:43:03.145359Z",
     "start_time": "2020-05-28T05:43:03.141667Z"
    }
   },
   "outputs": [],
   "source": [
    "grid = [{'alpha': [1e-06, 1e-05, 0.0001, 0.001], \n",
    "         'loss':['hinge', 'log', 'modified_huber','squared_hinge', 'perceptron'],\n",
    "         'penalty': ['l2', 'l1','elasticnet'],\n",
    "         'l1_ratio': [0.1, 0.15, 0.2, 0.3, 0.4, 0.5]\n",
    "         }]"
   ]
  },
  {
   "cell_type": "code",
   "execution_count": 58,
   "metadata": {
    "ExecuteTime": {
     "end_time": "2020-05-28T05:43:08.132527Z",
     "start_time": "2020-05-28T05:43:08.130142Z"
    }
   },
   "outputs": [],
   "source": [
    "# SGD.get_params().keys()"
   ]
  },
  {
   "cell_type": "code",
   "execution_count": 59,
   "metadata": {
    "ExecuteTime": {
     "end_time": "2020-05-28T05:46:35.381500Z",
     "start_time": "2020-05-28T05:43:14.335665Z"
    }
   },
   "outputs": [
    {
     "data": {
      "text/plain": [
       "GridSearchCV(cv=3, error_score='raise-deprecating',\n",
       "             estimator=SGDClassifier(alpha=0.0001, average=False,\n",
       "                                     class_weight=None, early_stopping=False,\n",
       "                                     epsilon=0.1, eta0=0.0, fit_intercept=True,\n",
       "                                     l1_ratio=0.15, learning_rate='optimal',\n",
       "                                     loss='hinge', max_iter=1000,\n",
       "                                     n_iter_no_change=5, n_jobs=None,\n",
       "                                     penalty='l2', power_t=0.5,\n",
       "                                     random_state=None, shuffle=True, tol=0.001,\n",
       "                                     validation_fraction=0.1, verbose=0,\n",
       "                                     warm_start=False),\n",
       "             iid='warn', n_jobs=None,\n",
       "             param_grid=[{'alpha': [1e-06, 1e-05, 0.0001, 0.001],\n",
       "                          'l1_ratio': [0.1, 0.15, 0.2, 0.3, 0.4, 0.5],\n",
       "                          'loss': ['hinge', 'log', 'modified_huber',\n",
       "                                   'squared_hinge', 'perceptron'],\n",
       "                          'penalty': ['l2', 'l1', 'elasticnet']}],\n",
       "             pre_dispatch='2*n_jobs', refit=True, return_train_score=True,\n",
       "             scoring=None, verbose=0)"
      ]
     },
     "execution_count": 59,
     "metadata": {},
     "output_type": "execute_result"
    }
   ],
   "source": [
    "SGD = SGDClassifier()\n",
    "\n",
    "clf = GridSearchCV(SGD, grid, cv=3, return_train_score=True)\n",
    "\n",
    "# Fit the training data\n",
    "clf.fit(scaled_X_train_smoted, y_train_smoted)\n",
    "\n",
    "\n",
    "# gridsearch.score(X_train, y_train)"
   ]
  },
  {
   "cell_type": "code",
   "execution_count": 60,
   "metadata": {
    "ExecuteTime": {
     "end_time": "2020-05-28T05:46:35.590887Z",
     "start_time": "2020-05-28T05:46:35.585704Z"
    }
   },
   "outputs": [],
   "source": [
    "y_pred_train = clf.predict(scaled_X_train_smoted)\n",
    "y_pred_test = clf.predict(X_test)"
   ]
  },
  {
   "cell_type": "code",
   "execution_count": 61,
   "metadata": {
    "ExecuteTime": {
     "end_time": "2020-05-28T05:52:35.211349Z",
     "start_time": "2020-05-28T05:46:35.814003Z"
    }
   },
   "outputs": [
    {
     "name": "stdout",
     "output_type": "stream",
     "text": [
      "MODEL EVALUATION METRICS:\n",
      " -----------------------------------------------------\n",
      "Confusion Matrix for train & test set: \n",
      "\n",
      "[[2800 1063]\n",
      " [ 643 3220]] \n",
      "\n",
      "[[   0 1300]\n",
      " [   0  458]]\n",
      "-----------------------------------------------------\n",
      "\n",
      "Classification Report for train & test set\n",
      " \n",
      "Train set\n",
      "               precision    recall  f1-score   support\n",
      "\n",
      "           0       0.81      0.72      0.77      3863\n",
      "           1       0.75      0.83      0.79      3863\n",
      "\n",
      "    accuracy                           0.78      7726\n",
      "   macro avg       0.78      0.78      0.78      7726\n",
      "weighted avg       0.78      0.78      0.78      7726\n",
      " \n",
      "\n",
      "Test set\n",
      "               precision    recall  f1-score   support\n",
      "\n",
      "           0       0.00      0.00      0.00      1300\n",
      "           1       0.26      1.00      0.41       458\n",
      "\n",
      "    accuracy                           0.26      1758\n",
      "   macro avg       0.13      0.50      0.21      1758\n",
      "weighted avg       0.07      0.26      0.11      1758\n",
      "\n",
      "-----------------------------------------------------\n",
      "\n",
      "Cohen's Kappa for train and test set:\n",
      "  0.5584 0.0\n",
      "roc auc score for train and test set:\n",
      "  0.7792 0.5\n",
      "Mean Cross Validation Score:\n",
      " 0.7462\n"
     ]
    }
   ],
   "source": [
    "model_evaluation(scaled_X_train_smoted, scaled_X_test, y_train_smoted, y_test, y_pred_train, y_pred_test)\n"
   ]
  },
  {
   "cell_type": "code",
   "execution_count": null,
   "metadata": {
    "scrolled": true
   },
   "outputs": [],
   "source": [
    "roc_curve_and_auc(clf,X_train_smoted, X_test, y_train_smoted, y_test)"
   ]
  },
  {
   "cell_type": "code",
   "execution_count": null,
   "metadata": {},
   "outputs": [],
   "source": [
    "clf.feature_importances_"
   ]
  },
  {
   "cell_type": "code",
   "execution_count": null,
   "metadata": {},
   "outputs": [],
   "source": [
    "plot_feature_importances(clf)"
   ]
  },
  {
   "cell_type": "code",
   "execution_count": null,
   "metadata": {},
   "outputs": [],
   "source": [
    "# sns.countplot(y);"
   ]
  },
  {
   "cell_type": "code",
   "execution_count": null,
   "metadata": {},
   "outputs": [],
   "source": [
    "# print(y.value_counts())\n",
    "# print(y.value_counts(normalize=True))"
   ]
  },
  {
   "cell_type": "code",
   "execution_count": null,
   "metadata": {},
   "outputs": [],
   "source": [
    "# smote = SMOTE()\n",
    "# X_train_smoted, y_train_smoted = smote.fit_sample(X_train, y_train)"
   ]
  },
  {
   "cell_type": "code",
   "execution_count": null,
   "metadata": {},
   "outputs": [],
   "source": [
    "clf = LogisticRegression(fit_intercept=False, C=1e20, solver ='liblinear')\n",
    "clf.fit(X_train_smoted, y_train_smoted)\n",
    "\n"
   ]
  },
  {
   "cell_type": "code",
   "execution_count": null,
   "metadata": {},
   "outputs": [],
   "source": [
    "y_pred_train = clf.predict(X_train_smoted)\n",
    "y_pred_test = clf.predict(X_test)"
   ]
  },
  {
   "cell_type": "code",
   "execution_count": null,
   "metadata": {},
   "outputs": [],
   "source": [
    "model_evaluation(X_train_smoted, X_test, y_train_smoted, y_test, y_pred_train, y_pred_test)\n"
   ]
  },
  {
   "cell_type": "code",
   "execution_count": null,
   "metadata": {
    "scrolled": true
   },
   "outputs": [],
   "source": [
    "roc_curve_and_auc(clf,X_train_smoted, X_test, y_train_smoted, y_test)"
   ]
  },
  {
   "cell_type": "code",
   "execution_count": null,
   "metadata": {},
   "outputs": [],
   "source": [
    "clf.feature_importances_"
   ]
  },
  {
   "cell_type": "code",
   "execution_count": null,
   "metadata": {},
   "outputs": [],
   "source": [
    "plot_feature_importances(clf)"
   ]
  },
  {
   "cell_type": "markdown",
   "metadata": {},
   "source": [
    "## ADASYN"
   ]
  },
  {
   "cell_type": "code",
   "execution_count": null,
   "metadata": {},
   "outputs": [],
   "source": [
    "adasyn = ADASYN()"
   ]
  },
  {
   "cell_type": "code",
   "execution_count": null,
   "metadata": {},
   "outputs": [],
   "source": [
    "# ADASYN Imbalanced Data\n",
    "\n",
    "\n",
    "X_train_ada, y_train_ada = adasyn.fit_sample(X_train, y_train)\n",
    "\n",
    "clf = LogisticRegression(fit_intercept=False, C=1e20, solver ='liblinear')\n",
    "clf.fit(X_train_ada, y_train_ada)\n",
    "y_pred_train = clf.predict(X_train_ada)\n",
    "y_pred_test = clf.predict(X_test)\n",
    "\n"
   ]
  },
  {
   "cell_type": "code",
   "execution_count": null,
   "metadata": {},
   "outputs": [],
   "source": [
    "model_evaluation(X_train_ada, X_test, y_train_ada, y_test, y_pred_train, y_pred_test)"
   ]
  },
  {
   "cell_type": "code",
   "execution_count": null,
   "metadata": {
    "scrolled": true
   },
   "outputs": [],
   "source": [
    "roc_curve_and_auc(clf, X_train_ada, X_test, y_train_ada, y_test)"
   ]
  },
  {
   "cell_type": "code",
   "execution_count": null,
   "metadata": {},
   "outputs": [],
   "source": [
    "clf.feature_importances_"
   ]
  },
  {
   "cell_type": "code",
   "execution_count": null,
   "metadata": {},
   "outputs": [],
   "source": [
    "plot_feature_importances(clf)"
   ]
  },
  {
   "cell_type": "markdown",
   "metadata": {},
   "source": [
    "# We can try to solve multicollinearity by interactions\n",
    "# We can make grid search to find the best hyperparameters"
   ]
  },
  {
   "cell_type": "markdown",
   "metadata": {},
   "source": [
    "# KNN"
   ]
  },
  {
   "cell_type": "code",
   "execution_count": null,
   "metadata": {},
   "outputs": [],
   "source": [
    "# k_range = range(1, 26)\n",
    "\n",
    "# # We can create Python dictionary using [] or dict()\n",
    "# recall_scores = []\n",
    "\n",
    "# # We use a loop through the range 1 to 26\n",
    "# # We append the scores in the dictionary\n",
    "# for k in k_range:\n",
    "#     clf = KNeighborsClassifier(n_neighbors=k)\n",
    "#     clf.fit(X_train, y_train)\n",
    "#     y_pred_train = clf.predict(scaled_X_train_smoted)\n",
    "#     y_pred_test = clf.predict(scaled_X_test)\n",
    "#     scores.append(metrics.recall(y_test, y_pred))\n",
    "\n",
    "# print(recall_scores)"
   ]
  },
  {
   "cell_type": "code",
   "execution_count": 73,
   "metadata": {
    "ExecuteTime": {
     "end_time": "2020-05-28T06:03:00.378642Z",
     "start_time": "2020-05-28T06:02:07.676750Z"
    }
   },
   "outputs": [
    {
     "name": "stdout",
     "output_type": "stream",
     "text": [
      "------------\n",
      "1\n",
      "\n",
      "Classification Report for train & test set\n",
      " \n",
      "Train set\n",
      "               precision    recall  f1-score   support\n",
      "\n",
      "           0       1.00      1.00      1.00      3863\n",
      "           1       1.00      1.00      1.00      3863\n",
      "\n",
      "    accuracy                           1.00      7726\n",
      "   macro avg       1.00      1.00      1.00      7726\n",
      "weighted avg       1.00      1.00      1.00      7726\n",
      " \n",
      "\n",
      "Test set\n",
      "               precision    recall  f1-score   support\n",
      "\n",
      "           0       0.82      0.76      0.79      1300\n",
      "           1       0.43      0.52      0.47       458\n",
      "\n",
      "    accuracy                           0.70      1758\n",
      "   macro avg       0.63      0.64      0.63      1758\n",
      "weighted avg       0.72      0.70      0.71      1758\n",
      "\n",
      "-----------------------------------------------\n",
      "\n",
      "------------\n",
      "2\n",
      "\n",
      "Classification Report for train & test set\n",
      " \n",
      "Train set\n",
      "               precision    recall  f1-score   support\n",
      "\n",
      "           0       0.93      1.00      0.96      3863\n",
      "           1       1.00      0.92      0.96      3863\n",
      "\n",
      "    accuracy                           0.96      7726\n",
      "   macro avg       0.96      0.96      0.96      7726\n",
      "weighted avg       0.96      0.96      0.96      7726\n",
      " \n",
      "\n",
      "Test set\n",
      "               precision    recall  f1-score   support\n",
      "\n",
      "           0       0.80      0.82      0.81      1300\n",
      "           1       0.46      0.43      0.44       458\n",
      "\n",
      "    accuracy                           0.72      1758\n",
      "   macro avg       0.63      0.63      0.63      1758\n",
      "weighted avg       0.71      0.72      0.72      1758\n",
      "\n",
      "-----------------------------------------------\n",
      "\n",
      "------------\n",
      "3\n",
      "\n",
      "Classification Report for train & test set\n",
      " \n",
      "Train set\n",
      "               precision    recall  f1-score   support\n",
      "\n",
      "           0       0.97      0.83      0.89      3863\n",
      "           1       0.85      0.98      0.91      3863\n",
      "\n",
      "    accuracy                           0.90      7726\n",
      "   macro avg       0.91      0.90      0.90      7726\n",
      "weighted avg       0.91      0.90      0.90      7726\n",
      " \n",
      "\n",
      "Test set\n",
      "               precision    recall  f1-score   support\n",
      "\n",
      "           0       0.86      0.70      0.77      1300\n",
      "           1       0.44      0.67      0.53       458\n",
      "\n",
      "    accuracy                           0.69      1758\n",
      "   macro avg       0.65      0.68      0.65      1758\n",
      "weighted avg       0.75      0.69      0.71      1758\n",
      "\n",
      "-----------------------------------------------\n",
      "\n",
      "------------\n",
      "4\n",
      "\n",
      "Classification Report for train & test set\n",
      " \n",
      "Train set\n",
      "               precision    recall  f1-score   support\n",
      "\n",
      "           0       0.92      0.87      0.90      3863\n",
      "           1       0.88      0.92      0.90      3863\n",
      "\n",
      "    accuracy                           0.90      7726\n",
      "   macro avg       0.90      0.90      0.90      7726\n",
      "weighted avg       0.90      0.90      0.90      7726\n",
      " \n",
      "\n",
      "Test set\n",
      "               precision    recall  f1-score   support\n",
      "\n",
      "           0       0.84      0.76      0.80      1300\n",
      "           1       0.46      0.58      0.51       458\n",
      "\n",
      "    accuracy                           0.71      1758\n",
      "   macro avg       0.65      0.67      0.66      1758\n",
      "weighted avg       0.74      0.71      0.72      1758\n",
      "\n",
      "-----------------------------------------------\n",
      "\n",
      "------------\n",
      "5\n",
      "\n",
      "Classification Report for train & test set\n",
      " \n",
      "Train set\n",
      "               precision    recall  f1-score   support\n",
      "\n",
      "           0       0.95      0.77      0.85      3863\n",
      "           1       0.81      0.96      0.87      3863\n",
      "\n",
      "    accuracy                           0.86      7726\n",
      "   macro avg       0.88      0.86      0.86      7726\n",
      "weighted avg       0.88      0.86      0.86      7726\n",
      " \n",
      "\n",
      "Test set\n",
      "               precision    recall  f1-score   support\n",
      "\n",
      "           0       0.87      0.67      0.76      1300\n",
      "           1       0.43      0.71      0.54       458\n",
      "\n",
      "    accuracy                           0.68      1758\n",
      "   macro avg       0.65      0.69      0.65      1758\n",
      "weighted avg       0.75      0.68      0.70      1758\n",
      "\n",
      "-----------------------------------------------\n",
      "\n",
      "------------\n",
      "6\n",
      "\n",
      "Classification Report for train & test set\n",
      " \n",
      "Train set\n",
      "               precision    recall  f1-score   support\n",
      "\n",
      "           0       0.91      0.81      0.86      3863\n",
      "           1       0.83      0.92      0.87      3863\n",
      "\n",
      "    accuracy                           0.87      7726\n",
      "   macro avg       0.87      0.87      0.86      7726\n",
      "weighted avg       0.87      0.87      0.86      7726\n",
      " \n",
      "\n",
      "Test set\n",
      "               precision    recall  f1-score   support\n",
      "\n",
      "           0       0.85      0.73      0.78      1300\n",
      "           1       0.45      0.64      0.53       458\n",
      "\n",
      "    accuracy                           0.70      1758\n",
      "   macro avg       0.65      0.68      0.65      1758\n",
      "weighted avg       0.75      0.70      0.72      1758\n",
      "\n",
      "-----------------------------------------------\n",
      "\n",
      "------------\n",
      "7\n",
      "\n",
      "Classification Report for train & test set\n",
      " \n",
      "Train set\n",
      "               precision    recall  f1-score   support\n",
      "\n",
      "           0       0.93      0.73      0.82      3863\n",
      "           1       0.78      0.95      0.85      3863\n",
      "\n",
      "    accuracy                           0.84      7726\n",
      "   macro avg       0.86      0.84      0.84      7726\n",
      "weighted avg       0.86      0.84      0.84      7726\n",
      " \n",
      "\n",
      "Test set\n",
      "               precision    recall  f1-score   support\n",
      "\n",
      "           0       0.88      0.65      0.75      1300\n",
      "           1       0.43      0.74      0.54       458\n",
      "\n",
      "    accuracy                           0.68      1758\n",
      "   macro avg       0.65      0.70      0.65      1758\n",
      "weighted avg       0.76      0.68      0.70      1758\n",
      "\n",
      "-----------------------------------------------\n",
      "\n",
      "------------\n",
      "8\n",
      "\n",
      "Classification Report for train & test set\n",
      " \n",
      "Train set\n",
      "               precision    recall  f1-score   support\n",
      "\n",
      "           0       0.90      0.77      0.83      3863\n",
      "           1       0.80      0.91      0.85      3863\n",
      "\n",
      "    accuracy                           0.84      7726\n",
      "   macro avg       0.85      0.84      0.84      7726\n",
      "weighted avg       0.85      0.84      0.84      7726\n",
      " \n",
      "\n",
      "Test set\n",
      "               precision    recall  f1-score   support\n",
      "\n",
      "           0       0.86      0.70      0.77      1300\n",
      "           1       0.45      0.69      0.54       458\n",
      "\n",
      "    accuracy                           0.70      1758\n",
      "   macro avg       0.66      0.69      0.66      1758\n",
      "weighted avg       0.76      0.70      0.71      1758\n",
      "\n",
      "-----------------------------------------------\n",
      "\n",
      "------------\n",
      "9\n",
      "\n",
      "Classification Report for train & test set\n",
      " \n",
      "Train set\n",
      "               precision    recall  f1-score   support\n",
      "\n",
      "           0       0.92      0.71      0.80      3863\n",
      "           1       0.76      0.94      0.84      3863\n",
      "\n",
      "    accuracy                           0.82      7726\n",
      "   macro avg       0.84      0.82      0.82      7726\n",
      "weighted avg       0.84      0.82      0.82      7726\n",
      " \n",
      "\n",
      "Test set\n",
      "               precision    recall  f1-score   support\n",
      "\n",
      "           0       0.90      0.64      0.75      1300\n",
      "           1       0.44      0.79      0.56       458\n",
      "\n",
      "    accuracy                           0.68      1758\n",
      "   macro avg       0.67      0.72      0.66      1758\n",
      "weighted avg       0.78      0.68      0.70      1758\n",
      "\n",
      "-----------------------------------------------\n",
      "\n",
      "------------\n",
      "10\n",
      "\n",
      "Classification Report for train & test set\n",
      " \n",
      "Train set\n",
      "               precision    recall  f1-score   support\n",
      "\n",
      "           0       0.90      0.75      0.82      3863\n",
      "           1       0.79      0.91      0.85      3863\n",
      "\n",
      "    accuracy                           0.83      7726\n",
      "   macro avg       0.84      0.83      0.83      7726\n",
      "weighted avg       0.84      0.83      0.83      7726\n",
      " \n",
      "\n",
      "Test set\n",
      "               precision    recall  f1-score   support\n",
      "\n",
      "           0       0.89      0.69      0.77      1300\n",
      "           1       0.46      0.76      0.57       458\n",
      "\n",
      "    accuracy                           0.70      1758\n",
      "   macro avg       0.67      0.72      0.67      1758\n",
      "weighted avg       0.78      0.70      0.72      1758\n",
      "\n",
      "-----------------------------------------------\n",
      "\n",
      "------------\n",
      "11\n",
      "\n",
      "Classification Report for train & test set\n",
      " \n",
      "Train set\n",
      "               precision    recall  f1-score   support\n",
      "\n",
      "           0       0.91      0.70      0.79      3863\n",
      "           1       0.76      0.93      0.83      3863\n",
      "\n",
      "    accuracy                           0.81      7726\n",
      "   macro avg       0.83      0.81      0.81      7726\n",
      "weighted avg       0.83      0.81      0.81      7726\n",
      " \n",
      "\n",
      "Test set\n",
      "               precision    recall  f1-score   support\n",
      "\n",
      "           0       0.91      0.64      0.75      1300\n",
      "           1       0.44      0.82      0.58       458\n",
      "\n",
      "    accuracy                           0.69      1758\n",
      "   macro avg       0.68      0.73      0.66      1758\n",
      "weighted avg       0.79      0.69      0.71      1758\n",
      "\n",
      "-----------------------------------------------\n",
      "\n"
     ]
    },
    {
     "name": "stdout",
     "output_type": "stream",
     "text": [
      "------------\n",
      "12\n",
      "\n",
      "Classification Report for train & test set\n",
      " \n",
      "Train set\n",
      "               precision    recall  f1-score   support\n",
      "\n",
      "           0       0.89      0.73      0.80      3863\n",
      "           1       0.77      0.91      0.84      3863\n",
      "\n",
      "    accuracy                           0.82      7726\n",
      "   macro avg       0.83      0.82      0.82      7726\n",
      "weighted avg       0.83      0.82      0.82      7726\n",
      " \n",
      "\n",
      "Test set\n",
      "               precision    recall  f1-score   support\n",
      "\n",
      "           0       0.90      0.67      0.77      1300\n",
      "           1       0.45      0.78      0.58       458\n",
      "\n",
      "    accuracy                           0.70      1758\n",
      "   macro avg       0.68      0.73      0.67      1758\n",
      "weighted avg       0.78      0.70      0.72      1758\n",
      "\n",
      "-----------------------------------------------\n",
      "\n",
      "------------\n",
      "13\n",
      "\n",
      "Classification Report for train & test set\n",
      " \n",
      "Train set\n",
      "               precision    recall  f1-score   support\n",
      "\n",
      "           0       0.90      0.69      0.78      3863\n",
      "           1       0.75      0.93      0.83      3863\n",
      "\n",
      "    accuracy                           0.81      7726\n",
      "   macro avg       0.83      0.81      0.80      7726\n",
      "weighted avg       0.83      0.81      0.80      7726\n",
      " \n",
      "\n",
      "Test set\n",
      "               precision    recall  f1-score   support\n",
      "\n",
      "           0       0.91      0.63      0.75      1300\n",
      "           1       0.44      0.82      0.58       458\n",
      "\n",
      "    accuracy                           0.68      1758\n",
      "   macro avg       0.68      0.73      0.66      1758\n",
      "weighted avg       0.79      0.68      0.70      1758\n",
      "\n",
      "-----------------------------------------------\n",
      "\n",
      "------------\n",
      "14\n",
      "\n",
      "Classification Report for train & test set\n",
      " \n",
      "Train set\n",
      "               precision    recall  f1-score   support\n",
      "\n",
      "           0       0.89      0.71      0.79      3863\n",
      "           1       0.76      0.91      0.83      3863\n",
      "\n",
      "    accuracy                           0.81      7726\n",
      "   macro avg       0.82      0.81      0.81      7726\n",
      "weighted avg       0.82      0.81      0.81      7726\n",
      " \n",
      "\n",
      "Test set\n",
      "               precision    recall  f1-score   support\n",
      "\n",
      "           0       0.90      0.66      0.76      1300\n",
      "           1       0.45      0.80      0.58       458\n",
      "\n",
      "    accuracy                           0.70      1758\n",
      "   macro avg       0.68      0.73      0.67      1758\n",
      "weighted avg       0.79      0.70      0.72      1758\n",
      "\n",
      "-----------------------------------------------\n",
      "\n",
      "------------\n",
      "15\n",
      "\n",
      "Classification Report for train & test set\n",
      " \n",
      "Train set\n",
      "               precision    recall  f1-score   support\n",
      "\n",
      "           0       0.90      0.68      0.78      3863\n",
      "           1       0.75      0.93      0.83      3863\n",
      "\n",
      "    accuracy                           0.81      7726\n",
      "   macro avg       0.83      0.81      0.80      7726\n",
      "weighted avg       0.83      0.81      0.80      7726\n",
      " \n",
      "\n",
      "Test set\n",
      "               precision    recall  f1-score   support\n",
      "\n",
      "           0       0.91      0.63      0.74      1300\n",
      "           1       0.44      0.83      0.57       458\n",
      "\n",
      "    accuracy                           0.68      1758\n",
      "   macro avg       0.67      0.73      0.66      1758\n",
      "weighted avg       0.79      0.68      0.70      1758\n",
      "\n",
      "-----------------------------------------------\n",
      "\n",
      "------------\n",
      "16\n",
      "\n",
      "Classification Report for train & test set\n",
      " \n",
      "Train set\n",
      "               precision    recall  f1-score   support\n",
      "\n",
      "           0       0.89      0.71      0.79      3863\n",
      "           1       0.76      0.91      0.83      3863\n",
      "\n",
      "    accuracy                           0.81      7726\n",
      "   macro avg       0.82      0.81      0.81      7726\n",
      "weighted avg       0.82      0.81      0.81      7726\n",
      " \n",
      "\n",
      "Test set\n",
      "               precision    recall  f1-score   support\n",
      "\n",
      "           0       0.90      0.66      0.76      1300\n",
      "           1       0.45      0.80      0.58       458\n",
      "\n",
      "    accuracy                           0.70      1758\n",
      "   macro avg       0.68      0.73      0.67      1758\n",
      "weighted avg       0.79      0.70      0.71      1758\n",
      "\n",
      "-----------------------------------------------\n",
      "\n",
      "------------\n",
      "17\n",
      "\n",
      "Classification Report for train & test set\n",
      " \n",
      "Train set\n",
      "               precision    recall  f1-score   support\n",
      "\n",
      "           0       0.90      0.68      0.78      3863\n",
      "           1       0.74      0.93      0.83      3863\n",
      "\n",
      "    accuracy                           0.80      7726\n",
      "   macro avg       0.82      0.80      0.80      7726\n",
      "weighted avg       0.82      0.80      0.80      7726\n",
      " \n",
      "\n",
      "Test set\n",
      "               precision    recall  f1-score   support\n",
      "\n",
      "           0       0.92      0.62      0.74      1300\n",
      "           1       0.44      0.84      0.58       458\n",
      "\n",
      "    accuracy                           0.68      1758\n",
      "   macro avg       0.68      0.73      0.66      1758\n",
      "weighted avg       0.79      0.68      0.70      1758\n",
      "\n",
      "-----------------------------------------------\n",
      "\n",
      "------------\n",
      "18\n",
      "\n",
      "Classification Report for train & test set\n",
      " \n",
      "Train set\n",
      "               precision    recall  f1-score   support\n",
      "\n",
      "           0       0.89      0.70      0.78      3863\n",
      "           1       0.75      0.91      0.82      3863\n",
      "\n",
      "    accuracy                           0.81      7726\n",
      "   macro avg       0.82      0.81      0.80      7726\n",
      "weighted avg       0.82      0.81      0.80      7726\n",
      " \n",
      "\n",
      "Test set\n",
      "               precision    recall  f1-score   support\n",
      "\n",
      "           0       0.91      0.65      0.76      1300\n",
      "           1       0.45      0.83      0.58       458\n",
      "\n",
      "    accuracy                           0.69      1758\n",
      "   macro avg       0.68      0.74      0.67      1758\n",
      "weighted avg       0.79      0.69      0.71      1758\n",
      "\n",
      "-----------------------------------------------\n",
      "\n",
      "------------\n",
      "19\n",
      "\n",
      "Classification Report for train & test set\n",
      " \n",
      "Train set\n",
      "               precision    recall  f1-score   support\n",
      "\n",
      "           0       0.90      0.67      0.77      3863\n",
      "           1       0.74      0.92      0.82      3863\n",
      "\n",
      "    accuracy                           0.80      7726\n",
      "   macro avg       0.82      0.80      0.80      7726\n",
      "weighted avg       0.82      0.80      0.80      7726\n",
      " \n",
      "\n",
      "Test set\n",
      "               precision    recall  f1-score   support\n",
      "\n",
      "           0       0.92      0.62      0.74      1300\n",
      "           1       0.44      0.84      0.58       458\n",
      "\n",
      "    accuracy                           0.68      1758\n",
      "   macro avg       0.68      0.73      0.66      1758\n",
      "weighted avg       0.79      0.68      0.70      1758\n",
      "\n",
      "-----------------------------------------------\n",
      "\n",
      "------------\n",
      "20\n",
      "\n",
      "Classification Report for train & test set\n",
      " \n",
      "Train set\n",
      "               precision    recall  f1-score   support\n",
      "\n",
      "           0       0.89      0.69      0.78      3863\n",
      "           1       0.75      0.91      0.82      3863\n",
      "\n",
      "    accuracy                           0.80      7726\n",
      "   macro avg       0.82      0.80      0.80      7726\n",
      "weighted avg       0.82      0.80      0.80      7726\n",
      " \n",
      "\n",
      "Test set\n",
      "               precision    recall  f1-score   support\n",
      "\n",
      "           0       0.91      0.64      0.75      1300\n",
      "           1       0.45      0.83      0.58       458\n",
      "\n",
      "    accuracy                           0.69      1758\n",
      "   macro avg       0.68      0.73      0.67      1758\n",
      "weighted avg       0.79      0.69      0.71      1758\n",
      "\n",
      "-----------------------------------------------\n",
      "\n",
      "------------\n",
      "21\n",
      "\n",
      "Classification Report for train & test set\n",
      " \n",
      "Train set\n",
      "               precision    recall  f1-score   support\n",
      "\n",
      "           0       0.89      0.67      0.76      3863\n",
      "           1       0.73      0.92      0.82      3863\n",
      "\n",
      "    accuracy                           0.79      7726\n",
      "   macro avg       0.81      0.79      0.79      7726\n",
      "weighted avg       0.81      0.79      0.79      7726\n",
      " \n",
      "\n",
      "Test set\n",
      "               precision    recall  f1-score   support\n",
      "\n",
      "           0       0.92      0.62      0.74      1300\n",
      "           1       0.44      0.85      0.58       458\n",
      "\n",
      "    accuracy                           0.68      1758\n",
      "   macro avg       0.68      0.73      0.66      1758\n",
      "weighted avg       0.80      0.68      0.70      1758\n",
      "\n",
      "-----------------------------------------------\n",
      "\n",
      "------------\n",
      "22\n",
      "\n",
      "Classification Report for train & test set\n",
      " \n",
      "Train set\n",
      "               precision    recall  f1-score   support\n",
      "\n",
      "           0       0.88      0.69      0.77      3863\n",
      "           1       0.74      0.91      0.82      3863\n",
      "\n",
      "    accuracy                           0.80      7726\n",
      "   macro avg       0.81      0.80      0.79      7726\n",
      "weighted avg       0.81      0.80      0.79      7726\n",
      " \n",
      "\n",
      "Test set\n",
      "               precision    recall  f1-score   support\n",
      "\n",
      "           0       0.91      0.64      0.75      1300\n",
      "           1       0.45      0.83      0.58       458\n",
      "\n",
      "    accuracy                           0.69      1758\n",
      "   macro avg       0.68      0.73      0.67      1758\n",
      "weighted avg       0.79      0.69      0.71      1758\n",
      "\n",
      "-----------------------------------------------\n",
      "\n"
     ]
    },
    {
     "name": "stdout",
     "output_type": "stream",
     "text": [
      "------------\n",
      "23\n",
      "\n",
      "Classification Report for train & test set\n",
      " \n",
      "Train set\n",
      "               precision    recall  f1-score   support\n",
      "\n",
      "           0       0.89      0.66      0.76      3863\n",
      "           1       0.73      0.92      0.81      3863\n",
      "\n",
      "    accuracy                           0.79      7726\n",
      "   macro avg       0.81      0.79      0.79      7726\n",
      "weighted avg       0.81      0.79      0.79      7726\n",
      " \n",
      "\n",
      "Test set\n",
      "               precision    recall  f1-score   support\n",
      "\n",
      "           0       0.92      0.61      0.73      1300\n",
      "           1       0.43      0.84      0.57       458\n",
      "\n",
      "    accuracy                           0.67      1758\n",
      "   macro avg       0.68      0.73      0.65      1758\n",
      "weighted avg       0.79      0.67      0.69      1758\n",
      "\n",
      "-----------------------------------------------\n",
      "\n",
      "------------\n",
      "24\n",
      "\n",
      "Classification Report for train & test set\n",
      " \n",
      "Train set\n",
      "               precision    recall  f1-score   support\n",
      "\n",
      "           0       0.88      0.68      0.76      3863\n",
      "           1       0.74      0.90      0.81      3863\n",
      "\n",
      "    accuracy                           0.79      7726\n",
      "   macro avg       0.81      0.79      0.79      7726\n",
      "weighted avg       0.81      0.79      0.79      7726\n",
      " \n",
      "\n",
      "Test set\n",
      "               precision    recall  f1-score   support\n",
      "\n",
      "           0       0.91      0.63      0.75      1300\n",
      "           1       0.44      0.83      0.58       458\n",
      "\n",
      "    accuracy                           0.68      1758\n",
      "   macro avg       0.68      0.73      0.66      1758\n",
      "weighted avg       0.79      0.68      0.70      1758\n",
      "\n",
      "-----------------------------------------------\n",
      "\n",
      "------------\n",
      "25\n",
      "\n",
      "Classification Report for train & test set\n",
      " \n",
      "Train set\n",
      "               precision    recall  f1-score   support\n",
      "\n",
      "           0       0.89      0.65      0.75      3863\n",
      "           1       0.72      0.92      0.81      3863\n",
      "\n",
      "    accuracy                           0.78      7726\n",
      "   macro avg       0.81      0.78      0.78      7726\n",
      "weighted avg       0.81      0.78      0.78      7726\n",
      " \n",
      "\n",
      "Test set\n",
      "               precision    recall  f1-score   support\n",
      "\n",
      "           0       0.92      0.61      0.73      1300\n",
      "           1       0.43      0.84      0.57       458\n",
      "\n",
      "    accuracy                           0.67      1758\n",
      "   macro avg       0.67      0.72      0.65      1758\n",
      "weighted avg       0.79      0.67      0.69      1758\n",
      "\n",
      "-----------------------------------------------\n",
      "\n"
     ]
    }
   ],
   "source": [
    "k_range = range(1, 26)\n",
    "\n",
    "for k in k_range:\n",
    "    clf = KNeighborsClassifier(n_neighbors=k)\n",
    "    clf.fit(scaled_X_train_smoted, y_train_smoted)\n",
    "    y_pred_train = clf.predict(scaled_X_train_smoted)\n",
    "    y_pred_test = clf.predict(scaled_X_test)\n",
    "    \n",
    "    print('------------')\n",
    "    print('k= ', k)\n",
    "    print('\\nClassification Report for train & test set\\n',\n",
    "              '\\nTrain set\\n',\n",
    "              classification_report(y_train_smoted, y_pred_train),\n",
    "              '\\n\\nTest set\\n',\n",
    "              classification_report(y_test, y_pred_test))\n",
    "    print('-----------------------------------------------\\n')"
   ]
  },
  {
   "cell_type": "code",
   "execution_count": null,
   "metadata": {},
   "outputs": [],
   "source": [
    "# clf = KNeighborsClassifier(n_neighbors=3)\n",
    "# clf.fit(scaled_X_train, y_train)"
   ]
  },
  {
   "cell_type": "code",
   "execution_count": null,
   "metadata": {},
   "outputs": [],
   "source": [
    "# y_pred_train = clf.predict(scaled_df_train)\n",
    "# y_pred_test = clf.predict(scaled_X_test)"
   ]
  },
  {
   "cell_type": "code",
   "execution_count": null,
   "metadata": {},
   "outputs": [],
   "source": [
    "model_evaluation(scaled_df_train, scaled_X_test, y_train, y_test, y_pred_train, y_pred_test)"
   ]
  },
  {
   "cell_type": "code",
   "execution_count": null,
   "metadata": {},
   "outputs": [],
   "source": [
    "# roc_curve_and_auc(clf, X_train, X_test, y_train, y_test)"
   ]
  },
  {
   "cell_type": "code",
   "execution_count": null,
   "metadata": {},
   "outputs": [],
   "source": [
    "clf.feature_importances_"
   ]
  },
  {
   "cell_type": "code",
   "execution_count": null,
   "metadata": {},
   "outputs": [],
   "source": [
    "plot_feature_importances(clf)"
   ]
  },
  {
   "cell_type": "code",
   "execution_count": null,
   "metadata": {},
   "outputs": [],
   "source": []
  },
  {
   "cell_type": "markdown",
   "metadata": {},
   "source": [
    "## ADASYN"
   ]
  },
  {
   "cell_type": "code",
   "execution_count": null,
   "metadata": {},
   "outputs": [],
   "source": [
    "adasyn = ADASYN()\n",
    "X_train_ada, y_train_ada = adasyn.fit_sample(scaled_df_train, y_train)\n",
    "\n",
    "clf = KNeighborsClassifier()\n",
    "\n",
    "# Fit the classifier\n",
    "model = clf.fit(X_train_ada, y_train_ada)\n",
    "y_pred_train = clf.predict(X_train_ada)\n",
    "y_pred_test = clf.predict(X_test)"
   ]
  },
  {
   "cell_type": "code",
   "execution_count": null,
   "metadata": {},
   "outputs": [],
   "source": [
    "model_evaluation(X_train_ada, X_test, y_train_ada, y_test, y_pred_train, y_pred_test)"
   ]
  },
  {
   "cell_type": "markdown",
   "metadata": {},
   "source": [
    "# RANDOM FOREST"
   ]
  },
  {
   "cell_type": "code",
   "execution_count": 74,
   "metadata": {
    "ExecuteTime": {
     "end_time": "2020-05-28T06:06:35.961065Z",
     "start_time": "2020-05-28T06:06:35.883000Z"
    }
   },
   "outputs": [],
   "source": [
    "clf = RandomForestClassifier(random_state=123)\n",
    "clf.fit(X_train, y_train)\n",
    "y_pred_train = clf.predict(X_train)\n",
    "y_pred_test = clf.predict(X_test)"
   ]
  },
  {
   "cell_type": "code",
   "execution_count": 75,
   "metadata": {
    "ExecuteTime": {
     "end_time": "2020-05-28T06:06:37.994797Z",
     "start_time": "2020-05-28T06:06:37.641367Z"
    }
   },
   "outputs": [
    {
     "name": "stdout",
     "output_type": "stream",
     "text": [
      "MODEL EVALUATION METRICS:\n",
      " -----------------------------------------------------\n",
      "Confusion Matrix for train & test set: \n",
      "\n",
      "[[3850   13]\n",
      " [  84 1327]] \n",
      "\n",
      "[[1160  140]\n",
      " [ 275  183]]\n",
      "-----------------------------------------------------\n",
      "\n",
      "Classification Report for train & test set\n",
      " \n",
      "Train set\n",
      "               precision    recall  f1-score   support\n",
      "\n",
      "           0       0.98      1.00      0.99      3863\n",
      "           1       0.99      0.94      0.96      1411\n",
      "\n",
      "    accuracy                           0.98      5274\n",
      "   macro avg       0.98      0.97      0.98      5274\n",
      "weighted avg       0.98      0.98      0.98      5274\n",
      " \n",
      "\n",
      "Test set\n",
      "               precision    recall  f1-score   support\n",
      "\n",
      "           0       0.81      0.89      0.85      1300\n",
      "           1       0.57      0.40      0.47       458\n",
      "\n",
      "    accuracy                           0.76      1758\n",
      "   macro avg       0.69      0.65      0.66      1758\n",
      "weighted avg       0.75      0.76      0.75      1758\n",
      "\n",
      "-----------------------------------------------------\n",
      "\n",
      "Cohen's Kappa for train and test set:\n",
      "  0.9523 0.3227\n",
      "roc auc score for train and test set:\n",
      "  0.9686 0.6459\n",
      "Mean Cross Validation Score:\n",
      " 0.7804\n"
     ]
    }
   ],
   "source": [
    "model_evaluation(X_train, X_test, y_train, y_test, y_pred_train, y_pred_test)"
   ]
  },
  {
   "cell_type": "code",
   "execution_count": null,
   "metadata": {},
   "outputs": [],
   "source": [
    "# roc_curve_and_auc(clf, X_train, X_test, y_train, y_test)"
   ]
  },
  {
   "cell_type": "code",
   "execution_count": null,
   "metadata": {},
   "outputs": [],
   "source": [
    "clf.feature_importances_.round(5)"
   ]
  },
  {
   "cell_type": "code",
   "execution_count": null,
   "metadata": {},
   "outputs": [],
   "source": [
    "plot_feature_importances(clf)"
   ]
  },
  {
   "cell_type": "markdown",
   "metadata": {},
   "source": [
    "# RANDOM FOREST smoted"
   ]
  },
  {
   "cell_type": "code",
   "execution_count": 76,
   "metadata": {
    "ExecuteTime": {
     "end_time": "2020-05-28T06:06:53.664752Z",
     "start_time": "2020-05-28T06:06:53.561329Z"
    }
   },
   "outputs": [],
   "source": [
    "clf = RandomForestClassifier(random_state=123)\n",
    "clf.fit(scaled_X_train_smoted, y_train_smoted)\n",
    "y_pred_train = clf.predict(scaled_X_train_smoted)\n",
    "y_pred_test = clf.predict(scaled_X_test)"
   ]
  },
  {
   "cell_type": "code",
   "execution_count": 77,
   "metadata": {
    "ExecuteTime": {
     "end_time": "2020-05-28T06:06:57.269370Z",
     "start_time": "2020-05-28T06:06:56.901546Z"
    }
   },
   "outputs": [
    {
     "name": "stdout",
     "output_type": "stream",
     "text": [
      "MODEL EVALUATION METRICS:\n",
      " -----------------------------------------------------\n",
      "Confusion Matrix for train & test set: \n",
      "\n",
      "[[3844   19]\n",
      " [  52 3811]] \n",
      "\n",
      "[[1117  183]\n",
      " [ 216  242]]\n",
      "-----------------------------------------------------\n",
      "\n",
      "Classification Report for train & test set\n",
      " \n",
      "Train set\n",
      "               precision    recall  f1-score   support\n",
      "\n",
      "           0       0.99      1.00      0.99      3863\n",
      "           1       1.00      0.99      0.99      3863\n",
      "\n",
      "    accuracy                           0.99      7726\n",
      "   macro avg       0.99      0.99      0.99      7726\n",
      "weighted avg       0.99      0.99      0.99      7726\n",
      " \n",
      "\n",
      "Test set\n",
      "               precision    recall  f1-score   support\n",
      "\n",
      "           0       0.84      0.86      0.85      1300\n",
      "           1       0.57      0.53      0.55       458\n",
      "\n",
      "    accuracy                           0.77      1758\n",
      "   macro avg       0.70      0.69      0.70      1758\n",
      "weighted avg       0.77      0.77      0.77      1758\n",
      "\n",
      "-----------------------------------------------------\n",
      "\n",
      "Cohen's Kappa for train and test set:\n",
      "  0.9816 0.3969\n",
      "roc auc score for train and test set:\n",
      "  0.9908 0.6938\n",
      "Mean Cross Validation Score:\n",
      " 0.7804\n"
     ]
    }
   ],
   "source": [
    "model_evaluation(scaled_X_train_smoted, scaled_X_test, y_train_smoted, y_test, y_pred_train, y_pred_test)"
   ]
  },
  {
   "cell_type": "code",
   "execution_count": null,
   "metadata": {},
   "outputs": [],
   "source": [
    "# roc_curve_and_auc(clf, X_train, X_test, y_train, y_test)"
   ]
  },
  {
   "cell_type": "code",
   "execution_count": null,
   "metadata": {},
   "outputs": [],
   "source": [
    "clf.feature_importances_.round(5)"
   ]
  },
  {
   "cell_type": "code",
   "execution_count": null,
   "metadata": {},
   "outputs": [],
   "source": [
    "plot_feature_importances(clf)"
   ]
  },
  {
   "cell_type": "code",
   "execution_count": null,
   "metadata": {},
   "outputs": [],
   "source": []
  },
  {
   "cell_type": "code",
   "execution_count": null,
   "metadata": {},
   "outputs": [],
   "source": []
  },
  {
   "cell_type": "markdown",
   "metadata": {},
   "source": [
    "# Grid search"
   ]
  },
  {
   "cell_type": "code",
   "execution_count": 78,
   "metadata": {
    "ExecuteTime": {
     "end_time": "2020-05-28T06:07:28.970319Z",
     "start_time": "2020-05-28T06:07:28.966003Z"
    }
   },
   "outputs": [],
   "source": [
    "grid = [{'criterion': ['gini', 'entropy'], \n",
    "         'n_estimators':[10, 20, 50, 100, 150, 200],\n",
    "         'max_depth': [3, 4, 5, 6, 7],\n",
    "         'min_samples_split': [1.0, 2, 3, 4, 5, 6, 7, 8, 9, 10], \n",
    "         'min_samples_leaf': [1,2, 3,4, 5,6,7, 8, 9, 10]}]"
   ]
  },
  {
   "cell_type": "code",
   "execution_count": 79,
   "metadata": {
    "ExecuteTime": {
     "end_time": "2020-05-28T06:07:33.062602Z",
     "start_time": "2020-05-28T06:07:33.059821Z"
    }
   },
   "outputs": [],
   "source": [
    "RF = RandomForestClassifier(random_state=123)"
   ]
  },
  {
   "cell_type": "code",
   "execution_count": 80,
   "metadata": {
    "ExecuteTime": {
     "end_time": "2020-05-28T06:07:34.232475Z",
     "start_time": "2020-05-28T06:07:34.229086Z"
    }
   },
   "outputs": [],
   "source": [
    "clf = GridSearchCV(estimator= RF, param_grid=grid, scoring={\n",
    "                          'AUC': 'roc_auc', 'Accuracy': make_scorer(accuracy_score)}, cv=5, refit='Accuracy')"
   ]
  },
  {
   "cell_type": "code",
   "execution_count": null,
   "metadata": {},
   "outputs": [],
   "source": [
    "# RF.get_params().keys()"
   ]
  },
  {
   "cell_type": "code",
   "execution_count": null,
   "metadata": {
    "ExecuteTime": {
     "start_time": "2020-05-28T06:07:43.936Z"
    }
   },
   "outputs": [],
   "source": [
    "# Fit the training data\n",
    "clf.fit(scaled_X_train_smoted, y_train_smoted)\n",
    "y_pred_train = clf.predict(scaled_X_train_smoted)\n",
    "y_pred_test = clf.predict(scaled_X_test)"
   ]
  },
  {
   "cell_type": "code",
   "execution_count": null,
   "metadata": {},
   "outputs": [],
   "source": [
    "gridsearch.score(X_train, y_train)\n",
    "gridsearch.score(X_test, y_test)"
   ]
  },
  {
   "cell_type": "code",
   "execution_count": null,
   "metadata": {},
   "outputs": [],
   "source": [
    "gridsearch.best_params_"
   ]
  },
  {
   "cell_type": "code",
   "execution_count": null,
   "metadata": {},
   "outputs": [],
   "source": [
    "gridsearch.best_score_\n"
   ]
  },
  {
   "cell_type": "markdown",
   "metadata": {},
   "source": [
    "# Bagging Classifier"
   ]
  },
  {
   "cell_type": "code",
   "execution_count": 21,
   "metadata": {
    "ExecuteTime": {
     "end_time": "2020-05-28T14:46:48.824255Z",
     "start_time": "2020-05-28T14:46:39.583517Z"
    }
   },
   "outputs": [],
   "source": [
    "param_grid = {\n",
    "    'base_estimator__max_depth' : [1, 2, 3, 4, 5],\n",
    "    'max_samples' : [0.05, 0.1, 0.2, 0.5, 0.75, 1.0]\n",
    "}\n",
    "\n",
    "clf = GridSearchCV(BaggingClassifier(DecisionTreeClassifier(),\n",
    "                                     n_estimators = 100, max_features = 0.5),\n",
    "                   param_grid, n_jobs=-1)\n",
    "\n",
    "clf.fit(scaled_X_train_smoted, y_train_smoted)\n",
    "y_pred_train = clf.predict(scaled_X_train_smoted)\n",
    "y_pred_test = clf.predict(scaled_X_test)"
   ]
  },
  {
   "cell_type": "code",
   "execution_count": 9,
   "metadata": {
    "ExecuteTime": {
     "end_time": "2020-05-28T14:17:39.446997Z",
     "start_time": "2020-05-28T14:17:39.444025Z"
    }
   },
   "outputs": [],
   "source": [
    "# clf = BaggingClassifier(DecisionTreeClassifier(criterion='gini', max_depth=5), \n",
    "#                                  n_estimators=20)"
   ]
  },
  {
   "cell_type": "code",
   "execution_count": 10,
   "metadata": {
    "ExecuteTime": {
     "end_time": "2020-05-28T14:17:40.547789Z",
     "start_time": "2020-05-28T14:17:40.338693Z"
    }
   },
   "outputs": [],
   "source": [
    "# clf.fit(X_train, y_train)\n",
    "# y_pred_train = clf.predict(X_train)\n",
    "# y_pred_test = clf.predict(X_test)"
   ]
  },
  {
   "cell_type": "code",
   "execution_count": null,
   "metadata": {},
   "outputs": [],
   "source": []
  },
  {
   "cell_type": "code",
   "execution_count": 23,
   "metadata": {
    "ExecuteTime": {
     "end_time": "2020-05-28T14:49:59.719714Z",
     "start_time": "2020-05-28T14:49:22.311891Z"
    }
   },
   "outputs": [
    {
     "name": "stdout",
     "output_type": "stream",
     "text": [
      "MODEL EVALUATION METRICS:\n",
      " -----------------------------------------------------\n",
      "Confusion Matrix for train & test set: \n",
      "\n",
      "[[3009  854]\n",
      " [ 540 3323]] \n",
      "\n",
      "[[973 327]\n",
      " [114 344]]\n",
      "-----------------------------------------------------\n",
      "\n",
      "Classification Report for train & test set\n",
      " \n",
      "Train set\n",
      "               precision    recall  f1-score   support\n",
      "\n",
      "           0       0.85      0.78      0.81      3863\n",
      "           1       0.80      0.86      0.83      3863\n",
      "\n",
      "    accuracy                           0.82      7726\n",
      "   macro avg       0.82      0.82      0.82      7726\n",
      "weighted avg       0.82      0.82      0.82      7726\n",
      " \n",
      "\n",
      "Test set\n",
      "               precision    recall  f1-score   support\n",
      "\n",
      "           0       0.90      0.75      0.82      1300\n",
      "           1       0.51      0.75      0.61       458\n",
      "\n",
      "    accuracy                           0.75      1758\n",
      "   macro avg       0.70      0.75      0.71      1758\n",
      "weighted avg       0.80      0.75      0.76      1758\n",
      "\n",
      "-----------------------------------------------------\n",
      "\n",
      "Cohen's Kappa for train and test set:\n",
      "  0.6391 0.4342\n",
      "roc auc score for train and test set:\n",
      "  0.8196 0.7498\n",
      "Mean Cross Validation Score:\n",
      " 0.8013\n"
     ]
    }
   ],
   "source": [
    "model_evaluation(scaled_X_train_smoted, scaled_X_test, y_train_smoted, y_test, y_pred_train, y_pred_test)"
   ]
  },
  {
   "cell_type": "code",
   "execution_count": 25,
   "metadata": {
    "ExecuteTime": {
     "end_time": "2020-05-28T16:06:20.351720Z",
     "start_time": "2020-05-28T16:06:20.349415Z"
    }
   },
   "outputs": [],
   "source": [
    "# roc_curve_and_auc(clf, X_train, X_test, y_train, y_test)"
   ]
  },
  {
   "cell_type": "code",
   "execution_count": null,
   "metadata": {},
   "outputs": [],
   "source": []
  },
  {
   "cell_type": "code",
   "execution_count": null,
   "metadata": {},
   "outputs": [],
   "source": []
  },
  {
   "cell_type": "markdown",
   "metadata": {},
   "source": [
    "# SVM classifier"
   ]
  },
  {
   "cell_type": "code",
   "execution_count": 26,
   "metadata": {
    "ExecuteTime": {
     "end_time": "2020-05-28T16:21:06.895916Z",
     "start_time": "2020-05-28T16:09:45.985579Z"
    }
   },
   "outputs": [
    {
     "ename": "KeyboardInterrupt",
     "evalue": "",
     "output_type": "error",
     "traceback": [
      "\u001b[0;31m---------------------------------------------------------------------------\u001b[0m",
      "\u001b[0;31mKeyboardInterrupt\u001b[0m                         Traceback (most recent call last)",
      "\u001b[0;32m<ipython-input-26-fcfbd59bce08>\u001b[0m in \u001b[0;36m<module>\u001b[0;34m\u001b[0m\n\u001b[1;32m      3\u001b[0m \u001b[0;31m#             class_weight='balanced',\u001b[0m\u001b[0;34m\u001b[0m\u001b[0;34m\u001b[0m\u001b[0;34m\u001b[0m\u001b[0m\n\u001b[1;32m      4\u001b[0m \u001b[0;31m#             probability=True)\u001b[0m\u001b[0;34m\u001b[0m\u001b[0;34m\u001b[0m\u001b[0;34m\u001b[0m\u001b[0m\n\u001b[0;32m----> 5\u001b[0;31m \u001b[0mclf\u001b[0m\u001b[0;34m.\u001b[0m\u001b[0mfit\u001b[0m\u001b[0;34m(\u001b[0m\u001b[0mX_train\u001b[0m\u001b[0;34m,\u001b[0m \u001b[0my_train\u001b[0m\u001b[0;34m)\u001b[0m\u001b[0;34m\u001b[0m\u001b[0;34m\u001b[0m\u001b[0m\n\u001b[0m\u001b[1;32m      6\u001b[0m \u001b[0my_pred_train\u001b[0m \u001b[0;34m=\u001b[0m \u001b[0mclf\u001b[0m\u001b[0;34m.\u001b[0m\u001b[0mpredict\u001b[0m\u001b[0;34m(\u001b[0m\u001b[0mX_train\u001b[0m\u001b[0;34m)\u001b[0m\u001b[0;34m\u001b[0m\u001b[0;34m\u001b[0m\u001b[0m\n\u001b[1;32m      7\u001b[0m \u001b[0my_pred_test\u001b[0m \u001b[0;34m=\u001b[0m \u001b[0mclf\u001b[0m\u001b[0;34m.\u001b[0m\u001b[0mpredict\u001b[0m\u001b[0;34m(\u001b[0m\u001b[0mX_test\u001b[0m\u001b[0;34m)\u001b[0m\u001b[0;34m\u001b[0m\u001b[0;34m\u001b[0m\u001b[0m\n",
      "\u001b[0;32m/opt/anaconda3/lib/python3.7/site-packages/sklearn/svm/base.py\u001b[0m in \u001b[0;36mfit\u001b[0;34m(self, X, y, sample_weight)\u001b[0m\n\u001b[1;32m    207\u001b[0m \u001b[0;34m\u001b[0m\u001b[0m\n\u001b[1;32m    208\u001b[0m         \u001b[0mseed\u001b[0m \u001b[0;34m=\u001b[0m \u001b[0mrnd\u001b[0m\u001b[0;34m.\u001b[0m\u001b[0mrandint\u001b[0m\u001b[0;34m(\u001b[0m\u001b[0mnp\u001b[0m\u001b[0;34m.\u001b[0m\u001b[0miinfo\u001b[0m\u001b[0;34m(\u001b[0m\u001b[0;34m'i'\u001b[0m\u001b[0;34m)\u001b[0m\u001b[0;34m.\u001b[0m\u001b[0mmax\u001b[0m\u001b[0;34m)\u001b[0m\u001b[0;34m\u001b[0m\u001b[0;34m\u001b[0m\u001b[0m\n\u001b[0;32m--> 209\u001b[0;31m         \u001b[0mfit\u001b[0m\u001b[0;34m(\u001b[0m\u001b[0mX\u001b[0m\u001b[0;34m,\u001b[0m \u001b[0my\u001b[0m\u001b[0;34m,\u001b[0m \u001b[0msample_weight\u001b[0m\u001b[0;34m,\u001b[0m \u001b[0msolver_type\u001b[0m\u001b[0;34m,\u001b[0m \u001b[0mkernel\u001b[0m\u001b[0;34m,\u001b[0m \u001b[0mrandom_seed\u001b[0m\u001b[0;34m=\u001b[0m\u001b[0mseed\u001b[0m\u001b[0;34m)\u001b[0m\u001b[0;34m\u001b[0m\u001b[0;34m\u001b[0m\u001b[0m\n\u001b[0m\u001b[1;32m    210\u001b[0m         \u001b[0;31m# see comment on the other call to np.iinfo in this file\u001b[0m\u001b[0;34m\u001b[0m\u001b[0;34m\u001b[0m\u001b[0;34m\u001b[0m\u001b[0m\n\u001b[1;32m    211\u001b[0m \u001b[0;34m\u001b[0m\u001b[0m\n",
      "\u001b[0;32m/opt/anaconda3/lib/python3.7/site-packages/sklearn/svm/base.py\u001b[0m in \u001b[0;36m_dense_fit\u001b[0;34m(self, X, y, sample_weight, solver_type, kernel, random_seed)\u001b[0m\n\u001b[1;32m    266\u001b[0m                 \u001b[0mcache_size\u001b[0m\u001b[0;34m=\u001b[0m\u001b[0mself\u001b[0m\u001b[0;34m.\u001b[0m\u001b[0mcache_size\u001b[0m\u001b[0;34m,\u001b[0m \u001b[0mcoef0\u001b[0m\u001b[0;34m=\u001b[0m\u001b[0mself\u001b[0m\u001b[0;34m.\u001b[0m\u001b[0mcoef0\u001b[0m\u001b[0;34m,\u001b[0m\u001b[0;34m\u001b[0m\u001b[0;34m\u001b[0m\u001b[0m\n\u001b[1;32m    267\u001b[0m                 \u001b[0mgamma\u001b[0m\u001b[0;34m=\u001b[0m\u001b[0mself\u001b[0m\u001b[0;34m.\u001b[0m\u001b[0m_gamma\u001b[0m\u001b[0;34m,\u001b[0m \u001b[0mepsilon\u001b[0m\u001b[0;34m=\u001b[0m\u001b[0mself\u001b[0m\u001b[0;34m.\u001b[0m\u001b[0mepsilon\u001b[0m\u001b[0;34m,\u001b[0m\u001b[0;34m\u001b[0m\u001b[0;34m\u001b[0m\u001b[0m\n\u001b[0;32m--> 268\u001b[0;31m                 max_iter=self.max_iter, random_seed=random_seed)\n\u001b[0m\u001b[1;32m    269\u001b[0m \u001b[0;34m\u001b[0m\u001b[0m\n\u001b[1;32m    270\u001b[0m         \u001b[0mself\u001b[0m\u001b[0;34m.\u001b[0m\u001b[0m_warn_from_fit_status\u001b[0m\u001b[0;34m(\u001b[0m\u001b[0;34m)\u001b[0m\u001b[0;34m\u001b[0m\u001b[0;34m\u001b[0m\u001b[0m\n",
      "\u001b[0;31mKeyboardInterrupt\u001b[0m: "
     ]
    }
   ],
   "source": [
    "clf = SVC(kernel='linear')\n",
    "# clf= SVC(kernel='linear', \n",
    "#             class_weight='balanced', \n",
    "#             probability=True)\n",
    "clf.fit(X_train, y_train)\n",
    "y_pred_train = clf.predict(X_train)\n",
    "y_pred_test = clf.predict(X_test)"
   ]
  },
  {
   "cell_type": "code",
   "execution_count": null,
   "metadata": {
    "ExecuteTime": {
     "end_time": "2020-05-28T16:21:06.902930Z",
     "start_time": "2020-05-28T16:09:53.029Z"
    }
   },
   "outputs": [],
   "source": [
    "model_evaluation(X_train, X_test, y_train, y_test, y_pred_train, y_pred_test)"
   ]
  },
  {
   "cell_type": "code",
   "execution_count": null,
   "metadata": {},
   "outputs": [],
   "source": [
    "roc_curve_and_auc(clf, X_train, X_test, y_train, y_test)"
   ]
  },
  {
   "cell_type": "markdown",
   "metadata": {},
   "source": [
    "# Naive Bayes"
   ]
  },
  {
   "cell_type": "code",
   "execution_count": null,
   "metadata": {},
   "outputs": [],
   "source": [
    "clf = GaussianNB()\n",
    "clf.fit(X_train, y_train)\n",
    "y_pred_train = clf.predict(X_train)\n",
    "y_pred_test = clf.predict(X_test)"
   ]
  },
  {
   "cell_type": "code",
   "execution_count": null,
   "metadata": {},
   "outputs": [],
   "source": [
    "model_evaluation(X_train, X_test, y_train, y_test, y_pred_train, y_pred_test)"
   ]
  },
  {
   "cell_type": "code",
   "execution_count": null,
   "metadata": {},
   "outputs": [],
   "source": [
    "# roc_curve_and_auc(clf, X_train, X_test, y_train, y_test)"
   ]
  },
  {
   "cell_type": "code",
   "execution_count": null,
   "metadata": {},
   "outputs": [],
   "source": [
    "clf.feature_importances_"
   ]
  },
  {
   "cell_type": "code",
   "execution_count": null,
   "metadata": {},
   "outputs": [],
   "source": [
    "plot_feature_importances(clf)"
   ]
  },
  {
   "cell_type": "markdown",
   "metadata": {},
   "source": [
    "# Xgboost"
   ]
  },
  {
   "cell_type": "code",
   "execution_count": null,
   "metadata": {
    "scrolled": true
   },
   "outputs": [],
   "source": [
    "clf = xgb.XGBClassifier()\n",
    "clf.fit(X_train, y_train)\n",
    "y_pred_train = clf.predict(X_train)\n",
    "y_pred_test = clf.predict(X_test)"
   ]
  },
  {
   "cell_type": "code",
   "execution_count": null,
   "metadata": {},
   "outputs": [],
   "source": []
  },
  {
   "cell_type": "code",
   "execution_count": null,
   "metadata": {},
   "outputs": [],
   "source": [
    "model_evaluation(X_train, X_test, y_train, y_test, y_pred_train, y_pred_test)"
   ]
  },
  {
   "cell_type": "code",
   "execution_count": null,
   "metadata": {},
   "outputs": [],
   "source": [
    "# roc_curve_and_auc(clf, X_train, X_test, y_train, y_test)"
   ]
  },
  {
   "cell_type": "code",
   "execution_count": null,
   "metadata": {},
   "outputs": [],
   "source": [
    "clf.feature_importances_.round(5)"
   ]
  },
  {
   "cell_type": "code",
   "execution_count": null,
   "metadata": {},
   "outputs": [],
   "source": [
    "plot_feature_importances(clf)"
   ]
  },
  {
   "cell_type": "code",
   "execution_count": null,
   "metadata": {},
   "outputs": [],
   "source": []
  },
  {
   "cell_type": "code",
   "execution_count": null,
   "metadata": {},
   "outputs": [],
   "source": []
  },
  {
   "cell_type": "markdown",
   "metadata": {},
   "source": [
    "# Gradient Boosting"
   ]
  },
  {
   "cell_type": "code",
   "execution_count": null,
   "metadata": {},
   "outputs": [],
   "source": [
    "clf = GradientBoostingClassifier()\n",
    "clf.fit(X_train, y_train)\n",
    "y_pred_train = clf.predict(X_train)\n",
    "y_pred_test = clf.predict(X_test)"
   ]
  },
  {
   "cell_type": "code",
   "execution_count": null,
   "metadata": {},
   "outputs": [],
   "source": [
    "model_evaluation(X_train, X_test, y_train, y_test, y_pred_train, y_pred_test)"
   ]
  },
  {
   "cell_type": "code",
   "execution_count": null,
   "metadata": {},
   "outputs": [],
   "source": [
    "roc_curve_and_auc(clf, X_train, X_test, y_train, y_test)"
   ]
  },
  {
   "cell_type": "code",
   "execution_count": null,
   "metadata": {},
   "outputs": [],
   "source": [
    "clf.feature_importances_.round(5)"
   ]
  },
  {
   "cell_type": "code",
   "execution_count": null,
   "metadata": {},
   "outputs": [],
   "source": [
    "plot_feature_importances(clf)"
   ]
  },
  {
   "cell_type": "markdown",
   "metadata": {},
   "source": [
    "# Adaboost"
   ]
  },
  {
   "cell_type": "code",
   "execution_count": null,
   "metadata": {},
   "outputs": [],
   "source": [
    "clf = AdaBoostClassifier()\n",
    "clf.fit(X_train, y_train)\n",
    "y_pred_train = clf.predict(X_train)\n",
    "y_pred_test = clf.predict(X_test)"
   ]
  },
  {
   "cell_type": "code",
   "execution_count": null,
   "metadata": {},
   "outputs": [],
   "source": [
    "model_evaluation(X_train, X_test, y_train, y_test, y_pred_train, y_pred_test)"
   ]
  },
  {
   "cell_type": "code",
   "execution_count": null,
   "metadata": {},
   "outputs": [],
   "source": [
    "roc_curve_and_auc(clf, X_train, X_test, y_train, y_test)"
   ]
  },
  {
   "cell_type": "code",
   "execution_count": null,
   "metadata": {},
   "outputs": [],
   "source": [
    "clf.feature_importances_"
   ]
  },
  {
   "cell_type": "code",
   "execution_count": null,
   "metadata": {},
   "outputs": [],
   "source": [
    "plot_feature_importances(clf)"
   ]
  },
  {
   "cell_type": "markdown",
   "metadata": {},
   "source": [
    "Feature Importance\n",
    "Class Weight\n",
    "Over Under SAmpling SMOTE yaptim\n",
    "Stratify\n",
    "Radius Neighbors Classifier Cok fazla model oldu\n",
    "bagging yaptim\n",
    "make_scorer\n",
    "\n",
    "simple imputer\n",
    "n_jobs = -1"
   ]
  },
  {
   "cell_type": "markdown",
   "metadata": {},
   "source": [
    "cohen_kappa_score\n",
    "Cohen suggested the Kappa result be interpreted as follows: values ≤ 0 as indicating no agreement and 0.01–0.20 as none to slight, 0.21–0.40 as fair, 0.41– 0.60 as moderate, 0.61–0.80 as substantial, and 0.81–1.00 as almost perfect agreement."
   ]
  },
  {
   "cell_type": "markdown",
   "metadata": {},
   "source": [
    "Ambere sorulacaklar\n",
    "ADASYN\n",
    "KNN results interpret\n"
   ]
  },
  {
   "cell_type": "code",
   "execution_count": null,
   "metadata": {},
   "outputs": [],
   "source": [
    "# Plot features importances metric evaluation fonksiyonuna bunu ekleyecegim\n",
    "imp = pd.Series(data=clf.feature_importances_, index=x.columns).sort_values(ascending=False)\n",
    "plt.figure(figsize=(10,12))\n",
    "plt.title(\"Feature importance\")\n",
    "ax = sns.barplot(y=imp.index, x=imp.values, palette=\"Blues_d\", orient='h')"
   ]
  }
 ],
 "metadata": {
  "kernelspec": {
   "display_name": "Python 3",
   "language": "python",
   "name": "python3"
  },
  "language_info": {
   "codemirror_mode": {
    "name": "ipython",
    "version": 3
   },
   "file_extension": ".py",
   "mimetype": "text/x-python",
   "name": "python",
   "nbconvert_exporter": "python",
   "pygments_lexer": "ipython3",
   "version": "3.7.4"
  },
  "varInspector": {
   "cols": {
    "lenName": 16,
    "lenType": 16,
    "lenVar": 40
   },
   "kernels_config": {
    "python": {
     "delete_cmd_postfix": "",
     "delete_cmd_prefix": "del ",
     "library": "var_list.py",
     "varRefreshCmd": "print(var_dic_list())"
    },
    "r": {
     "delete_cmd_postfix": ") ",
     "delete_cmd_prefix": "rm(",
     "library": "var_list.r",
     "varRefreshCmd": "cat(var_dic_list()) "
    }
   },
   "types_to_exclude": [
    "module",
    "function",
    "builtin_function_or_method",
    "instance",
    "_Feature"
   ],
   "window_display": true
  }
 },
 "nbformat": 4,
 "nbformat_minor": 2
}
