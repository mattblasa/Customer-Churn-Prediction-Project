{
 "cells": [
  {
   "cell_type": "markdown",
   "metadata": {},
   "source": [
    "## Final Project Submission\n",
    "\n",
    "Please fill out:\n",
    "* Student name: Seyma Tas\n",
    "* Student pace: full time\n",
    "* Scheduled project review date/time: \n",
    "* Instructor name: Amber Yandow\n",
    "* Blog post URL:\n"
   ]
  },
  {
   "cell_type": "code",
   "execution_count": 1,
   "metadata": {
    "ExecuteTime": {
     "end_time": "2020-05-23T00:41:24.074767Z",
     "start_time": "2020-05-23T00:41:22.752173Z"
    }
   },
   "outputs": [],
   "source": [
    "# Your code here - remember to use markdown cells for comments as well!\n",
    "import pandas as pd\n",
    "import numpy as np\n",
    "import matplotlib.pyplot as plt\n",
    "%matplotlib inline\n",
    "import seaborn as sns\n",
    "sns.set_style('darkgrid', {'axes.facecolor': '0.9'})\n",
    "\n",
    "from sklearn.preprocessing import LabelEncoder, OneHotEncoder, MinMaxScaler, StandardScaler\n",
    "from sklearn.model_selection import train_test_split, cross_val_score, GridSearchCV, ParameterGrid\n",
    "from sklearn.metrics import classification_report, confusion_matrix, accuracy_score, recall_score, precision_score, f1_score, r2_score, roc_auc_score, roc_curve, auc\n",
    "# from sklearn.metrics import plot_confusion_matrix\n",
    "from sklearn.linear_model import LogisticRegression\n",
    "from sklearn.ensemble import RandomForestClassifier\n",
    "from sklearn.neighbors import KNeighborsClassifier\n",
    "from sklearn.tree import DecisionTreeClassifier\n",
    "from sklearn.metrics import make_scorer\n",
    "from sklearn.pipeline import Pipeline\n",
    "\n",
    "from imblearn.over_sampling import SMOTE, ADASYN\n",
    "\n",
    "import warnings\n",
    "warnings.filterwarnings('ignore')"
   ]
  },
  {
   "cell_type": "code",
   "execution_count": 2,
   "metadata": {
    "ExecuteTime": {
     "end_time": "2020-05-23T00:41:24.099299Z",
     "start_time": "2020-05-23T00:41:24.077257Z"
    }
   },
   "outputs": [],
   "source": [
    "df = pd.read_csv('TelcoCustomerChurnData_cleaned_ohe.csv')"
   ]
  },
  {
   "cell_type": "code",
   "execution_count": 3,
   "metadata": {
    "ExecuteTime": {
     "end_time": "2020-05-23T00:41:24.121057Z",
     "start_time": "2020-05-23T00:41:24.101041Z"
    },
    "scrolled": true
   },
   "outputs": [
    {
     "data": {
      "text/html": [
       "<div>\n",
       "<style scoped>\n",
       "    .dataframe tbody tr th:only-of-type {\n",
       "        vertical-align: middle;\n",
       "    }\n",
       "\n",
       "    .dataframe tbody tr th {\n",
       "        vertical-align: top;\n",
       "    }\n",
       "\n",
       "    .dataframe thead th {\n",
       "        text-align: right;\n",
       "    }\n",
       "</style>\n",
       "<table border=\"1\" class=\"dataframe\">\n",
       "  <thead>\n",
       "    <tr style=\"text-align: right;\">\n",
       "      <th></th>\n",
       "      <th>tenure</th>\n",
       "      <th>MonthlyCharges</th>\n",
       "      <th>TotalCharges</th>\n",
       "      <th>Churn</th>\n",
       "      <th>gender_Male</th>\n",
       "      <th>SeniorCitizen_1</th>\n",
       "      <th>Partner_Yes</th>\n",
       "      <th>Dependents_Yes</th>\n",
       "      <th>PhoneService_Yes</th>\n",
       "      <th>MultipleLines_No phone service</th>\n",
       "      <th>...</th>\n",
       "      <th>StreamingTV_No internet service</th>\n",
       "      <th>StreamingTV_Yes</th>\n",
       "      <th>StreamingMovies_No internet service</th>\n",
       "      <th>StreamingMovies_Yes</th>\n",
       "      <th>Contract_One year</th>\n",
       "      <th>Contract_Two year</th>\n",
       "      <th>PaperlessBilling_Yes</th>\n",
       "      <th>PaymentMethod_Credit card (automatic)</th>\n",
       "      <th>PaymentMethod_Electronic check</th>\n",
       "      <th>PaymentMethod_Mailed check</th>\n",
       "    </tr>\n",
       "  </thead>\n",
       "  <tbody>\n",
       "    <tr>\n",
       "      <td>0</td>\n",
       "      <td>1</td>\n",
       "      <td>29.85</td>\n",
       "      <td>29.85</td>\n",
       "      <td>0</td>\n",
       "      <td>0</td>\n",
       "      <td>0</td>\n",
       "      <td>1</td>\n",
       "      <td>0</td>\n",
       "      <td>0</td>\n",
       "      <td>1</td>\n",
       "      <td>...</td>\n",
       "      <td>0</td>\n",
       "      <td>0</td>\n",
       "      <td>0</td>\n",
       "      <td>0</td>\n",
       "      <td>0</td>\n",
       "      <td>0</td>\n",
       "      <td>1</td>\n",
       "      <td>0</td>\n",
       "      <td>1</td>\n",
       "      <td>0</td>\n",
       "    </tr>\n",
       "    <tr>\n",
       "      <td>1</td>\n",
       "      <td>34</td>\n",
       "      <td>56.95</td>\n",
       "      <td>1889.50</td>\n",
       "      <td>0</td>\n",
       "      <td>1</td>\n",
       "      <td>0</td>\n",
       "      <td>0</td>\n",
       "      <td>0</td>\n",
       "      <td>1</td>\n",
       "      <td>0</td>\n",
       "      <td>...</td>\n",
       "      <td>0</td>\n",
       "      <td>0</td>\n",
       "      <td>0</td>\n",
       "      <td>0</td>\n",
       "      <td>1</td>\n",
       "      <td>0</td>\n",
       "      <td>0</td>\n",
       "      <td>0</td>\n",
       "      <td>0</td>\n",
       "      <td>1</td>\n",
       "    </tr>\n",
       "    <tr>\n",
       "      <td>2</td>\n",
       "      <td>2</td>\n",
       "      <td>53.85</td>\n",
       "      <td>108.15</td>\n",
       "      <td>1</td>\n",
       "      <td>1</td>\n",
       "      <td>0</td>\n",
       "      <td>0</td>\n",
       "      <td>0</td>\n",
       "      <td>1</td>\n",
       "      <td>0</td>\n",
       "      <td>...</td>\n",
       "      <td>0</td>\n",
       "      <td>0</td>\n",
       "      <td>0</td>\n",
       "      <td>0</td>\n",
       "      <td>0</td>\n",
       "      <td>0</td>\n",
       "      <td>1</td>\n",
       "      <td>0</td>\n",
       "      <td>0</td>\n",
       "      <td>1</td>\n",
       "    </tr>\n",
       "    <tr>\n",
       "      <td>3</td>\n",
       "      <td>45</td>\n",
       "      <td>42.30</td>\n",
       "      <td>1840.75</td>\n",
       "      <td>0</td>\n",
       "      <td>1</td>\n",
       "      <td>0</td>\n",
       "      <td>0</td>\n",
       "      <td>0</td>\n",
       "      <td>0</td>\n",
       "      <td>1</td>\n",
       "      <td>...</td>\n",
       "      <td>0</td>\n",
       "      <td>0</td>\n",
       "      <td>0</td>\n",
       "      <td>0</td>\n",
       "      <td>1</td>\n",
       "      <td>0</td>\n",
       "      <td>0</td>\n",
       "      <td>0</td>\n",
       "      <td>0</td>\n",
       "      <td>0</td>\n",
       "    </tr>\n",
       "    <tr>\n",
       "      <td>4</td>\n",
       "      <td>2</td>\n",
       "      <td>70.70</td>\n",
       "      <td>151.65</td>\n",
       "      <td>1</td>\n",
       "      <td>0</td>\n",
       "      <td>0</td>\n",
       "      <td>0</td>\n",
       "      <td>0</td>\n",
       "      <td>1</td>\n",
       "      <td>0</td>\n",
       "      <td>...</td>\n",
       "      <td>0</td>\n",
       "      <td>0</td>\n",
       "      <td>0</td>\n",
       "      <td>0</td>\n",
       "      <td>0</td>\n",
       "      <td>0</td>\n",
       "      <td>1</td>\n",
       "      <td>0</td>\n",
       "      <td>1</td>\n",
       "      <td>0</td>\n",
       "    </tr>\n",
       "  </tbody>\n",
       "</table>\n",
       "<p>5 rows × 31 columns</p>\n",
       "</div>"
      ],
      "text/plain": [
       "   tenure  MonthlyCharges  TotalCharges  Churn  gender_Male  SeniorCitizen_1  \\\n",
       "0       1           29.85         29.85      0            0                0   \n",
       "1      34           56.95       1889.50      0            1                0   \n",
       "2       2           53.85        108.15      1            1                0   \n",
       "3      45           42.30       1840.75      0            1                0   \n",
       "4       2           70.70        151.65      1            0                0   \n",
       "\n",
       "   Partner_Yes  Dependents_Yes  PhoneService_Yes  \\\n",
       "0            1               0                 0   \n",
       "1            0               0                 1   \n",
       "2            0               0                 1   \n",
       "3            0               0                 0   \n",
       "4            0               0                 1   \n",
       "\n",
       "   MultipleLines_No phone service  ...  StreamingTV_No internet service  \\\n",
       "0                               1  ...                                0   \n",
       "1                               0  ...                                0   \n",
       "2                               0  ...                                0   \n",
       "3                               1  ...                                0   \n",
       "4                               0  ...                                0   \n",
       "\n",
       "   StreamingTV_Yes  StreamingMovies_No internet service  StreamingMovies_Yes  \\\n",
       "0                0                                    0                    0   \n",
       "1                0                                    0                    0   \n",
       "2                0                                    0                    0   \n",
       "3                0                                    0                    0   \n",
       "4                0                                    0                    0   \n",
       "\n",
       "   Contract_One year  Contract_Two year  PaperlessBilling_Yes  \\\n",
       "0                  0                  0                     1   \n",
       "1                  1                  0                     0   \n",
       "2                  0                  0                     1   \n",
       "3                  1                  0                     0   \n",
       "4                  0                  0                     1   \n",
       "\n",
       "   PaymentMethod_Credit card (automatic)  PaymentMethod_Electronic check  \\\n",
       "0                                      0                               1   \n",
       "1                                      0                               0   \n",
       "2                                      0                               0   \n",
       "3                                      0                               0   \n",
       "4                                      0                               1   \n",
       "\n",
       "   PaymentMethod_Mailed check  \n",
       "0                           0  \n",
       "1                           1  \n",
       "2                           1  \n",
       "3                           0  \n",
       "4                           0  \n",
       "\n",
       "[5 rows x 31 columns]"
      ]
     },
     "execution_count": 3,
     "metadata": {},
     "output_type": "execute_result"
    }
   ],
   "source": [
    "df.head()"
   ]
  },
  {
   "cell_type": "markdown",
   "metadata": {},
   "source": [
    "# Splitting the data into test and train sets"
   ]
  },
  {
   "cell_type": "code",
   "execution_count": 4,
   "metadata": {
    "ExecuteTime": {
     "end_time": "2020-05-23T00:41:24.126796Z",
     "start_time": "2020-05-23T00:41:24.122512Z"
    }
   },
   "outputs": [],
   "source": [
    "X = df.drop(['Churn'], axis=1)\n",
    "y = df['Churn']"
   ]
  },
  {
   "cell_type": "code",
   "execution_count": 5,
   "metadata": {
    "ExecuteTime": {
     "end_time": "2020-05-23T00:41:24.134222Z",
     "start_time": "2020-05-23T00:41:24.128180Z"
    }
   },
   "outputs": [],
   "source": [
    "X_train, X_test, y_train, y_test = train_test_split(X, y, random_state=42)"
   ]
  },
  {
   "cell_type": "markdown",
   "metadata": {},
   "source": [
    "# Logistic Regression"
   ]
  },
  {
   "cell_type": "markdown",
   "metadata": {},
   "source": [
    "## Baseline model"
   ]
  },
  {
   "cell_type": "code",
   "execution_count": 8,
   "metadata": {
    "ExecuteTime": {
     "end_time": "2020-05-23T00:41:24.202928Z",
     "start_time": "2020-05-23T00:41:24.158304Z"
    }
   },
   "outputs": [
    {
     "data": {
      "text/plain": [
       "LogisticRegression(C=1000000000000.0, class_weight=None, dual=False,\n",
       "                   fit_intercept=False, intercept_scaling=1, l1_ratio=None,\n",
       "                   max_iter=100, multi_class='warn', n_jobs=None, penalty='l2',\n",
       "                   random_state=None, solver='liblinear', tol=0.0001, verbose=0,\n",
       "                   warm_start=False)"
      ]
     },
     "execution_count": 8,
     "metadata": {},
     "output_type": "execute_result"
    }
   ],
   "source": [
    "logreg = LogisticRegression(fit_intercept=False, C=1e12, solver='liblinear')\n",
    "model_log = logreg.fit(X_train, y_train)\n",
    "model_log"
   ]
  },
  {
   "cell_type": "code",
   "execution_count": 9,
   "metadata": {
    "ExecuteTime": {
     "end_time": "2020-05-23T00:41:24.211873Z",
     "start_time": "2020-05-23T00:41:24.204631Z"
    }
   },
   "outputs": [],
   "source": [
    "y_pred = logreg.predict(X_test)"
   ]
  },
  {
   "cell_type": "markdown",
   "metadata": {},
   "source": [
    "### Evaluation of the model"
   ]
  },
  {
   "cell_type": "code",
   "execution_count": 10,
   "metadata": {
    "ExecuteTime": {
     "end_time": "2020-05-23T00:41:24.220829Z",
     "start_time": "2020-05-23T00:41:24.214386Z"
    }
   },
   "outputs": [],
   "source": [
    "cm = confusion_matrix(y_test, y_pred)"
   ]
  },
  {
   "cell_type": "code",
   "execution_count": 11,
   "metadata": {
    "ExecuteTime": {
     "end_time": "2020-05-23T00:41:24.227143Z",
     "start_time": "2020-05-23T00:41:24.222731Z"
    }
   },
   "outputs": [
    {
     "data": {
      "text/plain": [
       "array([[1153,  147],\n",
       "       [ 224,  234]])"
      ]
     },
     "execution_count": 11,
     "metadata": {},
     "output_type": "execute_result"
    }
   ],
   "source": [
    "cm"
   ]
  },
  {
   "cell_type": "code",
   "execution_count": 138,
   "metadata": {
    "ExecuteTime": {
     "end_time": "2020-05-25T18:23:55.842108Z",
     "start_time": "2020-05-25T18:23:55.827225Z"
    }
   },
   "outputs": [
    {
     "name": "stdout",
     "output_type": "stream",
     "text": [
      "recall: 0.3996\n",
      "precision: 0.5666\n",
      "f1 score: 0.4686\n",
      "accuracy: 0.7639\n",
      "r2 score:  -0.2253\n",
      "roc auc score:  0.6459\n"
     ]
    }
   ],
   "source": [
    "print ('recall:', round(recall_score(y_test, y_pred), 4))\n",
    "print ('precision:', round(precision_score(y_test, y_pred), 4))\n",
    "print ('f1 score:', round(f1_score(y_test, y_pred), 4))\n",
    "print ('accuracy:' , round(accuracy_score(y_test, y_pred) ,4))\n",
    "print ('r2 score: ', round(r2_score(y_test, y_pred) ,4))\n",
    "print ('roc auc score: ', round(roc_auc_score(y_test, y_pred),4))"
   ]
  },
  {
   "cell_type": "code",
   "execution_count": 13,
   "metadata": {
    "ExecuteTime": {
     "end_time": "2020-05-23T00:41:24.265119Z",
     "start_time": "2020-05-23T00:41:24.252559Z"
    }
   },
   "outputs": [
    {
     "name": "stdout",
     "output_type": "stream",
     "text": [
      "              precision    recall  f1-score   support\n",
      "\n",
      "           0       0.84      0.89      0.86      1300\n",
      "           1       0.61      0.51      0.56       458\n",
      "\n",
      "    accuracy                           0.79      1758\n",
      "   macro avg       0.73      0.70      0.71      1758\n",
      "weighted avg       0.78      0.79      0.78      1758\n",
      "\n"
     ]
    }
   ],
   "source": [
    "cr = classification_report(y_test, y_pred)\n",
    "print(cr)"
   ]
  },
  {
   "cell_type": "code",
   "execution_count": 14,
   "metadata": {
    "ExecuteTime": {
     "end_time": "2020-05-23T00:41:24.270742Z",
     "start_time": "2020-05-23T00:41:24.267521Z"
    }
   },
   "outputs": [],
   "source": [
    "# plot_confusion_matrix(y_test, y_pred)"
   ]
  },
  {
   "cell_type": "code",
   "execution_count": 15,
   "metadata": {
    "ExecuteTime": {
     "end_time": "2020-05-23T00:41:24.284070Z",
     "start_time": "2020-05-23T00:41:24.273389Z"
    }
   },
   "outputs": [],
   "source": [
    "\n",
    "# Calculate the probability scores of each point in the training set\n",
    "y_train_score = model_log.decision_function(X_train)\n",
    "\n",
    "# Calculate the fpr, tpr, and thresholds for the training set\n",
    "train_fpr, train_tpr, thresholds = roc_curve(y_train, y_train_score)\n",
    "\n",
    "# Calculate the probability scores of each point in the test set\n",
    "y_test_score = model_log.decision_function(X_test)\n",
    "\n",
    "# Calculate the fpr, tpr, and thresholds for the test set\n",
    "test_fpr, test_tpr, test_thresholds = roc_curve(y_test, y_test_score)\n"
   ]
  },
  {
   "cell_type": "code",
   "execution_count": 16,
   "metadata": {
    "ExecuteTime": {
     "end_time": "2020-05-23T00:41:24.684860Z",
     "start_time": "2020-05-23T00:41:24.286033Z"
    },
    "scrolled": true
   },
   "outputs": [
    {
     "name": "stdout",
     "output_type": "stream",
     "text": [
      "Training AUC: 0.8515\n",
      "Testing AUC: 0.83351\n"
     ]
    },
    {
     "data": {
      "image/png": "[encoded data removed]",
      "text/plain": [
       "<Figure size 720x576 with 1 Axes>"
      ]
     },
     "metadata": {
      "needs_background": "light"
     },
     "output_type": "display_data"
    }
   ],
   "source": [
    "\n",
    "\n",
    "# ROC curve for training set\n",
    "plt.figure(figsize=(10, 8))\n",
    "lw = 2\n",
    "plt.plot(train_fpr, train_tpr, color='darkorange',\n",
    "         lw=lw, label='Train ROC curve')\n",
    "plt.plot(test_fpr, test_tpr, color='blue',\n",
    "         lw=lw, label='Test ROC curve')\n",
    "plt.plot([0, 1], [0, 1], color='navy', lw=lw, linestyle='--')\n",
    "plt.xlim([0.0, 1.0])\n",
    "plt.ylim([0.0, 1.05])\n",
    "plt.yticks([i/20.0 for i in range(21)])\n",
    "plt.xticks([i/20.0 for i in range(21)])\n",
    "plt.xlabel('False Positive Rate')\n",
    "plt.ylabel('True Positive Rate')\n",
    "plt.title('Receiver operating characteristic (ROC) Curve for Training and Testing Sets')\n",
    "plt.legend(loc='lower right')\n",
    "print('Training AUC: {}'.format(round(auc(train_fpr, train_tpr), 5)))\n",
    "print('Testing AUC: {}'.format(round(auc(test_fpr, test_tpr), 5)))\n",
    "plt.show()"
   ]
  },
  {
   "cell_type": "markdown",
   "metadata": {},
   "source": [
    "# Note: I tried all the other solvers here, 'liblinear' gave the best results."
   ]
  },
  {
   "cell_type": "markdown",
   "metadata": {},
   "source": [
    "## Handling Imbalanced Data"
   ]
  },
  {
   "cell_type": "markdown",
   "metadata": {},
   "source": [
    "## SMOTE"
   ]
  },
  {
   "cell_type": "code",
   "execution_count": 17,
   "metadata": {
    "ExecuteTime": {
     "end_time": "2020-05-23T00:41:24.833802Z",
     "start_time": "2020-05-23T00:41:24.686509Z"
    }
   },
   "outputs": [
    {
     "data": {
      "image/png": "[encoded data removed]",
      "text/plain": [
       "<Figure size 432x288 with 1 Axes>"
      ]
     },
     "metadata": {
      "needs_background": "light"
     },
     "output_type": "display_data"
    }
   ],
   "source": [
    "sns.countplot(y);"
   ]
  },
  {
   "cell_type": "code",
   "execution_count": 18,
   "metadata": {
    "ExecuteTime": {
     "end_time": "2020-05-23T00:41:24.930060Z",
     "start_time": "2020-05-23T00:41:24.835540Z"
    }
   },
   "outputs": [
    {
     "name": "stdout",
     "output_type": "stream",
     "text": [
      "0    5163\n",
      "1    1869\n",
      "Name: Churn, dtype: int64\n",
      "0    0.734215\n",
      "1    0.265785\n",
      "Name: Churn, dtype: float64\n"
     ]
    }
   ],
   "source": [
    "print(y.value_counts())\n",
    "print(y.value_counts(normalize=True))"
   ]
  },
  {
   "cell_type": "code",
   "execution_count": 19,
   "metadata": {
    "ExecuteTime": {
     "end_time": "2020-05-23T00:41:24.968852Z",
     "start_time": "2020-05-23T00:41:24.932148Z"
    }
   },
   "outputs": [],
   "source": [
    "smote = SMOTE()\n",
    "X_train_smoted, y_train_smoted = smote.fit_sample(X_train, y_train)"
   ]
  },
  {
   "cell_type": "code",
   "execution_count": 20,
   "metadata": {
    "ExecuteTime": {
     "end_time": "2020-05-23T00:41:25.030620Z",
     "start_time": "2020-05-23T00:41:24.971548Z"
    }
   },
   "outputs": [
    {
     "data": {
      "text/plain": [
       "LogisticRegression(C=1e+20, class_weight=None, dual=False, fit_intercept=False,\n",
       "                   intercept_scaling=1, l1_ratio=None, max_iter=100,\n",
       "                   multi_class='warn', n_jobs=None, penalty='l2',\n",
       "                   random_state=None, solver='liblinear', tol=0.0001, verbose=0,\n",
       "                   warm_start=False)"
      ]
     },
     "execution_count": 20,
     "metadata": {},
     "output_type": "execute_result"
    }
   ],
   "source": [
    "logreg = LogisticRegression(fit_intercept=False, C=1e20, solver ='liblinear')\n",
    "model_log = logreg.fit(X_train_smoted, y_train_smoted)\n",
    "model_log\n"
   ]
  },
  {
   "cell_type": "code",
   "execution_count": 21,
   "metadata": {
    "ExecuteTime": {
     "end_time": "2020-05-23T00:41:25.036522Z",
     "start_time": "2020-05-23T00:41:25.032254Z"
    }
   },
   "outputs": [],
   "source": [
    "y_pred = logreg.predict(X_test)"
   ]
  },
  {
   "cell_type": "code",
   "execution_count": 22,
   "metadata": {
    "ExecuteTime": {
     "end_time": "2020-05-23T00:41:25.051629Z",
     "start_time": "2020-05-23T00:41:25.044593Z"
    }
   },
   "outputs": [],
   "source": [
    "cm = confusion_matrix(y_test, y_pred)"
   ]
  },
  {
   "cell_type": "code",
   "execution_count": 23,
   "metadata": {
    "ExecuteTime": {
     "end_time": "2020-05-23T00:41:25.062106Z",
     "start_time": "2020-05-23T00:41:25.056537Z"
    }
   },
   "outputs": [
    {
     "data": {
      "text/plain": [
       "array([[950, 350],\n",
       "       [ 95, 363]])"
      ]
     },
     "execution_count": 23,
     "metadata": {},
     "output_type": "execute_result"
    }
   ],
   "source": [
    "cm"
   ]
  },
  {
   "cell_type": "code",
   "execution_count": 24,
   "metadata": {
    "ExecuteTime": {
     "end_time": "2020-05-23T00:41:25.084815Z",
     "start_time": "2020-05-23T00:41:25.064512Z"
    }
   },
   "outputs": [
    {
     "name": "stdout",
     "output_type": "stream",
     "text": [
      "recall: 0.7925764192139738\n",
      "precision: 0.5091164095371669\n",
      "f1 score: 0.62\n",
      "accuracy: 0.7468714448236633\n",
      "r2 score:  -0.31392341283170944\n",
      "roc auc score:  0.7616728249916023\n"
     ]
    }
   ],
   "source": [
    "print ('recall:', recall_score(y_test, y_pred))\n",
    "print ('precision:', precision_score(y_test, y_pred))\n",
    "print ('f1 score:', round(f1_score(y_test, y_pred), 4))\n",
    "print ('accuracy:' , accuracy_score(y_test, y_pred))\n",
    "print ('r2 score: ', r2_score(y_test, y_pred))\n",
    "print ('roc auc score: ', roc_auc_score(y_test, y_pred))"
   ]
  },
  {
   "cell_type": "code",
   "execution_count": 25,
   "metadata": {
    "ExecuteTime": {
     "end_time": "2020-05-23T00:41:25.101671Z",
     "start_time": "2020-05-23T00:41:25.088461Z"
    }
   },
   "outputs": [
    {
     "name": "stdout",
     "output_type": "stream",
     "text": [
      "              precision    recall  f1-score   support\n",
      "\n",
      "           0       0.91      0.73      0.81      1300\n",
      "           1       0.51      0.79      0.62       458\n",
      "\n",
      "    accuracy                           0.75      1758\n",
      "   macro avg       0.71      0.76      0.72      1758\n",
      "weighted avg       0.80      0.75      0.76      1758\n",
      "\n"
     ]
    }
   ],
   "source": [
    "cr = classification_report(y_test, y_pred)\n",
    "print(cr)"
   ]
  },
  {
   "cell_type": "code",
   "execution_count": 26,
   "metadata": {
    "ExecuteTime": {
     "end_time": "2020-05-23T00:41:25.114357Z",
     "start_time": "2020-05-23T00:41:25.103776Z"
    }
   },
   "outputs": [],
   "source": [
    "# Calculate the probability scores of each point in the training set\n",
    "y_train_score_SMOTE = model_log.decision_function(X_train_smoted)\n",
    "\n",
    "# Calculate the fpr, tpr, and thresholds for the training set\n",
    "train_fpr_SMOTE, train_tpr_SMOTE, thresholds_SMOTE = roc_curve(y_train_smoted, y_train_score_SMOTE)\n",
    "\n",
    "# Calculate the probability scores of each point in the test set\n",
    "y_test_score_SMOTE = model_log.decision_function(X_test)\n",
    "\n",
    "# Calculate the fpr, tpr, and thresholds for the test set\n",
    "test_fpr_SMOTE, test_tpr_SMOTE, test_thresholds_SMOTE = roc_curve(y_test, y_test_score_SMOTE)\n"
   ]
  },
  {
   "cell_type": "code",
   "execution_count": 27,
   "metadata": {
    "ExecuteTime": {
     "end_time": "2020-05-23T00:41:25.586814Z",
     "start_time": "2020-05-23T00:41:25.118092Z"
    }
   },
   "outputs": [
    {
     "name": "stdout",
     "output_type": "stream",
     "text": [
      "Training AUC, SMOTE: 0.85969\n",
      "Testing AUC, SMOTE: 0.83362\n"
     ]
    },
    {
     "data": {
      "image/png": "[encoded data removed]",
      "text/plain": [
       "<Figure size 720x576 with 1 Axes>"
      ]
     },
     "metadata": {
      "needs_background": "light"
     },
     "output_type": "display_data"
    }
   ],
   "source": [
    "\n",
    "# ROC curve for training set\n",
    "plt.figure(figsize=(10, 8))\n",
    "lw = 2\n",
    "plt.plot(train_fpr_SMOTE, train_tpr_SMOTE, color='darkorange',\n",
    "         lw=lw, label='Train ROC curve')\n",
    "plt.plot(test_fpr_SMOTE, test_tpr_SMOTE, color='blue',\n",
    "         lw=lw, label='Test ROC curve')\n",
    "plt.plot([0, 1], [0, 1], color='navy', lw=lw, linestyle='--')\n",
    "plt.xlim([0.0, 1.0])\n",
    "plt.ylim([0.0, 1.05])\n",
    "plt.yticks([i/20.0 for i in range(21)])\n",
    "plt.xticks([i/20.0 for i in range(21)])\n",
    "plt.xlabel('False Positive Rate')\n",
    "plt.ylabel('True Positive Rate')\n",
    "plt.title('Receiver operating characteristic (ROC) Curve for Training and Testing Sets')\n",
    "plt.legend(loc='lower right')\n",
    "print('Training AUC, SMOTE: {}'.format(round(auc(train_fpr_SMOTE, train_tpr_SMOTE), 5)))\n",
    "print('Testing AUC, SMOTE: {}'.format(round(auc(test_fpr_SMOTE, test_tpr_SMOTE), 5)))\n",
    "plt.show()"
   ]
  },
  {
   "cell_type": "markdown",
   "metadata": {
    "ExecuteTime": {
     "end_time": "2020-05-23T00:41:25.593387Z",
     "start_time": "2020-05-23T00:41:25.590313Z"
    }
   },
   "source": [
    "## ADASYN"
   ]
  },
  {
   "cell_type": "code",
   "execution_count": null,
   "metadata": {},
   "outputs": [],
   "source": [
    "adasyn = ADASYN()"
   ]
  },
  {
   "cell_type": "code",
   "execution_count": 29,
   "metadata": {
    "ExecuteTime": {
     "end_time": "2020-05-23T00:41:26.209947Z",
     "start_time": "2020-05-23T00:41:25.595609Z"
    }
   },
   "outputs": [
    {
     "name": "stdout",
     "output_type": "stream",
     "text": [
      "recall: 0.8275109170305677\n",
      "precision: 0.4846547314578005\n",
      "f1 score: 0.6113\n",
      "accuracy: 0.7258248009101251\n",
      "r2 score:  -0.42317097749412125\n",
      "roc auc score:  0.7587554585152838\n",
      "              precision    recall  f1-score   support\n",
      "\n",
      "           0       0.92      0.69      0.79      1300\n",
      "           1       0.48      0.83      0.61       458\n",
      "\n",
      "    accuracy                           0.73      1758\n",
      "   macro avg       0.70      0.76      0.70      1758\n",
      "weighted avg       0.81      0.73      0.74      1758\n",
      "\n",
      "Training AUC, ADASYN: 0.82871\n",
      "Testing AUC, ADASYN: 0.83146\n"
     ]
    },
    {
     "data": {
      "image/png": "[encoded data removed]",
      "text/plain": [
       "<Figure size 720x576 with 1 Axes>"
      ]
     },
     "metadata": {
      "needs_background": "light"
     },
     "output_type": "display_data"
    }
   ],
   "source": [
    "# ADASYN Imbalanced Data\n",
    "\n",
    "\n",
    "X_train_ada, y_train_ada = adasyn.fit_sample(X_train, y_train)\n",
    "\n",
    "logreg = LogisticRegression(fit_intercept=False, C=1e20, solver ='liblinear')\n",
    "model_log = logreg.fit(X_train_ada, y_train_ada)\n",
    "\n",
    "y_pred = logreg.predict(X_test)\n",
    "\n",
    "cm = confusion_matrix(y_test, y_pred)\n",
    "\n",
    "print ('recall:', recall_score(y_test, y_pred))\n",
    "print ('precision:', precision_score(y_test, y_pred))\n",
    "print ('f1 score:', round(f1_score(y_test, y_pred), 4))\n",
    "print ('accuracy:' , accuracy_score(y_test, y_pred))\n",
    "print ('r2 score: ', r2_score(y_test, y_pred))\n",
    "print ('roc auc score: ', roc_auc_score(y_test, y_pred))\n",
    "\n",
    "cr = classification_report(y_test, y_pred)\n",
    "print(cr)\n",
    "\n",
    "# Calculate the probability scores of each point in the training set\n",
    "y_train_score = model_log.decision_function(X_train_ada)\n",
    "\n",
    "# Calculate the fpr, tpr, and thresholds for the training set\n",
    "train_fpr, train_tpr, thresholds = roc_curve(y_train_ada, y_train_score)\n",
    "\n",
    "# Calculate the probability scores of each point in the test set\n",
    "y_test_score = model_log.decision_function(X_test)\n",
    "\n",
    "# Calculate the fpr, tpr, and thresholds for the test set\n",
    "test_fpr, test_tpr, test_thresholds = roc_curve(y_test, y_test_score)\n",
    "\n",
    "\n",
    "\n",
    "# ROC curve for training set\n",
    "plt.figure(figsize=(10, 8))\n",
    "lw = 2\n",
    "plt.plot(train_fpr, train_tpr, color='green',\n",
    "         lw=lw, label='Train ROC curve,ADASYN')\n",
    "plt.plot(test_fpr, test_tpr, color='red',\n",
    "         lw=lw, label='Test ROC curve, ADASYN')\n",
    "\n",
    "plt.plot(train_fpr_SMOTE, train_tpr_SMOTE, color='darkorange',\n",
    "         lw=lw, label='Train ROC curve,SMOTE')\n",
    "plt.plot(test_fpr_SMOTE, test_tpr_SMOTE, color='blue',\n",
    "         lw=lw, label='Test ROC curve, SMOTE')\n",
    "plt.plot([0, 1], [0, 1], color='navy', lw=lw, linestyle='--')\n",
    "plt.xlim([0.0, 1.0])\n",
    "plt.ylim([0.0, 1.05])\n",
    "plt.yticks([i/20.0 for i in range(21)])\n",
    "plt.xticks([i/20.0 for i in range(21)])\n",
    "plt.xlabel('False Positive Rate')\n",
    "plt.ylabel('True Positive Rate')\n",
    "plt.title('Receiver operating characteristic (ROC) Curve for Training and Testing Sets')\n",
    "plt.legend(loc='lower right')\n",
    "print('Training AUC, ADASYN: {}'.format(round(auc(train_fpr, train_tpr), 5)))\n",
    "print('Testing AUC, ADASYN: {}'.format(round(auc(test_fpr, test_tpr), 5)))\n",
    "plt.show()"
   ]
  },
  {
   "cell_type": "markdown",
   "metadata": {},
   "source": [
    "# We can try to solve multicollinearity by interactions\n",
    "# We can make grid search to find the best hyperparameters"
   ]
  },
  {
   "cell_type": "code",
   "execution_count": null,
   "metadata": {},
   "outputs": [],
   "source": []
  },
  {
   "cell_type": "markdown",
   "metadata": {},
   "source": [
    "# KNN"
   ]
  },
  {
   "cell_type": "code",
   "execution_count": 94,
   "metadata": {
    "ExecuteTime": {
     "end_time": "2020-05-23T16:02:54.094612Z",
     "start_time": "2020-05-23T16:02:54.084517Z"
    }
   },
   "outputs": [],
   "source": [
    "scaler = StandardScaler()\n",
    "scaled_X_train = scaler.fit_transform(X_train)\n",
    "scaled_X_test = scaler.transform(X_test)\n",
    "\n",
    "scaled_df_train = pd.DataFrame(scaled_X_train, columns=X_train.columns)"
   ]
  },
  {
   "cell_type": "code",
   "execution_count": 95,
   "metadata": {
    "ExecuteTime": {
     "end_time": "2020-05-23T16:02:54.626943Z",
     "start_time": "2020-05-23T16:02:54.608406Z"
    }
   },
   "outputs": [
    {
     "data": {
      "text/plain": [
       "KNeighborsClassifier(algorithm='auto', leaf_size=30, metric='minkowski',\n",
       "                     metric_params=None, n_jobs=None, n_neighbors=5, p=2,\n",
       "                     weights='uniform')"
      ]
     },
     "execution_count": 95,
     "metadata": {},
     "output_type": "execute_result"
    }
   ],
   "source": [
    "# Instantiate KNeighborsClassifier\n",
    "clf = KNeighborsClassifier()\n",
    "\n",
    "# Fit the classifier\n",
    "clf.fit(scaled_X_train, y_train)"
   ]
  },
  {
   "cell_type": "code",
   "execution_count": 96,
   "metadata": {
    "ExecuteTime": {
     "end_time": "2020-05-23T16:02:55.539225Z",
     "start_time": "2020-05-23T16:02:55.430523Z"
    }
   },
   "outputs": [],
   "source": [
    "y_pred = clf.predict(X_test)"
   ]
  },
  {
   "cell_type": "code",
   "execution_count": 97,
   "metadata": {
    "ExecuteTime": {
     "end_time": "2020-05-23T16:02:56.268085Z",
     "start_time": "2020-05-23T16:02:56.262458Z"
    }
   },
   "outputs": [],
   "source": [
    "cm = confusion_matrix(y_test, y_pred)"
   ]
  },
  {
   "cell_type": "code",
   "execution_count": 98,
   "metadata": {
    "ExecuteTime": {
     "end_time": "2020-05-23T16:02:57.569847Z",
     "start_time": "2020-05-23T16:02:57.566049Z"
    }
   },
   "outputs": [
    {
     "data": {
      "text/plain": [
       "array([[1300,    0],\n",
       "       [ 458,    0]])"
      ]
     },
     "execution_count": 98,
     "metadata": {},
     "output_type": "execute_result"
    }
   ],
   "source": [
    "cm"
   ]
  },
  {
   "cell_type": "code",
   "execution_count": 99,
   "metadata": {
    "ExecuteTime": {
     "end_time": "2020-05-23T16:03:17.907477Z",
     "start_time": "2020-05-23T16:03:17.893030Z"
    }
   },
   "outputs": [
    {
     "name": "stdout",
     "output_type": "stream",
     "text": [
      "recall: 0.0\n",
      "precision: 0.0\n",
      "f1 score: 0.0\n",
      "accuracy: 0.7394766780432309\n",
      "r2 score:  -0.352307692307692\n",
      "roc auc score:  0.5\n"
     ]
    }
   ],
   "source": [
    "print ('recall:', recall_score(y_test, y_pred))\n",
    "print ('precision:', precision_score(y_test, y_pred))\n",
    "print ('f1 score:', round(f1_score(y_test, y_pred), 4))\n",
    "print ('accuracy:' , accuracy_score(y_test, y_pred))\n",
    "print ('r2 score: ', r2_score(y_test, y_pred))\n",
    "print ('roc auc score: ', roc_auc_score(y_test, y_pred))"
   ]
  },
  {
   "cell_type": "code",
   "execution_count": 100,
   "metadata": {
    "ExecuteTime": {
     "end_time": "2020-05-23T16:03:19.867546Z",
     "start_time": "2020-05-23T16:03:19.859239Z"
    }
   },
   "outputs": [
    {
     "name": "stdout",
     "output_type": "stream",
     "text": [
      "              precision    recall  f1-score   support\n",
      "\n",
      "           0       0.74      1.00      0.85      1300\n",
      "           1       0.00      0.00      0.00       458\n",
      "\n",
      "    accuracy                           0.74      1758\n",
      "   macro avg       0.37      0.50      0.43      1758\n",
      "weighted avg       0.55      0.74      0.63      1758\n",
      "\n"
     ]
    }
   ],
   "source": [
    "cr = classification_report(y_test, y_pred)\n",
    "print(cr)"
   ]
  },
  {
   "cell_type": "code",
   "execution_count": null,
   "metadata": {},
   "outputs": [],
   "source": []
  },
  {
   "cell_type": "markdown",
   "metadata": {},
   "source": [
    "## SMOTE"
   ]
  },
  {
   "cell_type": "code",
   "execution_count": 101,
   "metadata": {
    "ExecuteTime": {
     "end_time": "2020-05-23T16:03:24.886805Z",
     "start_time": "2020-05-23T16:03:24.799480Z"
    }
   },
   "outputs": [],
   "source": [
    "smote = SMOTE()\n",
    "Scaled_X_train_smoted, y_train_smoted = smote.fit_sample(scaled_X_train, y_train)"
   ]
  },
  {
   "cell_type": "code",
   "execution_count": 102,
   "metadata": {
    "ExecuteTime": {
     "end_time": "2020-05-23T16:03:25.616871Z",
     "start_time": "2020-05-23T16:03:25.612953Z"
    }
   },
   "outputs": [
    {
     "data": {
      "text/plain": [
       "(7726, 30)"
      ]
     },
     "execution_count": 102,
     "metadata": {},
     "output_type": "execute_result"
    }
   ],
   "source": [
    "Scaled_X_train_smoted.shape"
   ]
  },
  {
   "cell_type": "code",
   "execution_count": 103,
   "metadata": {
    "ExecuteTime": {
     "end_time": "2020-05-23T16:03:31.908412Z",
     "start_time": "2020-05-23T16:03:31.878708Z"
    }
   },
   "outputs": [
    {
     "data": {
      "text/plain": [
       "KNeighborsClassifier(algorithm='auto', leaf_size=30, metric='minkowski',\n",
       "                     metric_params=None, n_jobs=None, n_neighbors=5, p=2,\n",
       "                     weights='uniform')"
      ]
     },
     "execution_count": 103,
     "metadata": {},
     "output_type": "execute_result"
    }
   ],
   "source": [
    "# Instantiate KNeighborsClassifier\n",
    "clf = KNeighborsClassifier()\n",
    "\n",
    "# Fit the classifier\n",
    "clf.fit(Scaled_X_train_smoted, y_train_smoted)"
   ]
  },
  {
   "cell_type": "code",
   "execution_count": 104,
   "metadata": {
    "ExecuteTime": {
     "end_time": "2020-05-23T16:03:33.085431Z",
     "start_time": "2020-05-23T16:03:32.951754Z"
    }
   },
   "outputs": [],
   "source": [
    "y_pred = clf.predict(X_test)"
   ]
  },
  {
   "cell_type": "code",
   "execution_count": 105,
   "metadata": {
    "ExecuteTime": {
     "end_time": "2020-05-23T16:03:34.805029Z",
     "start_time": "2020-05-23T16:03:34.798761Z"
    }
   },
   "outputs": [
    {
     "data": {
      "text/plain": [
       "0    1758\n",
       "dtype: int64"
      ]
     },
     "execution_count": 105,
     "metadata": {},
     "output_type": "execute_result"
    }
   ],
   "source": [
    "pd.Series(y_pred).value_counts()"
   ]
  },
  {
   "cell_type": "code",
   "execution_count": 106,
   "metadata": {
    "ExecuteTime": {
     "end_time": "2020-05-23T16:03:42.275363Z",
     "start_time": "2020-05-23T16:03:42.269504Z"
    }
   },
   "outputs": [
    {
     "data": {
      "text/plain": [
       "0    1300\n",
       "1     458\n",
       "Name: Churn, dtype: int64"
      ]
     },
     "execution_count": 106,
     "metadata": {},
     "output_type": "execute_result"
    }
   ],
   "source": [
    "y_test.value_counts()"
   ]
  },
  {
   "cell_type": "code",
   "execution_count": 108,
   "metadata": {
    "ExecuteTime": {
     "end_time": "2020-05-23T16:05:35.060452Z",
     "start_time": "2020-05-23T16:05:35.053626Z"
    }
   },
   "outputs": [
    {
     "data": {
      "text/plain": [
       "array([[1300,    0],\n",
       "       [ 458,    0]])"
      ]
     },
     "execution_count": 108,
     "metadata": {},
     "output_type": "execute_result"
    }
   ],
   "source": [
    "cm = confusion_matrix(y_test, y_pred)\n",
    "cm"
   ]
  },
  {
   "cell_type": "code",
   "execution_count": 109,
   "metadata": {
    "ExecuteTime": {
     "end_time": "2020-05-23T16:05:37.570774Z",
     "start_time": "2020-05-23T16:05:37.556843Z"
    }
   },
   "outputs": [
    {
     "name": "stdout",
     "output_type": "stream",
     "text": [
      "recall: 0.0\n",
      "precision: 0.0\n",
      "f1 score: 0.0\n",
      "accuracy: 0.7394766780432309\n",
      "r2 score:  -0.352307692307692\n",
      "roc auc score:  0.5\n"
     ]
    }
   ],
   "source": [
    "print ('recall:', recall_score(y_test, y_pred))\n",
    "print ('precision:', precision_score(y_test, y_pred))\n",
    "print ('f1 score:', round(f1_score(y_test, y_pred), 4))\n",
    "print ('accuracy:' , accuracy_score(y_test, y_pred))\n",
    "print ('r2 score: ', r2_score(y_test, y_pred))\n",
    "print ('roc auc score: ', roc_auc_score(y_test, y_pred))"
   ]
  },
  {
   "cell_type": "code",
   "execution_count": 110,
   "metadata": {
    "ExecuteTime": {
     "end_time": "2020-05-23T16:05:39.940573Z",
     "start_time": "2020-05-23T16:05:39.931999Z"
    }
   },
   "outputs": [
    {
     "name": "stdout",
     "output_type": "stream",
     "text": [
      "              precision    recall  f1-score   support\n",
      "\n",
      "           0       0.74      1.00      0.85      1300\n",
      "           1       0.00      0.00      0.00       458\n",
      "\n",
      "    accuracy                           0.74      1758\n",
      "   macro avg       0.37      0.50      0.43      1758\n",
      "weighted avg       0.55      0.74      0.63      1758\n",
      "\n"
     ]
    }
   ],
   "source": [
    "cr = classification_report(y_test, y_pred)\n",
    "print(cr)"
   ]
  },
  {
   "cell_type": "markdown",
   "metadata": {
    "ExecuteTime": {
     "end_time": "2020-05-23T00:41:25.593387Z",
     "start_time": "2020-05-23T00:41:25.590313Z"
    }
   },
   "source": [
    "## ADASYN"
   ]
  },
  {
   "cell_type": "code",
   "execution_count": 111,
   "metadata": {
    "ExecuteTime": {
     "end_time": "2020-05-23T16:05:46.774543Z",
     "start_time": "2020-05-23T16:05:46.771780Z"
    }
   },
   "outputs": [],
   "source": [
    "adasyn = ADASYN()"
   ]
  },
  {
   "cell_type": "code",
   "execution_count": 112,
   "metadata": {
    "ExecuteTime": {
     "end_time": "2020-05-23T16:05:48.302714Z",
     "start_time": "2020-05-23T16:05:47.437012Z"
    }
   },
   "outputs": [
    {
     "name": "stdout",
     "output_type": "stream",
     "text": [
      "[[1299    1]\n",
      " [ 458    0]]\n",
      "recall: 0.0\n",
      "precision: 0.0\n",
      "f1 score: 0.0\n",
      "accuracy: 0.7389078498293515\n",
      "r2 score:  -0.3552603291904599\n",
      "roc auc score:  0.49961538461538463\n",
      "              precision    recall  f1-score   support\n",
      "\n",
      "           0       0.74      1.00      0.85      1300\n",
      "           1       0.00      0.00      0.00       458\n",
      "\n",
      "    accuracy                           0.74      1758\n",
      "   macro avg       0.37      0.50      0.42      1758\n",
      "weighted avg       0.55      0.74      0.63      1758\n",
      "\n",
      "Training AUC, ADASYN: 0.77388\n",
      "Testing AUC, ADASYN: 0.83146\n"
     ]
    },
    {
     "data": {
      "image/png": "[encoded data removed]",
      "text/plain": [
       "<Figure size 720x576 with 1 Axes>"
      ]
     },
     "metadata": {
      "needs_background": "light"
     },
     "output_type": "display_data"
    }
   ],
   "source": [
    "# ADASYN Imbalanced Data\n",
    "\n",
    "\n",
    "X_train_ada, y_train_ada = adasyn.fit_sample(scaled_X_train, y_train)\n",
    "\n",
    "clf = KNeighborsClassifier()\n",
    "\n",
    "# Fit the classifier\n",
    "model = clf.fit(X_train_ada, y_train_ada)\n",
    "y_pred = clf.predict(X_test)\n",
    "\n",
    "cm = confusion_matrix(y_test, y_pred)\n",
    "print(cm)\n",
    "print ('recall:', recall_score(y_test, y_pred))\n",
    "print ('precision:', precision_score(y_test, y_pred))\n",
    "print ('f1 score:', round(f1_score(y_test, y_pred), 4))\n",
    "print ('accuracy:' , accuracy_score(y_test, y_pred))\n",
    "print ('r2 score: ', r2_score(y_test, y_pred))\n",
    "print ('roc auc score: ', roc_auc_score(y_test, y_pred))\n",
    "\n",
    "cr = classification_report(y_test, y_pred)\n",
    "print(cr)\n",
    "\n",
    "# Calculate the probability scores of each point in the training set\n",
    "y_train_score = model_log.decision_function(X_train_ada)\n",
    "\n",
    "# Calculate the fpr, tpr, and thresholds for the training set\n",
    "train_fpr, train_tpr, thresholds = roc_curve(y_train_ada, y_train_score)\n",
    "\n",
    "# Calculate the probability scores of each point in the test set\n",
    "y_test_score = model_log.decision_function(X_test)\n",
    "\n",
    "# Calculate the fpr, tpr, and thresholds for the test set\n",
    "test_fpr, test_tpr, test_thresholds = roc_curve(y_test, y_test_score)\n",
    "\n",
    "\n",
    "\n",
    "# ROC curve for training set\n",
    "plt.figure(figsize=(10, 8))\n",
    "lw = 2\n",
    "plt.plot(train_fpr, train_tpr, color='green',\n",
    "         lw=lw, label='Train ROC curve,ADASYN')\n",
    "plt.plot(test_fpr, test_tpr, color='red',\n",
    "         lw=lw, label='Test ROC curve, ADASYN')\n",
    "\n",
    "plt.plot(train_fpr_SMOTE, train_tpr_SMOTE, color='darkorange',\n",
    "         lw=lw, label='Train ROC curve,SMOTE')\n",
    "plt.plot(test_fpr_SMOTE, test_tpr_SMOTE, color='blue',\n",
    "         lw=lw, label='Test ROC curve, SMOTE')\n",
    "plt.plot([0, 1], [0, 1], color='navy', lw=lw, linestyle='--')\n",
    "plt.xlim([0.0, 1.0])\n",
    "plt.ylim([0.0, 1.05])\n",
    "plt.yticks([i/20.0 for i in range(21)])\n",
    "plt.xticks([i/20.0 for i in range(21)])\n",
    "plt.xlabel('False Positive Rate')\n",
    "plt.ylabel('True Positive Rate')\n",
    "plt.title('Receiver operating characteristic (ROC) Curve for Training and Testing Sets')\n",
    "plt.legend(loc='lower right')\n",
    "print('Training AUC, ADASYN: {}'.format(round(auc(train_fpr, train_tpr), 5)))\n",
    "print('Testing AUC, ADASYN: {}'.format(round(auc(test_fpr, test_tpr), 5)))\n",
    "plt.show()"
   ]
  },
  {
   "cell_type": "markdown",
   "metadata": {},
   "source": [
    "# RANDOM FOREST"
   ]
  },
  {
   "cell_type": "code",
   "execution_count": 114,
   "metadata": {
    "ExecuteTime": {
     "end_time": "2020-05-23T16:08:17.208108Z",
     "start_time": "2020-05-23T16:08:17.138806Z"
    }
   },
   "outputs": [],
   "source": [
    "rfc = RandomForestClassifier(random_state=123)\n",
    "rfc.fit(X_train, y_train)\n",
    "y_pred = rfc.predict(X_test)"
   ]
  },
  {
   "cell_type": "code",
   "execution_count": 115,
   "metadata": {
    "ExecuteTime": {
     "end_time": "2020-05-23T16:09:39.451069Z",
     "start_time": "2020-05-23T16:09:39.444629Z"
    }
   },
   "outputs": [
    {
     "data": {
      "text/plain": [
       "array([[1160,  140],\n",
       "       [ 275,  183]])"
      ]
     },
     "execution_count": 115,
     "metadata": {},
     "output_type": "execute_result"
    }
   ],
   "source": [
    "cm = confusion_matrix(y_test, y_pred)\n",
    "cm"
   ]
  },
  {
   "cell_type": "code",
   "execution_count": 116,
   "metadata": {
    "ExecuteTime": {
     "end_time": "2020-05-23T16:10:08.182966Z",
     "start_time": "2020-05-23T16:10:08.168984Z"
    }
   },
   "outputs": [
    {
     "name": "stdout",
     "output_type": "stream",
     "text": [
      "recall: 0.39956331877729256\n",
      "precision: 0.56656346749226\n",
      "f1 score: 0.4686\n",
      "accuracy: 0.7639362912400455\n",
      "r2 score:  -0.22534430634867286\n",
      "roc auc score:  0.6459355055424923\n"
     ]
    }
   ],
   "source": [
    "print ('recall:', recall_score(y_test, y_pred))\n",
    "print ('precision:', precision_score(y_test, y_pred))\n",
    "print ('f1 score:', round(f1_score(y_test, y_pred), 4))\n",
    "print ('accuracy:' , accuracy_score(y_test, y_pred))\n",
    "print ('r2 score: ', r2_score(y_test, y_pred))\n",
    "print ('roc auc score: ', roc_auc_score(y_test, y_pred))"
   ]
  },
  {
   "cell_type": "code",
   "execution_count": 117,
   "metadata": {
    "ExecuteTime": {
     "end_time": "2020-05-23T16:10:11.457240Z",
     "start_time": "2020-05-23T16:10:11.448624Z"
    }
   },
   "outputs": [
    {
     "name": "stdout",
     "output_type": "stream",
     "text": [
      "              precision    recall  f1-score   support\n",
      "\n",
      "           0       0.81      0.89      0.85      1300\n",
      "           1       0.57      0.40      0.47       458\n",
      "\n",
      "    accuracy                           0.76      1758\n",
      "   macro avg       0.69      0.65      0.66      1758\n",
      "weighted avg       0.75      0.76      0.75      1758\n",
      "\n"
     ]
    }
   ],
   "source": [
    "cr = classification_report(y_test, y_pred)\n",
    "print(cr)"
   ]
  },
  {
   "cell_type": "markdown",
   "metadata": {},
   "source": [
    "# Grid search"
   ]
  },
  {
   "cell_type": "code",
   "execution_count": 133,
   "metadata": {
    "ExecuteTime": {
     "end_time": "2020-05-23T18:42:34.636533Z",
     "start_time": "2020-05-23T18:42:34.631984Z"
    }
   },
   "outputs": [],
   "source": [
    "grid = [{'criterion': ['gini', 'entropy'], \n",
    "         'n_estimators':[10, 20, 50, 100, 150, 200],\n",
    "         'max_depth': [3, 4, 5, 6, 7],\n",
    "         'min_samples_split': [1.0, 2, 3, 4, 5, 6, 7, 8, 9, 10], \n",
    "         'min_samples_leaf': [1,2, 3,4, 5,6,7, 8, 9, 10]}]"
   ]
  },
  {
   "cell_type": "code",
   "execution_count": null,
   "metadata": {},
   "outputs": [],
   "source": [
    " n_estimators='warn',\n",
    "#     criterion='gini',\n",
    "#     max_depth=None,\n",
    "#     min_samples_split=2,\n",
    "#     min_samples_leaf=1,\n",
    "#     min_weight_fraction_leaf=0.0,\n",
    "#     max_features='auto',\n",
    "#     max_leaf_nodes=None,\n",
    "#     min_impurity_decrease=0.0,\n",
    "#     min_impurity_split=None,\n",
    "#     bootstrap=True,\n",
    "#     oob_score=False,\n",
    "#     n_jobs=None,\n",
    "#     random_state=None,\n",
    "#     verbose=0,\n",
    "#     warm_start=False,\n",
    "#     class_weight=None,# "
   ]
  },
  {
   "cell_type": "code",
   "execution_count": 134,
   "metadata": {
    "ExecuteTime": {
     "end_time": "2020-05-23T18:42:38.618979Z",
     "start_time": "2020-05-23T18:42:38.615441Z"
    }
   },
   "outputs": [],
   "source": [
    "gridsearch = GridSearchCV(estimator= rfc, param_grid=grid, scoring={\n",
    "                          'AUC': 'roc_auc', 'Accuracy': make_scorer(accuracy_score)}, cv=5, refit='Accuracy')"
   ]
  },
  {
   "cell_type": "code",
   "execution_count": 126,
   "metadata": {
    "ExecuteTime": {
     "end_time": "2020-05-23T18:35:12.627295Z",
     "start_time": "2020-05-23T18:35:12.622806Z"
    }
   },
   "outputs": [
    {
     "data": {
      "text/plain": [
       "dict_keys(['bootstrap', 'class_weight', 'criterion', 'max_depth', 'max_features', 'max_leaf_nodes', 'min_impurity_decrease', 'min_impurity_split', 'min_samples_leaf', 'min_samples_split', 'min_weight_fraction_leaf', 'n_estimators', 'n_jobs', 'oob_score', 'random_state', 'verbose', 'warm_start'])"
      ]
     },
     "execution_count": 126,
     "metadata": {},
     "output_type": "execute_result"
    }
   ],
   "source": [
    "rfc.get_params().keys()"
   ]
  },
  {
   "cell_type": "code",
   "execution_count": 135,
   "metadata": {
    "ExecuteTime": {
     "end_time": "2020-05-23T20:47:44.632160Z",
     "start_time": "2020-05-23T18:42:43.367582Z"
    }
   },
   "outputs": [
    {
     "data": {
      "text/plain": [
       "0.8183541903678423"
      ]
     },
     "execution_count": 135,
     "metadata": {},
     "output_type": "execute_result"
    }
   ],
   "source": [
    "# Fit the training data\n",
    "gridsearch.fit(X_train, y_train)\n",
    "\n",
    "# Print the accuracy on test set\n",
    "\n",
    "gridsearch.score(X_train, y_train)"
   ]
  },
  {
   "cell_type": "code",
   "execution_count": 130,
   "metadata": {
    "ExecuteTime": {
     "end_time": "2020-05-23T18:40:02.450012Z",
     "start_time": "2020-05-23T18:40:02.438327Z"
    }
   },
   "outputs": [
    {
     "data": {
      "text/plain": [
       "0.78839590443686"
      ]
     },
     "execution_count": 130,
     "metadata": {},
     "output_type": "execute_result"
    }
   ],
   "source": [
    "gridsearch.score(X_test, y_test)"
   ]
  },
  {
   "cell_type": "code",
   "execution_count": 127,
   "metadata": {
    "ExecuteTime": {
     "end_time": "2020-05-23T18:35:28.577696Z",
     "start_time": "2020-05-23T18:35:28.573940Z"
    }
   },
   "outputs": [
    {
     "data": {
      "text/plain": [
       "{'max_depth': 7, 'min_samples_leaf': 3, 'min_samples_split': 10}"
      ]
     },
     "execution_count": 127,
     "metadata": {},
     "output_type": "execute_result"
    }
   ],
   "source": [
    "gridsearch.best_params_"
   ]
  },
  {
   "cell_type": "code",
   "execution_count": 131,
   "metadata": {
    "ExecuteTime": {
     "end_time": "2020-05-23T18:40:20.688509Z",
     "start_time": "2020-05-23T18:40:20.684682Z"
    }
   },
   "outputs": [
    {
     "data": {
      "text/plain": [
       "0.8058399696624953"
      ]
     },
     "execution_count": 131,
     "metadata": {},
     "output_type": "execute_result"
    }
   ],
   "source": [
    "gridsearch.best_score_\n"
   ]
  },
  {
   "cell_type": "code",
   "execution_count": null,
   "metadata": {},
   "outputs": [],
   "source": []
  },
  {
   "cell_type": "code",
   "execution_count": null,
   "metadata": {},
   "outputs": [],
   "source": []
  }
 ],
 "metadata": {
  "kernelspec": {
   "display_name": "Python 3",
   "language": "python",
   "name": "python3"
  },
  "language_info": {
   "codemirror_mode": {
    "name": "ipython",
    "version": 3
   },
   "file_extension": ".py",
   "mimetype": "text/x-python",
   "name": "python",
   "nbconvert_exporter": "python",
   "pygments_lexer": "ipython3",
   "version": "3.7.4"
  },
  "varInspector": {
   "cols": {
    "lenName": 16,
    "lenType": 16,
    "lenVar": 40
   },
   "kernels_config": {
    "python": {
     "delete_cmd_postfix": "",
     "delete_cmd_prefix": "del ",
     "library": "var_list.py",
     "varRefreshCmd": "print(var_dic_list())"
    },
    "r": {
     "delete_cmd_postfix": ") ",
     "delete_cmd_prefix": "rm(",
     "library": "var_list.r",
     "varRefreshCmd": "cat(var_dic_list()) "
    }
   },
   "types_to_exclude": [
    "module",
    "function",
    "builtin_function_or_method",
    "instance",
    "_Feature"
   ],
   "window_display": false
  }
 },
 "nbformat": 4,
 "nbformat_minor": 2
}
