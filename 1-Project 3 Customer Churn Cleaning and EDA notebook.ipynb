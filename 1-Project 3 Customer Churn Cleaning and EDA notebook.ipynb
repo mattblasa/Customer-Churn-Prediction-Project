{
 "cells": [
  {
   "cell_type": "markdown",
   "metadata": {},
   "source": [
    "## Final Project Submission\n",
    "\n",
    "Please fill out:\n",
    "* Student name: Seyma Tas\n",
    "* Student pace: full time\n",
    "* Scheduled project review date/time: \n",
    "* Instructor name: Amber Yandow\n",
    "* Blog post URL:\n"
   ]
  },
  {
   "cell_type": "code",
   "execution_count": null,
   "metadata": {},
   "outputs": [],
   "source": [
    "Business questions\n"
   ]
  },
  {
   "cell_type": "code",
   "execution_count": 1,
   "metadata": {
    "ExecuteTime": {
     "end_time": "2020-05-29T22:32:30.122011Z",
     "start_time": "2020-05-29T22:32:29.149497Z"
    }
   },
   "outputs": [],
   "source": [
    "# Your code here - remember to use markdown cells for comments as well!\n",
    "import pandas as pd\n",
    "import numpy as np\n",
    "import matplotlib.pyplot as plt\n",
    "%matplotlib inline\n",
    "import seaborn as sns\n",
    "sns.set_style('darkgrid', {'axes.facecolor': '0.9'})\n",
    "\n",
    "import warnings\n",
    "warnings.filterwarnings('ignore')"
   ]
  },
  {
   "cell_type": "code",
   "execution_count": 2,
   "metadata": {
    "ExecuteTime": {
     "end_time": "2020-05-29T22:32:30.162412Z",
     "start_time": "2020-05-29T22:32:30.124448Z"
    }
   },
   "outputs": [],
   "source": [
    "df = pd.read_csv('TelcoCustomerChurnData.csv')"
   ]
  },
  {
   "cell_type": "code",
   "execution_count": 3,
   "metadata": {
    "ExecuteTime": {
     "end_time": "2020-05-29T22:32:30.192280Z",
     "start_time": "2020-05-29T22:32:30.164283Z"
    }
   },
   "outputs": [
    {
     "data": {
      "text/html": [
       "<div>\n",
       "<style scoped>\n",
       "    .dataframe tbody tr th:only-of-type {\n",
       "        vertical-align: middle;\n",
       "    }\n",
       "\n",
       "    .dataframe tbody tr th {\n",
       "        vertical-align: top;\n",
       "    }\n",
       "\n",
       "    .dataframe thead th {\n",
       "        text-align: right;\n",
       "    }\n",
       "</style>\n",
       "<table border=\"1\" class=\"dataframe\">\n",
       "  <thead>\n",
       "    <tr style=\"text-align: right;\">\n",
       "      <th></th>\n",
       "      <th>customerID</th>\n",
       "      <th>gender</th>\n",
       "      <th>SeniorCitizen</th>\n",
       "      <th>Partner</th>\n",
       "      <th>Dependents</th>\n",
       "      <th>tenure</th>\n",
       "      <th>PhoneService</th>\n",
       "      <th>MultipleLines</th>\n",
       "      <th>InternetService</th>\n",
       "      <th>OnlineSecurity</th>\n",
       "      <th>...</th>\n",
       "      <th>DeviceProtection</th>\n",
       "      <th>TechSupport</th>\n",
       "      <th>StreamingTV</th>\n",
       "      <th>StreamingMovies</th>\n",
       "      <th>Contract</th>\n",
       "      <th>PaperlessBilling</th>\n",
       "      <th>PaymentMethod</th>\n",
       "      <th>MonthlyCharges</th>\n",
       "      <th>TotalCharges</th>\n",
       "      <th>Churn</th>\n",
       "    </tr>\n",
       "  </thead>\n",
       "  <tbody>\n",
       "    <tr>\n",
       "      <td>0</td>\n",
       "      <td>7590-VHVEG</td>\n",
       "      <td>Female</td>\n",
       "      <td>0</td>\n",
       "      <td>Yes</td>\n",
       "      <td>No</td>\n",
       "      <td>1</td>\n",
       "      <td>No</td>\n",
       "      <td>No phone service</td>\n",
       "      <td>DSL</td>\n",
       "      <td>No</td>\n",
       "      <td>...</td>\n",
       "      <td>No</td>\n",
       "      <td>No</td>\n",
       "      <td>No</td>\n",
       "      <td>No</td>\n",
       "      <td>Month-to-month</td>\n",
       "      <td>Yes</td>\n",
       "      <td>Electronic check</td>\n",
       "      <td>29.85</td>\n",
       "      <td>29.85</td>\n",
       "      <td>No</td>\n",
       "    </tr>\n",
       "    <tr>\n",
       "      <td>1</td>\n",
       "      <td>5575-GNVDE</td>\n",
       "      <td>Male</td>\n",
       "      <td>0</td>\n",
       "      <td>No</td>\n",
       "      <td>No</td>\n",
       "      <td>34</td>\n",
       "      <td>Yes</td>\n",
       "      <td>No</td>\n",
       "      <td>DSL</td>\n",
       "      <td>Yes</td>\n",
       "      <td>...</td>\n",
       "      <td>Yes</td>\n",
       "      <td>No</td>\n",
       "      <td>No</td>\n",
       "      <td>No</td>\n",
       "      <td>One year</td>\n",
       "      <td>No</td>\n",
       "      <td>Mailed check</td>\n",
       "      <td>56.95</td>\n",
       "      <td>1889.5</td>\n",
       "      <td>No</td>\n",
       "    </tr>\n",
       "    <tr>\n",
       "      <td>2</td>\n",
       "      <td>3668-QPYBK</td>\n",
       "      <td>Male</td>\n",
       "      <td>0</td>\n",
       "      <td>No</td>\n",
       "      <td>No</td>\n",
       "      <td>2</td>\n",
       "      <td>Yes</td>\n",
       "      <td>No</td>\n",
       "      <td>DSL</td>\n",
       "      <td>Yes</td>\n",
       "      <td>...</td>\n",
       "      <td>No</td>\n",
       "      <td>No</td>\n",
       "      <td>No</td>\n",
       "      <td>No</td>\n",
       "      <td>Month-to-month</td>\n",
       "      <td>Yes</td>\n",
       "      <td>Mailed check</td>\n",
       "      <td>53.85</td>\n",
       "      <td>108.15</td>\n",
       "      <td>Yes</td>\n",
       "    </tr>\n",
       "    <tr>\n",
       "      <td>3</td>\n",
       "      <td>7795-CFOCW</td>\n",
       "      <td>Male</td>\n",
       "      <td>0</td>\n",
       "      <td>No</td>\n",
       "      <td>No</td>\n",
       "      <td>45</td>\n",
       "      <td>No</td>\n",
       "      <td>No phone service</td>\n",
       "      <td>DSL</td>\n",
       "      <td>Yes</td>\n",
       "      <td>...</td>\n",
       "      <td>Yes</td>\n",
       "      <td>Yes</td>\n",
       "      <td>No</td>\n",
       "      <td>No</td>\n",
       "      <td>One year</td>\n",
       "      <td>No</td>\n",
       "      <td>Bank transfer (automatic)</td>\n",
       "      <td>42.30</td>\n",
       "      <td>1840.75</td>\n",
       "      <td>No</td>\n",
       "    </tr>\n",
       "    <tr>\n",
       "      <td>4</td>\n",
       "      <td>9237-HQITU</td>\n",
       "      <td>Female</td>\n",
       "      <td>0</td>\n",
       "      <td>No</td>\n",
       "      <td>No</td>\n",
       "      <td>2</td>\n",
       "      <td>Yes</td>\n",
       "      <td>No</td>\n",
       "      <td>Fiber optic</td>\n",
       "      <td>No</td>\n",
       "      <td>...</td>\n",
       "      <td>No</td>\n",
       "      <td>No</td>\n",
       "      <td>No</td>\n",
       "      <td>No</td>\n",
       "      <td>Month-to-month</td>\n",
       "      <td>Yes</td>\n",
       "      <td>Electronic check</td>\n",
       "      <td>70.70</td>\n",
       "      <td>151.65</td>\n",
       "      <td>Yes</td>\n",
       "    </tr>\n",
       "  </tbody>\n",
       "</table>\n",
       "<p>5 rows × 21 columns</p>\n",
       "</div>"
      ],
      "text/plain": [
       "   customerID  gender  SeniorCitizen Partner Dependents  tenure PhoneService  \\\n",
       "0  7590-VHVEG  Female              0     Yes         No       1           No   \n",
       "1  5575-GNVDE    Male              0      No         No      34          Yes   \n",
       "2  3668-QPYBK    Male              0      No         No       2          Yes   \n",
       "3  7795-CFOCW    Male              0      No         No      45           No   \n",
       "4  9237-HQITU  Female              0      No         No       2          Yes   \n",
       "\n",
       "      MultipleLines InternetService OnlineSecurity  ... DeviceProtection  \\\n",
       "0  No phone service             DSL             No  ...               No   \n",
       "1                No             DSL            Yes  ...              Yes   \n",
       "2                No             DSL            Yes  ...               No   \n",
       "3  No phone service             DSL            Yes  ...              Yes   \n",
       "4                No     Fiber optic             No  ...               No   \n",
       "\n",
       "  TechSupport StreamingTV StreamingMovies        Contract PaperlessBilling  \\\n",
       "0          No          No              No  Month-to-month              Yes   \n",
       "1          No          No              No        One year               No   \n",
       "2          No          No              No  Month-to-month              Yes   \n",
       "3         Yes          No              No        One year               No   \n",
       "4          No          No              No  Month-to-month              Yes   \n",
       "\n",
       "               PaymentMethod MonthlyCharges  TotalCharges Churn  \n",
       "0           Electronic check          29.85         29.85    No  \n",
       "1               Mailed check          56.95        1889.5    No  \n",
       "2               Mailed check          53.85        108.15   Yes  \n",
       "3  Bank transfer (automatic)          42.30       1840.75    No  \n",
       "4           Electronic check          70.70        151.65   Yes  \n",
       "\n",
       "[5 rows x 21 columns]"
      ]
     },
     "execution_count": 3,
     "metadata": {},
     "output_type": "execute_result"
    }
   ],
   "source": [
    "df.head()"
   ]
  },
  {
   "cell_type": "code",
   "execution_count": 4,
   "metadata": {
    "ExecuteTime": {
     "end_time": "2020-05-29T22:32:30.207307Z",
     "start_time": "2020-05-29T22:32:30.194325Z"
    },
    "scrolled": true
   },
   "outputs": [
    {
     "name": "stdout",
     "output_type": "stream",
     "text": [
      "<class 'pandas.core.frame.DataFrame'>\n",
      "RangeIndex: 7043 entries, 0 to 7042\n",
      "Data columns (total 21 columns):\n",
      "customerID          7043 non-null object\n",
      "gender              7043 non-null object\n",
      "SeniorCitizen       7043 non-null int64\n",
      "Partner             7043 non-null object\n",
      "Dependents          7043 non-null object\n",
      "tenure              7043 non-null int64\n",
      "PhoneService        7043 non-null object\n",
      "MultipleLines       7043 non-null object\n",
      "InternetService     7043 non-null object\n",
      "OnlineSecurity      7043 non-null object\n",
      "OnlineBackup        7043 non-null object\n",
      "DeviceProtection    7043 non-null object\n",
      "TechSupport         7043 non-null object\n",
      "StreamingTV         7043 non-null object\n",
      "StreamingMovies     7043 non-null object\n",
      "Contract            7043 non-null object\n",
      "PaperlessBilling    7043 non-null object\n",
      "PaymentMethod       7043 non-null object\n",
      "MonthlyCharges      7043 non-null float64\n",
      "TotalCharges        7043 non-null object\n",
      "Churn               7043 non-null object\n",
      "dtypes: float64(1), int64(2), object(18)\n",
      "memory usage: 1.1+ MB\n"
     ]
    }
   ],
   "source": [
    "df.info()"
   ]
  },
  {
   "cell_type": "code",
   "execution_count": 5,
   "metadata": {
    "ExecuteTime": {
     "end_time": "2020-05-29T22:32:30.214235Z",
     "start_time": "2020-05-29T22:32:30.208900Z"
    }
   },
   "outputs": [],
   "source": [
    "df = df.drop(['customerID'], axis=1)"
   ]
  },
  {
   "cell_type": "code",
   "execution_count": null,
   "metadata": {},
   "outputs": [],
   "source": []
  },
  {
   "cell_type": "code",
   "execution_count": 6,
   "metadata": {
    "ExecuteTime": {
     "end_time": "2020-05-29T22:32:30.240500Z",
     "start_time": "2020-05-29T22:32:30.215828Z"
    }
   },
   "outputs": [
    {
     "name": "stdout",
     "output_type": "stream",
     "text": [
      "\n",
      " gender\n",
      "-------------------\n",
      "['Female' 'Male']\n",
      "\n",
      " SeniorCitizen\n",
      "-------------------\n",
      "[0 1]\n",
      "\n",
      " Partner\n",
      "-------------------\n",
      "['Yes' 'No']\n",
      "\n",
      " Dependents\n",
      "-------------------\n",
      "['No' 'Yes']\n",
      "\n",
      " tenure\n",
      "-------------------\n",
      "[ 1 34  2 45  8 22 10 28 62 13 16 58 49 25 69 52 71 21 12 30 47 72 17 27\n",
      "  5 46 11 70 63 43 15 60 18 66  9  3 31 50 64 56  7 42 35 48 29 65 38 68\n",
      " 32 55 37 36 41  6  4 33 67 23 57 61 14 20 53 40 59 24 44 19 54 51 26  0\n",
      " 39]\n",
      "\n",
      " PhoneService\n",
      "-------------------\n",
      "['No' 'Yes']\n",
      "\n",
      " MultipleLines\n",
      "-------------------\n",
      "['No phone service' 'No' 'Yes']\n",
      "\n",
      " InternetService\n",
      "-------------------\n",
      "['DSL' 'Fiber optic' 'No']\n",
      "\n",
      " OnlineSecurity\n",
      "-------------------\n",
      "['No' 'Yes' 'No internet service']\n",
      "\n",
      " OnlineBackup\n",
      "-------------------\n",
      "['Yes' 'No' 'No internet service']\n",
      "\n",
      " DeviceProtection\n",
      "-------------------\n",
      "['No' 'Yes' 'No internet service']\n",
      "\n",
      " TechSupport\n",
      "-------------------\n",
      "['No' 'Yes' 'No internet service']\n",
      "\n",
      " StreamingTV\n",
      "-------------------\n",
      "['No' 'Yes' 'No internet service']\n",
      "\n",
      " StreamingMovies\n",
      "-------------------\n",
      "['No' 'Yes' 'No internet service']\n",
      "\n",
      " Contract\n",
      "-------------------\n",
      "['Month-to-month' 'One year' 'Two year']\n",
      "\n",
      " PaperlessBilling\n",
      "-------------------\n",
      "['Yes' 'No']\n",
      "\n",
      " PaymentMethod\n",
      "-------------------\n",
      "['Electronic check' 'Mailed check' 'Bank transfer (automatic)'\n",
      " 'Credit card (automatic)']\n",
      "\n",
      " MonthlyCharges\n",
      "-------------------\n",
      "[29.85 56.95 53.85 ... 63.1  44.2  78.7 ]\n",
      "\n",
      " TotalCharges\n",
      "-------------------\n",
      "['29.85' '1889.5' '108.15' ... '346.45' '306.6' '6844.5']\n",
      "\n",
      " Churn\n",
      "-------------------\n",
      "['No' 'Yes']\n"
     ]
    }
   ],
   "source": [
    "for col in df.columns:\n",
    "    print ('\\n',col)\n",
    "    print ('-------------------')\n",
    "    print (df[col].unique())"
   ]
  },
  {
   "cell_type": "code",
   "execution_count": 7,
   "metadata": {
    "ExecuteTime": {
     "end_time": "2020-05-29T22:32:30.269591Z",
     "start_time": "2020-05-29T22:32:30.244050Z"
    },
    "scrolled": true
   },
   "outputs": [
    {
     "data": {
      "text/html": [
       "<div>\n",
       "<style scoped>\n",
       "    .dataframe tbody tr th:only-of-type {\n",
       "        vertical-align: middle;\n",
       "    }\n",
       "\n",
       "    .dataframe tbody tr th {\n",
       "        vertical-align: top;\n",
       "    }\n",
       "\n",
       "    .dataframe thead th {\n",
       "        text-align: right;\n",
       "    }\n",
       "</style>\n",
       "<table border=\"1\" class=\"dataframe\">\n",
       "  <thead>\n",
       "    <tr style=\"text-align: right;\">\n",
       "      <th></th>\n",
       "      <th>SeniorCitizen</th>\n",
       "      <th>tenure</th>\n",
       "      <th>MonthlyCharges</th>\n",
       "    </tr>\n",
       "  </thead>\n",
       "  <tbody>\n",
       "    <tr>\n",
       "      <td>count</td>\n",
       "      <td>7043.00</td>\n",
       "      <td>7043.00</td>\n",
       "      <td>7043.00</td>\n",
       "    </tr>\n",
       "    <tr>\n",
       "      <td>mean</td>\n",
       "      <td>0.16</td>\n",
       "      <td>32.37</td>\n",
       "      <td>64.76</td>\n",
       "    </tr>\n",
       "    <tr>\n",
       "      <td>std</td>\n",
       "      <td>0.37</td>\n",
       "      <td>24.56</td>\n",
       "      <td>30.09</td>\n",
       "    </tr>\n",
       "    <tr>\n",
       "      <td>min</td>\n",
       "      <td>0.00</td>\n",
       "      <td>0.00</td>\n",
       "      <td>18.25</td>\n",
       "    </tr>\n",
       "    <tr>\n",
       "      <td>10%</td>\n",
       "      <td>0.00</td>\n",
       "      <td>2.00</td>\n",
       "      <td>20.05</td>\n",
       "    </tr>\n",
       "    <tr>\n",
       "      <td>25%</td>\n",
       "      <td>0.00</td>\n",
       "      <td>9.00</td>\n",
       "      <td>35.50</td>\n",
       "    </tr>\n",
       "    <tr>\n",
       "      <td>50%</td>\n",
       "      <td>0.00</td>\n",
       "      <td>29.00</td>\n",
       "      <td>70.35</td>\n",
       "    </tr>\n",
       "    <tr>\n",
       "      <td>75%</td>\n",
       "      <td>0.00</td>\n",
       "      <td>55.00</td>\n",
       "      <td>89.85</td>\n",
       "    </tr>\n",
       "    <tr>\n",
       "      <td>90%</td>\n",
       "      <td>1.00</td>\n",
       "      <td>69.00</td>\n",
       "      <td>102.60</td>\n",
       "    </tr>\n",
       "    <tr>\n",
       "      <td>99%</td>\n",
       "      <td>1.00</td>\n",
       "      <td>72.00</td>\n",
       "      <td>114.73</td>\n",
       "    </tr>\n",
       "    <tr>\n",
       "      <td>max</td>\n",
       "      <td>1.00</td>\n",
       "      <td>72.00</td>\n",
       "      <td>118.75</td>\n",
       "    </tr>\n",
       "  </tbody>\n",
       "</table>\n",
       "</div>"
      ],
      "text/plain": [
       "       SeniorCitizen   tenure  MonthlyCharges\n",
       "count        7043.00  7043.00         7043.00\n",
       "mean            0.16    32.37           64.76\n",
       "std             0.37    24.56           30.09\n",
       "min             0.00     0.00           18.25\n",
       "10%             0.00     2.00           20.05\n",
       "25%             0.00     9.00           35.50\n",
       "50%             0.00    29.00           70.35\n",
       "75%             0.00    55.00           89.85\n",
       "90%             1.00    69.00          102.60\n",
       "99%             1.00    72.00          114.73\n",
       "max             1.00    72.00          118.75"
      ]
     },
     "execution_count": 7,
     "metadata": {},
     "output_type": "execute_result"
    }
   ],
   "source": [
    "df.describe(percentiles=[0.1, 0.25, 0.50, 0.75, 0.90, 0.99]).round(2)"
   ]
  },
  {
   "cell_type": "code",
   "execution_count": 8,
   "metadata": {
    "ExecuteTime": {
     "end_time": "2020-05-29T22:32:30.283971Z",
     "start_time": "2020-05-29T22:32:30.272436Z"
    }
   },
   "outputs": [
    {
     "data": {
      "text/plain": [
       "gender              0\n",
       "SeniorCitizen       0\n",
       "Partner             0\n",
       "Dependents          0\n",
       "tenure              0\n",
       "PhoneService        0\n",
       "MultipleLines       0\n",
       "InternetService     0\n",
       "OnlineSecurity      0\n",
       "OnlineBackup        0\n",
       "DeviceProtection    0\n",
       "TechSupport         0\n",
       "StreamingTV         0\n",
       "StreamingMovies     0\n",
       "Contract            0\n",
       "PaperlessBilling    0\n",
       "PaymentMethod       0\n",
       "MonthlyCharges      0\n",
       "TotalCharges        0\n",
       "Churn               0\n",
       "dtype: int64"
      ]
     },
     "execution_count": 8,
     "metadata": {},
     "output_type": "execute_result"
    }
   ],
   "source": [
    "df.isna().sum()"
   ]
  },
  {
   "cell_type": "code",
   "execution_count": 9,
   "metadata": {
    "ExecuteTime": {
     "end_time": "2020-05-29T22:32:30.294763Z",
     "start_time": "2020-05-29T22:32:30.285871Z"
    }
   },
   "outputs": [
    {
     "data": {
      "text/plain": [
       "11"
      ]
     },
     "execution_count": 9,
     "metadata": {},
     "output_type": "execute_result"
    }
   ],
   "source": [
    "(df.TotalCharges == \" \").sum()\n"
   ]
  },
  {
   "cell_type": "code",
   "execution_count": 10,
   "metadata": {
    "ExecuteTime": {
     "end_time": "2020-05-29T22:32:30.304506Z",
     "start_time": "2020-05-29T22:32:30.296383Z"
    }
   },
   "outputs": [],
   "source": [
    "df = df[df['TotalCharges'] != \" \"]\n"
   ]
  },
  {
   "cell_type": "code",
   "execution_count": 11,
   "metadata": {
    "ExecuteTime": {
     "end_time": "2020-05-29T22:32:30.314122Z",
     "start_time": "2020-05-29T22:32:30.306932Z"
    }
   },
   "outputs": [],
   "source": [
    "df['TotalCharges'] = df['TotalCharges'].astype('float')"
   ]
  },
  {
   "cell_type": "code",
   "execution_count": 12,
   "metadata": {
    "ExecuteTime": {
     "end_time": "2020-05-29T22:32:30.323636Z",
     "start_time": "2020-05-29T22:32:30.315877Z"
    }
   },
   "outputs": [],
   "source": [
    "df['Churn'] = df['Churn'].map({'No': 0, 'Yes': 1})\n",
    "# df['Churn'] = df['Churn'].apply(lambda x: 0 if x=='No' else 1)\n",
    "# df['Churn'] = [1 if i=='Yes' else 0 for i in df['Churn']]"
   ]
  },
  {
   "cell_type": "markdown",
   "metadata": {},
   "source": [
    "# Exploratory Data Analysis"
   ]
  },
  {
   "cell_type": "markdown",
   "metadata": {},
   "source": [
    "## Visualizations"
   ]
  },
  {
   "cell_type": "code",
   "execution_count": 13,
   "metadata": {
    "ExecuteTime": {
     "end_time": "2020-05-29T22:32:32.614171Z",
     "start_time": "2020-05-29T22:32:30.325327Z"
    }
   },
   "outputs": [
    {
     "data": {
      "image/png": "[encoded data removed]",
      "text/plain": [
       "<Figure size 1440x1800 with 15 Axes>"
      ]
     },
     "metadata": {
      "needs_background": "light"
     },
     "output_type": "display_data"
    }
   ],
   "source": [
    "plt.figure(figsize=(20, 25))\n",
    "\n",
    "plt.subplot(531)\n",
    "sns.countplot(df['gender'],hue=df['Churn'])\n",
    "\n",
    "plt.subplot(532)\n",
    "sns.countplot(df['SeniorCitizen'],hue=df['Churn'])\n",
    "\n",
    "plt.subplot(533)\n",
    "sns.countplot(df['Partner'],hue=df['Churn'])\n",
    "\n",
    "plt.subplot(534)\n",
    "sns.countplot(df['Dependents'],hue=df['Churn'])\n",
    "\n",
    "plt.subplot(535)\n",
    "sns.countplot(df['PhoneService'],hue=df['Churn'])\n",
    "\n",
    "plt.subplot(536)\n",
    "sns.countplot(df['MultipleLines'],hue=df['Churn'])\n",
    "\n",
    "plt.subplot(537)\n",
    "sns.countplot(df['InternetService'],hue=df['Churn'])\n",
    "\n",
    "plt.subplot(538)\n",
    "sns.countplot(df['OnlineSecurity'],hue=df['Churn'])\n",
    "\n",
    "plt.subplot(539)\n",
    "sns.countplot(df['OnlineBackup'],hue=df['Churn'])\n",
    "\n",
    "plt.subplot(5,3,10)\n",
    "sns.countplot(df['DeviceProtection'],hue=df['Churn'])\n",
    "\n",
    "plt.subplot(5, 3, 11)\n",
    "sns.countplot(df['TechSupport'],hue=df['Churn'])\n",
    "\n",
    "plt.subplot(5,3,12)\n",
    "sns.countplot(df['StreamingTV'],hue=df['Churn'])\n",
    "\n",
    "plt.subplot(5,3,13)\n",
    "sns.countplot(df['StreamingMovies'],hue=df['Churn'])\n",
    "\n",
    "plt.subplot(5,3,14)\n",
    "sns.countplot(df['Contract'],hue=df['Churn'])\n",
    "\n",
    "plt.subplot(5,3,15)\n",
    "sns.countplot(df['PaperlessBilling'],hue=df['Churn'])\n",
    "\n",
    "plt.show()"
   ]
  },
  {
   "cell_type": "markdown",
   "metadata": {},
   "source": [
    "##### Analiyzing 'gender' column"
   ]
  },
  {
   "cell_type": "markdown",
   "metadata": {},
   "source": [
    "Gender column has almost equal values of churn and not churn. It doesn't give information about the possibility if a customer is likely to churn. I decide to drop this column."
   ]
  },
  {
   "cell_type": "code",
   "execution_count": 14,
   "metadata": {
    "ExecuteTime": {
     "end_time": "2020-05-29T22:32:32.631745Z",
     "start_time": "2020-05-29T22:32:32.615556Z"
    },
    "scrolled": true
   },
   "outputs": [
    {
     "data": {
      "text/plain": [
       "Male      0.504693\n",
       "Female    0.495307\n",
       "Name: gender, dtype: float64"
      ]
     },
     "execution_count": 14,
     "metadata": {},
     "output_type": "execute_result"
    }
   ],
   "source": [
    "df['gender'].value_counts(normalize=True)"
   ]
  },
  {
   "cell_type": "code",
   "execution_count": 15,
   "metadata": {
    "ExecuteTime": {
     "end_time": "2020-05-29T22:32:32.649776Z",
     "start_time": "2020-05-29T22:32:32.634003Z"
    }
   },
   "outputs": [
    {
     "data": {
      "text/plain": [
       "Series([], Name: gender, dtype: float64)"
      ]
     },
     "execution_count": 15,
     "metadata": {},
     "output_type": "execute_result"
    }
   ],
   "source": [
    "df[df['Churn']=='No'].gender.value_counts(normalize=True)"
   ]
  },
  {
   "cell_type": "code",
   "execution_count": 16,
   "metadata": {
    "ExecuteTime": {
     "end_time": "2020-05-29T22:32:32.658625Z",
     "start_time": "2020-05-29T22:32:32.653138Z"
    }
   },
   "outputs": [],
   "source": [
    "df = df.drop(['gender'], axis=1)"
   ]
  },
  {
   "cell_type": "markdown",
   "metadata": {},
   "source": [
    "##### Analiyzing 'PhoneService' column"
   ]
  },
  {
   "cell_type": "markdown",
   "metadata": {},
   "source": [
    "The information included in the 'PhoneService' column is in the 'MultipleLines' column. I prefer to drop it too."
   ]
  },
  {
   "cell_type": "code",
   "execution_count": 17,
   "metadata": {
    "ExecuteTime": {
     "end_time": "2020-05-29T22:32:32.666119Z",
     "start_time": "2020-05-29T22:32:32.660578Z"
    }
   },
   "outputs": [],
   "source": [
    "df = df.drop(['PhoneService'], axis=1)"
   ]
  },
  {
   "cell_type": "markdown",
   "metadata": {},
   "source": [
    "##### Analyzing 'PaymentMethod' column"
   ]
  },
  {
   "cell_type": "markdown",
   "metadata": {},
   "source": [
    "There is a big churn in the customers whose payment method is 'Electronic check'. They can be a young customer group who always try to find special offers."
   ]
  },
  {
   "cell_type": "code",
   "execution_count": 18,
   "metadata": {
    "ExecuteTime": {
     "end_time": "2020-05-29T22:32:32.681407Z",
     "start_time": "2020-05-29T22:32:32.668240Z"
    },
    "scrolled": true
   },
   "outputs": [
    {
     "data": {
      "text/plain": [
       "Series([], Name: PaymentMethod, dtype: float64)"
      ]
     },
     "execution_count": 18,
     "metadata": {},
     "output_type": "execute_result"
    }
   ],
   "source": [
    "df[df['Churn']=='No'].PaymentMethod.value_counts(normalize=True)"
   ]
  },
  {
   "cell_type": "code",
   "execution_count": 19,
   "metadata": {
    "ExecuteTime": {
     "end_time": "2020-05-29T22:32:32.698457Z",
     "start_time": "2020-05-29T22:32:32.683271Z"
    },
    "scrolled": true
   },
   "outputs": [
    {
     "data": {
      "text/plain": [
       "Series([], Name: PaymentMethod, dtype: float64)"
      ]
     },
     "execution_count": 19,
     "metadata": {},
     "output_type": "execute_result"
    }
   ],
   "source": [
    "df[df['Churn']=='Yes'].PaymentMethod.value_counts(normalize=True)"
   ]
  },
  {
   "cell_type": "code",
   "execution_count": 20,
   "metadata": {
    "ExecuteTime": {
     "end_time": "2020-05-29T22:32:32.709486Z",
     "start_time": "2020-05-29T22:32:32.700320Z"
    }
   },
   "outputs": [
    {
     "data": {
      "text/plain": [
       "0    0.547146\n",
       "1    0.452854\n",
       "Name: Churn, dtype: float64"
      ]
     },
     "execution_count": 20,
     "metadata": {},
     "output_type": "execute_result"
    }
   ],
   "source": [
    "df[df['PaymentMethod']=='Electronic check'].Churn.value_counts(normalize=True)"
   ]
  },
  {
   "cell_type": "code",
   "execution_count": 21,
   "metadata": {
    "ExecuteTime": {
     "end_time": "2020-05-29T22:32:32.962693Z",
     "start_time": "2020-05-29T22:32:32.711215Z"
    },
    "scrolled": true
   },
   "outputs": [
    {
     "data": {
      "image/png": "[encoded data removed]",
      "text/plain": [
       "<Figure size 1080x360 with 1 Axes>"
      ]
     },
     "metadata": {
      "needs_background": "light"
     },
     "output_type": "display_data"
    }
   ],
   "source": [
    "fig = plt.figure(figsize=(15, 5))\n",
    "fig = sns.countplot(df['PaymentMethod'],hue=df['Churn'])"
   ]
  },
  {
   "cell_type": "markdown",
   "metadata": {},
   "source": [
    "##### Analyzing Monthly charges column"
   ]
  },
  {
   "cell_type": "code",
   "execution_count": 22,
   "metadata": {
    "ExecuteTime": {
     "end_time": "2020-05-29T22:32:33.366886Z",
     "start_time": "2020-05-29T22:32:32.967242Z"
    },
    "scrolled": false
   },
   "outputs": [
    {
     "data": {
      "image/png": "[encoded data removed]",
      "text/plain": [
       "<Figure size 1080x360 with 1 Axes>"
      ]
     },
     "metadata": {
      "needs_background": "light"
     },
     "output_type": "display_data"
    }
   ],
   "source": [
    "fig = plt.figure(figsize=(15, 5))\n",
    "fig = df[df['Churn']==0].MonthlyCharges.hist(bins=20, color='darkblue', alpha=1)\n",
    "fig = df[df['Churn']==1].MonthlyCharges.hist(bins=20, color='darkorange', alpha=0.7)"
   ]
  },
  {
   "cell_type": "markdown",
   "metadata": {},
   "source": [
    "It is obvious in this histogram that when monthly charges are around 20-30 most customers don't churn. It is the best offer given by the companies. Churns increase when the bill is more than 70."
   ]
  },
  {
   "cell_type": "markdown",
   "metadata": {},
   "source": [
    "##### Analyzing 'TotalCharges' column"
   ]
  },
  {
   "cell_type": "code",
   "execution_count": 23,
   "metadata": {
    "ExecuteTime": {
     "end_time": "2020-05-29T22:32:33.845687Z",
     "start_time": "2020-05-29T22:32:33.370678Z"
    },
    "scrolled": true
   },
   "outputs": [
    {
     "data": {
      "image/png": "[encoded data removed]",
      "text/plain": [
       "<Figure size 1080x360 with 1 Axes>"
      ]
     },
     "metadata": {
      "needs_background": "light"
     },
     "output_type": "display_data"
    }
   ],
   "source": [
    "fig = plt.figure(figsize=(15, 5))\n",
    "fig = df[df['Churn']==0].TotalCharges.hist(bins=20, color='darkblue', alpha=0.7)\n",
    "fig = df[df['Churn']==1].TotalCharges.hist(bins=20, color='darkorange', alpha=0.7)"
   ]
  },
  {
   "cell_type": "markdown",
   "metadata": {},
   "source": [
    "It can be misleading to think of this column as money. Instead it is needed to be thought as 'tenure' column. If you paid more it somehow means that you are a loyal customer."
   ]
  },
  {
   "cell_type": "markdown",
   "metadata": {},
   "source": [
    "##### Analyzing 'MonhtlyCharges' and 'TotalCharges' columns together"
   ]
  },
  {
   "cell_type": "markdown",
   "metadata": {},
   "source": [
    "Of course, Monthly charge can not be more than total charge so top half of the graph is empty. There is a kind of collinearity between the to charges. But they tell us different things about the churn."
   ]
  },
  {
   "cell_type": "code",
   "execution_count": 24,
   "metadata": {
    "ExecuteTime": {
     "end_time": "2020-05-29T22:32:34.870523Z",
     "start_time": "2020-05-29T22:32:33.847236Z"
    },
    "scrolled": true
   },
   "outputs": [
    {
     "data": {
      "image/png": "[encoded data removed]",
      "text/plain": [
       "<Figure size 720x720 with 3 Axes>"
      ]
     },
     "metadata": {
      "needs_background": "light"
     },
     "output_type": "display_data"
    }
   ],
   "source": [
    "sns.jointplot(x='MonthlyCharges',y='TotalCharges', data=df, height= 10, ratio = 3, kind='hex');"
   ]
  },
  {
   "cell_type": "code",
   "execution_count": 25,
   "metadata": {
    "ExecuteTime": {
     "end_time": "2020-05-29T22:32:35.312342Z",
     "start_time": "2020-05-29T22:32:34.872002Z"
    }
   },
   "outputs": [
    {
     "data": {
      "image/png": "[encoded data removed]",
      "text/plain": [
       "<Figure size 1800x504 with 1 Axes>"
      ]
     },
     "metadata": {
      "needs_background": "light"
     },
     "output_type": "display_data"
    }
   ],
   "source": [
    "fig = plt.figure(figsize=(25, 7))\n",
    "fig = sns.distplot(df['MonthlyCharges'])"
   ]
  },
  {
   "cell_type": "code",
   "execution_count": 26,
   "metadata": {
    "ExecuteTime": {
     "end_time": "2020-05-29T22:32:35.743557Z",
     "start_time": "2020-05-29T22:32:35.313827Z"
    },
    "scrolled": true
   },
   "outputs": [
    {
     "data": {
      "image/png": "[encoded data removed]",
      "text/plain": [
       "<Figure size 1800x504 with 1 Axes>"
      ]
     },
     "metadata": {
      "needs_background": "light"
     },
     "output_type": "display_data"
    }
   ],
   "source": [
    "fig = plt.figure(figsize=(25, 7))\n",
    "fig = sns.distplot(df['TotalCharges'])"
   ]
  },
  {
   "cell_type": "markdown",
   "metadata": {},
   "source": [
    "##### Analyzing 'tenure' column"
   ]
  },
  {
   "cell_type": "markdown",
   "metadata": {},
   "source": [
    "This column is showing us the loyal customers. These numbers are the months the customer is in the company. It is seen very well in this graph that new customers are more likely to churn."
   ]
  },
  {
   "cell_type": "code",
   "execution_count": 27,
   "metadata": {
    "ExecuteTime": {
     "end_time": "2020-05-29T22:32:38.041811Z",
     "start_time": "2020-05-29T22:32:35.745222Z"
    },
    "scrolled": false
   },
   "outputs": [
    {
     "data": {
      "image/png": "[encoded data removed]",
      "text/plain": [
       "<Figure size 1800x504 with 1 Axes>"
      ]
     },
     "metadata": {
      "needs_background": "light"
     },
     "output_type": "display_data"
    }
   ],
   "source": [
    "fig = plt.figure(figsize=(25, 7))\n",
    "fig = sns.countplot(df['tenure'],hue=df['Churn'])"
   ]
  },
  {
   "cell_type": "markdown",
   "metadata": {},
   "source": [
    "##### Analyzing 'StreamingTV' and 'StreamingMovies' Columns"
   ]
  },
  {
   "cell_type": "markdown",
   "metadata": {},
   "source": [
    "These two columns are almost the same. I am going to drop 'StreamingMovies'"
   ]
  },
  {
   "cell_type": "code",
   "execution_count": 28,
   "metadata": {
    "ExecuteTime": {
     "end_time": "2020-05-29T22:32:38.050231Z",
     "start_time": "2020-05-29T22:32:38.043483Z"
    },
    "scrolled": true
   },
   "outputs": [
    {
     "data": {
      "text/plain": [
       "No                     0.399460\n",
       "Yes                    0.384386\n",
       "No internet service    0.216155\n",
       "Name: StreamingTV, dtype: float64"
      ]
     },
     "execution_count": 28,
     "metadata": {},
     "output_type": "execute_result"
    }
   ],
   "source": [
    "df.StreamingTV.value_counts(normalize=True)"
   ]
  },
  {
   "cell_type": "code",
   "execution_count": 29,
   "metadata": {
    "ExecuteTime": {
     "end_time": "2020-05-29T22:32:38.058815Z",
     "start_time": "2020-05-29T22:32:38.052021Z"
    }
   },
   "outputs": [
    {
     "data": {
      "text/plain": [
       "No                     0.395478\n",
       "Yes                    0.388367\n",
       "No internet service    0.216155\n",
       "Name: StreamingMovies, dtype: float64"
      ]
     },
     "execution_count": 29,
     "metadata": {},
     "output_type": "execute_result"
    }
   ],
   "source": [
    "df.StreamingMovies.value_counts(normalize=True)"
   ]
  },
  {
   "cell_type": "code",
   "execution_count": 30,
   "metadata": {
    "ExecuteTime": {
     "end_time": "2020-05-29T22:32:38.074207Z",
     "start_time": "2020-05-29T22:32:38.060506Z"
    },
    "scrolled": true
   },
   "outputs": [
    {
     "data": {
      "text/plain": [
       "Series([], Name: StreamingTV, dtype: float64)"
      ]
     },
     "execution_count": 30,
     "metadata": {},
     "output_type": "execute_result"
    }
   ],
   "source": [
    "df[df['Churn']=='Yes'].StreamingTV.value_counts(normalize=True)"
   ]
  },
  {
   "cell_type": "code",
   "execution_count": 31,
   "metadata": {
    "ExecuteTime": {
     "end_time": "2020-05-29T22:32:38.089165Z",
     "start_time": "2020-05-29T22:32:38.076109Z"
    }
   },
   "outputs": [
    {
     "data": {
      "text/plain": [
       "Series([], Name: StreamingTV, dtype: float64)"
      ]
     },
     "execution_count": 31,
     "metadata": {},
     "output_type": "execute_result"
    }
   ],
   "source": [
    "df[df['Churn']=='No'].StreamingTV.value_counts(normalize=True)"
   ]
  },
  {
   "cell_type": "code",
   "execution_count": 32,
   "metadata": {
    "ExecuteTime": {
     "end_time": "2020-05-29T22:32:38.103516Z",
     "start_time": "2020-05-29T22:32:38.090722Z"
    }
   },
   "outputs": [
    {
     "data": {
      "text/plain": [
       "Series([], Name: StreamingMovies, dtype: float64)"
      ]
     },
     "execution_count": 32,
     "metadata": {},
     "output_type": "execute_result"
    }
   ],
   "source": [
    "df[df['Churn']=='Yes'].StreamingMovies.value_counts(normalize=True)"
   ]
  },
  {
   "cell_type": "code",
   "execution_count": 33,
   "metadata": {
    "ExecuteTime": {
     "end_time": "2020-05-29T22:32:38.119378Z",
     "start_time": "2020-05-29T22:32:38.106597Z"
    }
   },
   "outputs": [
    {
     "data": {
      "text/plain": [
       "Series([], Name: StreamingMovies, dtype: float64)"
      ]
     },
     "execution_count": 33,
     "metadata": {},
     "output_type": "execute_result"
    }
   ],
   "source": [
    "df[df['Churn']=='No'].StreamingMovies.value_counts(normalize=True)"
   ]
  },
  {
   "cell_type": "code",
   "execution_count": 34,
   "metadata": {
    "ExecuteTime": {
     "end_time": "2020-05-29T22:32:38.126002Z",
     "start_time": "2020-05-29T22:32:38.121329Z"
    }
   },
   "outputs": [],
   "source": [
    "df = df.drop(['StreamingMovies'], axis=1)"
   ]
  },
  {
   "cell_type": "markdown",
   "metadata": {},
   "source": [
    "##### Analyzing OnlineSecurity and TechSupport Columns"
   ]
  },
  {
   "cell_type": "markdown",
   "metadata": {},
   "source": [
    "Like in 'StreamingMovies' and 'StreamingTV' these two columns are almost the same. I am going to drop 'OnlineSecurity' column"
   ]
  },
  {
   "cell_type": "code",
   "execution_count": 35,
   "metadata": {
    "ExecuteTime": {
     "end_time": "2020-05-29T22:32:38.133763Z",
     "start_time": "2020-05-29T22:32:38.127497Z"
    },
    "scrolled": true
   },
   "outputs": [
    {
     "data": {
      "text/plain": [
       "No                     0.497298\n",
       "Yes                    0.286547\n",
       "No internet service    0.216155\n",
       "Name: OnlineSecurity, dtype: float64"
      ]
     },
     "execution_count": 35,
     "metadata": {},
     "output_type": "execute_result"
    }
   ],
   "source": [
    "df.OnlineSecurity.value_counts(normalize=True)"
   ]
  },
  {
   "cell_type": "code",
   "execution_count": 36,
   "metadata": {
    "ExecuteTime": {
     "end_time": "2020-05-29T22:32:38.141564Z",
     "start_time": "2020-05-29T22:32:38.135259Z"
    }
   },
   "outputs": [
    {
     "data": {
      "text/plain": [
       "No                     0.493743\n",
       "Yes                    0.290102\n",
       "No internet service    0.216155\n",
       "Name: TechSupport, dtype: float64"
      ]
     },
     "execution_count": 36,
     "metadata": {},
     "output_type": "execute_result"
    }
   ],
   "source": [
    "df.TechSupport.value_counts(normalize=True)"
   ]
  },
  {
   "cell_type": "code",
   "execution_count": 37,
   "metadata": {
    "ExecuteTime": {
     "end_time": "2020-05-29T22:32:38.158154Z",
     "start_time": "2020-05-29T22:32:38.143991Z"
    },
    "scrolled": true
   },
   "outputs": [
    {
     "data": {
      "text/plain": [
       "Series([], Name: OnlineSecurity, dtype: float64)"
      ]
     },
     "execution_count": 37,
     "metadata": {},
     "output_type": "execute_result"
    }
   ],
   "source": [
    "df[df['Churn']=='Yes'].OnlineSecurity.value_counts(normalize=True)"
   ]
  },
  {
   "cell_type": "code",
   "execution_count": 38,
   "metadata": {
    "ExecuteTime": {
     "end_time": "2020-05-29T22:32:38.173673Z",
     "start_time": "2020-05-29T22:32:38.159826Z"
    }
   },
   "outputs": [
    {
     "data": {
      "text/plain": [
       "Series([], Name: OnlineSecurity, dtype: float64)"
      ]
     },
     "execution_count": 38,
     "metadata": {},
     "output_type": "execute_result"
    }
   ],
   "source": [
    "df[df['Churn']=='No'].OnlineSecurity.value_counts(normalize=True)"
   ]
  },
  {
   "cell_type": "code",
   "execution_count": 39,
   "metadata": {
    "ExecuteTime": {
     "end_time": "2020-05-29T22:32:38.188463Z",
     "start_time": "2020-05-29T22:32:38.175351Z"
    }
   },
   "outputs": [
    {
     "data": {
      "text/plain": [
       "Series([], Name: TechSupport, dtype: float64)"
      ]
     },
     "execution_count": 39,
     "metadata": {},
     "output_type": "execute_result"
    }
   ],
   "source": [
    "df[df['Churn']=='Yes'].TechSupport.value_counts(normalize=True)"
   ]
  },
  {
   "cell_type": "code",
   "execution_count": 40,
   "metadata": {
    "ExecuteTime": {
     "end_time": "2020-05-29T22:32:38.202298Z",
     "start_time": "2020-05-29T22:32:38.190005Z"
    }
   },
   "outputs": [
    {
     "data": {
      "text/plain": [
       "Series([], Name: TechSupport, dtype: float64)"
      ]
     },
     "execution_count": 40,
     "metadata": {},
     "output_type": "execute_result"
    }
   ],
   "source": [
    "df[df['Churn']=='No'].TechSupport.value_counts(normalize=True)"
   ]
  },
  {
   "cell_type": "code",
   "execution_count": 41,
   "metadata": {
    "ExecuteTime": {
     "end_time": "2020-05-29T22:32:38.209264Z",
     "start_time": "2020-05-29T22:32:38.204702Z"
    }
   },
   "outputs": [],
   "source": [
    "df = df.drop(['OnlineSecurity'], axis=1)"
   ]
  },
  {
   "cell_type": "markdown",
   "metadata": {},
   "source": [
    "##### Heat map to analyze multicollinerity "
   ]
  },
  {
   "cell_type": "markdown",
   "metadata": {},
   "source": [
    "There is multicollinearity between 'InternetService', 'OnlineSecurity','OnlineBackup','DeviceProtection', 'TechSupport', 'StreamingTV', 'StreamingMovies' columns. We can solve this by using Lasso algorithm."
   ]
  },
  {
   "cell_type": "code",
   "execution_count": 42,
   "metadata": {
    "ExecuteTime": {
     "end_time": "2020-05-29T22:32:38.740941Z",
     "start_time": "2020-05-29T22:32:38.211003Z"
    }
   },
   "outputs": [
    {
     "data": {
      "image/png": "[encoded data removed]",
      "text/plain": [
       "<Figure size 1152x864 with 2 Axes>"
      ]
     },
     "metadata": {
      "needs_background": "light"
     },
     "output_type": "display_data"
    }
   ],
   "source": [
    "plt.figure(figsize=(16, 12))\n",
    "corr = df.apply(lambda x: pd.factorize(x)[0]).corr()\n",
    "ax = sns.heatmap(corr, xticklabels=corr.columns, yticklabels=corr.columns, \n",
    "                 linewidths=.2, cmap=\"YlGnBu\")"
   ]
  },
  {
   "cell_type": "markdown",
   "metadata": {},
   "source": [
    "### One hot encoding the categorical columns"
   ]
  },
  {
   "cell_type": "code",
   "execution_count": 43,
   "metadata": {
    "ExecuteTime": {
     "end_time": "2020-05-29T22:32:38.766165Z",
     "start_time": "2020-05-29T22:32:38.742809Z"
    }
   },
   "outputs": [],
   "source": [
    "df_ohe =pd.get_dummies(df, columns=['SeniorCitizen', 'Partner', 'Dependents', \n",
    "       'MultipleLines', 'InternetService', 'OnlineBackup','DeviceProtection', \n",
    "       'TechSupport', 'StreamingTV','Contract', 'PaperlessBilling', 'PaymentMethod'], drop_first=True)"
   ]
  },
  {
   "cell_type": "code",
   "execution_count": 44,
   "metadata": {
    "ExecuteTime": {
     "end_time": "2020-05-29T22:32:38.790500Z",
     "start_time": "2020-05-29T22:32:38.768654Z"
    }
   },
   "outputs": [
    {
     "data": {
      "text/html": [
       "<div>\n",
       "<style scoped>\n",
       "    .dataframe tbody tr th:only-of-type {\n",
       "        vertical-align: middle;\n",
       "    }\n",
       "\n",
       "    .dataframe tbody tr th {\n",
       "        vertical-align: top;\n",
       "    }\n",
       "\n",
       "    .dataframe thead th {\n",
       "        text-align: right;\n",
       "    }\n",
       "</style>\n",
       "<table border=\"1\" class=\"dataframe\">\n",
       "  <thead>\n",
       "    <tr style=\"text-align: right;\">\n",
       "      <th></th>\n",
       "      <th>tenure</th>\n",
       "      <th>MonthlyCharges</th>\n",
       "      <th>TotalCharges</th>\n",
       "      <th>Churn</th>\n",
       "      <th>SeniorCitizen_1</th>\n",
       "      <th>Partner_Yes</th>\n",
       "      <th>Dependents_Yes</th>\n",
       "      <th>MultipleLines_No phone service</th>\n",
       "      <th>MultipleLines_Yes</th>\n",
       "      <th>InternetService_Fiber optic</th>\n",
       "      <th>...</th>\n",
       "      <th>TechSupport_No internet service</th>\n",
       "      <th>TechSupport_Yes</th>\n",
       "      <th>StreamingTV_No internet service</th>\n",
       "      <th>StreamingTV_Yes</th>\n",
       "      <th>Contract_One year</th>\n",
       "      <th>Contract_Two year</th>\n",
       "      <th>PaperlessBilling_Yes</th>\n",
       "      <th>PaymentMethod_Credit card (automatic)</th>\n",
       "      <th>PaymentMethod_Electronic check</th>\n",
       "      <th>PaymentMethod_Mailed check</th>\n",
       "    </tr>\n",
       "  </thead>\n",
       "  <tbody>\n",
       "    <tr>\n",
       "      <td>0</td>\n",
       "      <td>1</td>\n",
       "      <td>29.85</td>\n",
       "      <td>29.85</td>\n",
       "      <td>0</td>\n",
       "      <td>0</td>\n",
       "      <td>1</td>\n",
       "      <td>0</td>\n",
       "      <td>1</td>\n",
       "      <td>0</td>\n",
       "      <td>0</td>\n",
       "      <td>...</td>\n",
       "      <td>0</td>\n",
       "      <td>0</td>\n",
       "      <td>0</td>\n",
       "      <td>0</td>\n",
       "      <td>0</td>\n",
       "      <td>0</td>\n",
       "      <td>1</td>\n",
       "      <td>0</td>\n",
       "      <td>1</td>\n",
       "      <td>0</td>\n",
       "    </tr>\n",
       "    <tr>\n",
       "      <td>1</td>\n",
       "      <td>34</td>\n",
       "      <td>56.95</td>\n",
       "      <td>1889.50</td>\n",
       "      <td>0</td>\n",
       "      <td>0</td>\n",
       "      <td>0</td>\n",
       "      <td>0</td>\n",
       "      <td>0</td>\n",
       "      <td>0</td>\n",
       "      <td>0</td>\n",
       "      <td>...</td>\n",
       "      <td>0</td>\n",
       "      <td>0</td>\n",
       "      <td>0</td>\n",
       "      <td>0</td>\n",
       "      <td>1</td>\n",
       "      <td>0</td>\n",
       "      <td>0</td>\n",
       "      <td>0</td>\n",
       "      <td>0</td>\n",
       "      <td>1</td>\n",
       "    </tr>\n",
       "    <tr>\n",
       "      <td>2</td>\n",
       "      <td>2</td>\n",
       "      <td>53.85</td>\n",
       "      <td>108.15</td>\n",
       "      <td>1</td>\n",
       "      <td>0</td>\n",
       "      <td>0</td>\n",
       "      <td>0</td>\n",
       "      <td>0</td>\n",
       "      <td>0</td>\n",
       "      <td>0</td>\n",
       "      <td>...</td>\n",
       "      <td>0</td>\n",
       "      <td>0</td>\n",
       "      <td>0</td>\n",
       "      <td>0</td>\n",
       "      <td>0</td>\n",
       "      <td>0</td>\n",
       "      <td>1</td>\n",
       "      <td>0</td>\n",
       "      <td>0</td>\n",
       "      <td>1</td>\n",
       "    </tr>\n",
       "    <tr>\n",
       "      <td>3</td>\n",
       "      <td>45</td>\n",
       "      <td>42.30</td>\n",
       "      <td>1840.75</td>\n",
       "      <td>0</td>\n",
       "      <td>0</td>\n",
       "      <td>0</td>\n",
       "      <td>0</td>\n",
       "      <td>1</td>\n",
       "      <td>0</td>\n",
       "      <td>0</td>\n",
       "      <td>...</td>\n",
       "      <td>0</td>\n",
       "      <td>1</td>\n",
       "      <td>0</td>\n",
       "      <td>0</td>\n",
       "      <td>1</td>\n",
       "      <td>0</td>\n",
       "      <td>0</td>\n",
       "      <td>0</td>\n",
       "      <td>0</td>\n",
       "      <td>0</td>\n",
       "    </tr>\n",
       "    <tr>\n",
       "      <td>4</td>\n",
       "      <td>2</td>\n",
       "      <td>70.70</td>\n",
       "      <td>151.65</td>\n",
       "      <td>1</td>\n",
       "      <td>0</td>\n",
       "      <td>0</td>\n",
       "      <td>0</td>\n",
       "      <td>0</td>\n",
       "      <td>0</td>\n",
       "      <td>1</td>\n",
       "      <td>...</td>\n",
       "      <td>0</td>\n",
       "      <td>0</td>\n",
       "      <td>0</td>\n",
       "      <td>0</td>\n",
       "      <td>0</td>\n",
       "      <td>0</td>\n",
       "      <td>1</td>\n",
       "      <td>0</td>\n",
       "      <td>1</td>\n",
       "      <td>0</td>\n",
       "    </tr>\n",
       "  </tbody>\n",
       "</table>\n",
       "<p>5 rows × 25 columns</p>\n",
       "</div>"
      ],
      "text/plain": [
       "   tenure  MonthlyCharges  TotalCharges  Churn  SeniorCitizen_1  Partner_Yes  \\\n",
       "0       1           29.85         29.85      0                0            1   \n",
       "1      34           56.95       1889.50      0                0            0   \n",
       "2       2           53.85        108.15      1                0            0   \n",
       "3      45           42.30       1840.75      0                0            0   \n",
       "4       2           70.70        151.65      1                0            0   \n",
       "\n",
       "   Dependents_Yes  MultipleLines_No phone service  MultipleLines_Yes  \\\n",
       "0               0                               1                  0   \n",
       "1               0                               0                  0   \n",
       "2               0                               0                  0   \n",
       "3               0                               1                  0   \n",
       "4               0                               0                  0   \n",
       "\n",
       "   InternetService_Fiber optic  ...  TechSupport_No internet service  \\\n",
       "0                            0  ...                                0   \n",
       "1                            0  ...                                0   \n",
       "2                            0  ...                                0   \n",
       "3                            0  ...                                0   \n",
       "4                            1  ...                                0   \n",
       "\n",
       "   TechSupport_Yes  StreamingTV_No internet service  StreamingTV_Yes  \\\n",
       "0                0                                0                0   \n",
       "1                0                                0                0   \n",
       "2                0                                0                0   \n",
       "3                1                                0                0   \n",
       "4                0                                0                0   \n",
       "\n",
       "   Contract_One year  Contract_Two year  PaperlessBilling_Yes  \\\n",
       "0                  0                  0                     1   \n",
       "1                  1                  0                     0   \n",
       "2                  0                  0                     1   \n",
       "3                  1                  0                     0   \n",
       "4                  0                  0                     1   \n",
       "\n",
       "   PaymentMethod_Credit card (automatic)  PaymentMethod_Electronic check  \\\n",
       "0                                      0                               1   \n",
       "1                                      0                               0   \n",
       "2                                      0                               0   \n",
       "3                                      0                               0   \n",
       "4                                      0                               1   \n",
       "\n",
       "   PaymentMethod_Mailed check  \n",
       "0                           0  \n",
       "1                           1  \n",
       "2                           1  \n",
       "3                           0  \n",
       "4                           0  \n",
       "\n",
       "[5 rows x 25 columns]"
      ]
     },
     "execution_count": 44,
     "metadata": {},
     "output_type": "execute_result"
    }
   ],
   "source": [
    "df_ohe.head()"
   ]
  },
  {
   "cell_type": "markdown",
   "metadata": {},
   "source": [
    "### Saving the cleaned and one hot encoded data frame as a new data set."
   ]
  },
  {
   "cell_type": "code",
   "execution_count": 49,
   "metadata": {
    "ExecuteTime": {
     "end_time": "2020-05-29T22:35:04.702183Z",
     "start_time": "2020-05-29T22:35:04.520998Z"
    }
   },
   "outputs": [],
   "source": [
    "df_ohe.to_csv(\"TelcoCustomerChurnData_cleaned_ohe.csv\", index=False)"
   ]
  },
  {
   "cell_type": "markdown",
   "metadata": {},
   "source": [
    "https://stats.idre.ucla.edu/other/mult-pkg/faq/general/faq-how-do-i-interpret-odds-ratios-in-logistic-regression/"
   ]
  },
  {
   "cell_type": "markdown",
   "metadata": {},
   "source": [
    "https://www.analyticsvidhya.com/blog/2020/03/google-colab-machine-learning-deep-learning/"
   ]
  },
  {
   "cell_type": "markdown",
   "metadata": {},
   "source": [
    "https://jamesrledoux.com/code/grid_search"
   ]
  },
  {
   "cell_type": "code",
   "execution_count": 47,
   "metadata": {
    "ExecuteTime": {
     "end_time": "2020-05-29T22:33:24.332685Z",
     "start_time": "2020-05-29T22:33:24.329960Z"
    }
   },
   "outputs": [],
   "source": [
    "# #Report for all the models  in a dataframe\n",
    "\n",
    "# report_ = []\n",
    "# lines = classification_report(test_Y, predictions).split('\\n')\n",
    "# for l in lines[2:-4]:\n",
    "#     row_ = l.split()\n",
    "#     if len(row_) != 0:\n",
    "#         row = {}\n",
    "#         row['precision'] = float(row_[-4])\n",
    "#         row['recall'] = float(row_[-3])\n",
    "#         row['f1_score'] = float(row_[-2])\n",
    "#         row['support'] = float(row_[-1])\n",
    "#         row['class'] = {1: \"Churn\", 0: \"No Churn\"}[int(row_[0])]\n",
    "#         report_.append(row)\n",
    "# dataframe = pd.DataFrame.from_dict(report_)\n",
    "# dataframe.head()"
   ]
  },
  {
   "cell_type": "code",
   "execution_count": null,
   "metadata": {},
   "outputs": [],
   "source": []
  },
  {
   "cell_type": "markdown",
   "metadata": {},
   "source": [
    "\n",
    "https://www.kaggle.com/nicholasgah/churn-prediction-model-and-cap-curve"
   ]
  },
  {
   "cell_type": "code",
   "execution_count": null,
   "metadata": {
    "ExecuteTime": {
     "end_time": "2020-05-29T22:32:39.023884Z",
     "start_time": "2020-05-29T22:32:29.244Z"
    }
   },
   "outputs": [],
   "source": [
    "df[\"Responsibility_Score\"] = (df[\"Partner\"] + df[\"Dependents\"] + df[\"SeniorCitizen\"]) / 3\n",
    "df[\"Phone_Reliance\"] = (df[\"PhoneService\"] + df[\"MultipleLines\"]) / 2\n",
    "df[\"Support\"] = (df[\"OnlineSecurity\"] + df[\"OnlineBackup\"] + df[\"DeviceProtection\"] + df[\"TechSupport\"]) / 4\n",
    "df[\"Online_Services\"] = (df[\"InternetService\"] + df[\"StreamingTV\"] + df[\"StreamingMovies\"]) / 3\n",
    "df[\"Duration\"] = (df[\"tenure\"] + df[\"Contract\"]) / 2\n"
   ]
  },
  {
   "cell_type": "code",
   "execution_count": null,
   "metadata": {
    "ExecuteTime": {
     "end_time": "2020-05-29T22:32:39.024993Z",
     "start_time": "2020-05-29T22:32:29.246Z"
    }
   },
   "outputs": [],
   "source": [
    "\n",
    "drop_cols = [\"PaperlessBilling\",\"Partner\", \"Dependents\", \"SeniorCitizen\", \"PhoneService\", \"MultipleLines\",\n",
    "            \"OnlineSecurity\", \"OnlineBackup\", \"DeviceProtection\", \"TechSupport\",\n",
    "            \"InternetService\", \"StreamingTV\", \"StreamingMovies\",\n",
    "            \"tenure\", \"Contract\"]\n",
    "df = df.drop(drop_cols, axis=1)\n",
    "df.head()\n"
   ]
  }
 ],
 "metadata": {
  "kernelspec": {
   "display_name": "Python 3",
   "language": "python",
   "name": "python3"
  },
  "language_info": {
   "codemirror_mode": {
    "name": "ipython",
    "version": 3
   },
   "file_extension": ".py",
   "mimetype": "text/x-python",
   "name": "python",
   "nbconvert_exporter": "python",
   "pygments_lexer": "ipython3",
   "version": "3.7.4"
  },
  "varInspector": {
   "cols": {
    "lenName": 16,
    "lenType": 16,
    "lenVar": 40
   },
   "kernels_config": {
    "python": {
     "delete_cmd_postfix": "",
     "delete_cmd_prefix": "del ",
     "library": "var_list.py",
     "varRefreshCmd": "print(var_dic_list())"
    },
    "r": {
     "delete_cmd_postfix": ") ",
     "delete_cmd_prefix": "rm(",
     "library": "var_list.r",
     "varRefreshCmd": "cat(var_dic_list()) "
    }
   },
   "types_to_exclude": [
    "module",
    "function",
    "builtin_function_or_method",
    "instance",
    "_Feature"
   ],
   "window_display": true
  }
 },
 "nbformat": 4,
 "nbformat_minor": 2
}
