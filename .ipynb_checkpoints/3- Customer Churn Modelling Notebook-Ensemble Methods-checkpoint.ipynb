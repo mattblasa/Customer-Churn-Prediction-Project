{
 "cells": [
  {
   "cell_type": "markdown",
   "metadata": {
    "toc": true
   },
   "source": [
    "<h1>Table of Contents<span class=\"tocSkip\"></span></h1>\n",
    "<div class=\"toc\"><ul class=\"toc-item\"><li><ul class=\"toc-item\"><li><span><a href=\"#Final-Project-Notebook-3-Ensemble-Modelling\" data-toc-modified-id=\"Final-Project-Notebook-3-Ensemble-Modelling-0.1\"><span class=\"toc-item-num\">0.1&nbsp;&nbsp;</span>Final Project Notebook-3 Ensemble Modelling</a></span><ul class=\"toc-item\"><li><span><a href=\"#Splitting-the-data-into-test-and-train-sets\" data-toc-modified-id=\"Splitting-the-data-into-test-and-train-sets-0.1.1\"><span class=\"toc-item-num\">0.1.1&nbsp;&nbsp;</span>Splitting the data into test and train sets</a></span></li><li><span><a href=\"#Scaling-the-data-by-sklearn-Standard-Scaler\" data-toc-modified-id=\"Scaling-the-data-by-sklearn-Standard-Scaler-0.1.2\"><span class=\"toc-item-num\">0.1.2&nbsp;&nbsp;</span>Scaling the data by sklearn Standard Scaler</a></span></li><li><span><a href=\"#Functions-to-evaluate-the-model\" data-toc-modified-id=\"Functions-to-evaluate-the-model-0.1.3\"><span class=\"toc-item-num\">0.1.3&nbsp;&nbsp;</span>Functions to evaluate the model</a></span></li><li><span><a href=\"#Handling-Imbalanced-Data\" data-toc-modified-id=\"Handling-Imbalanced-Data-0.1.4\"><span class=\"toc-item-num\">0.1.4&nbsp;&nbsp;</span>Handling Imbalanced Data</a></span><ul class=\"toc-item\"><li><span><a href=\"#SMOTE\" data-toc-modified-id=\"SMOTE-0.1.4.1\"><span class=\"toc-item-num\">0.1.4.1&nbsp;&nbsp;</span>SMOTE</a></span></li><li><span><a href=\"#ADASYN\" data-toc-modified-id=\"ADASYN-0.1.4.2\"><span class=\"toc-item-num\">0.1.4.2&nbsp;&nbsp;</span>ADASYN</a></span></li></ul></li></ul></li></ul></li><li><span><a href=\"#RANDOM-FOREST\" data-toc-modified-id=\"RANDOM-FOREST-1\"><span class=\"toc-item-num\">1&nbsp;&nbsp;</span>RANDOM FOREST</a></span><ul class=\"toc-item\"><li><span><a href=\"#Random-Forest-Baseline-Model\" data-toc-modified-id=\"Random-Forest-Baseline-Model-1.1\"><span class=\"toc-item-num\">1.1&nbsp;&nbsp;</span>Random Forest Baseline Model</a></span><ul class=\"toc-item\"><li><span><a href=\"#Instantiate,-fit-and-predict\" data-toc-modified-id=\"Instantiate,-fit-and-predict-1.1.1\"><span class=\"toc-item-num\">1.1.1&nbsp;&nbsp;</span>Instantiate, fit and predict</a></span></li><li><span><a href=\"#Print-evaluation-metrics\" data-toc-modified-id=\"Print-evaluation-metrics-1.1.2\"><span class=\"toc-item-num\">1.1.2&nbsp;&nbsp;</span>Print evaluation metrics</a></span></li><li><span><a href=\"#Feature-Importances\" data-toc-modified-id=\"Feature-Importances-1.1.3\"><span class=\"toc-item-num\">1.1.3&nbsp;&nbsp;</span>Feature Importances</a></span><ul class=\"toc-item\"><li><span><a href=\"#Interpreting-the-results-of-the-first-Random-Forest-model\" data-toc-modified-id=\"Interpreting-the-results-of-the-first-Random-Forest-model-1.1.3.1\"><span class=\"toc-item-num\">1.1.3.1&nbsp;&nbsp;</span>Interpreting the results of the first Random Forest model</a></span></li></ul></li></ul></li><li><span><a href=\"#Random-Forest(-Grid-search-and--pipeline-)\" data-toc-modified-id=\"Random-Forest(-Grid-search-and--pipeline-)-1.2\"><span class=\"toc-item-num\">1.2&nbsp;&nbsp;</span>Random Forest( Grid search and  pipeline )</a></span><ul class=\"toc-item\"><li><span><a href=\"#Instantiate-the-pipeline\" data-toc-modified-id=\"Instantiate-the-pipeline-1.2.1\"><span class=\"toc-item-num\">1.2.1&nbsp;&nbsp;</span>Instantiate the pipeline</a></span></li><li><span><a href=\"#Define-the-grid\" data-toc-modified-id=\"Define-the-grid-1.2.2\"><span class=\"toc-item-num\">1.2.2&nbsp;&nbsp;</span>Define the grid</a></span></li><li><span><a href=\"#Instantiate,-fit-and-predict\" data-toc-modified-id=\"Instantiate,-fit-and-predict-1.2.3\"><span class=\"toc-item-num\">1.2.3&nbsp;&nbsp;</span>Instantiate, fit and predict</a></span></li><li><span><a href=\"#Print-evaluation-metrics\" data-toc-modified-id=\"Print-evaluation-metrics-1.2.4\"><span class=\"toc-item-num\">1.2.4&nbsp;&nbsp;</span>Print evaluation metrics</a></span></li><li><span><a href=\"#Best-Scores\" data-toc-modified-id=\"Best-Scores-1.2.5\"><span class=\"toc-item-num\">1.2.5&nbsp;&nbsp;</span>Best Scores</a></span><ul class=\"toc-item\"><li><span><a href=\"#Best-Parameters\" data-toc-modified-id=\"Best-Parameters-1.2.5.1\"><span class=\"toc-item-num\">1.2.5.1&nbsp;&nbsp;</span>Best Parameters</a></span></li></ul></li></ul></li></ul></li><li><span><a href=\"#Xgboost\" data-toc-modified-id=\"Xgboost-2\"><span class=\"toc-item-num\">2&nbsp;&nbsp;</span>Xgboost</a></span><ul class=\"toc-item\"><li><ul class=\"toc-item\"><li><span><a href=\"#Instantiate,-fit-and-predict\" data-toc-modified-id=\"Instantiate,-fit-and-predict-2.0.1\"><span class=\"toc-item-num\">2.0.1&nbsp;&nbsp;</span>Instantiate, fit and predict</a></span></li><li><span><a href=\"#Print-evaluation-metrics\" data-toc-modified-id=\"Print-evaluation-metrics-2.0.2\"><span class=\"toc-item-num\">2.0.2&nbsp;&nbsp;</span>Print evaluation metrics</a></span></li><li><span><a href=\"#Feature-Importances\" data-toc-modified-id=\"Feature-Importances-2.0.3\"><span class=\"toc-item-num\">2.0.3&nbsp;&nbsp;</span>Feature Importances</a></span></li></ul></li></ul></li><li><span><a href=\"#Conclusion:\" data-toc-modified-id=\"Conclusion:-3\"><span class=\"toc-item-num\">3&nbsp;&nbsp;</span>Conclusion:</a></span><ul class=\"toc-item\"><li><span><a href=\"#Summary:\" data-toc-modified-id=\"Summary:-3.1\"><span class=\"toc-item-num\">3.1&nbsp;&nbsp;</span>Summary:</a></span></li><li><span><a href=\"#Business-questions-answered\" data-toc-modified-id=\"Business-questions-answered-3.2\"><span class=\"toc-item-num\">3.2&nbsp;&nbsp;</span>Business questions answered</a></span></li></ul></li></ul></div>"
   ]
  },
  {
   "cell_type": "markdown",
   "metadata": {},
   "source": [
    "## Final Project Notebook-3 Ensemble Modelling\n",
    "\n",
    "Please fill out:\n",
    "* Student name: Seyma Tas\n",
    "* Student pace: full time\n",
    "* Scheduled project review date/time: \n",
    "* Instructor name: Amber Yandow\n",
    "* Blog post URL:\n"
   ]
  },
  {
   "cell_type": "markdown",
   "metadata": {},
   "source": [
    "This is the ensemble modelling notebook. This notebook contains .......models..."
   ]
  },
  {
   "cell_type": "markdown",
   "metadata": {},
   "source": [
    "##### Import the necessary libraries."
   ]
  },
  {
   "cell_type": "code",
   "execution_count": 1,
   "metadata": {
    "ExecuteTime": {
     "end_time": "2020-05-31T09:24:26.860320Z",
     "start_time": "2020-05-31T09:24:25.336590Z"
    }
   },
   "outputs": [],
   "source": [
    "import seaborn as sns\n",
    "import pandas as pd\n",
    "import numpy as np\n",
    "import matplotlib.pyplot as plt\n",
    "%matplotlib inline\n",
    "\n",
    "sns.set_style('darkgrid', {'axes.facecolor': '0.9'})\n",
    "\n",
    "from sklearn.preprocessing import LabelEncoder, OneHotEncoder, StandardScaler\n",
    "from sklearn.model_selection import train_test_split, cross_val_score, GridSearchCV, ParameterGrid\n",
    "from sklearn.metrics import recall_score, f1_score, fbeta_score, r2_score, roc_auc_score, roc_curve, auc, cohen_kappa_score\n",
    "from sklearn.metrics import classification_report, confusion_matrix, accuracy_score, precision_score\n",
    "from sklearn.metrics import make_scorer\n",
    "# from sklearn.metrics import plot_confusion_matrix\n",
    "## This function is going to be available in the scikit-learn 0.23.1 \n",
    "from sklearn.linear_model import LogisticRegression, SGDClassifier\n",
    "from imblearn.over_sampling import SMOTE, ADASYN\n",
    "from sklearn.tree import DecisionTreeClassifier\n",
    "from sklearn.ensemble import RandomForestClassifier, AdaBoostClassifier, GradientBoostingClassifier, BaggingClassifier\n",
    "from sklearn.pipeline import Pipeline\n",
    "import xgboost as xgb\n",
    "\n",
    "import warnings\n",
    "warnings.filterwarnings('ignore')"
   ]
  },
  {
   "cell_type": "markdown",
   "metadata": {},
   "source": [
    "##### Download the data set which was cleaned, unnecessary columns are omitted and one hot encoded."
   ]
  },
  {
   "cell_type": "code",
   "execution_count": 2,
   "metadata": {
    "ExecuteTime": {
     "end_time": "2020-05-31T09:24:26.882211Z",
     "start_time": "2020-05-31T09:24:26.863065Z"
    }
   },
   "outputs": [],
   "source": [
    "df = pd.read_csv('TelcoCustomerChurnData_cleaned_ohe.csv')"
   ]
  },
  {
   "cell_type": "code",
   "execution_count": 3,
   "metadata": {
    "ExecuteTime": {
     "end_time": "2020-05-31T09:24:26.903607Z",
     "start_time": "2020-05-31T09:24:26.884012Z"
    }
   },
   "outputs": [
    {
     "data": {
      "text/html": [
       "<div>\n",
       "<style scoped>\n",
       "    .dataframe tbody tr th:only-of-type {\n",
       "        vertical-align: middle;\n",
       "    }\n",
       "\n",
       "    .dataframe tbody tr th {\n",
       "        vertical-align: top;\n",
       "    }\n",
       "\n",
       "    .dataframe thead th {\n",
       "        text-align: right;\n",
       "    }\n",
       "</style>\n",
       "<table border=\"1\" class=\"dataframe\">\n",
       "  <thead>\n",
       "    <tr style=\"text-align: right;\">\n",
       "      <th></th>\n",
       "      <th>tenure</th>\n",
       "      <th>MonthlyCharges</th>\n",
       "      <th>TotalCharges</th>\n",
       "      <th>Churn</th>\n",
       "      <th>SeniorCitizen_1</th>\n",
       "      <th>Partner_Yes</th>\n",
       "      <th>Dependents_Yes</th>\n",
       "      <th>MultipleLines_No phone service</th>\n",
       "      <th>MultipleLines_Yes</th>\n",
       "      <th>InternetService_Fiber optic</th>\n",
       "      <th>...</th>\n",
       "      <th>TechSupport_No internet service</th>\n",
       "      <th>TechSupport_Yes</th>\n",
       "      <th>StreamingTV_No internet service</th>\n",
       "      <th>StreamingTV_Yes</th>\n",
       "      <th>Contract_One year</th>\n",
       "      <th>Contract_Two year</th>\n",
       "      <th>PaperlessBilling_Yes</th>\n",
       "      <th>PaymentMethod_Credit card (automatic)</th>\n",
       "      <th>PaymentMethod_Electronic check</th>\n",
       "      <th>PaymentMethod_Mailed check</th>\n",
       "    </tr>\n",
       "  </thead>\n",
       "  <tbody>\n",
       "    <tr>\n",
       "      <td>0</td>\n",
       "      <td>1</td>\n",
       "      <td>29.85</td>\n",
       "      <td>29.85</td>\n",
       "      <td>0</td>\n",
       "      <td>0</td>\n",
       "      <td>1</td>\n",
       "      <td>0</td>\n",
       "      <td>1</td>\n",
       "      <td>0</td>\n",
       "      <td>0</td>\n",
       "      <td>...</td>\n",
       "      <td>0</td>\n",
       "      <td>0</td>\n",
       "      <td>0</td>\n",
       "      <td>0</td>\n",
       "      <td>0</td>\n",
       "      <td>0</td>\n",
       "      <td>1</td>\n",
       "      <td>0</td>\n",
       "      <td>1</td>\n",
       "      <td>0</td>\n",
       "    </tr>\n",
       "    <tr>\n",
       "      <td>1</td>\n",
       "      <td>34</td>\n",
       "      <td>56.95</td>\n",
       "      <td>1889.50</td>\n",
       "      <td>0</td>\n",
       "      <td>0</td>\n",
       "      <td>0</td>\n",
       "      <td>0</td>\n",
       "      <td>0</td>\n",
       "      <td>0</td>\n",
       "      <td>0</td>\n",
       "      <td>...</td>\n",
       "      <td>0</td>\n",
       "      <td>0</td>\n",
       "      <td>0</td>\n",
       "      <td>0</td>\n",
       "      <td>1</td>\n",
       "      <td>0</td>\n",
       "      <td>0</td>\n",
       "      <td>0</td>\n",
       "      <td>0</td>\n",
       "      <td>1</td>\n",
       "    </tr>\n",
       "    <tr>\n",
       "      <td>2</td>\n",
       "      <td>2</td>\n",
       "      <td>53.85</td>\n",
       "      <td>108.15</td>\n",
       "      <td>1</td>\n",
       "      <td>0</td>\n",
       "      <td>0</td>\n",
       "      <td>0</td>\n",
       "      <td>0</td>\n",
       "      <td>0</td>\n",
       "      <td>0</td>\n",
       "      <td>...</td>\n",
       "      <td>0</td>\n",
       "      <td>0</td>\n",
       "      <td>0</td>\n",
       "      <td>0</td>\n",
       "      <td>0</td>\n",
       "      <td>0</td>\n",
       "      <td>1</td>\n",
       "      <td>0</td>\n",
       "      <td>0</td>\n",
       "      <td>1</td>\n",
       "    </tr>\n",
       "    <tr>\n",
       "      <td>3</td>\n",
       "      <td>45</td>\n",
       "      <td>42.30</td>\n",
       "      <td>1840.75</td>\n",
       "      <td>0</td>\n",
       "      <td>0</td>\n",
       "      <td>0</td>\n",
       "      <td>0</td>\n",
       "      <td>1</td>\n",
       "      <td>0</td>\n",
       "      <td>0</td>\n",
       "      <td>...</td>\n",
       "      <td>0</td>\n",
       "      <td>1</td>\n",
       "      <td>0</td>\n",
       "      <td>0</td>\n",
       "      <td>1</td>\n",
       "      <td>0</td>\n",
       "      <td>0</td>\n",
       "      <td>0</td>\n",
       "      <td>0</td>\n",
       "      <td>0</td>\n",
       "    </tr>\n",
       "    <tr>\n",
       "      <td>4</td>\n",
       "      <td>2</td>\n",
       "      <td>70.70</td>\n",
       "      <td>151.65</td>\n",
       "      <td>1</td>\n",
       "      <td>0</td>\n",
       "      <td>0</td>\n",
       "      <td>0</td>\n",
       "      <td>0</td>\n",
       "      <td>0</td>\n",
       "      <td>1</td>\n",
       "      <td>...</td>\n",
       "      <td>0</td>\n",
       "      <td>0</td>\n",
       "      <td>0</td>\n",
       "      <td>0</td>\n",
       "      <td>0</td>\n",
       "      <td>0</td>\n",
       "      <td>1</td>\n",
       "      <td>0</td>\n",
       "      <td>1</td>\n",
       "      <td>0</td>\n",
       "    </tr>\n",
       "  </tbody>\n",
       "</table>\n",
       "<p>5 rows × 25 columns</p>\n",
       "</div>"
      ],
      "text/plain": [
       "   tenure  MonthlyCharges  TotalCharges  Churn  SeniorCitizen_1  Partner_Yes  \\\n",
       "0       1           29.85         29.85      0                0            1   \n",
       "1      34           56.95       1889.50      0                0            0   \n",
       "2       2           53.85        108.15      1                0            0   \n",
       "3      45           42.30       1840.75      0                0            0   \n",
       "4       2           70.70        151.65      1                0            0   \n",
       "\n",
       "   Dependents_Yes  MultipleLines_No phone service  MultipleLines_Yes  \\\n",
       "0               0                               1                  0   \n",
       "1               0                               0                  0   \n",
       "2               0                               0                  0   \n",
       "3               0                               1                  0   \n",
       "4               0                               0                  0   \n",
       "\n",
       "   InternetService_Fiber optic  ...  TechSupport_No internet service  \\\n",
       "0                            0  ...                                0   \n",
       "1                            0  ...                                0   \n",
       "2                            0  ...                                0   \n",
       "3                            0  ...                                0   \n",
       "4                            1  ...                                0   \n",
       "\n",
       "   TechSupport_Yes  StreamingTV_No internet service  StreamingTV_Yes  \\\n",
       "0                0                                0                0   \n",
       "1                0                                0                0   \n",
       "2                0                                0                0   \n",
       "3                1                                0                0   \n",
       "4                0                                0                0   \n",
       "\n",
       "   Contract_One year  Contract_Two year  PaperlessBilling_Yes  \\\n",
       "0                  0                  0                     1   \n",
       "1                  1                  0                     0   \n",
       "2                  0                  0                     1   \n",
       "3                  1                  0                     0   \n",
       "4                  0                  0                     1   \n",
       "\n",
       "   PaymentMethod_Credit card (automatic)  PaymentMethod_Electronic check  \\\n",
       "0                                      0                               1   \n",
       "1                                      0                               0   \n",
       "2                                      0                               0   \n",
       "3                                      0                               0   \n",
       "4                                      0                               1   \n",
       "\n",
       "   PaymentMethod_Mailed check  \n",
       "0                           0  \n",
       "1                           1  \n",
       "2                           1  \n",
       "3                           0  \n",
       "4                           0  \n",
       "\n",
       "[5 rows x 25 columns]"
      ]
     },
     "execution_count": 3,
     "metadata": {},
     "output_type": "execute_result"
    }
   ],
   "source": [
    "df.head()"
   ]
  },
  {
   "cell_type": "markdown",
   "metadata": {},
   "source": [
    "### Splitting the data into test and train sets"
   ]
  },
  {
   "cell_type": "code",
   "execution_count": 4,
   "metadata": {
    "ExecuteTime": {
     "end_time": "2020-05-31T09:24:26.910350Z",
     "start_time": "2020-05-31T09:24:26.905343Z"
    }
   },
   "outputs": [],
   "source": [
    "X = df.drop(['Churn'], axis=1)\n",
    "y = df['Churn']"
   ]
  },
  {
   "cell_type": "code",
   "execution_count": 5,
   "metadata": {
    "ExecuteTime": {
     "end_time": "2020-05-31T09:24:26.918951Z",
     "start_time": "2020-05-31T09:24:26.911910Z"
    }
   },
   "outputs": [],
   "source": [
    "X_train, X_test, y_train, y_test = train_test_split(X, y, random_state=42)"
   ]
  },
  {
   "cell_type": "markdown",
   "metadata": {},
   "source": [
    "### Scaling the data by sklearn Standard Scaler"
   ]
  },
  {
   "cell_type": "code",
   "execution_count": 6,
   "metadata": {
    "ExecuteTime": {
     "end_time": "2020-05-31T09:24:26.935069Z",
     "start_time": "2020-05-31T09:24:26.920704Z"
    }
   },
   "outputs": [],
   "source": [
    "scaler = StandardScaler()\n",
    "scaled_x_train = scaler.fit_transform(X_train)\n",
    "scaled_X_test = scaler.transform(X_test)\n",
    "scaled_X_train = pd.DataFrame(scaled_x_train, columns=X_train.columns)"
   ]
  },
  {
   "cell_type": "markdown",
   "metadata": {},
   "source": [
    "### Functions to evaluate the model"
   ]
  },
  {
   "cell_type": "markdown",
   "metadata": {},
   "source": [
    "##### Function to draw the ROC curve and to calculate the area under the curve"
   ]
  },
  {
   "cell_type": "code",
   "execution_count": 7,
   "metadata": {
    "ExecuteTime": {
     "end_time": "2020-05-31T09:24:26.947337Z",
     "start_time": "2020-05-31T09:24:26.938061Z"
    },
    "code_folding": []
   },
   "outputs": [],
   "source": [
    "def roc_curve_and_auc(clf, X_train, X_test, y_train, y_test):\n",
    "\n",
    "    # Calculate the probability scores of each point in the training set\n",
    "    y_train_score = clf.fit(X_train, y_train).decision_function(X_train)\n",
    "\n",
    "    # Calculate the fpr, tpr, and thresholds for the training set\n",
    "    train_fpr, train_tpr, thresholds = roc_curve(y_train, y_train_score)\n",
    "\n",
    "    # Calculate the probability scores of each point in the test set\n",
    "    y_test_score = clf.decision_function(X_test)\n",
    "\n",
    "    # Calculate the fpr, tpr, and thresholds for the test set\n",
    "    test_fpr, test_tpr, test_thresholds = roc_curve(y_test, y_test_score)\n",
    "\n",
    "    # ROC curve for training set\n",
    "    plt.figure(figsize=(10, 8))\n",
    "    lw = 2\n",
    "    plt.plot(train_fpr, train_tpr, color='darkorange',\n",
    "             lw=lw, label='Train ROC curve')\n",
    "    plt.plot(test_fpr, test_tpr, color='blue',\n",
    "             lw=lw, label='Test ROC curve')\n",
    "    plt.plot([0, 1], [0, 1], color='navy', lw=lw, linestyle='--')\n",
    "    plt.xlim([0.0, 1.0])\n",
    "    plt.ylim([0.0, 1.05])\n",
    "    plt.yticks([i/20.0 for i in range(21)])\n",
    "    plt.xticks([i/20.0 for i in range(21)])\n",
    "    plt.xlabel('False Positive Rate')\n",
    "    plt.ylabel('True Positive Rate')\n",
    "    plt.title(\n",
    "        'Receiver operating characteristic (ROC) Curve for Training and Testing Sets')\n",
    "    plt.legend(loc='lower right')\n",
    "    plt.show()\n",
    "    # Print the area under the roc curve\n",
    "    print('Training AUC: {}'.format(round(auc(train_fpr, train_tpr), 5)))\n",
    "    print('Testing AUC: {}'.format(round(auc(test_fpr, test_tpr), 5)))"
   ]
  },
  {
   "cell_type": "markdown",
   "metadata": {},
   "source": [
    "##### Function to draw the feature importances"
   ]
  },
  {
   "cell_type": "code",
   "execution_count": 8,
   "metadata": {
    "ExecuteTime": {
     "end_time": "2020-05-31T09:24:26.954730Z",
     "start_time": "2020-05-31T09:24:26.950023Z"
    },
    "code_folding": []
   },
   "outputs": [],
   "source": [
    "def plot_feature_importances(model):\n",
    "    n_features = X_train.shape[1]\n",
    "    plt.figure(figsize=(8, 8))\n",
    "    plt.barh(range(n_features), model.feature_importances_, align='center')\n",
    "    plt.yticks(np.arange(n_features), X_train.columns.values)\n",
    "    plt.xlabel('Feature importance')\n",
    "    plt.ylabel('Feature')"
   ]
  },
  {
   "cell_type": "markdown",
   "metadata": {},
   "source": [
    "##### Function to print the confusion matrix in a data frame to make the matrix more readable."
   ]
  },
  {
   "cell_type": "code",
   "execution_count": 9,
   "metadata": {
    "ExecuteTime": {
     "end_time": "2020-05-31T09:24:26.962145Z",
     "start_time": "2020-05-31T09:24:26.956370Z"
    },
    "code_folding": []
   },
   "outputs": [],
   "source": [
    " def confusion_matrix_df(y_test, y_pred_test):\n",
    "    confusion_mat = confusion_matrix(y_test, y_pred_test, labels=[0, 1])\n",
    "    _row = confusion_mat.sum(axis=0)\n",
    "    _col = [np.nan] + list(confusion_mat.sum(axis=1)) + [sum(_row)]\n",
    "    con_df = pd.DataFrame({})\n",
    "    con_df[\"Predicted\"] = [\"Actual\"] + [\"No Churn\", \"Churn\"] + [\"All\"]\n",
    "    for label, idx in {\"No Churn\": 0, \"Churn\": 1}.items():\n",
    "        temp = [np.nan] + list(confusion_mat[:, idx]) + [_row[idx]]\n",
    "        con_df[label] = temp\n",
    "\n",
    "    con_df[\"All\"] = _col\n",
    "    print(con_df)"
   ]
  },
  {
   "cell_type": "markdown",
   "metadata": {},
   "source": [
    "##### Function to print the metrics: Confusion Matrix, Classification Report, Cohen's Kappa, F beta score, roc-auc score and mean cross validation score."
   ]
  },
  {
   "cell_type": "code",
   "execution_count": 10,
   "metadata": {
    "ExecuteTime": {
     "end_time": "2020-05-31T09:24:26.970905Z",
     "start_time": "2020-05-31T09:24:26.963634Z"
    },
    "code_folding": []
   },
   "outputs": [],
   "source": [
    "def model_evaluation(X_train, X_test, y_train, y_test, y_pred_train, y_pred_test):\n",
    "\n",
    "    print('MODEL EVALUATION METRICS:\\n',\n",
    "          '-----------------------------------------------------')\n",
    "\n",
    "    print('Confusion Matrix for train & test set: \\n')\n",
    "    print(confusion_matrix_df(y_train, y_pred_train), '\\n')\n",
    "    print(confusion_matrix_df(y_test, y_pred_test), '\\n')\n",
    "\n",
    "    print('-----------------------------------------------------')\n",
    "    print('\\nClassification Report for train & test set\\n',\n",
    "          '\\nTrain set\\n',\n",
    "          classification_report(y_train, y_pred_train),\n",
    "          '\\n\\nTest set\\n',\n",
    "          classification_report(y_test, y_pred_test))\n",
    "\n",
    "    print('-----------------------------------------------------\\n')\n",
    "    print(\"Cohen's Kappa for train and test set:\\n \",\n",
    "          round(cohen_kappa_score(y_train, y_pred_train), 4),\n",
    "          round(cohen_kappa_score(y_test, y_pred_test), 4))\n",
    "\n",
    "    print(\"f2 score for train and test set: \\n \",\n",
    "          round(fbeta_score(y_train, y_pred_train, 2.0), 4),\n",
    "          round(fbeta_score(y_test, y_pred_test, 2.0), 4))\n",
    "\n",
    "    print('roc auc score for train and test set:\\n ',\n",
    "          round(roc_auc_score(y_train, y_pred_train), 4),\n",
    "          round(roc_auc_score(y_test, y_pred_test), 4))\n",
    "\n",
    "    print('Mean Cross Validation Score:\\n', round(\n",
    "        cross_val_score(clf, X, y, cv=5).mean(), 4))"
   ]
  },
  {
   "cell_type": "markdown",
   "metadata": {},
   "source": [
    "### Handling Imbalanced Data"
   ]
  },
  {
   "cell_type": "markdown",
   "metadata": {},
   "source": [
    "We have an imbalanced data set. We have to find ways to handle it or we are going to have a high accuracy but we can not make true predictions of the minority class which is 'Churn' in this project. \n",
    "We can use class_weight parameter of the models, we can make synthetic samples of the minority class using SMOTE or ADASYN or we can just oversample or under sample the necessary class."
   ]
  },
  {
   "cell_type": "markdown",
   "metadata": {},
   "source": [
    "#### SMOTE\n"
   ]
  },
  {
   "cell_type": "code",
   "execution_count": 11,
   "metadata": {
    "ExecuteTime": {
     "end_time": "2020-05-31T09:24:27.043158Z",
     "start_time": "2020-05-31T09:24:26.972568Z"
    }
   },
   "outputs": [],
   "source": [
    "smote = SMOTE()\n",
    "scaled_X_train_smoted, y_train_smoted = smote.fit_sample(scaled_X_train, y_train)"
   ]
  },
  {
   "cell_type": "code",
   "execution_count": 12,
   "metadata": {
    "ExecuteTime": {
     "end_time": "2020-05-31T09:24:27.046980Z",
     "start_time": "2020-05-31T09:24:27.044737Z"
    }
   },
   "outputs": [],
   "source": [
    "# smote = SMOTE()\n",
    "# X_train_smoted, y_train_smoted = smote.fit_sample(X_train, y_train)"
   ]
  },
  {
   "cell_type": "markdown",
   "metadata": {},
   "source": [
    "#### ADASYN"
   ]
  },
  {
   "cell_type": "code",
   "execution_count": 13,
   "metadata": {
    "ExecuteTime": {
     "end_time": "2020-05-31T09:24:27.051748Z",
     "start_time": "2020-05-31T09:24:27.049172Z"
    }
   },
   "outputs": [],
   "source": [
    "adasyn = ADASYN()"
   ]
  },
  {
   "cell_type": "code",
   "execution_count": 14,
   "metadata": {
    "ExecuteTime": {
     "end_time": "2020-05-31T09:24:27.138970Z",
     "start_time": "2020-05-31T09:24:27.053753Z"
    }
   },
   "outputs": [],
   "source": [
    "X_train_ada, y_train_ada = adasyn.fit_sample(X_train, y_train)"
   ]
  },
  {
   "cell_type": "markdown",
   "metadata": {},
   "source": [
    "# RANDOM FOREST "
   ]
  },
  {
   "cell_type": "markdown",
   "metadata": {},
   "source": [
    "## Random Forest Baseline Model"
   ]
  },
  {
   "cell_type": "markdown",
   "metadata": {},
   "source": [
    "### Instantiate, fit and predict"
   ]
  },
  {
   "cell_type": "code",
   "execution_count": 15,
   "metadata": {
    "ExecuteTime": {
     "end_time": "2020-05-31T09:24:27.466991Z",
     "start_time": "2020-05-31T09:24:27.140590Z"
    }
   },
   "outputs": [],
   "source": [
    "clf = RandomForestClassifier(\n",
    "    max_depth=5, n_jobs=-1, class_weight='balanced', random_state=42)\n",
    "clf.fit(X_train, y_train)\n",
    "y_pred_train = clf.predict(X_train)\n",
    "y_pred_test = clf.predict(X_test)"
   ]
  },
  {
   "cell_type": "markdown",
   "metadata": {},
   "source": [
    "### Print evaluation metrics "
   ]
  },
  {
   "cell_type": "code",
   "execution_count": 16,
   "metadata": {
    "ExecuteTime": {
     "end_time": "2020-05-31T09:24:30.512112Z",
     "start_time": "2020-05-31T09:24:27.468533Z"
    }
   },
   "outputs": [
    {
     "name": "stdout",
     "output_type": "stream",
     "text": [
      "MODEL EVALUATION METRICS:\n",
      " -----------------------------------------------------\n",
      "Confusion Matrix for train & test set: \n",
      "\n",
      "  Predicted  No Churn   Churn     All\n",
      "0    Actual       NaN     NaN     NaN\n",
      "1  No Churn    2928.0   935.0  3863.0\n",
      "2     Churn     305.0  1106.0  1411.0\n",
      "3       All    3233.0  2041.0  5274.0\n",
      "None \n",
      "\n",
      "  Predicted  No Churn  Churn     All\n",
      "0    Actual       NaN    NaN     NaN\n",
      "1  No Churn     960.0  340.0  1300.0\n",
      "2     Churn     105.0  353.0   458.0\n",
      "3       All    1065.0  693.0  1758.0\n",
      "None \n",
      "\n",
      "-----------------------------------------------------\n",
      "\n",
      "Classification Report for train & test set\n",
      " \n",
      "Train set\n",
      "               precision    recall  f1-score   support\n",
      "\n",
      "           0       0.91      0.76      0.83      3863\n",
      "           1       0.54      0.78      0.64      1411\n",
      "\n",
      "    accuracy                           0.76      5274\n",
      "   macro avg       0.72      0.77      0.73      5274\n",
      "weighted avg       0.81      0.76      0.78      5274\n",
      " \n",
      "\n",
      "Test set\n",
      "               precision    recall  f1-score   support\n",
      "\n",
      "           0       0.90      0.74      0.81      1300\n",
      "           1       0.51      0.77      0.61       458\n",
      "\n",
      "    accuracy                           0.75      1758\n",
      "   macro avg       0.71      0.75      0.71      1758\n",
      "weighted avg       0.80      0.75      0.76      1758\n",
      "\n",
      "-----------------------------------------------------\n",
      "\n",
      "Cohen's Kappa for train and test set:\n",
      "  0.4746 0.4366\n",
      "f2 score for train and test set: \n",
      "  0.7196 0.699\n",
      "roc auc score for train and test set:\n",
      "  0.7709 0.7546\n",
      "Mean Cross Validation Score:\n",
      " 0.7399\n"
     ]
    }
   ],
   "source": [
    "model_evaluation(X_train, X_test, y_train, y_test, y_pred_train, y_pred_test)"
   ]
  },
  {
   "cell_type": "markdown",
   "metadata": {},
   "source": [
    "### Feature Importances"
   ]
  },
  {
   "cell_type": "code",
   "execution_count": 17,
   "metadata": {
    "ExecuteTime": {
     "end_time": "2020-05-31T09:24:30.626066Z",
     "start_time": "2020-05-31T09:24:30.513959Z"
    }
   },
   "outputs": [
    {
     "data": {
      "text/plain": [
       "array([0.1567 , 0.03219, 0.10126, 0.00537, 0.0024 , 0.00452, 0.00038,\n",
       "       0.00525, 0.17522, 0.02491, 0.04221, 0.00684, 0.01063, 0.00022,\n",
       "       0.02823, 0.01152, 0.02471, 0.00766, 0.0729 , 0.17725, 0.00121,\n",
       "       0.01759, 0.08991, 0.00093])"
      ]
     },
     "execution_count": 17,
     "metadata": {},
     "output_type": "execute_result"
    }
   ],
   "source": [
    "clf.feature_importances_.round(5)"
   ]
  },
  {
   "cell_type": "code",
   "execution_count": 18,
   "metadata": {
    "ExecuteTime": {
     "end_time": "2020-05-31T09:24:31.212060Z",
     "start_time": "2020-05-31T09:24:30.627605Z"
    },
    "scrolled": true
   },
   "outputs": [
    {
     "data": {
      "image/png": "[encoded data removed]",
      "text/plain": [
       "<Figure size 576x576 with 1 Axes>"
      ]
     },
     "metadata": {
      "needs_background": "light"
     },
     "output_type": "display_data"
    }
   ],
   "source": [
    "plot_feature_importances(clf)"
   ]
  },
  {
   "cell_type": "markdown",
   "metadata": {},
   "source": [
    "#### Interpreting the results of the first Random Forest model\n",
    "\n",
    "We have a precision of 0.51 and recall of 0.77 in the test set. We don't have overfitting. It means we are able to detect the churn customers 77% but 51% of the customers we say 'churn' was true. \n",
    "\n",
    "The most important features in this model are: Contract_Two_Year, InternetService_FiberOptic,TotalCharges and Tenure."
   ]
  },
  {
   "cell_type": "markdown",
   "metadata": {},
   "source": [
    "##### Note\n",
    "To solve the class imbalance problem I made synthetic samples using SMOTE and ADASYN but 'class_weight' parameter did a better job."
   ]
  },
  {
   "cell_type": "markdown",
   "metadata": {},
   "source": [
    "## Random Forest( Grid search and  pipeline )"
   ]
  },
  {
   "cell_type": "markdown",
   "metadata": {},
   "source": [
    "### Instantiate the pipeline"
   ]
  },
  {
   "cell_type": "code",
   "execution_count": 19,
   "metadata": {
    "ExecuteTime": {
     "end_time": "2020-05-31T09:24:31.217979Z",
     "start_time": "2020-05-31T09:24:31.214769Z"
    }
   },
   "outputs": [],
   "source": [
    "pipe = Pipeline([('classifier', RandomForestClassifier(random_state=123))])"
   ]
  },
  {
   "cell_type": "markdown",
   "metadata": {},
   "source": [
    "### Define the grid"
   ]
  },
  {
   "cell_type": "code",
   "execution_count": 20,
   "metadata": {
    "ExecuteTime": {
     "end_time": "2020-05-31T09:24:31.224543Z",
     "start_time": "2020-05-31T09:24:31.220260Z"
    }
   },
   "outputs": [],
   "source": [
    "grid = [{'classifier__criterion': ['gini', 'entropy'],\n",
    "         'classifier__n_estimators':[10, 20, 50, 100, 150, 200],\n",
    "         'classifier__max_depth': [3, 4, 5, 6, 7],\n",
    "         'classifier__min_samples_split': [1.0, 2, 3, 4, 5, 6, 7, 8, 9, 10],\n",
    "         'classifier__min_samples_leaf': [1, 2, 3, 4, 5, 6, 7, 8, 9, 10],\n",
    "         'classifier__class_weight':['balanced']}]"
   ]
  },
  {
   "cell_type": "markdown",
   "metadata": {},
   "source": [
    "### Instantiate, fit and predict"
   ]
  },
  {
   "cell_type": "code",
   "execution_count": 21,
   "metadata": {
    "ExecuteTime": {
     "end_time": "2020-05-31T10:04:21.295015Z",
     "start_time": "2020-05-31T09:24:31.226072Z"
    }
   },
   "outputs": [],
   "source": [
    "clf = GridSearchCV(estimator=pipe, param_grid=grid,\n",
    "                   cv=5, scoring='roc_auc', n_jobs=-1)\n",
    "clf.fit(X_train, y_train)\n",
    "y_pred_train = clf.predict(X_train)\n",
    "y_pred_test = clf.predict(X_test)"
   ]
  },
  {
   "cell_type": "markdown",
   "metadata": {},
   "source": [
    "### Print evaluation metrics "
   ]
  },
  {
   "cell_type": "code",
   "execution_count": 22,
   "metadata": {
    "ExecuteTime": {
     "end_time": "2020-05-31T18:02:38.034683Z",
     "start_time": "2020-05-31T10:04:21.296680Z"
    }
   },
   "outputs": [
    {
     "name": "stdout",
     "output_type": "stream",
     "text": [
      "MODEL EVALUATION METRICS:\n",
      " -----------------------------------------------------\n",
      "Confusion Matrix for train & test set: \n",
      "\n",
      "  Predicted  No Churn   Churn     All\n",
      "0    Actual       NaN     NaN     NaN\n",
      "1  No Churn    2946.0   917.0  3863.0\n",
      "2     Churn     246.0  1165.0  1411.0\n",
      "3       All    3192.0  2082.0  5274.0\n",
      "None \n",
      "\n",
      "  Predicted  No Churn  Churn     All\n",
      "0    Actual       NaN    NaN     NaN\n",
      "1  No Churn     942.0  358.0  1300.0\n",
      "2     Churn     100.0  358.0   458.0\n",
      "3       All    1042.0  716.0  1758.0\n",
      "None \n",
      "\n",
      "-----------------------------------------------------\n",
      "\n",
      "Classification Report for train & test set\n",
      " \n",
      "Train set\n",
      "               precision    recall  f1-score   support\n",
      "\n",
      "           0       0.92      0.76      0.84      3863\n",
      "           1       0.56      0.83      0.67      1411\n",
      "\n",
      "    accuracy                           0.78      5274\n",
      "   macro avg       0.74      0.79      0.75      5274\n",
      "weighted avg       0.83      0.78      0.79      5274\n",
      " \n",
      "\n",
      "Test set\n",
      "               precision    recall  f1-score   support\n",
      "\n",
      "           0       0.90      0.72      0.80      1300\n",
      "           1       0.50      0.78      0.61       458\n",
      "\n",
      "    accuracy                           0.74      1758\n",
      "   macro avg       0.70      0.75      0.71      1758\n",
      "weighted avg       0.80      0.74      0.75      1758\n",
      "\n",
      "-----------------------------------------------------\n",
      "\n",
      "Cohen's Kappa for train and test set:\n",
      "  0.5111 0.4282\n",
      "f2 score for train and test set: \n",
      "  0.7539 0.7025\n",
      "roc auc score for train and test set:\n",
      "  0.7941 0.7531\n",
      "Mean Cross Validation Score:\n",
      " 0.8453\n"
     ]
    }
   ],
   "source": [
    "model_evaluation(X_train, X_test, y_train, y_test, y_pred_train, y_pred_test)"
   ]
  },
  {
   "cell_type": "markdown",
   "metadata": {},
   "source": [
    "### Best Scores"
   ]
  },
  {
   "cell_type": "code",
   "execution_count": 23,
   "metadata": {
    "ExecuteTime": {
     "end_time": "2020-05-31T18:02:38.217995Z",
     "start_time": "2020-05-31T18:02:38.036408Z"
    }
   },
   "outputs": [
    {
     "name": "stdout",
     "output_type": "stream",
     "text": [
      "0.8751908243593979\n",
      "0.8336689620423243\n"
     ]
    }
   ],
   "source": [
    "print(clf.score(X_train, y_train))\n",
    "print(clf.score(X_test, y_test))"
   ]
  },
  {
   "cell_type": "markdown",
   "metadata": {},
   "source": [
    "#### Best Parameters"
   ]
  },
  {
   "cell_type": "code",
   "execution_count": 24,
   "metadata": {
    "ExecuteTime": {
     "end_time": "2020-05-31T18:02:38.225281Z",
     "start_time": "2020-05-31T18:02:38.220675Z"
    },
    "scrolled": true
   },
   "outputs": [
    {
     "data": {
      "text/plain": [
       "{'classifier__class_weight': 'balanced',\n",
       " 'classifier__criterion': 'entropy',\n",
       " 'classifier__max_depth': 7,\n",
       " 'classifier__min_samples_leaf': 8,\n",
       " 'classifier__min_samples_split': 2,\n",
       " 'classifier__n_estimators': 200}"
      ]
     },
     "execution_count": 24,
     "metadata": {},
     "output_type": "execute_result"
    }
   ],
   "source": [
    "clf.best_params_"
   ]
  },
  {
   "cell_type": "markdown",
   "metadata": {},
   "source": [
    "# Xgboost"
   ]
  },
  {
   "cell_type": "markdown",
   "metadata": {},
   "source": [
    "### Instantiate, fit and predict"
   ]
  },
  {
   "cell_type": "code",
   "execution_count": 25,
   "metadata": {
    "ExecuteTime": {
     "end_time": "2020-05-31T18:02:38.973832Z",
     "start_time": "2020-05-31T18:02:38.227548Z"
    },
    "scrolled": true
   },
   "outputs": [],
   "source": [
    "clf = xgb.XGBClassifier(objective='binary:logistic',\n",
    "                        nthread=4,\n",
    "                        scale_pos_weight=3,\n",
    "                        seed=42,\n",
    "                        max_depth=3,\n",
    "                        n_estimators=140,\n",
    "                        learning_rate=0.05,\n",
    "                        )\n",
    "clf.fit(scaled_X_train_smoted, y_train_smoted)\n",
    "y_pred_train = clf.predict(scaled_X_train_smoted)\n",
    "y_pred_test = clf.predict(scaled_X_test)"
   ]
  },
  {
   "cell_type": "markdown",
   "metadata": {},
   "source": [
    "### Print evaluation metrics "
   ]
  },
  {
   "cell_type": "code",
   "execution_count": 26,
   "metadata": {
    "ExecuteTime": {
     "end_time": "2020-05-31T18:02:41.800046Z",
     "start_time": "2020-05-31T18:02:38.976070Z"
    }
   },
   "outputs": [
    {
     "name": "stdout",
     "output_type": "stream",
     "text": [
      "MODEL EVALUATION METRICS:\n",
      " -----------------------------------------------------\n",
      "Confusion Matrix for train & test set: \n",
      "\n",
      "  Predicted  No Churn   Churn     All\n",
      "0    Actual       NaN     NaN     NaN\n",
      "1  No Churn    2278.0  1585.0  3863.0\n",
      "2     Churn     138.0  3725.0  3863.0\n",
      "3       All    2416.0  5310.0  7726.0\n",
      "None \n",
      "\n",
      "  Predicted  No Churn  Churn     All\n",
      "0    Actual       NaN    NaN     NaN\n",
      "1  No Churn     744.0  556.0  1300.0\n",
      "2     Churn      39.0  419.0   458.0\n",
      "3       All     783.0  975.0  1758.0\n",
      "None \n",
      "\n",
      "-----------------------------------------------------\n",
      "\n",
      "Classification Report for train & test set\n",
      " \n",
      "Train set\n",
      "               precision    recall  f1-score   support\n",
      "\n",
      "           0       0.94      0.59      0.73      3863\n",
      "           1       0.70      0.96      0.81      3863\n",
      "\n",
      "    accuracy                           0.78      7726\n",
      "   macro avg       0.82      0.78      0.77      7726\n",
      "weighted avg       0.82      0.78      0.77      7726\n",
      " \n",
      "\n",
      "Test set\n",
      "               precision    recall  f1-score   support\n",
      "\n",
      "           0       0.95      0.57      0.71      1300\n",
      "           1       0.43      0.91      0.58       458\n",
      "\n",
      "    accuracy                           0.66      1758\n",
      "   macro avg       0.69      0.74      0.65      1758\n",
      "weighted avg       0.81      0.66      0.68      1758\n",
      "\n",
      "-----------------------------------------------------\n",
      "\n",
      "Cohen's Kappa for train and test set:\n",
      "  0.554 0.3567\n",
      "f2 score for train and test set: \n",
      "  0.8971 0.7463\n",
      "roc auc score for train and test set:\n",
      "  0.777 0.7436\n",
      "Mean Cross Validation Score:\n",
      " 0.7418\n"
     ]
    }
   ],
   "source": [
    "model_evaluation(scaled_X_train_smoted, scaled_X_test,\n",
    "                 y_train_smoted, y_test, y_pred_train, y_pred_test)"
   ]
  },
  {
   "cell_type": "markdown",
   "metadata": {},
   "source": [
    "### Feature Importances"
   ]
  },
  {
   "cell_type": "code",
   "execution_count": 27,
   "metadata": {
    "ExecuteTime": {
     "end_time": "2020-05-31T18:02:41.820397Z",
     "start_time": "2020-05-31T18:02:41.802326Z"
    }
   },
   "outputs": [
    {
     "data": {
      "text/plain": [
       "array([0.03146, 0.02814, 0.00936, 0.01565, 0.02105, 0.02862, 0.00986,\n",
       "       0.02262, 0.0632 , 0.03288, 0.     , 0.02407, 0.     , 0.01592,\n",
       "       0.     , 0.02632, 0.     , 0.04567, 0.15787, 0.38146, 0.02893,\n",
       "       0.00686, 0.03482, 0.01523], dtype=float32)"
      ]
     },
     "execution_count": 27,
     "metadata": {},
     "output_type": "execute_result"
    }
   ],
   "source": [
    "clf.feature_importances_.round(5)"
   ]
  },
  {
   "cell_type": "code",
   "execution_count": 28,
   "metadata": {
    "ExecuteTime": {
     "end_time": "2020-05-31T18:02:42.368949Z",
     "start_time": "2020-05-31T18:02:41.822709Z"
    }
   },
   "outputs": [
    {
     "data": {
      "image/png": "[encoded data removed]",
      "text/plain": [
       "<Figure size 576x576 with 1 Axes>"
      ]
     },
     "metadata": {
      "needs_background": "light"
     },
     "output_type": "display_data"
    }
   ],
   "source": [
    "plot_feature_importances(clf)"
   ]
  },
  {
   "cell_type": "markdown",
   "metadata": {},
   "source": [
    "# Conclusion: \n",
    "\n",
    "\n",
    "\n",
    "## Business questions answered\n",
    "\n",
    "1. What are the most important factors affecting the customer churn?\n",
    "\n",
    "According to the results of many models and EDA, I noted that;\n",
    "\n",
    "One year or two year contract, Tenure and Tech support decrease churn rate.\n",
    "\n",
    "Month to month contract, high monthly charges, bad fiber optic internet service increase churn rate.\n",
    "\n",
    "2. How can telecomunication companies handle the problem of customer churn with predictive modelling?\n",
    "\n",
    "Machine learning models derived from the given data predict customer churn with 80% accuracy.\n",
    "\n",
    "Find the customers at high risk to churn.\n",
    "\n",
    "Direct retention efforts toward such customers.\n",
    "\n",
    "3. What is needed to be done to retain churning customers?\n",
    "\n",
    "Direct retention efforts toward such customers.\n",
    "\n",
    "Invest on internet quality and coverage.\n",
    "Check the coverage and internet speed of of high risk customers.\n",
    "\n",
    "Make offers to tenure customers to increase loyalty and keep them engaged.\n",
    "\n",
    "Make offers to month to month customers and make yearly contract.\n",
    "\n",
    "## Summary: \n",
    "\n",
    "Churn prediction is made with the information of customers. \n",
    "Yearly contract and internet speed, tenure and total charges are important in the model. \n",
    "The goal is to retain customers before they leave."
   ]
  },
  {
   "cell_type": "code",
   "execution_count": null,
   "metadata": {},
   "outputs": [],
   "source": []
  }
 ],
 "metadata": {
  "kernelspec": {
   "display_name": "Python 3",
   "language": "python",
   "name": "python3"
  },
  "language_info": {
   "codemirror_mode": {
    "name": "ipython",
    "version": 3
   },
   "file_extension": ".py",
   "mimetype": "text/x-python",
   "name": "python",
   "nbconvert_exporter": "python",
   "pygments_lexer": "ipython3",
   "version": "3.7.4"
  },
  "toc": {
   "base_numbering": 1,
   "nav_menu": {},
   "number_sections": true,
   "sideBar": true,
   "skip_h1_title": false,
   "title_cell": "Table of Contents",
   "title_sidebar": "Contents",
   "toc_cell": true,
   "toc_position": {},
   "toc_section_display": true,
   "toc_window_display": false
  },
  "varInspector": {
   "cols": {
    "lenName": 16,
    "lenType": 16,
    "lenVar": 40
   },
   "kernels_config": {
    "python": {
     "delete_cmd_postfix": "",
     "delete_cmd_prefix": "del ",
     "library": "var_list.py",
     "varRefreshCmd": "print(var_dic_list())"
    },
    "r": {
     "delete_cmd_postfix": ") ",
     "delete_cmd_prefix": "rm(",
     "library": "var_list.r",
     "varRefreshCmd": "cat(var_dic_list()) "
    }
   },
   "types_to_exclude": [
    "module",
    "function",
    "builtin_function_or_method",
    "instance",
    "_Feature"
   ],
   "window_display": true
  }
 },
 "nbformat": 4,
 "nbformat_minor": 2
}
