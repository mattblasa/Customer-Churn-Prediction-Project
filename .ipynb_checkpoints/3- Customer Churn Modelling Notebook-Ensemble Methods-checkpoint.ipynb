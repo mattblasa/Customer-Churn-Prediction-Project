{
 "cells": [
  {
   "cell_type": "markdown",
   "metadata": {},
   "source": [
    "## Final Project Submission\n",
    "\n",
    "Please fill out:\n",
    "* Student name: Seyma Tas\n",
    "* Student pace: full time\n",
    "* Scheduled project review date/time: \n",
    "* Instructor name: Amber Yandow\n",
    "* Blog post URL:\n"
   ]
  },
  {
   "cell_type": "code",
   "execution_count": 12,
   "metadata": {
    "ExecuteTime": {
     "end_time": "2020-05-29T02:06:08.704445Z",
     "start_time": "2020-05-29T02:06:08.693168Z"
    }
   },
   "outputs": [],
   "source": [
    "import seaborn as sns\n",
    "import pandas as pd\n",
    "import numpy as np\n",
    "import matplotlib.pyplot as plt\n",
    "%matplotlib inline\n",
    "sns.set_style('darkgrid', {'axes.facecolor': '0.9'})\n",
    "\n",
    "from sklearn.preprocessing import LabelEncoder, OneHotEncoder, MinMaxScaler, StandardScaler\n",
    "from sklearn.model_selection import train_test_split, cross_val_score, GridSearchCV, ParameterGrid\n",
    "from sklearn.linear_model import LogisticRegression, SGDClassifier\n",
    "from imblearn.over_sampling import SMOTE, ADASYN\n",
    "from sklearn.naive_bayes import GaussianNB\n",
    "from sklearn.svm import SVC\n",
    "from sklearn.tree import DecisionTreeClassifier\n",
    "from sklearn.neighbors import KNeighborsClassifier\n",
    "from sklearn.ensemble import RandomForestClassifier, AdaBoostClassifier, GradientBoostingClassifier, BaggingClassifier\n",
    "from sklearn.metrics import recall_score, f1_score, r2_score, roc_auc_score, roc_curve, auc, cohen_kappa_score\n",
    "from sklearn.metrics import classification_report, confusion_matrix, accuracy_score, precision_score\n",
    "from sklearn.metrics import make_scorer\n",
    "from sklearn.pipeline import Pipeline\n",
    "import xgboost as xgb\n",
    "# from sklearn.metrics import plot_confusion_matrix\n",
    "\n",
    "import warnings\n",
    "warnings.filterwarnings('ignore')"
   ]
  },
  {
   "cell_type": "code",
   "execution_count": 3,
   "metadata": {
    "ExecuteTime": {
     "end_time": "2020-05-28T22:57:25.918298Z",
     "start_time": "2020-05-28T22:57:25.895662Z"
    }
   },
   "outputs": [],
   "source": [
    "df = pd.read_csv('TelcoCustomerChurnData_cleaned_ohe.csv')"
   ]
  },
  {
   "cell_type": "code",
   "execution_count": 36,
   "metadata": {
    "ExecuteTime": {
     "end_time": "2020-05-29T18:29:14.293618Z",
     "start_time": "2020-05-29T18:29:14.269365Z"
    }
   },
   "outputs": [
    {
     "data": {
      "text/html": [
       "<div>\n",
       "<style scoped>\n",
       "    .dataframe tbody tr th:only-of-type {\n",
       "        vertical-align: middle;\n",
       "    }\n",
       "\n",
       "    .dataframe tbody tr th {\n",
       "        vertical-align: top;\n",
       "    }\n",
       "\n",
       "    .dataframe thead th {\n",
       "        text-align: right;\n",
       "    }\n",
       "</style>\n",
       "<table border=\"1\" class=\"dataframe\">\n",
       "  <thead>\n",
       "    <tr style=\"text-align: right;\">\n",
       "      <th></th>\n",
       "      <th>tenure</th>\n",
       "      <th>MonthlyCharges</th>\n",
       "      <th>TotalCharges</th>\n",
       "      <th>Churn</th>\n",
       "      <th>gender_Male</th>\n",
       "      <th>SeniorCitizen_1</th>\n",
       "      <th>Partner_Yes</th>\n",
       "      <th>Dependents_Yes</th>\n",
       "      <th>PhoneService_Yes</th>\n",
       "      <th>MultipleLines_No phone service</th>\n",
       "      <th>...</th>\n",
       "      <th>StreamingTV_No internet service</th>\n",
       "      <th>StreamingTV_Yes</th>\n",
       "      <th>StreamingMovies_No internet service</th>\n",
       "      <th>StreamingMovies_Yes</th>\n",
       "      <th>Contract_One year</th>\n",
       "      <th>Contract_Two year</th>\n",
       "      <th>PaperlessBilling_Yes</th>\n",
       "      <th>PaymentMethod_Credit card (automatic)</th>\n",
       "      <th>PaymentMethod_Electronic check</th>\n",
       "      <th>PaymentMethod_Mailed check</th>\n",
       "    </tr>\n",
       "  </thead>\n",
       "  <tbody>\n",
       "    <tr>\n",
       "      <td>0</td>\n",
       "      <td>1</td>\n",
       "      <td>29.85</td>\n",
       "      <td>29.85</td>\n",
       "      <td>0</td>\n",
       "      <td>0</td>\n",
       "      <td>0</td>\n",
       "      <td>1</td>\n",
       "      <td>0</td>\n",
       "      <td>0</td>\n",
       "      <td>1</td>\n",
       "      <td>...</td>\n",
       "      <td>0</td>\n",
       "      <td>0</td>\n",
       "      <td>0</td>\n",
       "      <td>0</td>\n",
       "      <td>0</td>\n",
       "      <td>0</td>\n",
       "      <td>1</td>\n",
       "      <td>0</td>\n",
       "      <td>1</td>\n",
       "      <td>0</td>\n",
       "    </tr>\n",
       "    <tr>\n",
       "      <td>1</td>\n",
       "      <td>34</td>\n",
       "      <td>56.95</td>\n",
       "      <td>1889.50</td>\n",
       "      <td>0</td>\n",
       "      <td>1</td>\n",
       "      <td>0</td>\n",
       "      <td>0</td>\n",
       "      <td>0</td>\n",
       "      <td>1</td>\n",
       "      <td>0</td>\n",
       "      <td>...</td>\n",
       "      <td>0</td>\n",
       "      <td>0</td>\n",
       "      <td>0</td>\n",
       "      <td>0</td>\n",
       "      <td>1</td>\n",
       "      <td>0</td>\n",
       "      <td>0</td>\n",
       "      <td>0</td>\n",
       "      <td>0</td>\n",
       "      <td>1</td>\n",
       "    </tr>\n",
       "    <tr>\n",
       "      <td>2</td>\n",
       "      <td>2</td>\n",
       "      <td>53.85</td>\n",
       "      <td>108.15</td>\n",
       "      <td>1</td>\n",
       "      <td>1</td>\n",
       "      <td>0</td>\n",
       "      <td>0</td>\n",
       "      <td>0</td>\n",
       "      <td>1</td>\n",
       "      <td>0</td>\n",
       "      <td>...</td>\n",
       "      <td>0</td>\n",
       "      <td>0</td>\n",
       "      <td>0</td>\n",
       "      <td>0</td>\n",
       "      <td>0</td>\n",
       "      <td>0</td>\n",
       "      <td>1</td>\n",
       "      <td>0</td>\n",
       "      <td>0</td>\n",
       "      <td>1</td>\n",
       "    </tr>\n",
       "    <tr>\n",
       "      <td>3</td>\n",
       "      <td>45</td>\n",
       "      <td>42.30</td>\n",
       "      <td>1840.75</td>\n",
       "      <td>0</td>\n",
       "      <td>1</td>\n",
       "      <td>0</td>\n",
       "      <td>0</td>\n",
       "      <td>0</td>\n",
       "      <td>0</td>\n",
       "      <td>1</td>\n",
       "      <td>...</td>\n",
       "      <td>0</td>\n",
       "      <td>0</td>\n",
       "      <td>0</td>\n",
       "      <td>0</td>\n",
       "      <td>1</td>\n",
       "      <td>0</td>\n",
       "      <td>0</td>\n",
       "      <td>0</td>\n",
       "      <td>0</td>\n",
       "      <td>0</td>\n",
       "    </tr>\n",
       "    <tr>\n",
       "      <td>4</td>\n",
       "      <td>2</td>\n",
       "      <td>70.70</td>\n",
       "      <td>151.65</td>\n",
       "      <td>1</td>\n",
       "      <td>0</td>\n",
       "      <td>0</td>\n",
       "      <td>0</td>\n",
       "      <td>0</td>\n",
       "      <td>1</td>\n",
       "      <td>0</td>\n",
       "      <td>...</td>\n",
       "      <td>0</td>\n",
       "      <td>0</td>\n",
       "      <td>0</td>\n",
       "      <td>0</td>\n",
       "      <td>0</td>\n",
       "      <td>0</td>\n",
       "      <td>1</td>\n",
       "      <td>0</td>\n",
       "      <td>1</td>\n",
       "      <td>0</td>\n",
       "    </tr>\n",
       "  </tbody>\n",
       "</table>\n",
       "<p>5 rows × 31 columns</p>\n",
       "</div>"
      ],
      "text/plain": [
       "   tenure  MonthlyCharges  TotalCharges  Churn  gender_Male  SeniorCitizen_1  \\\n",
       "0       1           29.85         29.85      0            0                0   \n",
       "1      34           56.95       1889.50      0            1                0   \n",
       "2       2           53.85        108.15      1            1                0   \n",
       "3      45           42.30       1840.75      0            1                0   \n",
       "4       2           70.70        151.65      1            0                0   \n",
       "\n",
       "   Partner_Yes  Dependents_Yes  PhoneService_Yes  \\\n",
       "0            1               0                 0   \n",
       "1            0               0                 1   \n",
       "2            0               0                 1   \n",
       "3            0               0                 0   \n",
       "4            0               0                 1   \n",
       "\n",
       "   MultipleLines_No phone service  ...  StreamingTV_No internet service  \\\n",
       "0                               1  ...                                0   \n",
       "1                               0  ...                                0   \n",
       "2                               0  ...                                0   \n",
       "3                               1  ...                                0   \n",
       "4                               0  ...                                0   \n",
       "\n",
       "   StreamingTV_Yes  StreamingMovies_No internet service  StreamingMovies_Yes  \\\n",
       "0                0                                    0                    0   \n",
       "1                0                                    0                    0   \n",
       "2                0                                    0                    0   \n",
       "3                0                                    0                    0   \n",
       "4                0                                    0                    0   \n",
       "\n",
       "   Contract_One year  Contract_Two year  PaperlessBilling_Yes  \\\n",
       "0                  0                  0                     1   \n",
       "1                  1                  0                     0   \n",
       "2                  0                  0                     1   \n",
       "3                  1                  0                     0   \n",
       "4                  0                  0                     1   \n",
       "\n",
       "   PaymentMethod_Credit card (automatic)  PaymentMethod_Electronic check  \\\n",
       "0                                      0                               1   \n",
       "1                                      0                               0   \n",
       "2                                      0                               0   \n",
       "3                                      0                               0   \n",
       "4                                      0                               1   \n",
       "\n",
       "   PaymentMethod_Mailed check  \n",
       "0                           0  \n",
       "1                           1  \n",
       "2                           1  \n",
       "3                           0  \n",
       "4                           0  \n",
       "\n",
       "[5 rows x 31 columns]"
      ]
     },
     "execution_count": 36,
     "metadata": {},
     "output_type": "execute_result"
    }
   ],
   "source": [
    "df.head()"
   ]
  },
  {
   "cell_type": "markdown",
   "metadata": {},
   "source": [
    "# Splitting the data into test and train sets"
   ]
  },
  {
   "cell_type": "code",
   "execution_count": 4,
   "metadata": {
    "ExecuteTime": {
     "end_time": "2020-05-28T22:57:27.291313Z",
     "start_time": "2020-05-28T22:57:27.286065Z"
    }
   },
   "outputs": [],
   "source": [
    "X = df.drop(['Churn'], axis=1)\n",
    "y = df['Churn']"
   ]
  },
  {
   "cell_type": "code",
   "execution_count": 5,
   "metadata": {
    "ExecuteTime": {
     "end_time": "2020-05-28T22:57:28.652768Z",
     "start_time": "2020-05-28T22:57:28.645617Z"
    }
   },
   "outputs": [],
   "source": [
    "X_train, X_test, y_train, y_test = train_test_split(X, y, random_state=42)"
   ]
  },
  {
   "cell_type": "code",
   "execution_count": 44,
   "metadata": {
    "ExecuteTime": {
     "end_time": "2020-05-28T05:39:30.530166Z",
     "start_time": "2020-05-28T05:39:30.519101Z"
    }
   },
   "outputs": [],
   "source": [
    "scaler = StandardScaler()\n",
    "scaled_x_train = scaler.fit_transform(X_train)\n",
    "scaled_X_test = scaler.transform(X_test)\n",
    "scaled_X_train = pd.DataFrame(scaled_x_train, columns=X_train.columns)\n"
   ]
  },
  {
   "cell_type": "markdown",
   "metadata": {},
   "source": [
    "## Functions to evaluate the model"
   ]
  },
  {
   "cell_type": "code",
   "execution_count": 13,
   "metadata": {
    "ExecuteTime": {
     "end_time": "2020-05-29T02:06:22.022215Z",
     "start_time": "2020-05-29T02:06:22.012601Z"
    },
    "code_folding": [
     0
    ]
   },
   "outputs": [],
   "source": [
    "def roc_curve_and_auc(clf, X_train, X_test, y_train, y_test):\n",
    "\n",
    "    # Calculate the probability scores of each point in the training set\n",
    "    y_train_score = clf.fit(X_train, y_train).decision_function(X_train)\n",
    "\n",
    "    # Calculate the fpr, tpr, and thresholds for the training set\n",
    "    train_fpr, train_tpr, thresholds = roc_curve(y_train, y_train_score)\n",
    "\n",
    "    # Calculate the probability scores of each point in the test set\n",
    "    y_test_score = clf.decision_function(X_test)\n",
    "\n",
    "    # Calculate the fpr, tpr, and thresholds for the test set\n",
    "    test_fpr, test_tpr, test_thresholds = roc_curve(y_test, y_test_score)\n",
    "\n",
    "    # ROC curve for training set\n",
    "    plt.figure(figsize=(10, 8))\n",
    "    lw = 2\n",
    "    plt.plot(train_fpr, train_tpr, color='darkorange',\n",
    "             lw=lw, label='Train ROC curve')\n",
    "    plt.plot(test_fpr, test_tpr, color='blue',\n",
    "             lw=lw, label='Test ROC curve')\n",
    "    plt.plot([0, 1], [0, 1], color='navy', lw=lw, linestyle='--')\n",
    "    plt.xlim([0.0, 1.0])\n",
    "    plt.ylim([0.0, 1.05])\n",
    "    plt.yticks([i/20.0 for i in range(21)])\n",
    "    plt.xticks([i/20.0 for i in range(21)])\n",
    "    plt.xlabel('False Positive Rate')\n",
    "    plt.ylabel('True Positive Rate')\n",
    "    plt.title('Receiver operating characteristic (ROC) Curve for Training and Testing Sets')\n",
    "    plt.legend(loc='lower right')\n",
    "    plt.show()\n",
    "    # Print the area under the roc curve\n",
    "    print('Training AUC: {}'.format(round(auc(train_fpr, train_tpr), 5)))\n",
    "    print('Testing AUC: {}'.format(round(auc(test_fpr, test_tpr), 5)))"
   ]
  },
  {
   "cell_type": "code",
   "execution_count": 14,
   "metadata": {
    "ExecuteTime": {
     "end_time": "2020-05-29T02:06:22.552806Z",
     "start_time": "2020-05-29T02:06:22.548585Z"
    },
    "code_folding": []
   },
   "outputs": [],
   "source": [
    "def plot_feature_importances(model):\n",
    "    n_features = X_train.shape[1]\n",
    "    plt.figure(figsize=(8,8))\n",
    "    plt.barh(range(n_features), model.feature_importances_, align='center') \n",
    "    plt.yticks(np.arange(n_features), X_train.columns.values) \n",
    "    plt.xlabel('Feature importance')\n",
    "    plt.ylabel('Feature')"
   ]
  },
  {
   "cell_type": "code",
   "execution_count": null,
   "metadata": {},
   "outputs": [],
   "source": [
    " def confusion_matrix_df(y_test, y_pred_test):\n",
    "    confusion_mat = confusion_matrix(y_test, y_pred_test, labels=[0, 1])\n",
    "    _row = confusion_mat.sum(axis=0)\n",
    "    _col = [np.nan] + list(confusion_mat.sum(axis=1)) + [sum(_row)]\n",
    "    con_df = pd.DataFrame({})\n",
    "    con_df[\"Predicted\"] = [\"Actual\"] + [\"No Churn\", \"Churn\"] + [\"All\"]\n",
    "    for label, idx in {\"No Churn\": 0, \"Churn\": 1}.items():\n",
    "        temp = [np.nan] + list(confusion_mat[:, idx]) + [_row[idx]]\n",
    "        con_df[label] = temp\n",
    "\n",
    "    con_df[\"All\"] = _col\n",
    "    print(con_df)"
   ]
  },
  {
   "cell_type": "code",
   "execution_count": null,
   "metadata": {},
   "outputs": [],
   "source": [
    "# # Plot features importances metric evaluation fonksiyonuna bunu ekleyecegim\n",
    "# imp = pd.Series(data=clf.feature_importances_, index=x.columns).sort_values(ascending=False)\n",
    "# plt.figure(figsize=(10,12))\n",
    "# plt.title(\"Feature importance\")\n",
    "# ax = sns.barplot(y=imp.index, x=imp.values, palette=\"Blues_d\", orient='h')"
   ]
  },
  {
   "cell_type": "code",
   "execution_count": 37,
   "metadata": {
    "ExecuteTime": {
     "end_time": "2020-05-29T21:23:30.148968Z",
     "start_time": "2020-05-29T21:23:30.141925Z"
    },
    "code_folding": []
   },
   "outputs": [],
   "source": [
    "def model_evaluation(X_train, X_test, y_train, y_test, y_pred_train, y_pred_test):\n",
    "\n",
    "    print('MODEL EVALUATION METRICS:\\n',\n",
    "          '-----------------------------------------------------')\n",
    "    \n",
    "    print('Confusion Matrix for train & test set: \\n')\n",
    "    print(confusion_matrix_df(y_train, y_pred_train), '\\n')\n",
    "    print(confusion_matrix_df(y_test, y_pred_test),'\\n')\n",
    "   \n",
    "    print('-----------------------------------------------------')\n",
    "    print('\\nClassification Report for train & test set\\n',\n",
    "          '\\nTrain set\\n',\n",
    "          classification_report(y_train, y_pred_train),\n",
    "          '\\n\\nTest set\\n',\n",
    "          classification_report(y_test, y_pred_test))\n",
    "\n",
    "    print('-----------------------------------------------------\\n')\n",
    "    print(\"Cohen's Kappa for train and test set:\\n \",\n",
    "            round(cohen_kappa_score(y_train, y_pred_train), 4),\n",
    "            round(cohen_kappa_score(y_test, y_pred_test), 4))\n",
    "\n",
    "    print (\"f2 score for train and test set: \\n \",\n",
    "           round(fbeta_score(y_train, y_pred_train, 2.0),4), \n",
    "           round(fbeta_score(y_test, y_pred_test, 2.0),4))\n",
    "    \n",
    "    print ('roc auc score for train and test set:\\n ', \n",
    "           round(roc_auc_score(y_train, y_pred_train),4),\n",
    "           round(roc_auc_score(y_test, y_pred_test),4) )\n",
    "    \n",
    "    print('Mean Cross Validation Score:\\n', round(cross_val_score(clf, X, y, cv=5).mean(), 4))   "
   ]
  },
  {
   "cell_type": "markdown",
   "metadata": {},
   "source": [
    "## Handling Imbalanced Data"
   ]
  },
  {
   "cell_type": "code",
   "execution_count": null,
   "metadata": {},
   "outputs": [],
   "source": [
    "sns.countplot(y);"
   ]
  },
  {
   "cell_type": "code",
   "execution_count": null,
   "metadata": {},
   "outputs": [],
   "source": [
    "print(y.value_counts())\n",
    "print(y.value_counts(normalize=True))"
   ]
  },
  {
   "cell_type": "markdown",
   "metadata": {},
   "source": [
    "## SMOTE\n"
   ]
  },
  {
   "cell_type": "code",
   "execution_count": 53,
   "metadata": {
    "ExecuteTime": {
     "end_time": "2020-05-28T05:41:39.172719Z",
     "start_time": "2020-05-28T05:41:39.085190Z"
    }
   },
   "outputs": [],
   "source": [
    "smote = SMOTE()\n",
    "scaled_X_train_smoted, y_train_smoted = smote.fit_sample(scaled_X_train, y_train)"
   ]
  },
  {
   "cell_type": "code",
   "execution_count": null,
   "metadata": {},
   "outputs": [],
   "source": [
    "# smote = SMOTE()\n",
    "# X_train_smoted, y_train_smoted = smote.fit_sample(X_train, y_train)"
   ]
  },
  {
   "cell_type": "markdown",
   "metadata": {},
   "source": [
    "## ADASYN"
   ]
  },
  {
   "cell_type": "code",
   "execution_count": null,
   "metadata": {},
   "outputs": [],
   "source": [
    "adasyn = ADASYN()"
   ]
  },
  {
   "cell_type": "code",
   "execution_count": null,
   "metadata": {},
   "outputs": [],
   "source": [
    "X_train_ada, y_train_ada = adasyn.fit_sample(X_train, y_train)"
   ]
  },
  {
   "cell_type": "markdown",
   "metadata": {},
   "source": [
    "# RANDOM FOREST baseline\n"
   ]
  },
  {
   "cell_type": "code",
   "execution_count": 74,
   "metadata": {
    "ExecuteTime": {
     "end_time": "2020-05-28T06:06:35.961065Z",
     "start_time": "2020-05-28T06:06:35.883000Z"
    }
   },
   "outputs": [],
   "source": [
    "clf = RandomForestClassifier(random_state=123)\n",
    "clf.fit(X_train, y_train)\n",
    "y_pred_train = clf.predict(X_train)\n",
    "y_pred_test = clf.predict(X_test)"
   ]
  },
  {
   "cell_type": "code",
   "execution_count": 75,
   "metadata": {
    "ExecuteTime": {
     "end_time": "2020-05-28T06:06:37.994797Z",
     "start_time": "2020-05-28T06:06:37.641367Z"
    }
   },
   "outputs": [
    {
     "name": "stdout",
     "output_type": "stream",
     "text": [
      "MODEL EVALUATION METRICS:\n",
      " -----------------------------------------------------\n",
      "Confusion Matrix for train & test set: \n",
      "\n",
      "[[3850   13]\n",
      " [  84 1327]] \n",
      "\n",
      "[[1160  140]\n",
      " [ 275  183]]\n",
      "-----------------------------------------------------\n",
      "\n",
      "Classification Report for train & test set\n",
      " \n",
      "Train set\n",
      "               precision    recall  f1-score   support\n",
      "\n",
      "           0       0.98      1.00      0.99      3863\n",
      "           1       0.99      0.94      0.96      1411\n",
      "\n",
      "    accuracy                           0.98      5274\n",
      "   macro avg       0.98      0.97      0.98      5274\n",
      "weighted avg       0.98      0.98      0.98      5274\n",
      " \n",
      "\n",
      "Test set\n",
      "               precision    recall  f1-score   support\n",
      "\n",
      "           0       0.81      0.89      0.85      1300\n",
      "           1       0.57      0.40      0.47       458\n",
      "\n",
      "    accuracy                           0.76      1758\n",
      "   macro avg       0.69      0.65      0.66      1758\n",
      "weighted avg       0.75      0.76      0.75      1758\n",
      "\n",
      "-----------------------------------------------------\n",
      "\n",
      "Cohen's Kappa for train and test set:\n",
      "  0.9523 0.3227\n",
      "roc auc score for train and test set:\n",
      "  0.9686 0.6459\n",
      "Mean Cross Validation Score:\n",
      " 0.7804\n"
     ]
    }
   ],
   "source": [
    "model_evaluation(X_train, X_test, y_train, y_test, y_pred_train, y_pred_test)"
   ]
  },
  {
   "cell_type": "code",
   "execution_count": null,
   "metadata": {},
   "outputs": [],
   "source": [
    "# roc_curve_and_auc(clf, X_train, X_test, y_train, y_test)"
   ]
  },
  {
   "cell_type": "code",
   "execution_count": null,
   "metadata": {},
   "outputs": [],
   "source": [
    "clf.feature_importances_.round(5)"
   ]
  },
  {
   "cell_type": "code",
   "execution_count": null,
   "metadata": {},
   "outputs": [],
   "source": [
    "plot_feature_importances(clf)"
   ]
  },
  {
   "cell_type": "markdown",
   "metadata": {},
   "source": [
    "# RANDOM FOREST smoted"
   ]
  },
  {
   "cell_type": "code",
   "execution_count": 76,
   "metadata": {
    "ExecuteTime": {
     "end_time": "2020-05-28T06:06:53.664752Z",
     "start_time": "2020-05-28T06:06:53.561329Z"
    }
   },
   "outputs": [],
   "source": [
    "clf = RandomForestClassifier(random_state=123)\n",
    "clf.fit(scaled_X_train_smoted, y_train_smoted)\n",
    "y_pred_train = clf.predict(scaled_X_train_smoted)\n",
    "y_pred_test = clf.predict(scaled_X_test)"
   ]
  },
  {
   "cell_type": "code",
   "execution_count": 77,
   "metadata": {
    "ExecuteTime": {
     "end_time": "2020-05-28T06:06:57.269370Z",
     "start_time": "2020-05-28T06:06:56.901546Z"
    }
   },
   "outputs": [
    {
     "name": "stdout",
     "output_type": "stream",
     "text": [
      "MODEL EVALUATION METRICS:\n",
      " -----------------------------------------------------\n",
      "Confusion Matrix for train & test set: \n",
      "\n",
      "[[3844   19]\n",
      " [  52 3811]] \n",
      "\n",
      "[[1117  183]\n",
      " [ 216  242]]\n",
      "-----------------------------------------------------\n",
      "\n",
      "Classification Report for train & test set\n",
      " \n",
      "Train set\n",
      "               precision    recall  f1-score   support\n",
      "\n",
      "           0       0.99      1.00      0.99      3863\n",
      "           1       1.00      0.99      0.99      3863\n",
      "\n",
      "    accuracy                           0.99      7726\n",
      "   macro avg       0.99      0.99      0.99      7726\n",
      "weighted avg       0.99      0.99      0.99      7726\n",
      " \n",
      "\n",
      "Test set\n",
      "               precision    recall  f1-score   support\n",
      "\n",
      "           0       0.84      0.86      0.85      1300\n",
      "           1       0.57      0.53      0.55       458\n",
      "\n",
      "    accuracy                           0.77      1758\n",
      "   macro avg       0.70      0.69      0.70      1758\n",
      "weighted avg       0.77      0.77      0.77      1758\n",
      "\n",
      "-----------------------------------------------------\n",
      "\n",
      "Cohen's Kappa for train and test set:\n",
      "  0.9816 0.3969\n",
      "roc auc score for train and test set:\n",
      "  0.9908 0.6938\n",
      "Mean Cross Validation Score:\n",
      " 0.7804\n"
     ]
    }
   ],
   "source": [
    "model_evaluation(scaled_X_train_smoted, scaled_X_test, y_train_smoted, y_test, y_pred_train, y_pred_test)"
   ]
  },
  {
   "cell_type": "code",
   "execution_count": null,
   "metadata": {},
   "outputs": [],
   "source": [
    "# roc_curve_and_auc(clf, X_train, X_test, y_train, y_test)"
   ]
  },
  {
   "cell_type": "code",
   "execution_count": null,
   "metadata": {},
   "outputs": [],
   "source": [
    "clf.feature_importances_.round(5)"
   ]
  },
  {
   "cell_type": "code",
   "execution_count": null,
   "metadata": {},
   "outputs": [],
   "source": [
    "plot_feature_importances(clf)"
   ]
  },
  {
   "cell_type": "markdown",
   "metadata": {},
   "source": [
    "# RANDOM FOREST  Grid search, not smoted, class_weight='balanced,  pipeline"
   ]
  },
  {
   "cell_type": "code",
   "execution_count": 24,
   "metadata": {
    "ExecuteTime": {
     "end_time": "2020-05-29T11:59:44.330439Z",
     "start_time": "2020-05-29T11:59:44.326054Z"
    }
   },
   "outputs": [],
   "source": [
    "pipe = Pipeline([('classifier', RandomForestClassifier(random_state=123))])"
   ]
  },
  {
   "cell_type": "code",
   "execution_count": 25,
   "metadata": {
    "ExecuteTime": {
     "end_time": "2020-05-29T11:59:45.687085Z",
     "start_time": "2020-05-29T11:59:45.680009Z"
    }
   },
   "outputs": [],
   "source": [
    "grid = [{'classifier__criterion': ['gini', 'entropy'], \n",
    "         'classifier__n_estimators':[10, 20, 50, 100, 150, 200],\n",
    "         'classifier__max_depth': [3, 4, 5, 6, 7],\n",
    "         'classifier__min_samples_split': [1.0, 2, 3, 4, 5, 6, 7, 8, 9, 10], \n",
    "         'classifier__min_samples_leaf': [1,2, 3,4, 5,6,7, 8, 9, 10],\n",
    "         'classifier__class_weight':['balanced']}]"
   ]
  },
  {
   "cell_type": "code",
   "execution_count": 27,
   "metadata": {
    "ExecuteTime": {
     "end_time": "2020-05-29T11:59:47.260862Z",
     "start_time": "2020-05-29T11:59:47.256258Z"
    }
   },
   "outputs": [],
   "source": [
    "clf = GridSearchCV(estimator= pipe, param_grid=grid, cv=5, scoring='roc_auc', n_jobs=-1 )"
   ]
  },
  {
   "cell_type": "code",
   "execution_count": 29,
   "metadata": {
    "ExecuteTime": {
     "end_time": "2020-05-29T12:38:39.406102Z",
     "start_time": "2020-05-29T11:59:49.231823Z"
    }
   },
   "outputs": [],
   "source": [
    "# Fit the training data\n",
    "clf.fit(X_train, y_train)\n",
    "y_pred_train = clf.predict(X_train)\n",
    "y_pred_test = clf.predict(X_test)"
   ]
  },
  {
   "cell_type": "code",
   "execution_count": 30,
   "metadata": {
    "ExecuteTime": {
     "end_time": "2020-05-29T16:24:06.127275Z",
     "start_time": "2020-05-29T12:38:39.519136Z"
    }
   },
   "outputs": [
    {
     "name": "stdout",
     "output_type": "stream",
     "text": [
      "MODEL EVALUATION METRICS:\n",
      " -----------------------------------------------------\n",
      "Confusion Matrix for train & test set: \n",
      "\n",
      "[[2936  927]\n",
      " [ 241 1170]] \n",
      "\n",
      "[[946 354]\n",
      " [101 357]]\n",
      "-----------------------------------------------------\n",
      "\n",
      "Classification Report for train & test set\n",
      " \n",
      "Train set\n",
      "               precision    recall  f1-score   support\n",
      "\n",
      "           0       0.92      0.76      0.83      3863\n",
      "           1       0.56      0.83      0.67      1411\n",
      "\n",
      "    accuracy                           0.78      5274\n",
      "   macro avg       0.74      0.79      0.75      5274\n",
      "weighted avg       0.83      0.78      0.79      5274\n",
      " \n",
      "\n",
      "Test set\n",
      "               precision    recall  f1-score   support\n",
      "\n",
      "           0       0.90      0.73      0.81      1300\n",
      "           1       0.50      0.78      0.61       458\n",
      "\n",
      "    accuracy                           0.74      1758\n",
      "   macro avg       0.70      0.75      0.71      1758\n",
      "weighted avg       0.80      0.74      0.76      1758\n",
      "\n",
      "-----------------------------------------------------\n",
      "\n",
      "Cohen's Kappa for train and test set:\n",
      "  0.5105 0.4302\n",
      "roc auc score for train and test set:\n",
      "  0.7946 0.7536\n",
      "Mean Cross Validation Score:\n",
      " 0.8464\n"
     ]
    }
   ],
   "source": [
    "model_evaluation(X_train, X_test, y_train, y_test, y_pred_train, y_pred_test)"
   ]
  },
  {
   "cell_type": "code",
   "execution_count": 31,
   "metadata": {
    "ExecuteTime": {
     "end_time": "2020-05-29T16:24:06.456081Z",
     "start_time": "2020-05-29T16:24:06.398015Z"
    }
   },
   "outputs": [
    {
     "name": "stdout",
     "output_type": "stream",
     "text": [
      "0.8772192820252397\n",
      "0.8340888478333892\n"
     ]
    }
   ],
   "source": [
    "print(clf.score(X_train, y_train))\n",
    "print(clf.score(X_test, y_test))"
   ]
  },
  {
   "cell_type": "code",
   "execution_count": 34,
   "metadata": {
    "ExecuteTime": {
     "end_time": "2020-05-29T17:17:18.054155Z",
     "start_time": "2020-05-29T17:17:18.050395Z"
    }
   },
   "outputs": [
    {
     "data": {
      "text/plain": [
       "{'classifier__class_weight': 'balanced',\n",
       " 'classifier__criterion': 'gini',\n",
       " 'classifier__max_depth': 7,\n",
       " 'classifier__min_samples_leaf': 9,\n",
       " 'classifier__min_samples_split': 2,\n",
       " 'classifier__n_estimators': 20}"
      ]
     },
     "execution_count": 34,
     "metadata": {},
     "output_type": "execute_result"
    }
   ],
   "source": [
    "clf.best_params_"
   ]
  },
  {
   "cell_type": "markdown",
   "metadata": {},
   "source": [
    "# Bagging Classifier"
   ]
  },
  {
   "cell_type": "code",
   "execution_count": null,
   "metadata": {},
   "outputs": [],
   "source": [
    "clf = BaggingClassifier(DecisionTreeClassifier(criterion='gini', max_depth=5), \n",
    "                                 n_estimators=20)"
   ]
  },
  {
   "cell_type": "code",
   "execution_count": null,
   "metadata": {},
   "outputs": [],
   "source": [
    "clf.fit(X_train, y_train)\n",
    "y_pred_train = clf.predict(X_train)\n",
    "y_pred_test = clf.predict(X_test)"
   ]
  },
  {
   "cell_type": "code",
   "execution_count": null,
   "metadata": {},
   "outputs": [],
   "source": [
    "model_evaluation(X_train, X_test, y_train, y_test, y_pred_train, y_pred_test)"
   ]
  },
  {
   "cell_type": "code",
   "execution_count": null,
   "metadata": {},
   "outputs": [],
   "source": [
    "roc_curve_and_auc(clf, X_train, X_test, y_train, y_test)"
   ]
  },
  {
   "cell_type": "markdown",
   "metadata": {},
   "source": [
    "# Xgboost"
   ]
  },
  {
   "cell_type": "code",
   "execution_count": 86,
   "metadata": {
    "ExecuteTime": {
     "end_time": "2020-05-28T17:13:34.280284Z",
     "start_time": "2020-05-28T17:13:32.942337Z"
    },
    "scrolled": true
   },
   "outputs": [],
   "source": [
    "clf = xgb.XGBClassifier()\n",
    "clf.fit(scaled_X_train_smoted, y_train_smoted)\n",
    "y_pred_train = clf.predict(scaled_X_train_smoted)\n",
    "y_pred_test = clf.predict(scaled_X_test)"
   ]
  },
  {
   "cell_type": "code",
   "execution_count": 88,
   "metadata": {
    "ExecuteTime": {
     "end_time": "2020-05-28T17:15:13.268581Z",
     "start_time": "2020-05-28T17:15:08.514645Z"
    }
   },
   "outputs": [
    {
     "name": "stdout",
     "output_type": "stream",
     "text": [
      "MODEL EVALUATION METRICS:\n",
      " -----------------------------------------------------\n",
      "Confusion Matrix for train & test set: \n",
      "\n",
      "[[3199  664]\n",
      " [ 433 3430]] \n",
      "\n",
      "[[1032  268]\n",
      " [ 138  320]]\n",
      "-----------------------------------------------------\n",
      "\n",
      "Classification Report for train & test set\n",
      " \n",
      "Train set\n",
      "               precision    recall  f1-score   support\n",
      "\n",
      "           0       0.88      0.83      0.85      3863\n",
      "           1       0.84      0.89      0.86      3863\n",
      "\n",
      "    accuracy                           0.86      7726\n",
      "   macro avg       0.86      0.86      0.86      7726\n",
      "weighted avg       0.86      0.86      0.86      7726\n",
      " \n",
      "\n",
      "Test set\n",
      "               precision    recall  f1-score   support\n",
      "\n",
      "           0       0.88      0.79      0.84      1300\n",
      "           1       0.54      0.70      0.61       458\n",
      "\n",
      "    accuracy                           0.77      1758\n",
      "   macro avg       0.71      0.75      0.72      1758\n",
      "weighted avg       0.79      0.77      0.78      1758\n",
      "\n",
      "-----------------------------------------------------\n",
      "\n",
      "Cohen's Kappa for train and test set:\n",
      "  0.716 0.4511\n",
      "roc auc score for train and test set:\n",
      "  0.858 0.7463\n",
      "Mean Cross Validation Score:\n",
      " 0.8059\n"
     ]
    }
   ],
   "source": [
    "model_evaluation(scaled_X_train_smoted, scaled_X_test, y_train_smoted, y_test, y_pred_train, y_pred_test)"
   ]
  },
  {
   "cell_type": "code",
   "execution_count": null,
   "metadata": {},
   "outputs": [],
   "source": [
    "# roc_curve_and_auc(clf, X_train, X_test, y_train, y_test)"
   ]
  },
  {
   "cell_type": "code",
   "execution_count": null,
   "metadata": {},
   "outputs": [],
   "source": [
    "clf.feature_importances_.round(5)"
   ]
  },
  {
   "cell_type": "code",
   "execution_count": null,
   "metadata": {},
   "outputs": [],
   "source": [
    "plot_feature_importances(clf)"
   ]
  },
  {
   "cell_type": "markdown",
   "metadata": {},
   "source": [
    "# Gradient Boosting"
   ]
  },
  {
   "cell_type": "code",
   "execution_count": null,
   "metadata": {},
   "outputs": [],
   "source": [
    "clf = GradientBoostingClassifier()\n",
    "clf.fit(X_train, y_train)\n",
    "y_pred_train = clf.predict(X_train)\n",
    "y_pred_test = clf.predict(X_test)"
   ]
  },
  {
   "cell_type": "code",
   "execution_count": null,
   "metadata": {},
   "outputs": [],
   "source": [
    "model_evaluation(X_train, X_test, y_train, y_test, y_pred_train, y_pred_test)"
   ]
  },
  {
   "cell_type": "code",
   "execution_count": null,
   "metadata": {},
   "outputs": [],
   "source": [
    "roc_curve_and_auc(clf, X_train, X_test, y_train, y_test)"
   ]
  },
  {
   "cell_type": "code",
   "execution_count": null,
   "metadata": {},
   "outputs": [],
   "source": [
    "clf.feature_importances_.round(5)"
   ]
  },
  {
   "cell_type": "code",
   "execution_count": null,
   "metadata": {},
   "outputs": [],
   "source": [
    "plot_feature_importances(clf)"
   ]
  },
  {
   "cell_type": "markdown",
   "metadata": {},
   "source": [
    "# Adaboost"
   ]
  },
  {
   "cell_type": "code",
   "execution_count": null,
   "metadata": {},
   "outputs": [],
   "source": [
    "clf = AdaBoostClassifier()\n",
    "clf.fit(X_train, y_train)\n",
    "y_pred_train = clf.predict(X_train)\n",
    "y_pred_test = clf.predict(X_test)"
   ]
  },
  {
   "cell_type": "code",
   "execution_count": null,
   "metadata": {},
   "outputs": [],
   "source": [
    "model_evaluation(X_train, X_test, y_train, y_test, y_pred_train, y_pred_test)"
   ]
  },
  {
   "cell_type": "code",
   "execution_count": null,
   "metadata": {},
   "outputs": [],
   "source": [
    "roc_curve_and_auc(clf, X_train, X_test, y_train, y_test)"
   ]
  },
  {
   "cell_type": "code",
   "execution_count": null,
   "metadata": {},
   "outputs": [],
   "source": [
    "clf.feature_importances_"
   ]
  },
  {
   "cell_type": "code",
   "execution_count": null,
   "metadata": {},
   "outputs": [],
   "source": [
    "plot_feature_importances(clf)"
   ]
  },
  {
   "cell_type": "markdown",
   "metadata": {},
   "source": [
    "https://www.kaggle.com/stuarthallows/using-xgboost-with-scikit-learn"
   ]
  }
 ],
 "metadata": {
  "kernelspec": {
   "display_name": "Python 3",
   "language": "python",
   "name": "python3"
  },
  "language_info": {
   "codemirror_mode": {
    "name": "ipython",
    "version": 3
   },
   "file_extension": ".py",
   "mimetype": "text/x-python",
   "name": "python",
   "nbconvert_exporter": "python",
   "pygments_lexer": "ipython3",
   "version": "3.7.4"
  },
  "varInspector": {
   "cols": {
    "lenName": 16,
    "lenType": 16,
    "lenVar": 40
   },
   "kernels_config": {
    "python": {
     "delete_cmd_postfix": "",
     "delete_cmd_prefix": "del ",
     "library": "var_list.py",
     "varRefreshCmd": "print(var_dic_list())"
    },
    "r": {
     "delete_cmd_postfix": ") ",
     "delete_cmd_prefix": "rm(",
     "library": "var_list.r",
     "varRefreshCmd": "cat(var_dic_list()) "
    }
   },
   "types_to_exclude": [
    "module",
    "function",
    "builtin_function_or_method",
    "instance",
    "_Feature"
   ],
   "window_display": true
  }
 },
 "nbformat": 4,
 "nbformat_minor": 2
}
