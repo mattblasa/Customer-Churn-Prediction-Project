{
 "cells": [
  {
   "cell_type": "markdown",
   "metadata": {
    "toc": true
   },
   "source": [
    "<h1>Table of Contents<span class=\"tocSkip\"></span></h1>\n",
    "<div class=\"toc\"><ul class=\"toc-item\"><li><span><a href=\"#Final-Project-Notebook-2-Basic-Modelling\" data-toc-modified-id=\"Final-Project-Notebook-2-Basic-Modelling-1\"><span class=\"toc-item-num\">1&nbsp;&nbsp;</span>Final Project Notebook-2 Basic Modelling</a></span><ul class=\"toc-item\"><li><ul class=\"toc-item\"><li><span><a href=\"#Download-the-data-set\" data-toc-modified-id=\"Download-the-data-set-1.0.1\"><span class=\"toc-item-num\">1.0.1&nbsp;&nbsp;</span>Download the data set</a></span></li><li><span><a href=\"#Splitting-the-data-into-test-and-train-sets\" data-toc-modified-id=\"Splitting-the-data-into-test-and-train-sets-1.0.2\"><span class=\"toc-item-num\">1.0.2&nbsp;&nbsp;</span>Splitting the data into test and train sets</a></span></li><li><span><a href=\"#Scaling-the-data-by-sklearn-Standard-Scaler\" data-toc-modified-id=\"Scaling-the-data-by-sklearn-Standard-Scaler-1.0.3\"><span class=\"toc-item-num\">1.0.3&nbsp;&nbsp;</span>Scaling the data by sklearn Standard Scaler</a></span></li><li><span><a href=\"#Functions-to-evaluate-the-model\" data-toc-modified-id=\"Functions-to-evaluate-the-model-1.0.4\"><span class=\"toc-item-num\">1.0.4&nbsp;&nbsp;</span>Functions to evaluate the model</a></span></li><li><span><a href=\"#Handling-Imbalanced-Data\" data-toc-modified-id=\"Handling-Imbalanced-Data-1.0.5\"><span class=\"toc-item-num\">1.0.5&nbsp;&nbsp;</span>Handling Imbalanced Data</a></span></li></ul></li></ul></li><li><span><a href=\"#Logistic-Regression\" data-toc-modified-id=\"Logistic-Regression-2\"><span class=\"toc-item-num\">2&nbsp;&nbsp;</span>Logistic Regression</a></span><ul class=\"toc-item\"><li><span><a href=\"#Baseline-model\" data-toc-modified-id=\"Baseline-model-2.1\"><span class=\"toc-item-num\">2.1&nbsp;&nbsp;</span>Baseline model</a></span><ul class=\"toc-item\"><li><span><a href=\"#Instantiate,-fit-and-predict\" data-toc-modified-id=\"Instantiate,-fit-and-predict-2.1.1\"><span class=\"toc-item-num\">2.1.1&nbsp;&nbsp;</span>Instantiate, fit and predict</a></span></li><li><span><a href=\"#Print-Evaluation-Metrics\" data-toc-modified-id=\"Print-Evaluation-Metrics-2.1.2\"><span class=\"toc-item-num\">2.1.2&nbsp;&nbsp;</span>Print Evaluation Metrics</a></span></li><li><span><a href=\"#ROC-Curve\" data-toc-modified-id=\"ROC-Curve-2.1.3\"><span class=\"toc-item-num\">2.1.3&nbsp;&nbsp;</span>ROC Curve</a></span></li><li><span><a href=\"#Coefficients-of-the-model\" data-toc-modified-id=\"Coefficients-of-the-model-2.1.4\"><span class=\"toc-item-num\">2.1.4&nbsp;&nbsp;</span>Coefficients of the model</a></span></li></ul></li><li><span><a href=\"#Logistic-regression-with-syntetic-samples\" data-toc-modified-id=\"Logistic-regression-with-syntetic-samples-2.2\"><span class=\"toc-item-num\">2.2&nbsp;&nbsp;</span>Logistic regression with syntetic samples</a></span><ul class=\"toc-item\"><li><span><a href=\"#SMOTE\" data-toc-modified-id=\"SMOTE-2.2.1\"><span class=\"toc-item-num\">2.2.1&nbsp;&nbsp;</span>SMOTE</a></span></li><li><span><a href=\"#ADASYN\" data-toc-modified-id=\"ADASYN-2.2.2\"><span class=\"toc-item-num\">2.2.2&nbsp;&nbsp;</span>ADASYN</a></span></li><li><span><a href=\"#Print-Evaluation-Metrics\" data-toc-modified-id=\"Print-Evaluation-Metrics-2.2.3\"><span class=\"toc-item-num\">2.2.3&nbsp;&nbsp;</span>Print Evaluation Metrics</a></span></li><li><span><a href=\"#ROC-Curve\" data-toc-modified-id=\"ROC-Curve-2.2.4\"><span class=\"toc-item-num\">2.2.4&nbsp;&nbsp;</span>ROC Curve</a></span></li><li><span><a href=\"#Coefficients-of-the-model\" data-toc-modified-id=\"Coefficients-of-the-model-2.2.5\"><span class=\"toc-item-num\">2.2.5&nbsp;&nbsp;</span>Coefficients of the model</a></span></li></ul></li></ul></li><li><span><a href=\"#SCDClassifier-(Lasso-and-Ridge-regularizations)\" data-toc-modified-id=\"SCDClassifier-(Lasso-and-Ridge-regularizations)-3\"><span class=\"toc-item-num\">3&nbsp;&nbsp;</span>SCDClassifier (Lasso and Ridge regularizations)</a></span><ul class=\"toc-item\"><li><span><a href=\"#SCDClassifier-(SMOTE)\" data-toc-modified-id=\"SCDClassifier-(SMOTE)-3.1\"><span class=\"toc-item-num\">3.1&nbsp;&nbsp;</span>SCDClassifier (SMOTE)</a></span><ul class=\"toc-item\"><li><span><a href=\"#Instantiate,-fit-and-predict\" data-toc-modified-id=\"Instantiate,-fit-and-predict-3.1.1\"><span class=\"toc-item-num\">3.1.1&nbsp;&nbsp;</span>Instantiate, fit and predict</a></span></li><li><span><a href=\"#Print-Evaluation-Metrics\" data-toc-modified-id=\"Print-Evaluation-Metrics-3.1.2\"><span class=\"toc-item-num\">3.1.2&nbsp;&nbsp;</span>Print Evaluation Metrics</a></span></li><li><span><a href=\"#ROC-Curve\" data-toc-modified-id=\"ROC-Curve-3.1.3\"><span class=\"toc-item-num\">3.1.3&nbsp;&nbsp;</span>ROC Curve</a></span></li><li><span><a href=\"#Coefficients-of-the-model\" data-toc-modified-id=\"Coefficients-of-the-model-3.1.4\"><span class=\"toc-item-num\">3.1.4&nbsp;&nbsp;</span>Coefficients of the model</a></span></li></ul></li><li><span><a href=\"#SCDClassifier-(balanced-class-weight)\" data-toc-modified-id=\"SCDClassifier-(balanced-class-weight)-3.2\"><span class=\"toc-item-num\">3.2&nbsp;&nbsp;</span>SCDClassifier (balanced class weight)</a></span><ul class=\"toc-item\"><li><span><a href=\"#Instantiate,-fit-and-predict\" data-toc-modified-id=\"Instantiate,-fit-and-predict-3.2.1\"><span class=\"toc-item-num\">3.2.1&nbsp;&nbsp;</span>Instantiate, fit and predict</a></span></li><li><span><a href=\"#Print-Evaluation-Metrics\" data-toc-modified-id=\"Print-Evaluation-Metrics-3.2.2\"><span class=\"toc-item-num\">3.2.2&nbsp;&nbsp;</span>Print Evaluation Metrics</a></span></li><li><span><a href=\"#Coefficients-of-the-model\" data-toc-modified-id=\"Coefficients-of-the-model-3.2.3\"><span class=\"toc-item-num\">3.2.3&nbsp;&nbsp;</span>Coefficients of the model</a></span></li></ul></li></ul></li><li><span><a href=\"#KNN-Classifier\" data-toc-modified-id=\"KNN-Classifier-4\"><span class=\"toc-item-num\">4&nbsp;&nbsp;</span>KNN Classifier</a></span><ul class=\"toc-item\"><li><span><a href=\"#KNN-(Iterate-over-n-values)\" data-toc-modified-id=\"KNN-(Iterate-over-n-values)-4.1\"><span class=\"toc-item-num\">4.1&nbsp;&nbsp;</span>KNN (Iterate over n values)</a></span></li><li><span><a href=\"#KNN-(n=21)\" data-toc-modified-id=\"KNN-(n=21)-4.2\"><span class=\"toc-item-num\">4.2&nbsp;&nbsp;</span>KNN (n=21)</a></span><ul class=\"toc-item\"><li><span><a href=\"#Instantiate,-fit-and-predict\" data-toc-modified-id=\"Instantiate,-fit-and-predict-4.2.1\"><span class=\"toc-item-num\">4.2.1&nbsp;&nbsp;</span>Instantiate, fit and predict</a></span></li><li><span><a href=\"#Print-Evaluation-Metrics\" data-toc-modified-id=\"Print-Evaluation-Metrics-4.2.2\"><span class=\"toc-item-num\">4.2.2&nbsp;&nbsp;</span>Print Evaluation Metrics</a></span></li></ul></li></ul></li><li><span><a href=\"#SVM-classifier\" data-toc-modified-id=\"SVM-classifier-5\"><span class=\"toc-item-num\">5&nbsp;&nbsp;</span>SVM classifier</a></span><ul class=\"toc-item\"><li><ul class=\"toc-item\"><li><span><a href=\"#Make-a-sample-to-run-SVM-faster\" data-toc-modified-id=\"Make-a-sample-to-run-SVM-faster-5.0.1\"><span class=\"toc-item-num\">5.0.1&nbsp;&nbsp;</span>Make a sample to run SVM faster</a></span></li></ul></li><li><span><a href=\"#SVM-Classifier-(Balanced-Class-Weight)\" data-toc-modified-id=\"SVM-Classifier-(Balanced-Class-Weight)-5.1\"><span class=\"toc-item-num\">5.1&nbsp;&nbsp;</span>SVM Classifier (Balanced Class Weight)</a></span><ul class=\"toc-item\"><li><span><a href=\"#Instantiate,-fit-and-predict\" data-toc-modified-id=\"Instantiate,-fit-and-predict-5.1.1\"><span class=\"toc-item-num\">5.1.1&nbsp;&nbsp;</span>Instantiate, fit and predict</a></span></li><li><span><a href=\"#Print-Evaluation-Metrics\" data-toc-modified-id=\"Print-Evaluation-Metrics-5.1.2\"><span class=\"toc-item-num\">5.1.2&nbsp;&nbsp;</span>Print Evaluation Metrics</a></span></li><li><span><a href=\"#ROC-Curve\" data-toc-modified-id=\"ROC-Curve-5.1.3\"><span class=\"toc-item-num\">5.1.3&nbsp;&nbsp;</span>ROC Curve</a></span></li></ul></li><li><span><a href=\"#SVM-Classifier-(smote-and-gridsearch)\" data-toc-modified-id=\"SVM-Classifier-(smote-and-gridsearch)-5.2\"><span class=\"toc-item-num\">5.2&nbsp;&nbsp;</span>SVM Classifier (smote and gridsearch)</a></span><ul class=\"toc-item\"><li><span><a href=\"#Instantiate,-fit-and-predict\" data-toc-modified-id=\"Instantiate,-fit-and-predict-5.2.1\"><span class=\"toc-item-num\">5.2.1&nbsp;&nbsp;</span>Instantiate, fit and predict</a></span></li><li><span><a href=\"#Print-Evaluation-Metrics\" data-toc-modified-id=\"Print-Evaluation-Metrics-5.2.2\"><span class=\"toc-item-num\">5.2.2&nbsp;&nbsp;</span>Print Evaluation Metrics</a></span></li><li><span><a href=\"#ROC-Curve\" data-toc-modified-id=\"ROC-Curve-5.2.3\"><span class=\"toc-item-num\">5.2.3&nbsp;&nbsp;</span>ROC Curve</a></span></li></ul></li></ul></li><li><span><a href=\"#Gaussian-Naive-Bayes-Classifier\" data-toc-modified-id=\"Gaussian-Naive-Bayes-Classifier-6\"><span class=\"toc-item-num\">6&nbsp;&nbsp;</span>Gaussian Naive Bayes Classifier</a></span><ul class=\"toc-item\"><li><span><a href=\"#GaussianNB-(smoted)\" data-toc-modified-id=\"GaussianNB-(smoted)-6.1\"><span class=\"toc-item-num\">6.1&nbsp;&nbsp;</span>GaussianNB (smoted)</a></span><ul class=\"toc-item\"><li><span><a href=\"#Instantiate,-fit-and-predict\" data-toc-modified-id=\"Instantiate,-fit-and-predict-6.1.1\"><span class=\"toc-item-num\">6.1.1&nbsp;&nbsp;</span>Instantiate, fit and predict</a></span></li><li><span><a href=\"#Print-Evaluation-Metrics\" data-toc-modified-id=\"Print-Evaluation-Metrics-6.1.2\"><span class=\"toc-item-num\">6.1.2&nbsp;&nbsp;</span>Print Evaluation Metrics</a></span></li></ul></li><li><span><a href=\"#Gaussian-NB-(prior-probabilities-adjusted)\" data-toc-modified-id=\"Gaussian-NB-(prior-probabilities-adjusted)-6.2\"><span class=\"toc-item-num\">6.2&nbsp;&nbsp;</span>Gaussian NB (prior probabilities adjusted)</a></span><ul class=\"toc-item\"><li><span><a href=\"#Instantiate,-fit-and-predict\" data-toc-modified-id=\"Instantiate,-fit-and-predict-6.2.1\"><span class=\"toc-item-num\">6.2.1&nbsp;&nbsp;</span>Instantiate, fit and predict</a></span></li><li><span><a href=\"#Print-Evaluation-Metrics\" data-toc-modified-id=\"Print-Evaluation-Metrics-6.2.2\"><span class=\"toc-item-num\">6.2.2&nbsp;&nbsp;</span>Print Evaluation Metrics</a></span></li></ul></li></ul></li></ul></div>"
   ]
  },
  {
   "cell_type": "markdown",
   "metadata": {},
   "source": [
    "# Final Project Notebook-2 Basic Modelling\n",
    "\n",
    "Please fill out:\n",
    "* Student name: Seyma Tas\n",
    "* Student pace: full time\n",
    "* Scheduled project review date/time: \n",
    "* Instructor name: Amber Yandow\n",
    "* Blog post URL:\n"
   ]
  },
  {
   "cell_type": "markdown",
   "metadata": {},
   "source": [
    "### Modelling notebook 1: In this notebook:\n",
    "\n",
    "Logistic Regression,\n",
    "\n",
    "Lasso and Ridge Regularizations, \n",
    "\n",
    "K- Nearest Neighbors Classifier, \n",
    "\n",
    "Support Vector Machines Classifier\n",
    "\n",
    "Gaussian Naive Bayes Classifier are used for modelling the customer churn analysis."
   ]
  },
  {
   "cell_type": "markdown",
   "metadata": {},
   "source": [
    "### Import the necessary libraries."
   ]
  },
  {
   "cell_type": "code",
   "execution_count": 135,
   "metadata": {
    "ExecuteTime": {
     "end_time": "2020-05-31T23:44:56.972359Z",
     "start_time": "2020-05-31T23:44:56.962196Z"
    }
   },
   "outputs": [],
   "source": [
    "import pandas as pd\n",
    "import numpy as np\n",
    "import matplotlib.pyplot as plt\n",
    "%matplotlib inline\n",
    "import seaborn as sns\n",
    "sns.set_style('darkgrid', {'axes.facecolor': '0.9'})\n",
    "\n",
    "from sklearn.preprocessing import LabelEncoder, OneHotEncoder, StandardScaler\n",
    "from sklearn.model_selection import train_test_split, cross_val_score, GridSearchCV, ParameterGrid\n",
    "from sklearn.metrics import make_scorer\n",
    "from sklearn.metrics import classification_report, confusion_matrix, accuracy_score, precision_score, recall_score\n",
    "from sklearn.metrics import  f1_score, fbeta_score, r2_score, roc_auc_score, roc_curve, auc, cohen_kappa_score\n",
    "# from sklearn.metrics import plot_confusion_matrix\n",
    "## This function is going to be available in the scikit-learn 0.23.1 \n",
    "from sklearn.linear_model import LogisticRegression, SGDClassifier\n",
    "from sklearn.neighbors import KNeighborsClassifier\n",
    "from sklearn.svm import SVC\n",
    "from sklearn.naive_bayes import GaussianNB\n",
    "\n",
    "from imblearn.over_sampling import SMOTE, ADASYN\n",
    "\n",
    "\n",
    "import warnings\n",
    "warnings.filterwarnings('ignore')"
   ]
  },
  {
   "cell_type": "markdown",
   "metadata": {},
   "source": [
    "### Download the data set \n",
    "The Dataset was cleaned, unnecessary columns are dropped and one hot encoded in the previous notebook."
   ]
  },
  {
   "cell_type": "code",
   "execution_count": 93,
   "metadata": {
    "ExecuteTime": {
     "end_time": "2020-05-31T19:04:55.815901Z",
     "start_time": "2020-05-31T19:04:55.796701Z"
    }
   },
   "outputs": [],
   "source": [
    "df = pd.read_csv('TelcoCustomerChurnData_cleaned_ohe.csv')"
   ]
  },
  {
   "cell_type": "code",
   "execution_count": 94,
   "metadata": {
    "ExecuteTime": {
     "end_time": "2020-05-31T19:04:56.352051Z",
     "start_time": "2020-05-31T19:04:56.335102Z"
    }
   },
   "outputs": [
    {
     "data": {
      "text/html": [
       "<div>\n",
       "<style scoped>\n",
       "    .dataframe tbody tr th:only-of-type {\n",
       "        vertical-align: middle;\n",
       "    }\n",
       "\n",
       "    .dataframe tbody tr th {\n",
       "        vertical-align: top;\n",
       "    }\n",
       "\n",
       "    .dataframe thead th {\n",
       "        text-align: right;\n",
       "    }\n",
       "</style>\n",
       "<table border=\"1\" class=\"dataframe\">\n",
       "  <thead>\n",
       "    <tr style=\"text-align: right;\">\n",
       "      <th></th>\n",
       "      <th>tenure</th>\n",
       "      <th>MonthlyCharges</th>\n",
       "      <th>TotalCharges</th>\n",
       "      <th>Churn</th>\n",
       "      <th>SeniorCitizen_1</th>\n",
       "      <th>Partner_Yes</th>\n",
       "      <th>Dependents_Yes</th>\n",
       "      <th>MultipleLines_No phone service</th>\n",
       "      <th>MultipleLines_Yes</th>\n",
       "      <th>InternetService_Fiber optic</th>\n",
       "      <th>...</th>\n",
       "      <th>TechSupport_No internet service</th>\n",
       "      <th>TechSupport_Yes</th>\n",
       "      <th>StreamingTV_No internet service</th>\n",
       "      <th>StreamingTV_Yes</th>\n",
       "      <th>Contract_One year</th>\n",
       "      <th>Contract_Two year</th>\n",
       "      <th>PaperlessBilling_Yes</th>\n",
       "      <th>PaymentMethod_Credit card (automatic)</th>\n",
       "      <th>PaymentMethod_Electronic check</th>\n",
       "      <th>PaymentMethod_Mailed check</th>\n",
       "    </tr>\n",
       "  </thead>\n",
       "  <tbody>\n",
       "    <tr>\n",
       "      <td>0</td>\n",
       "      <td>1</td>\n",
       "      <td>29.85</td>\n",
       "      <td>29.85</td>\n",
       "      <td>0</td>\n",
       "      <td>0</td>\n",
       "      <td>1</td>\n",
       "      <td>0</td>\n",
       "      <td>1</td>\n",
       "      <td>0</td>\n",
       "      <td>0</td>\n",
       "      <td>...</td>\n",
       "      <td>0</td>\n",
       "      <td>0</td>\n",
       "      <td>0</td>\n",
       "      <td>0</td>\n",
       "      <td>0</td>\n",
       "      <td>0</td>\n",
       "      <td>1</td>\n",
       "      <td>0</td>\n",
       "      <td>1</td>\n",
       "      <td>0</td>\n",
       "    </tr>\n",
       "    <tr>\n",
       "      <td>1</td>\n",
       "      <td>34</td>\n",
       "      <td>56.95</td>\n",
       "      <td>1889.50</td>\n",
       "      <td>0</td>\n",
       "      <td>0</td>\n",
       "      <td>0</td>\n",
       "      <td>0</td>\n",
       "      <td>0</td>\n",
       "      <td>0</td>\n",
       "      <td>0</td>\n",
       "      <td>...</td>\n",
       "      <td>0</td>\n",
       "      <td>0</td>\n",
       "      <td>0</td>\n",
       "      <td>0</td>\n",
       "      <td>1</td>\n",
       "      <td>0</td>\n",
       "      <td>0</td>\n",
       "      <td>0</td>\n",
       "      <td>0</td>\n",
       "      <td>1</td>\n",
       "    </tr>\n",
       "    <tr>\n",
       "      <td>2</td>\n",
       "      <td>2</td>\n",
       "      <td>53.85</td>\n",
       "      <td>108.15</td>\n",
       "      <td>1</td>\n",
       "      <td>0</td>\n",
       "      <td>0</td>\n",
       "      <td>0</td>\n",
       "      <td>0</td>\n",
       "      <td>0</td>\n",
       "      <td>0</td>\n",
       "      <td>...</td>\n",
       "      <td>0</td>\n",
       "      <td>0</td>\n",
       "      <td>0</td>\n",
       "      <td>0</td>\n",
       "      <td>0</td>\n",
       "      <td>0</td>\n",
       "      <td>1</td>\n",
       "      <td>0</td>\n",
       "      <td>0</td>\n",
       "      <td>1</td>\n",
       "    </tr>\n",
       "    <tr>\n",
       "      <td>3</td>\n",
       "      <td>45</td>\n",
       "      <td>42.30</td>\n",
       "      <td>1840.75</td>\n",
       "      <td>0</td>\n",
       "      <td>0</td>\n",
       "      <td>0</td>\n",
       "      <td>0</td>\n",
       "      <td>1</td>\n",
       "      <td>0</td>\n",
       "      <td>0</td>\n",
       "      <td>...</td>\n",
       "      <td>0</td>\n",
       "      <td>1</td>\n",
       "      <td>0</td>\n",
       "      <td>0</td>\n",
       "      <td>1</td>\n",
       "      <td>0</td>\n",
       "      <td>0</td>\n",
       "      <td>0</td>\n",
       "      <td>0</td>\n",
       "      <td>0</td>\n",
       "    </tr>\n",
       "    <tr>\n",
       "      <td>4</td>\n",
       "      <td>2</td>\n",
       "      <td>70.70</td>\n",
       "      <td>151.65</td>\n",
       "      <td>1</td>\n",
       "      <td>0</td>\n",
       "      <td>0</td>\n",
       "      <td>0</td>\n",
       "      <td>0</td>\n",
       "      <td>0</td>\n",
       "      <td>1</td>\n",
       "      <td>...</td>\n",
       "      <td>0</td>\n",
       "      <td>0</td>\n",
       "      <td>0</td>\n",
       "      <td>0</td>\n",
       "      <td>0</td>\n",
       "      <td>0</td>\n",
       "      <td>1</td>\n",
       "      <td>0</td>\n",
       "      <td>1</td>\n",
       "      <td>0</td>\n",
       "    </tr>\n",
       "  </tbody>\n",
       "</table>\n",
       "<p>5 rows × 25 columns</p>\n",
       "</div>"
      ],
      "text/plain": [
       "   tenure  MonthlyCharges  TotalCharges  Churn  SeniorCitizen_1  Partner_Yes  \\\n",
       "0       1           29.85         29.85      0                0            1   \n",
       "1      34           56.95       1889.50      0                0            0   \n",
       "2       2           53.85        108.15      1                0            0   \n",
       "3      45           42.30       1840.75      0                0            0   \n",
       "4       2           70.70        151.65      1                0            0   \n",
       "\n",
       "   Dependents_Yes  MultipleLines_No phone service  MultipleLines_Yes  \\\n",
       "0               0                               1                  0   \n",
       "1               0                               0                  0   \n",
       "2               0                               0                  0   \n",
       "3               0                               1                  0   \n",
       "4               0                               0                  0   \n",
       "\n",
       "   InternetService_Fiber optic  ...  TechSupport_No internet service  \\\n",
       "0                            0  ...                                0   \n",
       "1                            0  ...                                0   \n",
       "2                            0  ...                                0   \n",
       "3                            0  ...                                0   \n",
       "4                            1  ...                                0   \n",
       "\n",
       "   TechSupport_Yes  StreamingTV_No internet service  StreamingTV_Yes  \\\n",
       "0                0                                0                0   \n",
       "1                0                                0                0   \n",
       "2                0                                0                0   \n",
       "3                1                                0                0   \n",
       "4                0                                0                0   \n",
       "\n",
       "   Contract_One year  Contract_Two year  PaperlessBilling_Yes  \\\n",
       "0                  0                  0                     1   \n",
       "1                  1                  0                     0   \n",
       "2                  0                  0                     1   \n",
       "3                  1                  0                     0   \n",
       "4                  0                  0                     1   \n",
       "\n",
       "   PaymentMethod_Credit card (automatic)  PaymentMethod_Electronic check  \\\n",
       "0                                      0                               1   \n",
       "1                                      0                               0   \n",
       "2                                      0                               0   \n",
       "3                                      0                               0   \n",
       "4                                      0                               1   \n",
       "\n",
       "   PaymentMethod_Mailed check  \n",
       "0                           0  \n",
       "1                           1  \n",
       "2                           1  \n",
       "3                           0  \n",
       "4                           0  \n",
       "\n",
       "[5 rows x 25 columns]"
      ]
     },
     "execution_count": 94,
     "metadata": {},
     "output_type": "execute_result"
    }
   ],
   "source": [
    "df.head()"
   ]
  },
  {
   "cell_type": "markdown",
   "metadata": {},
   "source": [
    "### Splitting the data into test and train sets"
   ]
  },
  {
   "cell_type": "code",
   "execution_count": 95,
   "metadata": {
    "ExecuteTime": {
     "end_time": "2020-05-31T19:04:57.977238Z",
     "start_time": "2020-05-31T19:04:57.972503Z"
    }
   },
   "outputs": [],
   "source": [
    "X = df.drop(['Churn'], axis=1)\n",
    "y = df['Churn']"
   ]
  },
  {
   "cell_type": "code",
   "execution_count": 96,
   "metadata": {
    "ExecuteTime": {
     "end_time": "2020-05-31T19:04:58.588959Z",
     "start_time": "2020-05-31T19:04:58.582116Z"
    }
   },
   "outputs": [],
   "source": [
    "X_train, X_test, y_train, y_test = train_test_split(X, y, random_state=42)"
   ]
  },
  {
   "cell_type": "markdown",
   "metadata": {},
   "source": [
    "### Scaling the data by sklearn Standard Scaler"
   ]
  },
  {
   "cell_type": "code",
   "execution_count": 97,
   "metadata": {
    "ExecuteTime": {
     "end_time": "2020-05-31T19:05:00.966761Z",
     "start_time": "2020-05-31T19:05:00.956469Z"
    }
   },
   "outputs": [],
   "source": [
    "scaler = StandardScaler()\n",
    "scaled_x_train = scaler.fit_transform(X_train)\n",
    "scaled_X_test = scaler.transform(X_test)\n",
    "scaled_X_train = pd.DataFrame(scaled_x_train, columns=X_train.columns)"
   ]
  },
  {
   "cell_type": "markdown",
   "metadata": {},
   "source": [
    "### Functions to evaluate the model"
   ]
  },
  {
   "cell_type": "markdown",
   "metadata": {},
   "source": [
    "##### Function to draw the ROC curve and to calculate the area under the curve"
   ]
  },
  {
   "cell_type": "code",
   "execution_count": 98,
   "metadata": {
    "ExecuteTime": {
     "end_time": "2020-05-31T19:05:02.877796Z",
     "start_time": "2020-05-31T19:05:02.868265Z"
    },
    "code_folding": [
     0
    ]
   },
   "outputs": [],
   "source": [
    "def roc_curve_and_auc(clf, X_train, X_test, y_train, y_test):\n",
    "\n",
    "    # Calculate the probability scores of each point in the training set\n",
    "    y_train_score = clf.fit(X_train, y_train).decision_function(X_train)\n",
    "\n",
    "    # Calculate the fpr, tpr, and thresholds for the training set\n",
    "    train_fpr, train_tpr, thresholds = roc_curve(y_train, y_train_score)\n",
    "\n",
    "    # Calculate the probability scores of each point in the test set\n",
    "    y_test_score = clf.decision_function(X_test)\n",
    "\n",
    "    # Calculate the fpr, tpr, and thresholds for the test set\n",
    "    test_fpr, test_tpr, test_thresholds = roc_curve(y_test, y_test_score)\n",
    "\n",
    "    # ROC curve for training set\n",
    "    plt.figure(figsize=(10, 8))\n",
    "    lw = 2\n",
    "    plt.plot(train_fpr, train_tpr, color='darkorange',\n",
    "             lw=lw, label='Train ROC curve')\n",
    "    plt.plot(test_fpr, test_tpr, color='blue',\n",
    "             lw=lw, label='Test ROC curve')\n",
    "    plt.plot([0, 1], [0, 1], color='navy', lw=lw, linestyle='--')\n",
    "    plt.xlim([0.0, 1.0])\n",
    "    plt.ylim([0.0, 1.05])\n",
    "    plt.yticks([i/20.0 for i in range(21)])\n",
    "    plt.xticks([i/20.0 for i in range(21)])\n",
    "    plt.xlabel('False Positive Rate')\n",
    "    plt.ylabel('True Positive Rate')\n",
    "    plt.title(\n",
    "        'Receiver operating characteristic (ROC) Curve for Training and Testing Sets')\n",
    "    plt.legend(loc='lower right')\n",
    "    plt.show()\n",
    "    # Print the area under the roc curve\n",
    "    print('Training AUC: {}'.format(round(auc(train_fpr, train_tpr), 5)))\n",
    "    print('Testing AUC: {}'.format(round(auc(test_fpr, test_tpr), 5)))"
   ]
  },
  {
   "cell_type": "markdown",
   "metadata": {},
   "source": [
    "##### Function to plot the coefficients"
   ]
  },
  {
   "cell_type": "code",
   "execution_count": 99,
   "metadata": {
    "ExecuteTime": {
     "end_time": "2020-05-31T19:05:06.824995Z",
     "start_time": "2020-05-31T19:05:06.820349Z"
    }
   },
   "outputs": [],
   "source": [
    "def plot_coefficients(clf):\n",
    "    weights_clf = pd.Series(clf.coef_[0], index=X.columns.values)\n",
    "    weights_clf.sort_values(inplace=True)\n",
    "    plt.figure(figsize=(15, 6))\n",
    "    plt.xticks(rotation=90)\n",
    "    features = plt.bar(weights_clf.index, weights_clf.values)"
   ]
  },
  {
   "cell_type": "markdown",
   "metadata": {},
   "source": [
    "##### Function to plot the feature importances"
   ]
  },
  {
   "cell_type": "code",
   "execution_count": 100,
   "metadata": {
    "ExecuteTime": {
     "end_time": "2020-05-31T19:05:08.272310Z",
     "start_time": "2020-05-31T19:05:08.268068Z"
    },
    "code_folding": []
   },
   "outputs": [],
   "source": [
    "def plot_feature_importances(model):\n",
    "    n_features = X_train.shape[1]\n",
    "    plt.figure(figsize=(8, 8))\n",
    "    plt.barh(range(n_features), model.feature_importances_, align='center')\n",
    "    plt.yticks(np.arange(n_features), X_train.columns.values)\n",
    "    plt.xlabel('Feature importance')\n",
    "    plt.ylabel('Feature')"
   ]
  },
  {
   "cell_type": "markdown",
   "metadata": {},
   "source": [
    "##### Function to print the confusion matrix in a data frame to make the matrix more readable."
   ]
  },
  {
   "cell_type": "code",
   "execution_count": 101,
   "metadata": {
    "ExecuteTime": {
     "end_time": "2020-05-31T19:05:11.329966Z",
     "start_time": "2020-05-31T19:05:11.323999Z"
    },
    "code_folding": []
   },
   "outputs": [],
   "source": [
    " def confusion_matrix_df(y_test, y_pred_test):\n",
    "    confusion_mat = confusion_matrix(y_test, y_pred_test, labels=[0, 1])\n",
    "    _row = confusion_mat.sum(axis=0)\n",
    "    _col = [np.nan] + list(confusion_mat.sum(axis=1)) + [sum(_row)]\n",
    "    con_df = pd.DataFrame({})\n",
    "    con_df[\"Predicted\"] = [\"Actual\"] + [\"No Churn\", \"Churn\"] + [\"All\"]\n",
    "    for label, idx in {\"No Churn\": 0, \"Churn\": 1}.items():\n",
    "        temp = [np.nan] + list(confusion_mat[:, idx]) + [_row[idx]]\n",
    "        con_df[label] = temp\n",
    "\n",
    "    con_df[\"All\"] = _col\n",
    "    return con_df"
   ]
  },
  {
   "cell_type": "markdown",
   "metadata": {},
   "source": [
    "##### Function to print the metrics: Confusion Matrix, Classification Report, Cohen's Kappa, F beta score, roc-auc score and mean cross validation score."
   ]
  },
  {
   "cell_type": "code",
   "execution_count": 105,
   "metadata": {
    "ExecuteTime": {
     "end_time": "2020-05-31T19:05:48.307246Z",
     "start_time": "2020-05-31T19:05:48.299502Z"
    },
    "code_folding": []
   },
   "outputs": [],
   "source": [
    "def model_evaluation(X_train, X_test, y_train, y_test, y_pred_train, y_pred_test):\n",
    "\n",
    "    print('MODEL EVALUATION METRICS:\\n',\n",
    "          '-----------------------------------------------------')\n",
    "\n",
    "    print('Confusion Matrix for train & test set: \\n')\n",
    "    print(confusion_matrix_df(y_train, y_pred_train), '\\n')\n",
    "    print(confusion_matrix_df(y_test, y_pred_test), '\\n')\n",
    "\n",
    "    print('-----------------------------------------------------')\n",
    "    print('\\nClassification Report for train & test set\\n',\n",
    "          '\\nTrain set\\n',\n",
    "          classification_report(y_train, y_pred_train),\n",
    "          '\\n\\nTest set\\n',\n",
    "          classification_report(y_test, y_pred_test))\n",
    "\n",
    "    print('-----------------------------------------------------\\n')\n",
    "    print(\"Cohen's Kappa for train and test set:\\n \",\n",
    "          round(cohen_kappa_score(y_train, y_pred_train), 4),\n",
    "          round(cohen_kappa_score(y_test, y_pred_test), 4))\n",
    "\n",
    "    print(\"f2 score for train and test set: \\n \",\n",
    "          round(fbeta_score(y_train, y_pred_train, 2.0), 4),\n",
    "          round(fbeta_score(y_test, y_pred_test, 2.0), 4))\n",
    "\n",
    "    print('roc auc score for train and test set:\\n ',\n",
    "          round(roc_auc_score(y_train, y_pred_train), 4),\n",
    "          round(roc_auc_score(y_test, y_pred_test), 4))\n",
    "\n",
    "    print('Mean Cross Validation Score:\\n', round(cross_val_score(clf, X, y, cv=5).mean(), 4))"
   ]
  },
  {
   "cell_type": "markdown",
   "metadata": {},
   "source": [
    "### Handling Imbalanced Data"
   ]
  },
  {
   "cell_type": "code",
   "execution_count": 106,
   "metadata": {
    "ExecuteTime": {
     "end_time": "2020-05-31T19:05:50.088506Z",
     "start_time": "2020-05-31T19:05:49.946539Z"
    }
   },
   "outputs": [
    {
     "data": {
      "image/png": "[encoded data removed]",
      "text/plain": [
       "<Figure size 432x288 with 1 Axes>"
      ]
     },
     "metadata": {},
     "output_type": "display_data"
    }
   ],
   "source": [
    "sns.countplot(y);"
   ]
  },
  {
   "cell_type": "code",
   "execution_count": 107,
   "metadata": {
    "ExecuteTime": {
     "end_time": "2020-05-31T19:05:50.528083Z",
     "start_time": "2020-05-31T19:05:50.522139Z"
    }
   },
   "outputs": [
    {
     "data": {
      "text/plain": [
       "0    0.734215\n",
       "1    0.265785\n",
       "Name: Churn, dtype: float64"
      ]
     },
     "execution_count": 107,
     "metadata": {},
     "output_type": "execute_result"
    }
   ],
   "source": [
    "y.value_counts(normalize=True)"
   ]
  },
  {
   "cell_type": "markdown",
   "metadata": {},
   "source": [
    "We have an imbalanced data set. We have to find ways to handle it or we are going to have a high accuracy but we can not make true predictions of the minority class which is 'Churn' in this project. \n",
    "We can use class_weight parameter of the models, we can make synthetic samples of the minority class using SMOTE or ADASYN or we can just oversample or under sample the necessary class."
   ]
  },
  {
   "cell_type": "markdown",
   "metadata": {},
   "source": [
    "# Logistic Regression"
   ]
  },
  {
   "cell_type": "markdown",
   "metadata": {},
   "source": [
    "## Baseline model"
   ]
  },
  {
   "cell_type": "markdown",
   "metadata": {},
   "source": [
    "### Instantiate, fit and predict"
   ]
  },
  {
   "cell_type": "code",
   "execution_count": 108,
   "metadata": {
    "ExecuteTime": {
     "end_time": "2020-05-31T19:05:54.126708Z",
     "start_time": "2020-05-31T19:05:54.089911Z"
    }
   },
   "outputs": [],
   "source": [
    "clf = LogisticRegression(fit_intercept=False, C=1e12,\n",
    "                         solver='liblinear', class_weight='balanced')\n",
    "clf.fit(X_train, y_train)\n",
    "y_pred_train = clf.predict(X_train)\n",
    "y_pred_test = clf.predict(X_test)"
   ]
  },
  {
   "cell_type": "markdown",
   "metadata": {},
   "source": [
    "### Print Evaluation Metrics"
   ]
  },
  {
   "cell_type": "code",
   "execution_count": 109,
   "metadata": {
    "ExecuteTime": {
     "end_time": "2020-05-31T19:05:55.479651Z",
     "start_time": "2020-05-31T19:05:55.202380Z"
    },
    "scrolled": true
   },
   "outputs": [
    {
     "name": "stdout",
     "output_type": "stream",
     "text": [
      "MODEL EVALUATION METRICS:\n",
      " -----------------------------------------------------\n",
      "Confusion Matrix for train & test set: \n",
      "\n",
      "  Predicted  No Churn   Churn     All\n",
      "0    Actual       NaN     NaN     NaN\n",
      "1  No Churn    2837.0  1026.0  3863.0\n",
      "2     Churn     272.0  1139.0  1411.0\n",
      "3       All    3109.0  2165.0  5274.0 \n",
      "\n",
      "  Predicted  No Churn  Churn     All\n",
      "0    Actual       NaN    NaN     NaN\n",
      "1  No Churn     932.0  368.0  1300.0\n",
      "2     Churn      97.0  361.0   458.0\n",
      "3       All    1029.0  729.0  1758.0 \n",
      "\n",
      "-----------------------------------------------------\n",
      "\n",
      "Classification Report for train & test set\n",
      " \n",
      "Train set\n",
      "               precision    recall  f1-score   support\n",
      "\n",
      "           0       0.91      0.73      0.81      3863\n",
      "           1       0.53      0.81      0.64      1411\n",
      "\n",
      "    accuracy                           0.75      5274\n",
      "   macro avg       0.72      0.77      0.73      5274\n",
      "weighted avg       0.81      0.75      0.77      5274\n",
      " \n",
      "\n",
      "Test set\n",
      "               precision    recall  f1-score   support\n",
      "\n",
      "           0       0.91      0.72      0.80      1300\n",
      "           1       0.50      0.79      0.61       458\n",
      "\n",
      "    accuracy                           0.74      1758\n",
      "   macro avg       0.70      0.75      0.70      1758\n",
      "weighted avg       0.80      0.74      0.75      1758\n",
      "\n",
      "-----------------------------------------------------\n",
      "\n",
      "Cohen's Kappa for train and test set:\n",
      "  0.4631 0.4239\n",
      "f2 score for train and test set: \n",
      "  0.7293 0.7048\n",
      "roc auc score for train and test set:\n",
      "  0.7708 0.7526\n",
      "Mean Cross Validation Score:\n",
      " 0.7462\n"
     ]
    }
   ],
   "source": [
    "model_evaluation(X_train, X_test, y_train, y_test, y_pred_train, y_pred_test)"
   ]
  },
  {
   "cell_type": "markdown",
   "metadata": {},
   "source": [
    "### ROC Curve"
   ]
  },
  {
   "cell_type": "code",
   "execution_count": 110,
   "metadata": {
    "ExecuteTime": {
     "end_time": "2020-05-31T19:05:57.299867Z",
     "start_time": "2020-05-31T19:05:56.866447Z"
    },
    "scrolled": true
   },
   "outputs": [
    {
     "data": {
      "image/png": "[encoded data removed]",
      "text/plain": [
       "<Figure size 720x576 with 1 Axes>"
      ]
     },
     "metadata": {},
     "output_type": "display_data"
    },
    {
     "name": "stdout",
     "output_type": "stream",
     "text": [
      "Training AUC: 0.84942\n",
      "Testing AUC: 0.83321\n"
     ]
    }
   ],
   "source": [
    "roc_curve_and_auc(clf, X_train, X_test, y_train, y_test)"
   ]
  },
  {
   "cell_type": "markdown",
   "metadata": {},
   "source": [
    "### Coefficients of the model"
   ]
  },
  {
   "cell_type": "code",
   "execution_count": 111,
   "metadata": {
    "ExecuteTime": {
     "end_time": "2020-05-31T19:05:58.031539Z",
     "start_time": "2020-05-31T19:05:58.027368Z"
    }
   },
   "outputs": [
    {
     "data": {
      "text/plain": [
       "array([[-0.06,  0.01,  0.  ,  0.24,  0.08, -0.25,  0.82,  0.14,  0.69,\n",
       "        -0.07, -0.07, -0.16, -0.07, -0.05, -0.07, -0.41, -0.07,  0.17,\n",
       "        -0.8 , -1.39,  0.22, -0.04,  0.39, -0.07]])"
      ]
     },
     "execution_count": 111,
     "metadata": {},
     "output_type": "execute_result"
    }
   ],
   "source": [
    "clf.coef_.round(2)"
   ]
  },
  {
   "cell_type": "code",
   "execution_count": 112,
   "metadata": {
    "ExecuteTime": {
     "end_time": "2020-05-31T19:05:59.151410Z",
     "start_time": "2020-05-31T19:05:58.658731Z"
    }
   },
   "outputs": [
    {
     "data": {
      "image/png": "[encoded data removed]",
      "text/plain": [
       "<Figure size 1080x432 with 1 Axes>"
      ]
     },
     "metadata": {},
     "output_type": "display_data"
    }
   ],
   "source": [
    "plot_coefficients(clf)"
   ]
  },
  {
   "cell_type": "markdown",
   "metadata": {},
   "source": [
    "## Logistic regression with syntetic samples"
   ]
  },
  {
   "cell_type": "markdown",
   "metadata": {},
   "source": [
    "### SMOTE\n"
   ]
  },
  {
   "cell_type": "code",
   "execution_count": 113,
   "metadata": {
    "ExecuteTime": {
     "end_time": "2020-05-31T19:06:02.283165Z",
     "start_time": "2020-05-31T19:06:02.209807Z"
    }
   },
   "outputs": [],
   "source": [
    "smote = SMOTE()\n",
    "scaled_X_train_smoted, y_train_smoted = smote.fit_sample(scaled_X_train, y_train)"
   ]
  },
  {
   "cell_type": "markdown",
   "metadata": {},
   "source": [
    "### ADASYN"
   ]
  },
  {
   "cell_type": "code",
   "execution_count": 114,
   "metadata": {
    "ExecuteTime": {
     "end_time": "2020-05-31T19:06:03.391782Z",
     "start_time": "2020-05-31T19:06:03.298390Z"
    }
   },
   "outputs": [],
   "source": [
    "adasyn = ADASYN()\n",
    "X_train_ada, y_train_ada = adasyn.fit_sample(X_train, y_train)"
   ]
  },
  {
   "cell_type": "code",
   "execution_count": 115,
   "metadata": {
    "ExecuteTime": {
     "end_time": "2020-05-31T19:06:04.515770Z",
     "start_time": "2020-05-31T19:06:04.465870Z"
    }
   },
   "outputs": [],
   "source": [
    "clf = LogisticRegression(fit_intercept=False, C=1e20, solver='liblinear')\n",
    "clf.fit(X_train_ada, y_train_ada)\n",
    "y_pred_train = clf.predict(X_train_ada)\n",
    "y_pred_test = clf.predict(X_test)"
   ]
  },
  {
   "cell_type": "markdown",
   "metadata": {},
   "source": [
    "### Print Evaluation Metrics"
   ]
  },
  {
   "cell_type": "code",
   "execution_count": 116,
   "metadata": {
    "ExecuteTime": {
     "end_time": "2020-05-31T19:06:07.047192Z",
     "start_time": "2020-05-31T19:06:06.781288Z"
    },
    "scrolled": true
   },
   "outputs": [
    {
     "name": "stdout",
     "output_type": "stream",
     "text": [
      "MODEL EVALUATION METRICS:\n",
      " -----------------------------------------------------\n",
      "Confusion Matrix for train & test set: \n",
      "\n",
      "  Predicted  No Churn   Churn     All\n",
      "0    Actual       NaN     NaN     NaN\n",
      "1  No Churn    2734.0  1129.0  3863.0\n",
      "2     Churn     771.0  3137.0  3908.0\n",
      "3       All    3505.0  4266.0  7771.0 \n",
      "\n",
      "  Predicted  No Churn  Churn     All\n",
      "0    Actual       NaN    NaN     NaN\n",
      "1  No Churn     889.0  411.0  1300.0\n",
      "2     Churn      83.0  375.0   458.0\n",
      "3       All     972.0  786.0  1758.0 \n",
      "\n",
      "-----------------------------------------------------\n",
      "\n",
      "Classification Report for train & test set\n",
      " \n",
      "Train set\n",
      "               precision    recall  f1-score   support\n",
      "\n",
      "           0       0.78      0.71      0.74      3863\n",
      "           1       0.74      0.80      0.77      3908\n",
      "\n",
      "    accuracy                           0.76      7771\n",
      "   macro avg       0.76      0.76      0.75      7771\n",
      "weighted avg       0.76      0.76      0.75      7771\n",
      " \n",
      "\n",
      "Test set\n",
      "               precision    recall  f1-score   support\n",
      "\n",
      "           0       0.91      0.68      0.78      1300\n",
      "           1       0.48      0.82      0.60       458\n",
      "\n",
      "    accuracy                           0.72      1758\n",
      "   macro avg       0.70      0.75      0.69      1758\n",
      "weighted avg       0.80      0.72      0.74      1758\n",
      "\n",
      "-----------------------------------------------------\n",
      "\n",
      "Cohen's Kappa for train and test set:\n",
      "  0.5107 0.408\n",
      "f2 score for train and test set: \n",
      "  0.7883 0.7162\n",
      "roc auc score for train and test set:\n",
      "  0.7552 0.7513\n",
      "Mean Cross Validation Score:\n",
      " 0.7995\n"
     ]
    }
   ],
   "source": [
    "model_evaluation(X_train_ada, X_test, y_train_ada, y_test, y_pred_train, y_pred_test)"
   ]
  },
  {
   "cell_type": "markdown",
   "metadata": {},
   "source": [
    "### ROC Curve"
   ]
  },
  {
   "cell_type": "code",
   "execution_count": 117,
   "metadata": {
    "ExecuteTime": {
     "end_time": "2020-05-31T19:06:08.792740Z",
     "start_time": "2020-05-31T19:06:08.346477Z"
    },
    "scrolled": true
   },
   "outputs": [
    {
     "data": {
      "image/png": "[encoded data removed]",
      "text/plain": [
       "<Figure size 720x576 with 1 Axes>"
      ]
     },
     "metadata": {},
     "output_type": "display_data"
    },
    {
     "name": "stdout",
     "output_type": "stream",
     "text": [
      "Training AUC: 0.82754\n",
      "Testing AUC: 0.83049\n"
     ]
    }
   ],
   "source": [
    "roc_curve_and_auc(clf, X_train_ada, X_test, y_train_ada, y_test)"
   ]
  },
  {
   "cell_type": "markdown",
   "metadata": {},
   "source": [
    "### Coefficients of the model"
   ]
  },
  {
   "cell_type": "code",
   "execution_count": 118,
   "metadata": {
    "ExecuteTime": {
     "end_time": "2020-05-31T19:06:10.366196Z",
     "start_time": "2020-05-31T19:06:10.361747Z"
    }
   },
   "outputs": [
    {
     "data": {
      "text/plain": [
       "array([[-0.06,  0.01,  0.  ,  0.31,  0.15, -0.3 ,  0.84,  0.18,  0.55,\n",
       "        -0.05, -0.05, -0.24, -0.05, -0.05, -0.05, -0.45, -0.05,  0.16,\n",
       "        -0.94, -1.61,  0.32, -0.05,  0.46, -0.04]])"
      ]
     },
     "execution_count": 118,
     "metadata": {},
     "output_type": "execute_result"
    }
   ],
   "source": [
    "clf.coef_.round(2)"
   ]
  },
  {
   "cell_type": "code",
   "execution_count": 119,
   "metadata": {
    "ExecuteTime": {
     "end_time": "2020-05-31T19:06:11.520073Z",
     "start_time": "2020-05-31T19:06:11.067067Z"
    }
   },
   "outputs": [
    {
     "data": {
      "image/png": "[encoded data removed]",
      "text/plain": [
       "<Figure size 1080x432 with 1 Axes>"
      ]
     },
     "metadata": {},
     "output_type": "display_data"
    }
   ],
   "source": [
    "plot_coefficients(clf)"
   ]
  },
  {
   "cell_type": "raw",
   "metadata": {},
   "source": []
  },
  {
   "cell_type": "markdown",
   "metadata": {},
   "source": [
    "# SCDClassifier (Lasso and Ridge regularizations)"
   ]
  },
  {
   "cell_type": "markdown",
   "metadata": {},
   "source": [
    "## SCDClassifier (SMOTE)"
   ]
  },
  {
   "cell_type": "markdown",
   "metadata": {},
   "source": [
    "### Instantiate, fit and predict"
   ]
  },
  {
   "cell_type": "code",
   "execution_count": 120,
   "metadata": {
    "ExecuteTime": {
     "end_time": "2020-05-31T19:06:17.617727Z",
     "start_time": "2020-05-31T19:06:17.513380Z"
    },
    "scrolled": false
   },
   "outputs": [],
   "source": [
    "clf = SGDClassifier(penalty='elasticnet')\n",
    "clf.fit(scaled_X_train_smoted, y_train_smoted)\n",
    "y_pred_train = clf.predict(scaled_X_train_smoted)\n",
    "y_pred_test = clf.predict(scaled_X_test)"
   ]
  },
  {
   "cell_type": "markdown",
   "metadata": {},
   "source": [
    "### Print Evaluation Metrics"
   ]
  },
  {
   "cell_type": "code",
   "execution_count": 121,
   "metadata": {
    "ExecuteTime": {
     "end_time": "2020-05-31T19:06:21.299936Z",
     "start_time": "2020-05-31T19:06:20.506270Z"
    },
    "scrolled": true
   },
   "outputs": [
    {
     "name": "stdout",
     "output_type": "stream",
     "text": [
      "MODEL EVALUATION METRICS:\n",
      " -----------------------------------------------------\n",
      "Confusion Matrix for train & test set: \n",
      "\n",
      "  Predicted  No Churn   Churn     All\n",
      "0    Actual       NaN     NaN     NaN\n",
      "1  No Churn    2596.0  1267.0  3863.0\n",
      "2     Churn     528.0  3335.0  3863.0\n",
      "3       All    3124.0  4602.0  7726.0 \n",
      "\n",
      "  Predicted  No Churn  Churn     All\n",
      "0    Actual       NaN    NaN     NaN\n",
      "1  No Churn     867.0  433.0  1300.0\n",
      "2     Churn      75.0  383.0   458.0\n",
      "3       All     942.0  816.0  1758.0 \n",
      "\n",
      "-----------------------------------------------------\n",
      "\n",
      "Classification Report for train & test set\n",
      " \n",
      "Train set\n",
      "               precision    recall  f1-score   support\n",
      "\n",
      "           0       0.83      0.67      0.74      3863\n",
      "           1       0.72      0.86      0.79      3863\n",
      "\n",
      "    accuracy                           0.77      7726\n",
      "   macro avg       0.78      0.77      0.77      7726\n",
      "weighted avg       0.78      0.77      0.77      7726\n",
      " \n",
      "\n",
      "Test set\n",
      "               precision    recall  f1-score   support\n",
      "\n",
      "           0       0.92      0.67      0.77      1300\n",
      "           1       0.47      0.84      0.60       458\n",
      "\n",
      "    accuracy                           0.71      1758\n",
      "   macro avg       0.69      0.75      0.69      1758\n",
      "weighted avg       0.80      0.71      0.73      1758\n",
      "\n",
      "-----------------------------------------------------\n",
      "\n",
      "Cohen's Kappa for train and test set:\n",
      "  0.5353 0.4015\n",
      "f2 score for train and test set: \n",
      "  0.8315 0.7232\n",
      "roc auc score for train and test set:\n",
      "  0.7677 0.7516\n",
      "Mean Cross Validation Score:\n",
      " 0.7101\n"
     ]
    }
   ],
   "source": [
    "model_evaluation(scaled_X_train_smoted, scaled_X_test, y_train_smoted, y_test, y_pred_train, y_pred_test)"
   ]
  },
  {
   "cell_type": "markdown",
   "metadata": {},
   "source": [
    "### ROC Curve"
   ]
  },
  {
   "cell_type": "code",
   "execution_count": 122,
   "metadata": {
    "ExecuteTime": {
     "end_time": "2020-05-31T19:06:25.157533Z",
     "start_time": "2020-05-31T19:06:24.682418Z"
    }
   },
   "outputs": [
    {
     "data": {
      "image/png": "[encoded data removed]",
      "text/plain": [
       "<Figure size 720x576 with 1 Axes>"
      ]
     },
     "metadata": {},
     "output_type": "display_data"
    },
    {
     "name": "stdout",
     "output_type": "stream",
     "text": [
      "Training AUC: 0.83673\n",
      "Testing AUC: 0.79973\n"
     ]
    }
   ],
   "source": [
    "roc_curve_and_auc(clf, scaled_X_train_smoted, scaled_X_test, y_train_smoted, y_test)"
   ]
  },
  {
   "cell_type": "markdown",
   "metadata": {},
   "source": [
    "### Coefficients of the model"
   ]
  },
  {
   "cell_type": "code",
   "execution_count": 123,
   "metadata": {
    "ExecuteTime": {
     "end_time": "2020-05-31T19:06:28.389244Z",
     "start_time": "2020-05-31T19:06:28.385229Z"
    }
   },
   "outputs": [
    {
     "data": {
      "text/plain": [
       "array([[-1.72660965, -0.1262815 ,  0.98747865,  0.16276357,  0.38150696,\n",
       "         0.        ,  0.13013712,  0.        ,  0.33875179,  0.        ,\n",
       "         0.        ,  0.        ,  0.        ,  0.        ,  0.        ,\n",
       "         0.        ,  0.        ,  0.27328831, -0.36529104, -0.39551869,\n",
       "         0.        , -0.05074142,  0.22671659,  0.        ]])"
      ]
     },
     "execution_count": 123,
     "metadata": {},
     "output_type": "execute_result"
    }
   ],
   "source": [
    "clf.coef_"
   ]
  },
  {
   "cell_type": "code",
   "execution_count": 124,
   "metadata": {
    "ExecuteTime": {
     "end_time": "2020-05-31T19:06:30.931667Z",
     "start_time": "2020-05-31T19:06:30.466913Z"
    }
   },
   "outputs": [
    {
     "data": {
      "image/png": "[encoded data removed]",
      "text/plain": [
       "<Figure size 1080x432 with 1 Axes>"
      ]
     },
     "metadata": {},
     "output_type": "display_data"
    }
   ],
   "source": [
    "plot_coefficients(clf)"
   ]
  },
  {
   "cell_type": "markdown",
   "metadata": {},
   "source": [
    "## SCDClassifier (balanced class weight)"
   ]
  },
  {
   "cell_type": "markdown",
   "metadata": {},
   "source": [
    "### Instantiate, fit and predict"
   ]
  },
  {
   "cell_type": "code",
   "execution_count": 125,
   "metadata": {
    "ExecuteTime": {
     "end_time": "2020-05-31T19:06:35.737967Z",
     "start_time": "2020-05-31T19:06:35.697098Z"
    },
    "scrolled": true
   },
   "outputs": [],
   "source": [
    "clf = SGDClassifier(penalty='elasticnet', class_weight='balanced')\n",
    "clf.fit(scaled_X_train, y_train)\n",
    "y_pred_train = clf.predict(scaled_X_train)\n",
    "y_pred_test = clf.predict(scaled_X_test)"
   ]
  },
  {
   "cell_type": "markdown",
   "metadata": {
    "ExecuteTime": {
     "end_time": "2020-05-31T07:38:18.759580Z",
     "start_time": "2020-05-31T07:38:18.755080Z"
    }
   },
   "source": [
    "### Print Evaluation Metrics"
   ]
  },
  {
   "cell_type": "code",
   "execution_count": 126,
   "metadata": {
    "ExecuteTime": {
     "end_time": "2020-05-31T19:06:38.859169Z",
     "start_time": "2020-05-31T19:06:38.216915Z"
    },
    "scrolled": true
   },
   "outputs": [
    {
     "name": "stdout",
     "output_type": "stream",
     "text": [
      "MODEL EVALUATION METRICS:\n",
      " -----------------------------------------------------\n",
      "Confusion Matrix for train & test set: \n",
      "\n",
      "  Predicted  No Churn   Churn     All\n",
      "0    Actual       NaN     NaN     NaN\n",
      "1  No Churn    2737.0  1126.0  3863.0\n",
      "2     Churn     378.0  1033.0  1411.0\n",
      "3       All    3115.0  2159.0  5274.0 \n",
      "\n",
      "  Predicted  No Churn  Churn     All\n",
      "0    Actual       NaN    NaN     NaN\n",
      "1  No Churn     898.0  402.0  1300.0\n",
      "2     Churn     127.0  331.0   458.0\n",
      "3       All    1025.0  733.0  1758.0 \n",
      "\n",
      "-----------------------------------------------------\n",
      "\n",
      "Classification Report for train & test set\n",
      " \n",
      "Train set\n",
      "               precision    recall  f1-score   support\n",
      "\n",
      "           0       0.88      0.71      0.78      3863\n",
      "           1       0.48      0.73      0.58      1411\n",
      "\n",
      "    accuracy                           0.71      5274\n",
      "   macro avg       0.68      0.72      0.68      5274\n",
      "weighted avg       0.77      0.71      0.73      5274\n",
      " \n",
      "\n",
      "Test set\n",
      "               precision    recall  f1-score   support\n",
      "\n",
      "           0       0.88      0.69      0.77      1300\n",
      "           1       0.45      0.72      0.56       458\n",
      "\n",
      "    accuracy                           0.70      1758\n",
      "   macro avg       0.66      0.71      0.66      1758\n",
      "weighted avg       0.77      0.70      0.72      1758\n",
      "\n",
      "-----------------------------------------------------\n",
      "\n",
      "Cohen's Kappa for train and test set:\n",
      "  0.3772 0.3462\n",
      "f2 score for train and test set: \n",
      "  0.6619 0.6452\n",
      "roc auc score for train and test set:\n",
      "  0.7203 0.7067\n",
      "Mean Cross Validation Score:\n",
      " 0.7732\n"
     ]
    }
   ],
   "source": [
    "model_evaluation(scaled_X_train, scaled_X_test, y_train, y_test, y_pred_train, y_pred_test)"
   ]
  },
  {
   "cell_type": "markdown",
   "metadata": {},
   "source": [
    "### Coefficients of the model"
   ]
  },
  {
   "cell_type": "code",
   "execution_count": 127,
   "metadata": {
    "ExecuteTime": {
     "end_time": "2020-05-31T19:06:41.397360Z",
     "start_time": "2020-05-31T19:06:41.393108Z"
    },
    "scrolled": true
   },
   "outputs": [
    {
     "data": {
      "text/plain": [
       "array([[-1.05624483,  0.        ,  1.12724596,  0.        ,  0.        ,\n",
       "         0.        ,  0.        ,  0.        ,  0.64098479,  0.        ,\n",
       "         0.        , -0.26067282,  0.        ,  0.        ,  0.        ,\n",
       "         0.        ,  0.        ,  0.25938655, -0.53603904, -0.96812226,\n",
       "         0.20897531,  0.        , -0.05183308,  0.1215308 ]])"
      ]
     },
     "execution_count": 127,
     "metadata": {},
     "output_type": "execute_result"
    }
   ],
   "source": [
    "clf.coef_"
   ]
  },
  {
   "cell_type": "code",
   "execution_count": 128,
   "metadata": {
    "ExecuteTime": {
     "end_time": "2020-05-31T19:06:42.561560Z",
     "start_time": "2020-05-31T19:06:42.105218Z"
    }
   },
   "outputs": [
    {
     "data": {
      "image/png": "[encoded data removed]",
      "text/plain": [
       "<Figure size 1080x432 with 1 Axes>"
      ]
     },
     "metadata": {},
     "output_type": "display_data"
    }
   ],
   "source": [
    "plot_coefficients(clf)"
   ]
  },
  {
   "cell_type": "markdown",
   "metadata": {},
   "source": [
    "# KNN Classifier"
   ]
  },
  {
   "cell_type": "markdown",
   "metadata": {},
   "source": [
    "## KNN (Iterate over n values)"
   ]
  },
  {
   "cell_type": "code",
   "execution_count": 129,
   "metadata": {
    "ExecuteTime": {
     "end_time": "2020-05-31T19:07:27.440550Z",
     "start_time": "2020-05-31T19:06:45.737813Z"
    }
   },
   "outputs": [
    {
     "name": "stdout",
     "output_type": "stream",
     "text": [
      "------------\n",
      "1\n",
      "\n",
      "Classification Report for train & test set\n",
      " \n",
      "Train set\n",
      "               precision    recall  f1-score   support\n",
      "\n",
      "           0       1.00      1.00      1.00      3863\n",
      "           1       1.00      1.00      1.00      3863\n",
      "\n",
      "    accuracy                           1.00      7726\n",
      "   macro avg       1.00      1.00      1.00      7726\n",
      "weighted avg       1.00      1.00      1.00      7726\n",
      " \n",
      "\n",
      "Test set\n",
      "               precision    recall  f1-score   support\n",
      "\n",
      "           0       0.83      0.78      0.81      1300\n",
      "           1       0.47      0.55      0.51       458\n",
      "\n",
      "    accuracy                           0.72      1758\n",
      "   macro avg       0.65      0.66      0.66      1758\n",
      "weighted avg       0.74      0.72      0.73      1758\n",
      "\n",
      "-----------------------------------------------\n",
      "\n",
      "f2 score for train and test set: \n",
      "  0.9977 0.5302\n",
      "------------\n",
      "2\n",
      "\n",
      "Classification Report for train & test set\n",
      " \n",
      "Train set\n",
      "               precision    recall  f1-score   support\n",
      "\n",
      "           0       0.90      1.00      0.95      3863\n",
      "           1       1.00      0.89      0.94      3863\n",
      "\n",
      "    accuracy                           0.95      7726\n",
      "   macro avg       0.95      0.95      0.95      7726\n",
      "weighted avg       0.95      0.95      0.95      7726\n",
      " \n",
      "\n",
      "Test set\n",
      "               precision    recall  f1-score   support\n",
      "\n",
      "           0       0.81      0.85      0.83      1300\n",
      "           1       0.50      0.44      0.47       458\n",
      "\n",
      "    accuracy                           0.74      1758\n",
      "   macro avg       0.66      0.64      0.65      1758\n",
      "weighted avg       0.73      0.74      0.73      1758\n",
      "\n",
      "-----------------------------------------------\n",
      "\n",
      "f2 score for train and test set: \n",
      "  0.9121 0.4501\n",
      "------------\n",
      "3\n",
      "\n",
      "Classification Report for train & test set\n",
      " \n",
      "Train set\n",
      "               precision    recall  f1-score   support\n",
      "\n",
      "           0       0.96      0.84      0.90      3863\n",
      "           1       0.86      0.96      0.91      3863\n",
      "\n",
      "    accuracy                           0.90      7726\n",
      "   macro avg       0.91      0.90      0.90      7726\n",
      "weighted avg       0.91      0.90      0.90      7726\n",
      " \n",
      "\n",
      "Test set\n",
      "               precision    recall  f1-score   support\n",
      "\n",
      "           0       0.85      0.71      0.77      1300\n",
      "           1       0.44      0.63      0.52       458\n",
      "\n",
      "    accuracy                           0.69      1758\n",
      "   macro avg       0.64      0.67      0.64      1758\n",
      "weighted avg       0.74      0.69      0.71      1758\n",
      "\n",
      "-----------------------------------------------\n",
      "\n",
      "f2 score for train and test set: \n",
      "  0.9395 0.5778\n",
      "------------\n",
      "4\n",
      "\n",
      "Classification Report for train & test set\n",
      " \n",
      "Train set\n",
      "               precision    recall  f1-score   support\n",
      "\n",
      "           0       0.90      0.88      0.89      3863\n",
      "           1       0.88      0.90      0.89      3863\n",
      "\n",
      "    accuracy                           0.89      7726\n",
      "   macro avg       0.89      0.89      0.89      7726\n",
      "weighted avg       0.89      0.89      0.89      7726\n",
      " \n",
      "\n",
      "Test set\n",
      "               precision    recall  f1-score   support\n",
      "\n",
      "           0       0.84      0.78      0.81      1300\n",
      "           1       0.48      0.57      0.52       458\n",
      "\n",
      "    accuracy                           0.72      1758\n",
      "   macro avg       0.66      0.68      0.66      1758\n",
      "weighted avg       0.74      0.72      0.73      1758\n",
      "\n",
      "-----------------------------------------------\n",
      "\n",
      "f2 score for train and test set: \n",
      "  0.8988 0.55\n",
      "------------\n",
      "5\n",
      "\n",
      "Classification Report for train & test set\n",
      " \n",
      "Train set\n",
      "               precision    recall  f1-score   support\n",
      "\n",
      "           0       0.94      0.78      0.85      3863\n",
      "           1       0.81      0.95      0.88      3863\n",
      "\n",
      "    accuracy                           0.87      7726\n",
      "   macro avg       0.88      0.87      0.86      7726\n",
      "weighted avg       0.88      0.87      0.86      7726\n",
      " \n",
      "\n",
      "Test set\n",
      "               precision    recall  f1-score   support\n",
      "\n",
      "           0       0.88      0.69      0.77      1300\n",
      "           1       0.45      0.72      0.56       458\n",
      "\n",
      "    accuracy                           0.70      1758\n",
      "   macro avg       0.66      0.71      0.66      1758\n",
      "weighted avg       0.76      0.70      0.72      1758\n",
      "\n",
      "-----------------------------------------------\n",
      "\n",
      "f2 score for train and test set: \n",
      "  0.9184 0.6438\n",
      "------------\n",
      "6\n",
      "\n",
      "Classification Report for train & test set\n",
      " \n",
      "Train set\n",
      "               precision    recall  f1-score   support\n",
      "\n",
      "           0       0.89      0.82      0.86      3863\n",
      "           1       0.84      0.90      0.87      3863\n",
      "\n",
      "    accuracy                           0.86      7726\n",
      "   macro avg       0.87      0.86      0.86      7726\n",
      "weighted avg       0.87      0.86      0.86      7726\n",
      " \n",
      "\n",
      "Test set\n",
      "               precision    recall  f1-score   support\n",
      "\n",
      "           0       0.86      0.75      0.80      1300\n",
      "           1       0.48      0.66      0.55       458\n",
      "\n",
      "    accuracy                           0.72      1758\n",
      "   macro avg       0.67      0.70      0.68      1758\n",
      "weighted avg       0.76      0.72      0.73      1758\n",
      "\n",
      "-----------------------------------------------\n",
      "\n",
      "f2 score for train and test set: \n",
      "  0.888 0.6093\n",
      "------------\n",
      "7\n",
      "\n",
      "Classification Report for train & test set\n",
      " \n",
      "Train set\n",
      "               precision    recall  f1-score   support\n",
      "\n",
      "           0       0.92      0.76      0.83      3863\n",
      "           1       0.79      0.93      0.86      3863\n",
      "\n",
      "    accuracy                           0.84      7726\n",
      "   macro avg       0.85      0.84      0.84      7726\n",
      "weighted avg       0.85      0.84      0.84      7726\n",
      " \n",
      "\n",
      "Test set\n",
      "               precision    recall  f1-score   support\n",
      "\n",
      "           0       0.88      0.69      0.77      1300\n",
      "           1       0.45      0.72      0.55       458\n",
      "\n",
      "    accuracy                           0.70      1758\n",
      "   macro avg       0.66      0.70      0.66      1758\n",
      "weighted avg       0.76      0.70      0.71      1758\n",
      "\n",
      "-----------------------------------------------\n",
      "\n",
      "f2 score for train and test set: \n",
      "  0.8991 0.6437\n",
      "------------\n",
      "8\n",
      "\n",
      "Classification Report for train & test set\n",
      " \n",
      "Train set\n",
      "               precision    recall  f1-score   support\n",
      "\n",
      "           0       0.89      0.80      0.84      3863\n",
      "           1       0.82      0.90      0.85      3863\n",
      "\n",
      "    accuracy                           0.85      7726\n",
      "   macro avg       0.85      0.85      0.85      7726\n",
      "weighted avg       0.85      0.85      0.85      7726\n",
      " \n",
      "\n",
      "Test set\n",
      "               precision    recall  f1-score   support\n",
      "\n",
      "           0       0.87      0.74      0.80      1300\n",
      "           1       0.48      0.69      0.56       458\n",
      "\n",
      "    accuracy                           0.72      1758\n",
      "   macro avg       0.67      0.71      0.68      1758\n",
      "weighted avg       0.77      0.72      0.74      1758\n",
      "\n",
      "-----------------------------------------------\n",
      "\n",
      "f2 score for train and test set: \n",
      "  0.8796 0.6325\n",
      "------------\n",
      "9\n",
      "\n",
      "Classification Report for train & test set\n",
      " \n",
      "Train set\n",
      "               precision    recall  f1-score   support\n",
      "\n",
      "           0       0.91      0.75      0.82      3863\n",
      "           1       0.78      0.92      0.85      3863\n",
      "\n",
      "    accuracy                           0.83      7726\n",
      "   macro avg       0.85      0.83      0.83      7726\n",
      "weighted avg       0.85      0.83      0.83      7726\n",
      " \n",
      "\n",
      "Test set\n",
      "               precision    recall  f1-score   support\n",
      "\n",
      "           0       0.88      0.69      0.77      1300\n",
      "           1       0.46      0.74      0.57       458\n",
      "\n",
      "    accuracy                           0.70      1758\n",
      "   macro avg       0.67      0.72      0.67      1758\n",
      "weighted avg       0.77      0.70      0.72      1758\n",
      "\n",
      "-----------------------------------------------\n",
      "\n",
      "f2 score for train and test set: \n",
      "  0.8918 0.6614\n",
      "------------\n",
      "10\n",
      "\n",
      "Classification Report for train & test set\n",
      " \n",
      "Train set\n",
      "               precision    recall  f1-score   support\n",
      "\n",
      "           0       0.88      0.77      0.82      3863\n",
      "           1       0.80      0.89      0.84      3863\n",
      "\n",
      "    accuracy                           0.83      7726\n",
      "   macro avg       0.84      0.83      0.83      7726\n",
      "weighted avg       0.84      0.83      0.83      7726\n",
      " \n",
      "\n",
      "Test set\n",
      "               precision    recall  f1-score   support\n",
      "\n",
      "           0       0.88      0.73      0.80      1300\n",
      "           1       0.48      0.71      0.57       458\n",
      "\n",
      "    accuracy                           0.72      1758\n",
      "   macro avg       0.68      0.72      0.68      1758\n",
      "weighted avg       0.77      0.72      0.74      1758\n",
      "\n",
      "-----------------------------------------------\n",
      "\n",
      "f2 score for train and test set: \n",
      "  0.8732 0.6474\n"
     ]
    },
    {
     "name": "stdout",
     "output_type": "stream",
     "text": [
      "------------\n",
      "11\n",
      "\n",
      "Classification Report for train & test set\n",
      " \n",
      "Train set\n",
      "               precision    recall  f1-score   support\n",
      "\n",
      "           0       0.90      0.72      0.80      3863\n",
      "           1       0.77      0.92      0.83      3863\n",
      "\n",
      "    accuracy                           0.82      7726\n",
      "   macro avg       0.83      0.82      0.82      7726\n",
      "weighted avg       0.83      0.82      0.82      7726\n",
      " \n",
      "\n",
      "Test set\n",
      "               precision    recall  f1-score   support\n",
      "\n",
      "           0       0.89      0.67      0.77      1300\n",
      "           1       0.45      0.76      0.56       458\n",
      "\n",
      "    accuracy                           0.70      1758\n",
      "   macro avg       0.67      0.71      0.66      1758\n",
      "weighted avg       0.77      0.70      0.71      1758\n",
      "\n",
      "-----------------------------------------------\n",
      "\n",
      "f2 score for train and test set: \n",
      "  0.8814 0.6649\n",
      "------------\n",
      "12\n",
      "\n",
      "Classification Report for train & test set\n",
      " \n",
      "Train set\n",
      "               precision    recall  f1-score   support\n",
      "\n",
      "           0       0.88      0.75      0.81      3863\n",
      "           1       0.78      0.89      0.83      3863\n",
      "\n",
      "    accuracy                           0.82      7726\n",
      "   macro avg       0.83      0.82      0.82      7726\n",
      "weighted avg       0.83      0.82      0.82      7726\n",
      " \n",
      "\n",
      "Test set\n",
      "               precision    recall  f1-score   support\n",
      "\n",
      "           0       0.88      0.72      0.79      1300\n",
      "           1       0.47      0.73      0.57       458\n",
      "\n",
      "    accuracy                           0.72      1758\n",
      "   macro avg       0.68      0.72      0.68      1758\n",
      "weighted avg       0.78      0.72      0.73      1758\n",
      "\n",
      "-----------------------------------------------\n",
      "\n",
      "f2 score for train and test set: \n",
      "  0.8684 0.6585\n",
      "------------\n",
      "13\n",
      "\n",
      "Classification Report for train & test set\n",
      " \n",
      "Train set\n",
      "               precision    recall  f1-score   support\n",
      "\n",
      "           0       0.89      0.71      0.79      3863\n",
      "           1       0.76      0.91      0.83      3863\n",
      "\n",
      "    accuracy                           0.81      7726\n",
      "   macro avg       0.82      0.81      0.81      7726\n",
      "weighted avg       0.82      0.81      0.81      7726\n",
      " \n",
      "\n",
      "Test set\n",
      "               precision    recall  f1-score   support\n",
      "\n",
      "           0       0.90      0.67      0.77      1300\n",
      "           1       0.45      0.78      0.57       458\n",
      "\n",
      "    accuracy                           0.70      1758\n",
      "   macro avg       0.67      0.72      0.67      1758\n",
      "weighted avg       0.78      0.70      0.72      1758\n",
      "\n",
      "-----------------------------------------------\n",
      "\n",
      "f2 score for train and test set: \n",
      "  0.8776 0.6804\n",
      "------------\n",
      "14\n",
      "\n",
      "Classification Report for train & test set\n",
      " \n",
      "Train set\n",
      "               precision    recall  f1-score   support\n",
      "\n",
      "           0       0.87      0.74      0.80      3863\n",
      "           1       0.77      0.89      0.83      3863\n",
      "\n",
      "    accuracy                           0.81      7726\n",
      "   macro avg       0.82      0.81      0.81      7726\n",
      "weighted avg       0.82      0.81      0.81      7726\n",
      " \n",
      "\n",
      "Test set\n",
      "               precision    recall  f1-score   support\n",
      "\n",
      "           0       0.89      0.71      0.79      1300\n",
      "           1       0.48      0.75      0.58       458\n",
      "\n",
      "    accuracy                           0.72      1758\n",
      "   macro avg       0.68      0.73      0.69      1758\n",
      "weighted avg       0.78      0.72      0.74      1758\n",
      "\n",
      "-----------------------------------------------\n",
      "\n",
      "f2 score for train and test set: \n",
      "  0.8625 0.6746\n",
      "------------\n",
      "15\n",
      "\n",
      "Classification Report for train & test set\n",
      " \n",
      "Train set\n",
      "               precision    recall  f1-score   support\n",
      "\n",
      "           0       0.88      0.70      0.78      3863\n",
      "           1       0.75      0.91      0.82      3863\n",
      "\n",
      "    accuracy                           0.80      7726\n",
      "   macro avg       0.82      0.80      0.80      7726\n",
      "weighted avg       0.82      0.80      0.80      7726\n",
      " \n",
      "\n",
      "Test set\n",
      "               precision    recall  f1-score   support\n",
      "\n",
      "           0       0.90      0.67      0.77      1300\n",
      "           1       0.46      0.79      0.58       458\n",
      "\n",
      "    accuracy                           0.70      1758\n",
      "   macro avg       0.68      0.73      0.67      1758\n",
      "weighted avg       0.79      0.70      0.72      1758\n",
      "\n",
      "-----------------------------------------------\n",
      "\n",
      "f2 score for train and test set: \n",
      "  0.8701 0.6923\n",
      "------------\n",
      "16\n",
      "\n",
      "Classification Report for train & test set\n",
      " \n",
      "Train set\n",
      "               precision    recall  f1-score   support\n",
      "\n",
      "           0       0.86      0.72      0.79      3863\n",
      "           1       0.76      0.89      0.82      3863\n",
      "\n",
      "    accuracy                           0.81      7726\n",
      "   macro avg       0.81      0.81      0.80      7726\n",
      "weighted avg       0.81      0.81      0.80      7726\n",
      " \n",
      "\n",
      "Test set\n",
      "               precision    recall  f1-score   support\n",
      "\n",
      "           0       0.89      0.70      0.78      1300\n",
      "           1       0.47      0.77      0.58       458\n",
      "\n",
      "    accuracy                           0.71      1758\n",
      "   macro avg       0.68      0.73      0.68      1758\n",
      "weighted avg       0.78      0.71      0.73      1758\n",
      "\n",
      "-----------------------------------------------\n",
      "\n",
      "f2 score for train and test set: \n",
      "  0.8584 0.6805\n",
      "------------\n",
      "17\n",
      "\n",
      "Classification Report for train & test set\n",
      " \n",
      "Train set\n",
      "               precision    recall  f1-score   support\n",
      "\n",
      "           0       0.88      0.69      0.78      3863\n",
      "           1       0.75      0.91      0.82      3863\n",
      "\n",
      "    accuracy                           0.80      7726\n",
      "   macro avg       0.81      0.80      0.80      7726\n",
      "weighted avg       0.81      0.80      0.80      7726\n",
      " \n",
      "\n",
      "Test set\n",
      "               precision    recall  f1-score   support\n",
      "\n",
      "           0       0.91      0.67      0.77      1300\n",
      "           1       0.46      0.81      0.59       458\n",
      "\n",
      "    accuracy                           0.70      1758\n",
      "   macro avg       0.69      0.74      0.68      1758\n",
      "weighted avg       0.79      0.70      0.72      1758\n",
      "\n",
      "-----------------------------------------------\n",
      "\n",
      "f2 score for train and test set: \n",
      "  0.8709 0.7037\n",
      "------------\n",
      "18\n",
      "\n",
      "Classification Report for train & test set\n",
      " \n",
      "Train set\n",
      "               precision    recall  f1-score   support\n",
      "\n",
      "           0       0.86      0.71      0.78      3863\n",
      "           1       0.76      0.89      0.82      3863\n",
      "\n",
      "    accuracy                           0.80      7726\n",
      "   macro avg       0.81      0.80      0.80      7726\n",
      "weighted avg       0.81      0.80      0.80      7726\n",
      " \n",
      "\n",
      "Test set\n",
      "               precision    recall  f1-score   support\n",
      "\n",
      "           0       0.90      0.69      0.78      1300\n",
      "           1       0.47      0.78      0.59       458\n",
      "\n",
      "    accuracy                           0.72      1758\n",
      "   macro avg       0.69      0.74      0.69      1758\n",
      "weighted avg       0.79      0.72      0.73      1758\n",
      "\n",
      "-----------------------------------------------\n",
      "\n",
      "f2 score for train and test set: \n",
      "  0.8563 0.69\n",
      "------------\n",
      "19\n",
      "\n",
      "Classification Report for train & test set\n",
      " \n",
      "Train set\n",
      "               precision    recall  f1-score   support\n",
      "\n",
      "           0       0.87      0.69      0.77      3863\n",
      "           1       0.74      0.90      0.81      3863\n",
      "\n",
      "    accuracy                           0.80      7726\n",
      "   macro avg       0.81      0.80      0.79      7726\n",
      "weighted avg       0.81      0.80      0.79      7726\n",
      " \n",
      "\n",
      "Test set\n",
      "               precision    recall  f1-score   support\n",
      "\n",
      "           0       0.91      0.67      0.77      1300\n",
      "           1       0.46      0.81      0.59       458\n",
      "\n",
      "    accuracy                           0.70      1758\n",
      "   macro avg       0.68      0.74      0.68      1758\n",
      "weighted avg       0.79      0.70      0.72      1758\n",
      "\n",
      "-----------------------------------------------\n",
      "\n",
      "f2 score for train and test set: \n",
      "  0.864 0.7026\n",
      "------------\n",
      "20\n",
      "\n",
      "Classification Report for train & test set\n",
      " \n",
      "Train set\n",
      "               precision    recall  f1-score   support\n",
      "\n",
      "           0       0.86      0.71      0.78      3863\n",
      "           1       0.75      0.89      0.81      3863\n",
      "\n",
      "    accuracy                           0.80      7726\n",
      "   macro avg       0.81      0.80      0.80      7726\n",
      "weighted avg       0.81      0.80      0.80      7726\n",
      " \n",
      "\n",
      "Test set\n",
      "               precision    recall  f1-score   support\n",
      "\n",
      "           0       0.90      0.69      0.78      1300\n",
      "           1       0.47      0.79      0.59       458\n",
      "\n",
      "    accuracy                           0.71      1758\n",
      "   macro avg       0.69      0.74      0.68      1758\n",
      "weighted avg       0.79      0.71      0.73      1758\n",
      "\n",
      "-----------------------------------------------\n",
      "\n",
      "f2 score for train and test set: \n",
      "  0.8558 0.6945\n"
     ]
    },
    {
     "name": "stdout",
     "output_type": "stream",
     "text": [
      "------------\n",
      "21\n",
      "\n",
      "Classification Report for train & test set\n",
      " \n",
      "Train set\n",
      "               precision    recall  f1-score   support\n",
      "\n",
      "           0       0.87      0.69      0.77      3863\n",
      "           1       0.74      0.90      0.81      3863\n",
      "\n",
      "    accuracy                           0.79      7726\n",
      "   macro avg       0.81      0.79      0.79      7726\n",
      "weighted avg       0.81      0.79      0.79      7726\n",
      " \n",
      "\n",
      "Test set\n",
      "               precision    recall  f1-score   support\n",
      "\n",
      "           0       0.91      0.66      0.77      1300\n",
      "           1       0.46      0.82      0.59       458\n",
      "\n",
      "    accuracy                           0.70      1758\n",
      "   macro avg       0.69      0.74      0.68      1758\n",
      "weighted avg       0.79      0.70      0.72      1758\n",
      "\n",
      "-----------------------------------------------\n",
      "\n",
      "f2 score for train and test set: \n",
      "  0.8621 0.7094\n",
      "------------\n",
      "22\n",
      "\n",
      "Classification Report for train & test set\n",
      " \n",
      "Train set\n",
      "               precision    recall  f1-score   support\n",
      "\n",
      "           0       0.85      0.71      0.77      3863\n",
      "           1       0.75      0.88      0.81      3863\n",
      "\n",
      "    accuracy                           0.79      7726\n",
      "   macro avg       0.80      0.79      0.79      7726\n",
      "weighted avg       0.80      0.79      0.79      7726\n",
      " \n",
      "\n",
      "Test set\n",
      "               precision    recall  f1-score   support\n",
      "\n",
      "           0       0.90      0.68      0.78      1300\n",
      "           1       0.47      0.79      0.59       458\n",
      "\n",
      "    accuracy                           0.71      1758\n",
      "   macro avg       0.69      0.74      0.68      1758\n",
      "weighted avg       0.79      0.71      0.73      1758\n",
      "\n",
      "-----------------------------------------------\n",
      "\n",
      "f2 score for train and test set: \n",
      "  0.8497 0.6973\n",
      "------------\n",
      "23\n",
      "\n",
      "Classification Report for train & test set\n",
      " \n",
      "Train set\n",
      "               precision    recall  f1-score   support\n",
      "\n",
      "           0       0.87      0.69      0.77      3863\n",
      "           1       0.74      0.89      0.81      3863\n",
      "\n",
      "    accuracy                           0.79      7726\n",
      "   macro avg       0.80      0.79      0.79      7726\n",
      "weighted avg       0.80      0.79      0.79      7726\n",
      " \n",
      "\n",
      "Test set\n",
      "               precision    recall  f1-score   support\n",
      "\n",
      "           0       0.91      0.65      0.76      1300\n",
      "           1       0.45      0.82      0.58       458\n",
      "\n",
      "    accuracy                           0.69      1758\n",
      "   macro avg       0.68      0.74      0.67      1758\n",
      "weighted avg       0.79      0.69      0.71      1758\n",
      "\n",
      "-----------------------------------------------\n",
      "\n",
      "f2 score for train and test set: \n",
      "  0.8589 0.706\n",
      "------------\n",
      "24\n",
      "\n",
      "Classification Report for train & test set\n",
      " \n",
      "Train set\n",
      "               precision    recall  f1-score   support\n",
      "\n",
      "           0       0.86      0.70      0.77      3863\n",
      "           1       0.75      0.88      0.81      3863\n",
      "\n",
      "    accuracy                           0.79      7726\n",
      "   macro avg       0.80      0.79      0.79      7726\n",
      "weighted avg       0.80      0.79      0.79      7726\n",
      " \n",
      "\n",
      "Test set\n",
      "               precision    recall  f1-score   support\n",
      "\n",
      "           0       0.91      0.67      0.77      1300\n",
      "           1       0.46      0.81      0.59       458\n",
      "\n",
      "    accuracy                           0.71      1758\n",
      "   macro avg       0.69      0.74      0.68      1758\n",
      "weighted avg       0.79      0.71      0.72      1758\n",
      "\n",
      "-----------------------------------------------\n",
      "\n",
      "f2 score for train and test set: \n",
      "  0.8509 0.7018\n",
      "------------\n",
      "25\n",
      "\n",
      "Classification Report for train & test set\n",
      " \n",
      "Train set\n",
      "               precision    recall  f1-score   support\n",
      "\n",
      "           0       0.87      0.68      0.76      3863\n",
      "           1       0.73      0.89      0.81      3863\n",
      "\n",
      "    accuracy                           0.79      7726\n",
      "   macro avg       0.80      0.79      0.78      7726\n",
      "weighted avg       0.80      0.79      0.78      7726\n",
      " \n",
      "\n",
      "Test set\n",
      "               precision    recall  f1-score   support\n",
      "\n",
      "           0       0.91      0.65      0.76      1300\n",
      "           1       0.45      0.83      0.58       458\n",
      "\n",
      "    accuracy                           0.69      1758\n",
      "   macro avg       0.68      0.74      0.67      1758\n",
      "weighted avg       0.79      0.69      0.71      1758\n",
      "\n",
      "-----------------------------------------------\n",
      "\n",
      "f2 score for train and test set: \n",
      "  0.8574 0.7084\n"
     ]
    }
   ],
   "source": [
    "k_range = range(1, 26)\n",
    "\n",
    "for k in k_range:\n",
    "    clf = KNeighborsClassifier(n_neighbors=k)\n",
    "    clf.fit(scaled_X_train_smoted, y_train_smoted)\n",
    "    y_pred_train = clf.predict(scaled_X_train_smoted)\n",
    "    y_pred_test = clf.predict(scaled_X_test)\n",
    "\n",
    "    print('------------')\n",
    "    print(k)\n",
    "    print('\\nClassification Report for train & test set\\n',\n",
    "          '\\nTrain set\\n',\n",
    "          classification_report(y_train_smoted, y_pred_train),\n",
    "          '\\n\\nTest set\\n',\n",
    "          classification_report(y_test, y_pred_test))\n",
    "    print('-----------------------------------------------\\n')\n",
    "\n",
    "    print(\"f2 score for train and test set: \\n \",\n",
    "          round(fbeta_score(y_train_smoted, y_pred_train, 2.0), 4),\n",
    "          round(fbeta_score(y_test, y_pred_test, 2.0), 4))"
   ]
  },
  {
   "cell_type": "markdown",
   "metadata": {},
   "source": [
    "##### Note\n",
    "I chose n = 21 because it has a high recall value,  less overfitting. KNN is not the best algorithm in this data but I tried to make it as effective as I can.\n",
    "\n",
    "I used ADASYN here but it did not give better results than SMOTE. KNN algorithm doesn't have class weight option so we can solve class weight problem using smote or adasyn."
   ]
  },
  {
   "cell_type": "markdown",
   "metadata": {},
   "source": [
    "## KNN (n=21)"
   ]
  },
  {
   "cell_type": "markdown",
   "metadata": {},
   "source": [
    "### Instantiate, fit and predict"
   ]
  },
  {
   "cell_type": "code",
   "execution_count": 130,
   "metadata": {
    "ExecuteTime": {
     "end_time": "2020-05-31T19:07:29.713202Z",
     "start_time": "2020-05-31T19:07:27.854727Z"
    }
   },
   "outputs": [],
   "source": [
    "clf = KNeighborsClassifier(n_neighbors=21)\n",
    "clf.fit(scaled_X_train_smoted, y_train_smoted)\n",
    "y_pred_train = clf.predict(scaled_X_train_smoted)\n",
    "y_pred_test = clf.predict(scaled_X_test)"
   ]
  },
  {
   "cell_type": "markdown",
   "metadata": {},
   "source": [
    "### Print Evaluation Metrics"
   ]
  },
  {
   "cell_type": "code",
   "execution_count": 131,
   "metadata": {
    "ExecuteTime": {
     "end_time": "2020-05-31T19:07:30.490858Z",
     "start_time": "2020-05-31T19:07:30.108762Z"
    }
   },
   "outputs": [
    {
     "name": "stdout",
     "output_type": "stream",
     "text": [
      "MODEL EVALUATION METRICS:\n",
      " -----------------------------------------------------\n",
      "Confusion Matrix for train & test set: \n",
      "\n",
      "  Predicted  No Churn   Churn     All\n",
      "0    Actual       NaN     NaN     NaN\n",
      "1  No Churn    2660.0  1203.0  3863.0\n",
      "2     Churn     393.0  3470.0  3863.0\n",
      "3       All    3053.0  4673.0  7726.0 \n",
      "\n",
      "  Predicted  No Churn  Churn     All\n",
      "0    Actual       NaN    NaN     NaN\n",
      "1  No Churn     858.0  442.0  1300.0\n",
      "2     Churn      82.0  376.0   458.0\n",
      "3       All     940.0  818.0  1758.0 \n",
      "\n",
      "-----------------------------------------------------\n",
      "\n",
      "Classification Report for train & test set\n",
      " \n",
      "Train set\n",
      "               precision    recall  f1-score   support\n",
      "\n",
      "           0       0.87      0.69      0.77      3863\n",
      "           1       0.74      0.90      0.81      3863\n",
      "\n",
      "    accuracy                           0.79      7726\n",
      "   macro avg       0.81      0.79      0.79      7726\n",
      "weighted avg       0.81      0.79      0.79      7726\n",
      " \n",
      "\n",
      "Test set\n",
      "               precision    recall  f1-score   support\n",
      "\n",
      "           0       0.91      0.66      0.77      1300\n",
      "           1       0.46      0.82      0.59       458\n",
      "\n",
      "    accuracy                           0.70      1758\n",
      "   macro avg       0.69      0.74      0.68      1758\n",
      "weighted avg       0.79      0.70      0.72      1758\n",
      "\n",
      "-----------------------------------------------------\n",
      "\n",
      "Cohen's Kappa for train and test set:\n",
      "  0.5868 0.3834\n",
      "f2 score for train and test set: \n",
      "  0.8621 0.7094\n",
      "roc auc score for train and test set:\n",
      "  0.7934 0.7405\n",
      "Mean Cross Validation Score:\n",
      " 0.784\n"
     ]
    }
   ],
   "source": [
    "model_evaluation(scaled_X_train_smoted, scaled_X_test, y_train_smoted, y_test, y_pred_train, y_pred_test)"
   ]
  },
  {
   "cell_type": "markdown",
   "metadata": {},
   "source": [
    "# SVM classifier"
   ]
  },
  {
   "cell_type": "markdown",
   "metadata": {},
   "source": [
    "### Make a sample to run SVM faster"
   ]
  },
  {
   "cell_type": "code",
   "execution_count": 132,
   "metadata": {
    "ExecuteTime": {
     "end_time": "2020-05-31T19:07:30.906283Z",
     "start_time": "2020-05-31T19:07:30.901583Z"
    }
   },
   "outputs": [],
   "source": [
    "sample_X_train = X_train.sample(n=1000)\n",
    "sample_y_train = y_train.sample(n=1000)"
   ]
  },
  {
   "cell_type": "markdown",
   "metadata": {},
   "source": [
    "## SVM Classifier (Balanced Class Weight)"
   ]
  },
  {
   "cell_type": "markdown",
   "metadata": {},
   "source": [
    "### Instantiate, fit and predict"
   ]
  },
  {
   "cell_type": "code",
   "execution_count": 133,
   "metadata": {
    "ExecuteTime": {
     "end_time": "2020-05-31T19:11:09.723810Z",
     "start_time": "2020-05-31T19:07:31.300858Z"
    }
   },
   "outputs": [],
   "source": [
    "clf = SVC(kernel='linear', class_weight='balanced')\n",
    "clf.fit(sample_X_train, sample_y_train)\n",
    "y_pred_train = clf.predict(sample_X_train)\n",
    "y_pred_test = clf.predict(X_test)"
   ]
  },
  {
   "cell_type": "markdown",
   "metadata": {},
   "source": [
    "### Print Evaluation Metrics"
   ]
  },
  {
   "cell_type": "code",
   "execution_count": null,
   "metadata": {
    "ExecuteTime": {
     "end_time": "2020-05-31T08:52:09.292787Z",
     "start_time": "2020-05-31T08:45:12.220Z"
    }
   },
   "outputs": [],
   "source": [
    "model_evaluation(sample_X_train, X_test, sample_y_train, y_test, y_pred_train, y_pred_test)"
   ]
  },
  {
   "cell_type": "markdown",
   "metadata": {},
   "source": [
    "### ROC Curve"
   ]
  },
  {
   "cell_type": "code",
   "execution_count": null,
   "metadata": {
    "ExecuteTime": {
     "end_time": "2020-05-31T08:28:41.903065Z",
     "start_time": "2020-05-31T08:23:21.583Z"
    }
   },
   "outputs": [],
   "source": [
    "roc_curve_and_auc(clf, sample_X_train, sample_X_test, y_train, y_test)"
   ]
  },
  {
   "cell_type": "markdown",
   "metadata": {},
   "source": [
    "## SVM Classifier (smote and gridsearch)"
   ]
  },
  {
   "cell_type": "markdown",
   "metadata": {},
   "source": [
    "### Instantiate, fit and predict"
   ]
  },
  {
   "cell_type": "code",
   "execution_count": null,
   "metadata": {},
   "outputs": [],
   "source": [
    "param_grid = {'C': [0.1, 1, 10, 100, 1000],\n",
    "              'gamma': [1, 0.1, 0.01, 0.001, 0.0001],\n",
    "              'kernel': ['rbf']}\n",
    "\n",
    "clf = GridSearchCV(SVC(), param_grid, refit=True, verbose=3)\n",
    "\n",
    "\n",
    "clf.fit(scaled_X_train_smoted, y_train_smoted)\n",
    "y_pred_train = clf.predict(scaled_X_train_smoted)\n",
    "y_pred_test = clf.predict(scaled_X_test)"
   ]
  },
  {
   "cell_type": "markdown",
   "metadata": {},
   "source": [
    "### Print Evaluation Metrics"
   ]
  },
  {
   "cell_type": "code",
   "execution_count": null,
   "metadata": {},
   "outputs": [],
   "source": [
    "model_evaluation(scaled_X_train_smoted, scaled_X_test, y_train_smoted, y_test, y_pred_train, y_pred_test)"
   ]
  },
  {
   "cell_type": "markdown",
   "metadata": {},
   "source": [
    "### ROC Curve"
   ]
  },
  {
   "cell_type": "code",
   "execution_count": null,
   "metadata": {},
   "outputs": [],
   "source": [
    "roc_curve_and_auc(clf, X_train, X_test, y_train, y_test)"
   ]
  },
  {
   "cell_type": "markdown",
   "metadata": {},
   "source": [
    "# Gaussian Naive Bayes Classifier"
   ]
  },
  {
   "cell_type": "markdown",
   "metadata": {},
   "source": [
    "## GaussianNB (smoted)"
   ]
  },
  {
   "cell_type": "markdown",
   "metadata": {},
   "source": [
    "### Instantiate, fit and predict"
   ]
  },
  {
   "cell_type": "code",
   "execution_count": 84,
   "metadata": {
    "ExecuteTime": {
     "end_time": "2020-05-31T08:58:05.969941Z",
     "start_time": "2020-05-31T08:58:05.957386Z"
    }
   },
   "outputs": [],
   "source": [
    "clf = GaussianNB()\n",
    "clf.fit(scaled_X_train_smoted, y_train_smoted)\n",
    "y_pred_train = clf.predict(scaled_X_train_smoted)\n",
    "y_pred_test = clf.predict(scaled_X_test)"
   ]
  },
  {
   "cell_type": "markdown",
   "metadata": {},
   "source": [
    "### Print Evaluation Metrics"
   ]
  },
  {
   "cell_type": "code",
   "execution_count": 85,
   "metadata": {
    "ExecuteTime": {
     "end_time": "2020-05-31T08:58:08.072291Z",
     "start_time": "2020-05-31T08:58:07.968676Z"
    }
   },
   "outputs": [
    {
     "name": "stdout",
     "output_type": "stream",
     "text": [
      "MODEL EVALUATION METRICS:\n",
      " -----------------------------------------------------\n",
      "Confusion Matrix for train & test set: \n",
      "\n",
      "  Predicted  No Churn   Churn     All\n",
      "0    Actual       NaN     NaN     NaN\n",
      "1  No Churn    2373.0  1490.0  3863.0\n",
      "2     Churn     524.0  3339.0  3863.0\n",
      "3       All    2897.0  4829.0  7726.0 \n",
      "\n",
      "  Predicted  No Churn  Churn     All\n",
      "0    Actual       NaN    NaN     NaN\n",
      "1  No Churn     787.0  513.0  1300.0\n",
      "2     Churn      70.0  388.0   458.0\n",
      "3       All     857.0  901.0  1758.0 \n",
      "\n",
      "-----------------------------------------------------\n",
      "\n",
      "Classification Report for train & test set\n",
      " \n",
      "Train set\n",
      "               precision    recall  f1-score   support\n",
      "\n",
      "           0       0.82      0.61      0.70      3863\n",
      "           1       0.69      0.86      0.77      3863\n",
      "\n",
      "    accuracy                           0.74      7726\n",
      "   macro avg       0.76      0.74      0.74      7726\n",
      "weighted avg       0.76      0.74      0.74      7726\n",
      " \n",
      "\n",
      "Test set\n",
      "               precision    recall  f1-score   support\n",
      "\n",
      "           0       0.92      0.61      0.73      1300\n",
      "           1       0.43      0.85      0.57       458\n",
      "\n",
      "    accuracy                           0.67      1758\n",
      "   macro avg       0.67      0.73      0.65      1758\n",
      "weighted avg       0.79      0.67      0.69      1758\n",
      "\n",
      "-----------------------------------------------------\n",
      "\n",
      "Cohen's Kappa for train and test set:\n",
      "  0.4786 0.3446\n",
      "f2 score for train and test set: \n",
      "  0.8232 0.7098\n",
      "roc auc score for train and test set:\n",
      "  0.7393 0.7263\n",
      "Mean Cross Validation Score:\n",
      " 0.6788\n"
     ]
    }
   ],
   "source": [
    "model_evaluation(scaled_X_train_smoted, scaled_X_test, y_train_smoted, y_test, y_pred_train, y_pred_test)"
   ]
  },
  {
   "cell_type": "markdown",
   "metadata": {},
   "source": [
    "## Gaussian NB (prior probabilities adjusted)"
   ]
  },
  {
   "cell_type": "markdown",
   "metadata": {},
   "source": [
    "### Instantiate, fit and predict"
   ]
  },
  {
   "cell_type": "code",
   "execution_count": 86,
   "metadata": {
    "ExecuteTime": {
     "end_time": "2020-05-31T08:58:09.718479Z",
     "start_time": "2020-05-31T08:58:09.705898Z"
    }
   },
   "outputs": [],
   "source": [
    "clf = GaussianNB(priors=[0.25, 0.75])\n",
    "clf.fit(X_train, y_train)\n",
    "y_pred_train = clf.predict(X_train)\n",
    "y_pred_test = clf.predict(X_test)"
   ]
  },
  {
   "cell_type": "markdown",
   "metadata": {},
   "source": [
    "### Print Evaluation Metrics"
   ]
  },
  {
   "cell_type": "code",
   "execution_count": 87,
   "metadata": {
    "ExecuteTime": {
     "end_time": "2020-05-31T08:58:10.692540Z",
     "start_time": "2020-05-31T08:58:10.601506Z"
    }
   },
   "outputs": [
    {
     "name": "stdout",
     "output_type": "stream",
     "text": [
      "MODEL EVALUATION METRICS:\n",
      " -----------------------------------------------------\n",
      "Confusion Matrix for train & test set: \n",
      "\n",
      "  Predicted  No Churn   Churn     All\n",
      "0    Actual       NaN     NaN     NaN\n",
      "1  No Churn    2208.0  1655.0  3863.0\n",
      "2     Churn     162.0  1249.0  1411.0\n",
      "3       All    2370.0  2904.0  5274.0 \n",
      "\n",
      "  Predicted  No Churn  Churn     All\n",
      "0    Actual       NaN    NaN     NaN\n",
      "1  No Churn     718.0  582.0  1300.0\n",
      "2     Churn      51.0  407.0   458.0\n",
      "3       All     769.0  989.0  1758.0 \n",
      "\n",
      "-----------------------------------------------------\n",
      "\n",
      "Classification Report for train & test set\n",
      " \n",
      "Train set\n",
      "               precision    recall  f1-score   support\n",
      "\n",
      "           0       0.93      0.57      0.71      3863\n",
      "           1       0.43      0.89      0.58      1411\n",
      "\n",
      "    accuracy                           0.66      5274\n",
      "   macro avg       0.68      0.73      0.64      5274\n",
      "weighted avg       0.80      0.66      0.67      5274\n",
      " \n",
      "\n",
      "Test set\n",
      "               precision    recall  f1-score   support\n",
      "\n",
      "           0       0.93      0.55      0.69      1300\n",
      "           1       0.41      0.89      0.56       458\n",
      "\n",
      "    accuracy                           0.64      1758\n",
      "   macro avg       0.67      0.72      0.63      1758\n",
      "weighted avg       0.80      0.64      0.66      1758\n",
      "\n",
      "-----------------------------------------------------\n",
      "\n",
      "Cohen's Kappa for train and test set:\n",
      "  0.3419 0.3206\n",
      "f2 score for train and test set: \n",
      "  0.7306 0.7214\n",
      "roc auc score for train and test set:\n",
      "  0.7284 0.7205\n",
      "Mean Cross Validation Score:\n",
      " 0.6449\n"
     ]
    }
   ],
   "source": [
    "model_evaluation(X_train, X_test, y_train, y_test, y_pred_train, y_pred_test)"
   ]
  },
  {
   "cell_type": "code",
   "execution_count": 88,
   "metadata": {
    "ExecuteTime": {
     "end_time": "2020-05-31T08:58:11.349067Z",
     "start_time": "2020-05-31T08:58:11.344630Z"
    }
   },
   "outputs": [
    {
     "data": {
      "text/plain": [
       "array([0.25, 0.75])"
      ]
     },
     "execution_count": 88,
     "metadata": {},
     "output_type": "execute_result"
    }
   ],
   "source": [
    "clf.class_prior_"
   ]
  },
  {
   "cell_type": "code",
   "execution_count": null,
   "metadata": {},
   "outputs": [],
   "source": [
    "clf."
   ]
  },
  {
   "cell_type": "code",
   "execution_count": null,
   "metadata": {
    "ExecuteTime": {
     "end_time": "2020-05-31T15:18:22.794940Z",
     "start_time": "2020-05-31T15:18:22.779874Z"
    }
   },
   "outputs": [],
   "source": []
  },
  {
   "cell_type": "code",
   "execution_count": null,
   "metadata": {},
   "outputs": [],
   "source": []
  }
 ],
 "metadata": {
  "kernelspec": {
   "display_name": "Python 3",
   "language": "python",
   "name": "python3"
  },
  "language_info": {
   "codemirror_mode": {
    "name": "ipython",
    "version": 3
   },
   "file_extension": ".py",
   "mimetype": "text/x-python",
   "name": "python",
   "nbconvert_exporter": "python",
   "pygments_lexer": "ipython3",
   "version": "3.7.4"
  },
  "toc": {
   "base_numbering": 1,
   "nav_menu": {},
   "number_sections": true,
   "sideBar": true,
   "skip_h1_title": false,
   "title_cell": "Table of Contents",
   "title_sidebar": "Contents",
   "toc_cell": true,
   "toc_position": {},
   "toc_section_display": true,
   "toc_window_display": false
  },
  "varInspector": {
   "cols": {
    "lenName": 16,
    "lenType": 16,
    "lenVar": 40
   },
   "kernels_config": {
    "python": {
     "delete_cmd_postfix": "",
     "delete_cmd_prefix": "del ",
     "library": "var_list.py",
     "varRefreshCmd": "print(var_dic_list())"
    },
    "r": {
     "delete_cmd_postfix": ") ",
     "delete_cmd_prefix": "rm(",
     "library": "var_list.r",
     "varRefreshCmd": "cat(var_dic_list()) "
    }
   },
   "types_to_exclude": [
    "module",
    "function",
    "builtin_function_or_method",
    "instance",
    "_Feature"
   ],
   "window_display": true
  }
 },
 "nbformat": 4,
 "nbformat_minor": 2
}
