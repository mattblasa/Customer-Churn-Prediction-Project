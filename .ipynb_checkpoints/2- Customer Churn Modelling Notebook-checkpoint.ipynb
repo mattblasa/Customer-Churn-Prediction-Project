{
 "cells": [
  {
   "cell_type": "markdown",
   "metadata": {
    "toc": true
   },
   "source": [
    "<h1>Table of Contents<span class=\"tocSkip\"></span></h1>\n",
    "<div class=\"toc\"><ul class=\"toc-item\"><li><span><a href=\"#Final-Project-Notebook-2-Basic-Modelling\" data-toc-modified-id=\"Final-Project-Notebook-2-Basic-Modelling-1\"><span class=\"toc-item-num\">1&nbsp;&nbsp;</span>Final Project Notebook-2 Basic Modelling</a></span><ul class=\"toc-item\"><li><ul class=\"toc-item\"><li><span><a href=\"#Splitting-the-data-into-test-and-train-sets\" data-toc-modified-id=\"Splitting-the-data-into-test-and-train-sets-1.0.1\"><span class=\"toc-item-num\">1.0.1&nbsp;&nbsp;</span>Splitting the data into test and train sets</a></span></li><li><span><a href=\"#Scaling-the-data-by-sklearn-Standard-Scaler\" data-toc-modified-id=\"Scaling-the-data-by-sklearn-Standard-Scaler-1.0.2\"><span class=\"toc-item-num\">1.0.2&nbsp;&nbsp;</span>Scaling the data by sklearn Standard Scaler</a></span></li><li><span><a href=\"#Functions-to-evaluate-the-model\" data-toc-modified-id=\"Functions-to-evaluate-the-model-1.0.3\"><span class=\"toc-item-num\">1.0.3&nbsp;&nbsp;</span>Functions to evaluate the model</a></span></li></ul></li></ul></li><li><span><a href=\"#MODELLING\" data-toc-modified-id=\"MODELLING-2\"><span class=\"toc-item-num\">2&nbsp;&nbsp;</span>MODELLING</a></span><ul class=\"toc-item\"><li><ul class=\"toc-item\"><li><span><a href=\"#Handling-Imbalanced-Data\" data-toc-modified-id=\"Handling-Imbalanced-Data-2.0.1\"><span class=\"toc-item-num\">2.0.1&nbsp;&nbsp;</span>Handling Imbalanced Data</a></span></li></ul></li></ul></li><li><span><a href=\"#Logistic-Regression\" data-toc-modified-id=\"Logistic-Regression-3\"><span class=\"toc-item-num\">3&nbsp;&nbsp;</span>Logistic Regression</a></span><ul class=\"toc-item\"><li><span><a href=\"#Baseline-model\" data-toc-modified-id=\"Baseline-model-3.1\"><span class=\"toc-item-num\">3.1&nbsp;&nbsp;</span>Baseline model</a></span><ul class=\"toc-item\"><li><span><a href=\"#Instantiate,-fit-and-predict\" data-toc-modified-id=\"Instantiate,-fit-and-predict-3.1.1\"><span class=\"toc-item-num\">3.1.1&nbsp;&nbsp;</span>Instantiate, fit and predict</a></span></li><li><span><a href=\"#Print-Evaluation-Metrics\" data-toc-modified-id=\"Print-Evaluation-Metrics-3.1.2\"><span class=\"toc-item-num\">3.1.2&nbsp;&nbsp;</span>Print Evaluation Metrics</a></span></li><li><span><a href=\"#ROC-Curve\" data-toc-modified-id=\"ROC-Curve-3.1.3\"><span class=\"toc-item-num\">3.1.3&nbsp;&nbsp;</span>ROC Curve</a></span></li><li><span><a href=\"#Coefficients-of-the-model\" data-toc-modified-id=\"Coefficients-of-the-model-3.1.4\"><span class=\"toc-item-num\">3.1.4&nbsp;&nbsp;</span>Coefficients of the model</a></span></li></ul></li><li><span><a href=\"#Logistic-regression-with-syntetic-samples\" data-toc-modified-id=\"Logistic-regression-with-syntetic-samples-3.2\"><span class=\"toc-item-num\">3.2&nbsp;&nbsp;</span>Logistic regression with syntetic samples</a></span><ul class=\"toc-item\"><li><span><a href=\"#SMOTE\" data-toc-modified-id=\"SMOTE-3.2.1\"><span class=\"toc-item-num\">3.2.1&nbsp;&nbsp;</span>SMOTE</a></span></li><li><span><a href=\"#ADASYN\" data-toc-modified-id=\"ADASYN-3.2.2\"><span class=\"toc-item-num\">3.2.2&nbsp;&nbsp;</span>ADASYN</a></span></li><li><span><a href=\"#Instantiate,-fit-and-predict\" data-toc-modified-id=\"Instantiate,-fit-and-predict-3.2.3\"><span class=\"toc-item-num\">3.2.3&nbsp;&nbsp;</span>Instantiate, fit and predict</a></span></li><li><span><a href=\"#Print-Evaluation-Metrics\" data-toc-modified-id=\"Print-Evaluation-Metrics-3.2.4\"><span class=\"toc-item-num\">3.2.4&nbsp;&nbsp;</span>Print Evaluation Metrics</a></span></li><li><span><a href=\"#ROC-Curve\" data-toc-modified-id=\"ROC-Curve-3.2.5\"><span class=\"toc-item-num\">3.2.5&nbsp;&nbsp;</span>ROC Curve</a></span></li><li><span><a href=\"#Coefficients-of-the-model\" data-toc-modified-id=\"Coefficients-of-the-model-3.2.6\"><span class=\"toc-item-num\">3.2.6&nbsp;&nbsp;</span>Coefficients of the model</a></span></li></ul></li></ul></li><li><span><a href=\"#SCDClassifier-(Lasso-and-Ridge-regularizations)\" data-toc-modified-id=\"SCDClassifier-(Lasso-and-Ridge-regularizations)-4\"><span class=\"toc-item-num\">4&nbsp;&nbsp;</span>SCDClassifier (Lasso and Ridge regularizations)</a></span><ul class=\"toc-item\"><li><span><a href=\"#SCDClassifier-(SMOTE)\" data-toc-modified-id=\"SCDClassifier-(SMOTE)-4.1\"><span class=\"toc-item-num\">4.1&nbsp;&nbsp;</span>SCDClassifier (SMOTE)</a></span><ul class=\"toc-item\"><li><span><a href=\"#Instantiate,-fit-and-predict\" data-toc-modified-id=\"Instantiate,-fit-and-predict-4.1.1\"><span class=\"toc-item-num\">4.1.1&nbsp;&nbsp;</span>Instantiate, fit and predict</a></span></li><li><span><a href=\"#Print-Evaluation-Metrics\" data-toc-modified-id=\"Print-Evaluation-Metrics-4.1.2\"><span class=\"toc-item-num\">4.1.2&nbsp;&nbsp;</span>Print Evaluation Metrics</a></span></li><li><span><a href=\"#ROC-Curve\" data-toc-modified-id=\"ROC-Curve-4.1.3\"><span class=\"toc-item-num\">4.1.3&nbsp;&nbsp;</span>ROC Curve</a></span></li><li><span><a href=\"#Coefficients-of-the-model\" data-toc-modified-id=\"Coefficients-of-the-model-4.1.4\"><span class=\"toc-item-num\">4.1.4&nbsp;&nbsp;</span>Coefficients of the model</a></span></li></ul></li><li><span><a href=\"#SCDClassifier-(balanced-class-weight)\" data-toc-modified-id=\"SCDClassifier-(balanced-class-weight)-4.2\"><span class=\"toc-item-num\">4.2&nbsp;&nbsp;</span>SCDClassifier (balanced class weight)</a></span><ul class=\"toc-item\"><li><span><a href=\"#Instantiate,-fit-and-predict\" data-toc-modified-id=\"Instantiate,-fit-and-predict-4.2.1\"><span class=\"toc-item-num\">4.2.1&nbsp;&nbsp;</span>Instantiate, fit and predict</a></span></li><li><span><a href=\"#Print-Evaluation-Metrics\" data-toc-modified-id=\"Print-Evaluation-Metrics-4.2.2\"><span class=\"toc-item-num\">4.2.2&nbsp;&nbsp;</span>Print Evaluation Metrics</a></span></li><li><span><a href=\"#Coefficients-of-the-model\" data-toc-modified-id=\"Coefficients-of-the-model-4.2.3\"><span class=\"toc-item-num\">4.2.3&nbsp;&nbsp;</span>Coefficients of the model</a></span></li></ul></li></ul></li><li><span><a href=\"#KNN-Classifier\" data-toc-modified-id=\"KNN-Classifier-5\"><span class=\"toc-item-num\">5&nbsp;&nbsp;</span>KNN Classifier</a></span><ul class=\"toc-item\"><li><span><a href=\"#KNN-(Iterate-over-n-values)\" data-toc-modified-id=\"KNN-(Iterate-over-n-values)-5.1\"><span class=\"toc-item-num\">5.1&nbsp;&nbsp;</span>KNN (Iterate over n values)</a></span></li><li><span><a href=\"#KNN-(n=21)\" data-toc-modified-id=\"KNN-(n=21)-5.2\"><span class=\"toc-item-num\">5.2&nbsp;&nbsp;</span>KNN (n=21)</a></span><ul class=\"toc-item\"><li><span><a href=\"#Instantiate,-fit-and-predict\" data-toc-modified-id=\"Instantiate,-fit-and-predict-5.2.1\"><span class=\"toc-item-num\">5.2.1&nbsp;&nbsp;</span>Instantiate, fit and predict</a></span></li><li><span><a href=\"#Print-Evaluation-Metrics\" data-toc-modified-id=\"Print-Evaluation-Metrics-5.2.2\"><span class=\"toc-item-num\">5.2.2&nbsp;&nbsp;</span>Print Evaluation Metrics</a></span></li></ul></li></ul></li><li><span><a href=\"#SVM-classifier\" data-toc-modified-id=\"SVM-classifier-6\"><span class=\"toc-item-num\">6&nbsp;&nbsp;</span>SVM classifier</a></span><ul class=\"toc-item\"><li><ul class=\"toc-item\"><li><span><a href=\"#Make-a-sample-to-run-SVM-faster\" data-toc-modified-id=\"Make-a-sample-to-run-SVM-faster-6.0.1\"><span class=\"toc-item-num\">6.0.1&nbsp;&nbsp;</span>Make a sample to run SVM faster</a></span></li></ul></li><li><span><a href=\"#SVM-Classifier-(Balanced-Class-Weight)\" data-toc-modified-id=\"SVM-Classifier-(Balanced-Class-Weight)-6.1\"><span class=\"toc-item-num\">6.1&nbsp;&nbsp;</span>SVM Classifier (Balanced Class Weight)</a></span><ul class=\"toc-item\"><li><span><a href=\"#Instantiate,-fit-and-predict\" data-toc-modified-id=\"Instantiate,-fit-and-predict-6.1.1\"><span class=\"toc-item-num\">6.1.1&nbsp;&nbsp;</span>Instantiate, fit and predict</a></span></li><li><span><a href=\"#Print-Evaluation-Metrics\" data-toc-modified-id=\"Print-Evaluation-Metrics-6.1.2\"><span class=\"toc-item-num\">6.1.2&nbsp;&nbsp;</span>Print Evaluation Metrics</a></span></li><li><span><a href=\"#ROC-Curve\" data-toc-modified-id=\"ROC-Curve-6.1.3\"><span class=\"toc-item-num\">6.1.3&nbsp;&nbsp;</span>ROC Curve</a></span></li></ul></li><li><span><a href=\"#SVM-Classifier-(smote-and-gridsearch)\" data-toc-modified-id=\"SVM-Classifier-(smote-and-gridsearch)-6.2\"><span class=\"toc-item-num\">6.2&nbsp;&nbsp;</span>SVM Classifier (smote and gridsearch)</a></span><ul class=\"toc-item\"><li><span><a href=\"#Instantiate,-fit-and-predict\" data-toc-modified-id=\"Instantiate,-fit-and-predict-6.2.1\"><span class=\"toc-item-num\">6.2.1&nbsp;&nbsp;</span>Instantiate, fit and predict</a></span></li><li><span><a href=\"#Print-Evaluation-Metrics\" data-toc-modified-id=\"Print-Evaluation-Metrics-6.2.2\"><span class=\"toc-item-num\">6.2.2&nbsp;&nbsp;</span>Print Evaluation Metrics</a></span></li><li><span><a href=\"#ROC-Curve\" data-toc-modified-id=\"ROC-Curve-6.2.3\"><span class=\"toc-item-num\">6.2.3&nbsp;&nbsp;</span>ROC Curve</a></span></li></ul></li></ul></li><li><span><a href=\"#Gaussian-Naive-Bayes-Classifier\" data-toc-modified-id=\"Gaussian-Naive-Bayes-Classifier-7\"><span class=\"toc-item-num\">7&nbsp;&nbsp;</span>Gaussian Naive Bayes Classifier</a></span><ul class=\"toc-item\"><li><span><a href=\"#GaussianNB-(smoted)\" data-toc-modified-id=\"GaussianNB-(smoted)-7.1\"><span class=\"toc-item-num\">7.1&nbsp;&nbsp;</span>GaussianNB (smoted)</a></span><ul class=\"toc-item\"><li><span><a href=\"#Instantiate,-fit-and-predict\" data-toc-modified-id=\"Instantiate,-fit-and-predict-7.1.1\"><span class=\"toc-item-num\">7.1.1&nbsp;&nbsp;</span>Instantiate, fit and predict</a></span></li><li><span><a href=\"#Print-Evaluation-Metrics\" data-toc-modified-id=\"Print-Evaluation-Metrics-7.1.2\"><span class=\"toc-item-num\">7.1.2&nbsp;&nbsp;</span>Print Evaluation Metrics</a></span></li></ul></li><li><span><a href=\"#Gaussian-NB-(prior-probabilities-adjusted)\" data-toc-modified-id=\"Gaussian-NB-(prior-probabilities-adjusted)-7.2\"><span class=\"toc-item-num\">7.2&nbsp;&nbsp;</span>Gaussian NB (prior probabilities adjusted)</a></span><ul class=\"toc-item\"><li><span><a href=\"#Instantiate,-fit-and-predict\" data-toc-modified-id=\"Instantiate,-fit-and-predict-7.2.1\"><span class=\"toc-item-num\">7.2.1&nbsp;&nbsp;</span>Instantiate, fit and predict</a></span></li><li><span><a href=\"#Print-Evaluation-Metrics\" data-toc-modified-id=\"Print-Evaluation-Metrics-7.2.2\"><span class=\"toc-item-num\">7.2.2&nbsp;&nbsp;</span>Print Evaluation Metrics</a></span></li></ul></li></ul></li></ul></div>"
   ]
  },
  {
   "cell_type": "markdown",
   "metadata": {},
   "source": [
    "# Final Project Notebook-2 Basic Modelling\n",
    "\n",
    "Please fill out:\n",
    "* Student name: Seyma Tas\n",
    "* Student pace: full time\n",
    "* Scheduled project review date/time: \n",
    "* Instructor name: Amber Yandow\n",
    "* Blog post URL:\n"
   ]
  },
  {
   "cell_type": "markdown",
   "metadata": {},
   "source": [
    "This is the first modelling notebook. This notebook contains .......models..."
   ]
  },
  {
   "cell_type": "markdown",
   "metadata": {},
   "source": [
    "##### Import the necessary libraries."
   ]
  },
  {
   "cell_type": "code",
   "execution_count": 2,
   "metadata": {
    "ExecuteTime": {
     "end_time": "2020-05-31T07:22:41.113658Z",
     "start_time": "2020-05-31T07:22:39.893402Z"
    }
   },
   "outputs": [],
   "source": [
    "import seaborn as sns\n",
    "import pandas as pd\n",
    "import numpy as np\n",
    "import matplotlib.pyplot as plt\n",
    "%matplotlib inline\n",
    "sns.set_style('darkgrid', {'axes.facecolor': '0.9'})\n",
    "\n",
    "from sklearn.preprocessing import LabelEncoder, OneHotEncoder, MinMaxScaler, StandardScaler\n",
    "from sklearn.model_selection import train_test_split, cross_val_score, GridSearchCV, ParameterGrid\n",
    "from sklearn.linear_model import LogisticRegression, SGDClassifier\n",
    "from imblearn.over_sampling import SMOTE, ADASYN\n",
    "from sklearn.naive_bayes import GaussianNB\n",
    "from sklearn.svm import SVC\n",
    "from sklearn.tree import DecisionTreeClassifier\n",
    "from sklearn.neighbors import KNeighborsClassifier\n",
    "from sklearn.ensemble import RandomForestClassifier, AdaBoostClassifier, GradientBoostingClassifier, BaggingClassifier\n",
    "from sklearn.metrics import recall_score, f1_score,fbeta_score, r2_score, roc_auc_score, roc_curve, auc, cohen_kappa_score\n",
    "from sklearn.metrics import classification_report, confusion_matrix, accuracy_score, precision_score\n",
    "from sklearn.metrics import make_scorer\n",
    "from sklearn.pipeline import Pipeline\n",
    "import xgboost as xgb\n",
    "# from sklearn.metrics import plot_confusion_matrix\n",
    "\n",
    "import warnings\n",
    "warnings.filterwarnings('ignore')"
   ]
  },
  {
   "cell_type": "markdown",
   "metadata": {},
   "source": [
    "##### Download the data set which was cleaned, unnecessary columns are omitted and one hot encoded."
   ]
  },
  {
   "cell_type": "code",
   "execution_count": 3,
   "metadata": {
    "ExecuteTime": {
     "end_time": "2020-05-31T07:22:41.431356Z",
     "start_time": "2020-05-31T07:22:41.412077Z"
    }
   },
   "outputs": [],
   "source": [
    "df = pd.read_csv('TelcoCustomerChurnData_cleaned_ohe.csv')"
   ]
  },
  {
   "cell_type": "code",
   "execution_count": 4,
   "metadata": {
    "ExecuteTime": {
     "end_time": "2020-05-31T07:22:42.272549Z",
     "start_time": "2020-05-31T07:22:42.252509Z"
    }
   },
   "outputs": [
    {
     "data": {
      "text/html": [
       "<div>\n",
       "<style scoped>\n",
       "    .dataframe tbody tr th:only-of-type {\n",
       "        vertical-align: middle;\n",
       "    }\n",
       "\n",
       "    .dataframe tbody tr th {\n",
       "        vertical-align: top;\n",
       "    }\n",
       "\n",
       "    .dataframe thead th {\n",
       "        text-align: right;\n",
       "    }\n",
       "</style>\n",
       "<table border=\"1\" class=\"dataframe\">\n",
       "  <thead>\n",
       "    <tr style=\"text-align: right;\">\n",
       "      <th></th>\n",
       "      <th>tenure</th>\n",
       "      <th>MonthlyCharges</th>\n",
       "      <th>TotalCharges</th>\n",
       "      <th>Churn</th>\n",
       "      <th>SeniorCitizen_1</th>\n",
       "      <th>Partner_Yes</th>\n",
       "      <th>Dependents_Yes</th>\n",
       "      <th>MultipleLines_No phone service</th>\n",
       "      <th>MultipleLines_Yes</th>\n",
       "      <th>InternetService_Fiber optic</th>\n",
       "      <th>...</th>\n",
       "      <th>TechSupport_No internet service</th>\n",
       "      <th>TechSupport_Yes</th>\n",
       "      <th>StreamingTV_No internet service</th>\n",
       "      <th>StreamingTV_Yes</th>\n",
       "      <th>Contract_One year</th>\n",
       "      <th>Contract_Two year</th>\n",
       "      <th>PaperlessBilling_Yes</th>\n",
       "      <th>PaymentMethod_Credit card (automatic)</th>\n",
       "      <th>PaymentMethod_Electronic check</th>\n",
       "      <th>PaymentMethod_Mailed check</th>\n",
       "    </tr>\n",
       "  </thead>\n",
       "  <tbody>\n",
       "    <tr>\n",
       "      <td>0</td>\n",
       "      <td>1</td>\n",
       "      <td>29.85</td>\n",
       "      <td>29.85</td>\n",
       "      <td>0</td>\n",
       "      <td>0</td>\n",
       "      <td>1</td>\n",
       "      <td>0</td>\n",
       "      <td>1</td>\n",
       "      <td>0</td>\n",
       "      <td>0</td>\n",
       "      <td>...</td>\n",
       "      <td>0</td>\n",
       "      <td>0</td>\n",
       "      <td>0</td>\n",
       "      <td>0</td>\n",
       "      <td>0</td>\n",
       "      <td>0</td>\n",
       "      <td>1</td>\n",
       "      <td>0</td>\n",
       "      <td>1</td>\n",
       "      <td>0</td>\n",
       "    </tr>\n",
       "    <tr>\n",
       "      <td>1</td>\n",
       "      <td>34</td>\n",
       "      <td>56.95</td>\n",
       "      <td>1889.50</td>\n",
       "      <td>0</td>\n",
       "      <td>0</td>\n",
       "      <td>0</td>\n",
       "      <td>0</td>\n",
       "      <td>0</td>\n",
       "      <td>0</td>\n",
       "      <td>0</td>\n",
       "      <td>...</td>\n",
       "      <td>0</td>\n",
       "      <td>0</td>\n",
       "      <td>0</td>\n",
       "      <td>0</td>\n",
       "      <td>1</td>\n",
       "      <td>0</td>\n",
       "      <td>0</td>\n",
       "      <td>0</td>\n",
       "      <td>0</td>\n",
       "      <td>1</td>\n",
       "    </tr>\n",
       "    <tr>\n",
       "      <td>2</td>\n",
       "      <td>2</td>\n",
       "      <td>53.85</td>\n",
       "      <td>108.15</td>\n",
       "      <td>1</td>\n",
       "      <td>0</td>\n",
       "      <td>0</td>\n",
       "      <td>0</td>\n",
       "      <td>0</td>\n",
       "      <td>0</td>\n",
       "      <td>0</td>\n",
       "      <td>...</td>\n",
       "      <td>0</td>\n",
       "      <td>0</td>\n",
       "      <td>0</td>\n",
       "      <td>0</td>\n",
       "      <td>0</td>\n",
       "      <td>0</td>\n",
       "      <td>1</td>\n",
       "      <td>0</td>\n",
       "      <td>0</td>\n",
       "      <td>1</td>\n",
       "    </tr>\n",
       "    <tr>\n",
       "      <td>3</td>\n",
       "      <td>45</td>\n",
       "      <td>42.30</td>\n",
       "      <td>1840.75</td>\n",
       "      <td>0</td>\n",
       "      <td>0</td>\n",
       "      <td>0</td>\n",
       "      <td>0</td>\n",
       "      <td>1</td>\n",
       "      <td>0</td>\n",
       "      <td>0</td>\n",
       "      <td>...</td>\n",
       "      <td>0</td>\n",
       "      <td>1</td>\n",
       "      <td>0</td>\n",
       "      <td>0</td>\n",
       "      <td>1</td>\n",
       "      <td>0</td>\n",
       "      <td>0</td>\n",
       "      <td>0</td>\n",
       "      <td>0</td>\n",
       "      <td>0</td>\n",
       "    </tr>\n",
       "    <tr>\n",
       "      <td>4</td>\n",
       "      <td>2</td>\n",
       "      <td>70.70</td>\n",
       "      <td>151.65</td>\n",
       "      <td>1</td>\n",
       "      <td>0</td>\n",
       "      <td>0</td>\n",
       "      <td>0</td>\n",
       "      <td>0</td>\n",
       "      <td>0</td>\n",
       "      <td>1</td>\n",
       "      <td>...</td>\n",
       "      <td>0</td>\n",
       "      <td>0</td>\n",
       "      <td>0</td>\n",
       "      <td>0</td>\n",
       "      <td>0</td>\n",
       "      <td>0</td>\n",
       "      <td>1</td>\n",
       "      <td>0</td>\n",
       "      <td>1</td>\n",
       "      <td>0</td>\n",
       "    </tr>\n",
       "  </tbody>\n",
       "</table>\n",
       "<p>5 rows × 25 columns</p>\n",
       "</div>"
      ],
      "text/plain": [
       "   tenure  MonthlyCharges  TotalCharges  Churn  SeniorCitizen_1  Partner_Yes  \\\n",
       "0       1           29.85         29.85      0                0            1   \n",
       "1      34           56.95       1889.50      0                0            0   \n",
       "2       2           53.85        108.15      1                0            0   \n",
       "3      45           42.30       1840.75      0                0            0   \n",
       "4       2           70.70        151.65      1                0            0   \n",
       "\n",
       "   Dependents_Yes  MultipleLines_No phone service  MultipleLines_Yes  \\\n",
       "0               0                               1                  0   \n",
       "1               0                               0                  0   \n",
       "2               0                               0                  0   \n",
       "3               0                               1                  0   \n",
       "4               0                               0                  0   \n",
       "\n",
       "   InternetService_Fiber optic  ...  TechSupport_No internet service  \\\n",
       "0                            0  ...                                0   \n",
       "1                            0  ...                                0   \n",
       "2                            0  ...                                0   \n",
       "3                            0  ...                                0   \n",
       "4                            1  ...                                0   \n",
       "\n",
       "   TechSupport_Yes  StreamingTV_No internet service  StreamingTV_Yes  \\\n",
       "0                0                                0                0   \n",
       "1                0                                0                0   \n",
       "2                0                                0                0   \n",
       "3                1                                0                0   \n",
       "4                0                                0                0   \n",
       "\n",
       "   Contract_One year  Contract_Two year  PaperlessBilling_Yes  \\\n",
       "0                  0                  0                     1   \n",
       "1                  1                  0                     0   \n",
       "2                  0                  0                     1   \n",
       "3                  1                  0                     0   \n",
       "4                  0                  0                     1   \n",
       "\n",
       "   PaymentMethod_Credit card (automatic)  PaymentMethod_Electronic check  \\\n",
       "0                                      0                               1   \n",
       "1                                      0                               0   \n",
       "2                                      0                               0   \n",
       "3                                      0                               0   \n",
       "4                                      0                               1   \n",
       "\n",
       "   PaymentMethod_Mailed check  \n",
       "0                           0  \n",
       "1                           1  \n",
       "2                           1  \n",
       "3                           0  \n",
       "4                           0  \n",
       "\n",
       "[5 rows x 25 columns]"
      ]
     },
     "execution_count": 4,
     "metadata": {},
     "output_type": "execute_result"
    }
   ],
   "source": [
    "df.head()"
   ]
  },
  {
   "cell_type": "markdown",
   "metadata": {},
   "source": [
    "### Splitting the data into test and train sets"
   ]
  },
  {
   "cell_type": "code",
   "execution_count": 5,
   "metadata": {
    "ExecuteTime": {
     "end_time": "2020-05-31T07:22:44.608010Z",
     "start_time": "2020-05-31T07:22:44.603307Z"
    }
   },
   "outputs": [],
   "source": [
    "X = df.drop(['Churn'], axis=1)\n",
    "y = df['Churn']"
   ]
  },
  {
   "cell_type": "code",
   "execution_count": 6,
   "metadata": {
    "ExecuteTime": {
     "end_time": "2020-05-31T07:22:45.066749Z",
     "start_time": "2020-05-31T07:22:45.060137Z"
    }
   },
   "outputs": [],
   "source": [
    "X_train, X_test, y_train, y_test = train_test_split(X, y, random_state=42)"
   ]
  },
  {
   "cell_type": "markdown",
   "metadata": {},
   "source": [
    "### Scaling the data by sklearn Standard Scaler"
   ]
  },
  {
   "cell_type": "code",
   "execution_count": 7,
   "metadata": {
    "ExecuteTime": {
     "end_time": "2020-05-31T07:22:46.528079Z",
     "start_time": "2020-05-31T07:22:46.514466Z"
    }
   },
   "outputs": [],
   "source": [
    "scaler = StandardScaler()\n",
    "scaled_x_train = scaler.fit_transform(X_train)\n",
    "scaled_X_test = scaler.transform(X_test)\n",
    "scaled_X_train = pd.DataFrame(scaled_x_train, columns=X_train.columns)\n"
   ]
  },
  {
   "cell_type": "markdown",
   "metadata": {},
   "source": [
    "### Functions to evaluate the model"
   ]
  },
  {
   "cell_type": "markdown",
   "metadata": {},
   "source": [
    "##### Function to draw the ROC curve and to calculate the area under the curve"
   ]
  },
  {
   "cell_type": "code",
   "execution_count": 8,
   "metadata": {
    "ExecuteTime": {
     "end_time": "2020-05-31T07:22:48.197472Z",
     "start_time": "2020-05-31T07:22:48.187975Z"
    },
    "code_folding": [
     0
    ]
   },
   "outputs": [],
   "source": [
    "def roc_curve_and_auc(clf, X_train, X_test, y_train, y_test):\n",
    "\n",
    "    # Calculate the probability scores of each point in the training set\n",
    "    y_train_score = clf.fit(X_train, y_train).decision_function(X_train)\n",
    "\n",
    "    # Calculate the fpr, tpr, and thresholds for the training set\n",
    "    train_fpr, train_tpr, thresholds = roc_curve(y_train, y_train_score)\n",
    "\n",
    "    # Calculate the probability scores of each point in the test set\n",
    "    y_test_score = clf.decision_function(X_test)\n",
    "\n",
    "    # Calculate the fpr, tpr, and thresholds for the test set\n",
    "    test_fpr, test_tpr, test_thresholds = roc_curve(y_test, y_test_score)\n",
    "\n",
    "    # ROC curve for training set\n",
    "    plt.figure(figsize=(10, 8))\n",
    "    lw = 2\n",
    "    plt.plot(train_fpr, train_tpr, color='darkorange',\n",
    "             lw=lw, label='Train ROC curve')\n",
    "    plt.plot(test_fpr, test_tpr, color='blue',\n",
    "             lw=lw, label='Test ROC curve')\n",
    "    plt.plot([0, 1], [0, 1], color='navy', lw=lw, linestyle='--')\n",
    "    plt.xlim([0.0, 1.0])\n",
    "    plt.ylim([0.0, 1.05])\n",
    "    plt.yticks([i/20.0 for i in range(21)])\n",
    "    plt.xticks([i/20.0 for i in range(21)])\n",
    "    plt.xlabel('False Positive Rate')\n",
    "    plt.ylabel('True Positive Rate')\n",
    "    plt.title('Receiver operating characteristic (ROC) Curve for Training and Testing Sets')\n",
    "    plt.legend(loc='lower right')\n",
    "    plt.show()\n",
    "    # Print the area under the roc curve\n",
    "    print('Training AUC: {}'.format(round(auc(train_fpr, train_tpr), 5)))\n",
    "    print('Testing AUC: {}'.format(round(auc(test_fpr, test_tpr), 5)))"
   ]
  },
  {
   "cell_type": "markdown",
   "metadata": {},
   "source": [
    "##### Function to plot the coefficients"
   ]
  },
  {
   "cell_type": "code",
   "execution_count": 19,
   "metadata": {
    "ExecuteTime": {
     "end_time": "2020-05-31T07:26:31.324714Z",
     "start_time": "2020-05-31T07:26:31.320775Z"
    }
   },
   "outputs": [],
   "source": [
    "def plot_coefficients(clf):\n",
    "    weights_clf = pd.Series(clf.coef_[0], index=X.columns.values)\n",
    "    weights_clf.sort_values(inplace=True)\n",
    "    plt.figure(figsize=(15, 6))\n",
    "    plt.xticks(rotation=90)\n",
    "    features=plt.bar(weights_clf.index,weights_clf.values)"
   ]
  },
  {
   "cell_type": "markdown",
   "metadata": {},
   "source": [
    "##### Function to plot the feature importances"
   ]
  },
  {
   "cell_type": "code",
   "execution_count": 9,
   "metadata": {
    "ExecuteTime": {
     "end_time": "2020-05-31T07:22:50.622136Z",
     "start_time": "2020-05-31T07:22:50.617939Z"
    },
    "code_folding": [
     0
    ]
   },
   "outputs": [],
   "source": [
    "def plot_feature_importances(model):\n",
    "    n_features = X_train.shape[1]\n",
    "    plt.figure(figsize=(8,8))\n",
    "    plt.barh(range(n_features), model.feature_importances_, align='center') \n",
    "    plt.yticks(np.arange(n_features), X_train.columns.values) \n",
    "    plt.xlabel('Feature importance')\n",
    "    plt.ylabel('Feature')"
   ]
  },
  {
   "cell_type": "markdown",
   "metadata": {},
   "source": [
    "##### Function to print the confusion matrix in a data frame to make the matrix more readable."
   ]
  },
  {
   "cell_type": "code",
   "execution_count": 10,
   "metadata": {
    "ExecuteTime": {
     "end_time": "2020-05-31T07:22:51.511911Z",
     "start_time": "2020-05-31T07:22:51.506126Z"
    },
    "code_folding": [
     0
    ]
   },
   "outputs": [],
   "source": [
    " def confusion_matrix_df(y_test, y_pred_test):\n",
    "    confusion_mat = confusion_matrix(y_test, y_pred_test, labels=[0, 1])\n",
    "    _row = confusion_mat.sum(axis=0)\n",
    "    _col = [np.nan] + list(confusion_mat.sum(axis=1)) + [sum(_row)]\n",
    "    con_df = pd.DataFrame({})\n",
    "    con_df[\"Predicted\"] = [\"Actual\"] + [\"No Churn\", \"Churn\"] + [\"All\"]\n",
    "    for label, idx in {\"No Churn\": 0, \"Churn\": 1}.items():\n",
    "        temp = [np.nan] + list(confusion_mat[:, idx]) + [_row[idx]]\n",
    "        con_df[label] = temp\n",
    "\n",
    "    con_df[\"All\"] = _col\n",
    "    return con_df"
   ]
  },
  {
   "cell_type": "markdown",
   "metadata": {},
   "source": [
    "##### Function to print the metrics: Confusion Matrix, Classification Report, Cohen's Kappa, F beta score, roc-auc score and mean cross validation score."
   ]
  },
  {
   "cell_type": "code",
   "execution_count": null,
   "metadata": {
    "ExecuteTime": {
     "end_time": "2020-05-31T08:52:09.289264Z",
     "start_time": "2020-05-31T08:44:54.773Z"
    },
    "code_folding": []
   },
   "outputs": [],
   "source": [
    "def model_evaluation(X_train, X_test, y_train, y_test, y_pred_train, y_pred_test):\n",
    "\n",
    "    print('MODEL EVALUATION METRICS:\\n',\n",
    "          '-----------------------------------------------------')\n",
    "    \n",
    "    print('Confusion Matrix for train & test set: \\n')\n",
    "    print(confusion_matrix_df(y_train, y_pred_train), '\\n')\n",
    "    print(confusion_matrix_df(y_test, y_pred_test),'\\n')\n",
    "   \n",
    "    print('-----------------------------------------------------')\n",
    "    print('\\nClassification Report for train & test set\\n',\n",
    "          '\\nTrain set\\n',\n",
    "          classification_report(y_train, y_pred_train),\n",
    "          '\\n\\nTest set\\n',\n",
    "          classification_report(y_test, y_pred_test))\n",
    " \n",
    "    print('-----------------------------------------------------\\n')\n",
    "    print(\"Cohen's Kappa for train and test set:\\n \",\n",
    "            round(cohen_kappa_score(y_train, y_pred_train), 4),\n",
    "            round(cohen_kappa_score(y_test, y_pred_test), 4))\n",
    "\n",
    "    print (\"f2 score for train and test set: \\n \",\n",
    "           round(fbeta_score(y_train, y_pred_train, 2.0),4), \n",
    "           round(fbeta_score(y_test, y_pred_test, 2.0),4))\n",
    "    \n",
    "    print ('roc auc score for train and test set:\\n ', \n",
    "           round(roc_auc_score(y_train, y_pred_train),4),\n",
    "           round(roc_auc_score(y_test, y_pred_test),4) )\n",
    "    \n",
    "#     print('Mean Cross Validation Score:\\n', round(cross_val_score(clf, X, y, cv=5).mean(), 4))   "
   ]
  },
  {
   "cell_type": "markdown",
   "metadata": {},
   "source": [
    "### Handling Imbalanced Data"
   ]
  },
  {
   "cell_type": "code",
   "execution_count": 12,
   "metadata": {
    "ExecuteTime": {
     "end_time": "2020-05-31T07:22:54.349681Z",
     "start_time": "2020-05-31T07:22:54.202059Z"
    }
   },
   "outputs": [
    {
     "data": {
      "image/png": "[encoded data removed]",
      "text/plain": [
       "<Figure size 432x288 with 1 Axes>"
      ]
     },
     "metadata": {
      "needs_background": "light"
     },
     "output_type": "display_data"
    }
   ],
   "source": [
    "sns.countplot(y);"
   ]
  },
  {
   "cell_type": "code",
   "execution_count": 13,
   "metadata": {
    "ExecuteTime": {
     "end_time": "2020-05-31T07:22:54.813511Z",
     "start_time": "2020-05-31T07:22:54.746543Z"
    }
   },
   "outputs": [
    {
     "data": {
      "text/plain": [
       "0    0.734215\n",
       "1    0.265785\n",
       "Name: Churn, dtype: float64"
      ]
     },
     "execution_count": 13,
     "metadata": {},
     "output_type": "execute_result"
    }
   ],
   "source": [
    "y.value_counts(normalize=True)"
   ]
  },
  {
   "cell_type": "markdown",
   "metadata": {},
   "source": [
    "We have an imbalanced data set. We have to find ways to handle it or we are going to have a high accuracy but we can not make true predictions of the minority class which is 'Churn' in this project. \n",
    "We can use class_weight parameter of the models, we can make synthetic samples of the minority class using SMOTE or ADASYN or we can just oversample or under sample the necessary class."
   ]
  },
  {
   "cell_type": "markdown",
   "metadata": {},
   "source": [
    "# Logistic Regression"
   ]
  },
  {
   "cell_type": "markdown",
   "metadata": {},
   "source": [
    "## Baseline model"
   ]
  },
  {
   "cell_type": "markdown",
   "metadata": {},
   "source": [
    "### Instantiate, fit and predict"
   ]
  },
  {
   "cell_type": "code",
   "execution_count": 14,
   "metadata": {
    "ExecuteTime": {
     "end_time": "2020-05-31T07:22:58.457932Z",
     "start_time": "2020-05-31T07:22:58.418418Z"
    }
   },
   "outputs": [],
   "source": [
    "clf = LogisticRegression(fit_intercept=False, C=1e12, solver='liblinear', class_weight='balanced')\n",
    "clf.fit(X_train, y_train)\n",
    "y_pred_train = clf.predict(X_train)\n",
    "y_pred_test = clf.predict(X_test)"
   ]
  },
  {
   "cell_type": "markdown",
   "metadata": {},
   "source": [
    "### Print Evaluation Metrics"
   ]
  },
  {
   "cell_type": "code",
   "execution_count": 15,
   "metadata": {
    "ExecuteTime": {
     "end_time": "2020-05-31T07:23:01.059660Z",
     "start_time": "2020-05-31T07:23:00.801931Z"
    },
    "scrolled": true
   },
   "outputs": [
    {
     "name": "stdout",
     "output_type": "stream",
     "text": [
      "MODEL EVALUATION METRICS:\n",
      " -----------------------------------------------------\n",
      "Confusion Matrix for train & test set: \n",
      "\n",
      "  Predicted  No Churn   Churn     All\n",
      "0    Actual       NaN     NaN     NaN\n",
      "1  No Churn    2837.0  1026.0  3863.0\n",
      "2     Churn     272.0  1139.0  1411.0\n",
      "3       All    3109.0  2165.0  5274.0 \n",
      "\n",
      "  Predicted  No Churn  Churn     All\n",
      "0    Actual       NaN    NaN     NaN\n",
      "1  No Churn     932.0  368.0  1300.0\n",
      "2     Churn      97.0  361.0   458.0\n",
      "3       All    1029.0  729.0  1758.0 \n",
      "\n",
      "-----------------------------------------------------\n",
      "\n",
      "Classification Report for train & test set\n",
      " \n",
      "Train set\n",
      "               precision    recall  f1-score   support\n",
      "\n",
      "           0       0.91      0.73      0.81      3863\n",
      "           1       0.53      0.81      0.64      1411\n",
      "\n",
      "    accuracy                           0.75      5274\n",
      "   macro avg       0.72      0.77      0.73      5274\n",
      "weighted avg       0.81      0.75      0.77      5274\n",
      " \n",
      "\n",
      "Test set\n",
      "               precision    recall  f1-score   support\n",
      "\n",
      "           0       0.91      0.72      0.80      1300\n",
      "           1       0.50      0.79      0.61       458\n",
      "\n",
      "    accuracy                           0.74      1758\n",
      "   macro avg       0.70      0.75      0.70      1758\n",
      "weighted avg       0.80      0.74      0.75      1758\n",
      "\n",
      "-----------------------------------------------------\n",
      "\n",
      "Cohen's Kappa for train and test set:\n",
      "  0.4631 0.4239\n",
      "f2 score for train and test set: \n",
      "  0.7293 0.7048\n",
      "roc auc score for train and test set:\n",
      "  0.7708 0.7526\n",
      "Mean Cross Validation Score:\n",
      " 0.7462\n"
     ]
    }
   ],
   "source": [
    "model_evaluation(X_train, X_test, y_train, y_test, y_pred_train, y_pred_test)\n"
   ]
  },
  {
   "cell_type": "markdown",
   "metadata": {},
   "source": [
    "### ROC Curve"
   ]
  },
  {
   "cell_type": "code",
   "execution_count": 16,
   "metadata": {
    "ExecuteTime": {
     "end_time": "2020-05-31T07:23:06.956019Z",
     "start_time": "2020-05-31T07:23:06.538976Z"
    },
    "scrolled": true
   },
   "outputs": [
    {
     "data": {
      "image/png": "[encoded data removed]",
      "text/plain": [
       "<Figure size 720x576 with 1 Axes>"
      ]
     },
     "metadata": {
      "needs_background": "light"
     },
     "output_type": "display_data"
    },
    {
     "name": "stdout",
     "output_type": "stream",
     "text": [
      "Training AUC: 0.84942\n",
      "Testing AUC: 0.83321\n"
     ]
    }
   ],
   "source": [
    "roc_curve_and_auc(clf, X_train, X_test, y_train, y_test)"
   ]
  },
  {
   "cell_type": "markdown",
   "metadata": {},
   "source": [
    "### Coefficients of the model"
   ]
  },
  {
   "cell_type": "code",
   "execution_count": 17,
   "metadata": {
    "ExecuteTime": {
     "end_time": "2020-05-31T07:23:14.759486Z",
     "start_time": "2020-05-31T07:23:14.755070Z"
    }
   },
   "outputs": [
    {
     "data": {
      "text/plain": [
       "array([[-0.06,  0.01,  0.  ,  0.24,  0.08, -0.25,  0.82,  0.14,  0.69,\n",
       "        -0.07, -0.07, -0.16, -0.07, -0.05, -0.07, -0.41, -0.07,  0.17,\n",
       "        -0.8 , -1.39,  0.22, -0.04,  0.39, -0.07]])"
      ]
     },
     "execution_count": 17,
     "metadata": {},
     "output_type": "execute_result"
    }
   ],
   "source": [
    "clf.coef_.round(2)"
   ]
  },
  {
   "cell_type": "code",
   "execution_count": 20,
   "metadata": {
    "ExecuteTime": {
     "end_time": "2020-05-31T07:26:46.004985Z",
     "start_time": "2020-05-31T07:26:45.553406Z"
    }
   },
   "outputs": [
    {
     "data": {
      "image/png": "[encoded data removed]",
      "text/plain": [
       "<Figure size 1080x432 with 1 Axes>"
      ]
     },
     "metadata": {
      "needs_background": "light"
     },
     "output_type": "display_data"
    }
   ],
   "source": [
    "plot_coefficients(clf)"
   ]
  },
  {
   "cell_type": "markdown",
   "metadata": {},
   "source": [
    "## Logistic regression with syntetic samples"
   ]
  },
  {
   "cell_type": "markdown",
   "metadata": {},
   "source": [
    "### SMOTE\n"
   ]
  },
  {
   "cell_type": "code",
   "execution_count": 21,
   "metadata": {
    "ExecuteTime": {
     "end_time": "2020-05-31T07:27:03.665373Z",
     "start_time": "2020-05-31T07:27:03.590597Z"
    }
   },
   "outputs": [],
   "source": [
    "smote = SMOTE()\n",
    "scaled_X_train_smoted, y_train_smoted = smote.fit_sample(scaled_X_train, y_train)"
   ]
  },
  {
   "cell_type": "markdown",
   "metadata": {},
   "source": [
    "### ADASYN"
   ]
  },
  {
   "cell_type": "code",
   "execution_count": 22,
   "metadata": {
    "ExecuteTime": {
     "end_time": "2020-05-31T07:27:04.894538Z",
     "start_time": "2020-05-31T07:27:04.805279Z"
    }
   },
   "outputs": [],
   "source": [
    "adasyn = ADASYN()\n",
    "X_train_ada, y_train_ada = adasyn.fit_sample(X_train, y_train)"
   ]
  },
  {
   "cell_type": "markdown",
   "metadata": {},
   "source": [
    "### Instantiate, fit and predict"
   ]
  },
  {
   "cell_type": "code",
   "execution_count": 23,
   "metadata": {
    "ExecuteTime": {
     "end_time": "2020-05-31T07:27:05.362141Z",
     "start_time": "2020-05-31T07:27:05.313064Z"
    }
   },
   "outputs": [],
   "source": [
    "clf = LogisticRegression(fit_intercept=False, C=1e20, solver ='liblinear')\n",
    "clf.fit(X_train_ada, y_train_ada)\n",
    "y_pred_train = clf.predict(X_train_ada)\n",
    "y_pred_test = clf.predict(X_test)"
   ]
  },
  {
   "cell_type": "markdown",
   "metadata": {},
   "source": [
    "### Print Evaluation Metrics"
   ]
  },
  {
   "cell_type": "code",
   "execution_count": 24,
   "metadata": {
    "ExecuteTime": {
     "end_time": "2020-05-31T07:27:06.395225Z",
     "start_time": "2020-05-31T07:27:06.150993Z"
    },
    "scrolled": true
   },
   "outputs": [
    {
     "name": "stdout",
     "output_type": "stream",
     "text": [
      "MODEL EVALUATION METRICS:\n",
      " -----------------------------------------------------\n",
      "Confusion Matrix for train & test set: \n",
      "\n",
      "  Predicted  No Churn   Churn     All\n",
      "0    Actual       NaN     NaN     NaN\n",
      "1  No Churn    2736.0  1127.0  3863.0\n",
      "2     Churn     738.0  3170.0  3908.0\n",
      "3       All    3474.0  4297.0  7771.0 \n",
      "\n",
      "  Predicted  No Churn  Churn     All\n",
      "0    Actual       NaN    NaN     NaN\n",
      "1  No Churn     895.0  405.0  1300.0\n",
      "2     Churn      83.0  375.0   458.0\n",
      "3       All     978.0  780.0  1758.0 \n",
      "\n",
      "-----------------------------------------------------\n",
      "\n",
      "Classification Report for train & test set\n",
      " \n",
      "Train set\n",
      "               precision    recall  f1-score   support\n",
      "\n",
      "           0       0.79      0.71      0.75      3863\n",
      "           1       0.74      0.81      0.77      3908\n",
      "\n",
      "    accuracy                           0.76      7771\n",
      "   macro avg       0.76      0.76      0.76      7771\n",
      "weighted avg       0.76      0.76      0.76      7771\n",
      " \n",
      "\n",
      "Test set\n",
      "               precision    recall  f1-score   support\n",
      "\n",
      "           0       0.92      0.69      0.79      1300\n",
      "           1       0.48      0.82      0.61       458\n",
      "\n",
      "    accuracy                           0.72      1758\n",
      "   macro avg       0.70      0.75      0.70      1758\n",
      "weighted avg       0.80      0.72      0.74      1758\n",
      "\n",
      "-----------------------------------------------------\n",
      "\n",
      "Cohen's Kappa for train and test set:\n",
      "  0.5197 0.4132\n",
      "f2 score for train and test set: \n",
      "  0.7953 0.7178\n",
      "roc auc score for train and test set:\n",
      "  0.7597 0.7536\n",
      "Mean Cross Validation Score:\n",
      " 0.7995\n"
     ]
    }
   ],
   "source": [
    "model_evaluation(X_train_ada, X_test, y_train_ada, y_test, y_pred_train, y_pred_test)"
   ]
  },
  {
   "cell_type": "markdown",
   "metadata": {},
   "source": [
    "### ROC Curve"
   ]
  },
  {
   "cell_type": "code",
   "execution_count": 25,
   "metadata": {
    "ExecuteTime": {
     "end_time": "2020-05-31T07:27:07.888616Z",
     "start_time": "2020-05-31T07:27:07.462194Z"
    },
    "scrolled": true
   },
   "outputs": [
    {
     "data": {
      "image/png": "[encoded data removed]",
      "text/plain": [
       "<Figure size 720x576 with 1 Axes>"
      ]
     },
     "metadata": {
      "needs_background": "light"
     },
     "output_type": "display_data"
    },
    {
     "name": "stdout",
     "output_type": "stream",
     "text": [
      "Training AUC: 0.82874\n",
      "Testing AUC: 0.82964\n"
     ]
    }
   ],
   "source": [
    "roc_curve_and_auc(clf, X_train_ada, X_test, y_train_ada, y_test)"
   ]
  },
  {
   "cell_type": "markdown",
   "metadata": {},
   "source": [
    "### Coefficients of the model"
   ]
  },
  {
   "cell_type": "code",
   "execution_count": 26,
   "metadata": {
    "ExecuteTime": {
     "end_time": "2020-05-31T07:27:13.210306Z",
     "start_time": "2020-05-31T07:27:13.205991Z"
    }
   },
   "outputs": [
    {
     "data": {
      "text/plain": [
       "array([[-0.06,  0.01,  0.  ,  0.34,  0.12, -0.22,  0.98,  0.11,  0.55,\n",
       "        -0.04, -0.04, -0.19, -0.04, -0.06, -0.04, -0.49, -0.04,  0.16,\n",
       "        -0.94, -1.59,  0.25, -0.12,  0.4 , -0.1 ]])"
      ]
     },
     "execution_count": 26,
     "metadata": {},
     "output_type": "execute_result"
    }
   ],
   "source": [
    "clf.coef_.round(2)"
   ]
  },
  {
   "cell_type": "code",
   "execution_count": 27,
   "metadata": {
    "ExecuteTime": {
     "end_time": "2020-05-31T07:27:17.841654Z",
     "start_time": "2020-05-31T07:27:17.390084Z"
    }
   },
   "outputs": [
    {
     "data": {
      "image/png": "[encoded data removed]",
      "text/plain": [
       "<Figure size 1080x432 with 1 Axes>"
      ]
     },
     "metadata": {
      "needs_background": "light"
     },
     "output_type": "display_data"
    }
   ],
   "source": [
    "plot_coefficients(clf)"
   ]
  },
  {
   "cell_type": "raw",
   "metadata": {},
   "source": []
  },
  {
   "cell_type": "markdown",
   "metadata": {},
   "source": [
    "# SCDClassifier (Lasso and Ridge regularizations)"
   ]
  },
  {
   "cell_type": "markdown",
   "metadata": {},
   "source": [
    "## SCDClassifier (SMOTE)"
   ]
  },
  {
   "cell_type": "markdown",
   "metadata": {},
   "source": [
    "### Instantiate, fit and predict"
   ]
  },
  {
   "cell_type": "code",
   "execution_count": 72,
   "metadata": {
    "ExecuteTime": {
     "end_time": "2020-05-31T08:17:13.082509Z",
     "start_time": "2020-05-31T08:17:12.979867Z"
    },
    "scrolled": false
   },
   "outputs": [],
   "source": [
    "clf = SGDClassifier(penalty='elasticnet')\n",
    "clf.fit(scaled_X_train_smoted, y_train_smoted)\n",
    "y_pred_train = clf.predict(scaled_X_train_smoted)\n",
    "y_pred_test = clf.predict(scaled_X_test)"
   ]
  },
  {
   "cell_type": "markdown",
   "metadata": {},
   "source": [
    "### Print Evaluation Metrics"
   ]
  },
  {
   "cell_type": "code",
   "execution_count": 74,
   "metadata": {
    "ExecuteTime": {
     "end_time": "2020-05-31T08:18:06.508996Z",
     "start_time": "2020-05-31T08:18:05.796025Z"
    },
    "scrolled": true
   },
   "outputs": [
    {
     "name": "stdout",
     "output_type": "stream",
     "text": [
      "MODEL EVALUATION METRICS:\n",
      " -----------------------------------------------------\n",
      "Confusion Matrix for train & test set: \n",
      "\n",
      "  Predicted  No Churn   Churn     All\n",
      "0    Actual       NaN     NaN     NaN\n",
      "1  No Churn    2822.0  1041.0  3863.0\n",
      "2     Churn     795.0  3068.0  3863.0\n",
      "3       All    3617.0  4109.0  7726.0 \n",
      "\n",
      "  Predicted  No Churn  Churn     All\n",
      "0    Actual       NaN    NaN     NaN\n",
      "1  No Churn     949.0  351.0  1300.0\n",
      "2     Churn     110.0  348.0   458.0\n",
      "3       All    1059.0  699.0  1758.0 \n",
      "\n",
      "-----------------------------------------------------\n",
      "\n",
      "Classification Report for train & test set\n",
      " \n",
      "Train set\n",
      "               precision    recall  f1-score   support\n",
      "\n",
      "           0       0.78      0.73      0.75      3863\n",
      "           1       0.75      0.79      0.77      3863\n",
      "\n",
      "    accuracy                           0.76      7726\n",
      "   macro avg       0.76      0.76      0.76      7726\n",
      "weighted avg       0.76      0.76      0.76      7726\n",
      " \n",
      "\n",
      "Test set\n",
      "               precision    recall  f1-score   support\n",
      "\n",
      "           0       0.90      0.73      0.80      1300\n",
      "           1       0.50      0.76      0.60       458\n",
      "\n",
      "    accuracy                           0.74      1758\n",
      "   macro avg       0.70      0.74      0.70      1758\n",
      "weighted avg       0.79      0.74      0.75      1758\n",
      "\n",
      "-----------------------------------------------------\n",
      "\n",
      "Cohen's Kappa for train and test set:\n",
      "  0.5247 0.4185\n",
      "f2 score for train and test set: \n",
      "  0.7842 0.6875\n",
      "roc auc score for train and test set:\n",
      "  0.7624 0.7449\n",
      "Mean Cross Validation Score:\n",
      " 0.6303\n"
     ]
    }
   ],
   "source": [
    "model_evaluation(scaled_X_train_smoted, scaled_X_test, y_train_smoted, y_test, y_pred_train, y_pred_test)"
   ]
  },
  {
   "cell_type": "markdown",
   "metadata": {},
   "source": [
    "### ROC Curve"
   ]
  },
  {
   "cell_type": "code",
   "execution_count": 76,
   "metadata": {
    "ExecuteTime": {
     "end_time": "2020-05-31T08:18:35.469561Z",
     "start_time": "2020-05-31T08:18:35.027058Z"
    }
   },
   "outputs": [
    {
     "data": {
      "image/png": "[encoded data removed]",
      "text/plain": [
       "<Figure size 720x576 with 1 Axes>"
      ]
     },
     "metadata": {
      "needs_background": "light"
     },
     "output_type": "display_data"
    },
    {
     "name": "stdout",
     "output_type": "stream",
     "text": [
      "Training AUC: 0.83099\n",
      "Testing AUC: 0.8017\n"
     ]
    }
   ],
   "source": [
    "roc_curve_and_auc(clf, scaled_X_train_smoted, scaled_X_test, y_train_smoted, y_test)"
   ]
  },
  {
   "cell_type": "markdown",
   "metadata": {},
   "source": [
    "### Coefficients of the model"
   ]
  },
  {
   "cell_type": "code",
   "execution_count": 31,
   "metadata": {
    "ExecuteTime": {
     "end_time": "2020-05-31T07:29:03.649854Z",
     "start_time": "2020-05-31T07:29:03.645599Z"
    }
   },
   "outputs": [
    {
     "data": {
      "text/plain": [
       "array([[-1.80078155, -0.00199751,  1.11557062,  0.        ,  0.23731075,\n",
       "         0.        ,  0.18773542,  0.05545811,  0.24696093, -0.15080512,\n",
       "        -0.15080512, -0.06416264, -0.15080512,  0.        , -0.15080512,\n",
       "         0.        , -0.15080512,  0.06785046, -0.53848284, -0.49014475,\n",
       "         0.        ,  0.        ,  0.28321507,  0.        ]])"
      ]
     },
     "execution_count": 31,
     "metadata": {},
     "output_type": "execute_result"
    }
   ],
   "source": [
    "clf.coef_"
   ]
  },
  {
   "cell_type": "code",
   "execution_count": 32,
   "metadata": {
    "ExecuteTime": {
     "end_time": "2020-05-31T07:29:07.666831Z",
     "start_time": "2020-05-31T07:29:07.214173Z"
    }
   },
   "outputs": [
    {
     "data": {
      "image/png": "[encoded data removed]",
      "text/plain": [
       "<Figure size 1080x432 with 1 Axes>"
      ]
     },
     "metadata": {
      "needs_background": "light"
     },
     "output_type": "display_data"
    }
   ],
   "source": [
    "plot_coefficients(clf)"
   ]
  },
  {
   "cell_type": "markdown",
   "metadata": {},
   "source": [
    "## SCDClassifier (balanced class weight)"
   ]
  },
  {
   "cell_type": "markdown",
   "metadata": {},
   "source": [
    "### Instantiate, fit and predict"
   ]
  },
  {
   "cell_type": "code",
   "execution_count": 42,
   "metadata": {
    "ExecuteTime": {
     "end_time": "2020-05-31T07:38:18.142624Z",
     "start_time": "2020-05-31T07:38:18.092108Z"
    },
    "scrolled": true
   },
   "outputs": [
    {
     "data": {
      "text/plain": [
       "SGDClassifier(alpha=0.0001, average=False, class_weight='balanced',\n",
       "              early_stopping=False, epsilon=0.1, eta0=0.0, fit_intercept=True,\n",
       "              l1_ratio=0.15, learning_rate='optimal', loss='hinge',\n",
       "              max_iter=1000, n_iter_no_change=5, n_jobs=None,\n",
       "              penalty='elasticnet', power_t=0.5, random_state=None,\n",
       "              shuffle=True, tol=0.001, validation_fraction=0.1, verbose=0,\n",
       "              warm_start=False)"
      ]
     },
     "execution_count": 42,
     "metadata": {},
     "output_type": "execute_result"
    }
   ],
   "source": [
    "clf = SGDClassifier(penalty='elasticnet',class_weight='balanced')\n",
    "clf.fit(scaled_X_train, y_train)\n",
    "y_pred_train = clf.predict(scaled_X_train)\n",
    "y_pred_test = clf.predict(scaled_X_test)"
   ]
  },
  {
   "cell_type": "markdown",
   "metadata": {
    "ExecuteTime": {
     "end_time": "2020-05-31T07:38:18.759580Z",
     "start_time": "2020-05-31T07:38:18.755080Z"
    }
   },
   "source": [
    "### Print Evaluation Metrics"
   ]
  },
  {
   "cell_type": "code",
   "execution_count": 44,
   "metadata": {
    "ExecuteTime": {
     "end_time": "2020-05-31T07:38:20.032607Z",
     "start_time": "2020-05-31T07:38:19.403965Z"
    },
    "scrolled": true
   },
   "outputs": [
    {
     "name": "stdout",
     "output_type": "stream",
     "text": [
      "MODEL EVALUATION METRICS:\n",
      " -----------------------------------------------------\n",
      "Confusion Matrix for train & test set: \n",
      "\n",
      "  Predicted  No Churn   Churn     All\n",
      "0    Actual       NaN     NaN     NaN\n",
      "1  No Churn    2847.0  1016.0  3863.0\n",
      "2     Churn     275.0  1136.0  1411.0\n",
      "3       All    3122.0  2152.0  5274.0 \n",
      "\n",
      "  Predicted  No Churn  Churn     All\n",
      "0    Actual       NaN    NaN     NaN\n",
      "1  No Churn     950.0  350.0  1300.0\n",
      "2     Churn      92.0  366.0   458.0\n",
      "3       All    1042.0  716.0  1758.0 \n",
      "\n",
      "-----------------------------------------------------\n",
      "\n",
      "Classification Report for train & test set\n",
      " \n",
      "Train set\n",
      "               precision    recall  f1-score   support\n",
      "\n",
      "           0       0.91      0.74      0.82      3863\n",
      "           1       0.53      0.81      0.64      1411\n",
      "\n",
      "    accuracy                           0.76      5274\n",
      "   macro avg       0.72      0.77      0.73      5274\n",
      "weighted avg       0.81      0.76      0.77      5274\n",
      " \n",
      "\n",
      "Test set\n",
      "               precision    recall  f1-score   support\n",
      "\n",
      "           0       0.91      0.73      0.81      1300\n",
      "           1       0.51      0.80      0.62       458\n",
      "\n",
      "    accuracy                           0.75      1758\n",
      "   macro avg       0.71      0.76      0.72      1758\n",
      "weighted avg       0.81      0.75      0.76      1758\n",
      "\n",
      "-----------------------------------------------------\n",
      "\n",
      "Cohen's Kappa for train and test set:\n",
      "  0.4647 0.4481\n",
      "f2 score for train and test set: \n",
      "  0.7286 0.7182\n",
      "roc auc score for train and test set:\n",
      "  0.771 0.7649\n",
      "Mean Cross Validation Score:\n",
      " 0.7422\n"
     ]
    }
   ],
   "source": [
    "model_evaluation(scaled_X_train, scaled_X_test, y_train, y_test, y_pred_train, y_pred_test)"
   ]
  },
  {
   "cell_type": "markdown",
   "metadata": {},
   "source": [
    "### Coefficients of the model"
   ]
  },
  {
   "cell_type": "code",
   "execution_count": 45,
   "metadata": {
    "ExecuteTime": {
     "end_time": "2020-05-31T07:38:22.967786Z",
     "start_time": "2020-05-31T07:38:22.963364Z"
    },
    "scrolled": true
   },
   "outputs": [
    {
     "data": {
      "text/plain": [
       "array([[-1.73290231,  0.        ,  0.99089788,  0.17851972,  0.        ,\n",
       "        -0.02021022,  0.36514918,  0.09633475,  0.43524015, -0.01339171,\n",
       "        -0.01339171, -0.06009029, -0.01339171,  0.        , -0.01339171,\n",
       "        -0.15130426, -0.01339171,  0.        , -0.3681115 , -0.42821781,\n",
       "         0.        ,  0.        ,  0.28880549,  0.        ]])"
      ]
     },
     "execution_count": 45,
     "metadata": {},
     "output_type": "execute_result"
    }
   ],
   "source": [
    "clf.coef_"
   ]
  },
  {
   "cell_type": "code",
   "execution_count": 46,
   "metadata": {
    "ExecuteTime": {
     "end_time": "2020-05-31T07:38:24.306269Z",
     "start_time": "2020-05-31T07:38:23.852103Z"
    }
   },
   "outputs": [
    {
     "data": {
      "image/png": "[encoded data removed]",
      "text/plain": [
       "<Figure size 1080x432 with 1 Axes>"
      ]
     },
     "metadata": {
      "needs_background": "light"
     },
     "output_type": "display_data"
    }
   ],
   "source": [
    "plot_coefficients(clf)"
   ]
  },
  {
   "cell_type": "markdown",
   "metadata": {},
   "source": [
    "# KNN Classifier"
   ]
  },
  {
   "cell_type": "markdown",
   "metadata": {},
   "source": [
    "## KNN (Iterate over n values)"
   ]
  },
  {
   "cell_type": "code",
   "execution_count": 47,
   "metadata": {
    "ExecuteTime": {
     "end_time": "2020-05-31T07:41:08.602912Z",
     "start_time": "2020-05-31T07:40:30.281952Z"
    }
   },
   "outputs": [
    {
     "name": "stdout",
     "output_type": "stream",
     "text": [
      "------------\n",
      "1\n",
      "\n",
      "Classification Report for train & test set\n",
      " \n",
      "Train set\n",
      "               precision    recall  f1-score   support\n",
      "\n",
      "           0       1.00      1.00      1.00      3863\n",
      "           1       1.00      1.00      1.00      3863\n",
      "\n",
      "    accuracy                           1.00      7726\n",
      "   macro avg       1.00      1.00      1.00      7726\n",
      "weighted avg       1.00      1.00      1.00      7726\n",
      " \n",
      "\n",
      "Test set\n",
      "               precision    recall  f1-score   support\n",
      "\n",
      "           0       0.83      0.78      0.80      1300\n",
      "           1       0.47      0.55      0.51       458\n",
      "\n",
      "    accuracy                           0.72      1758\n",
      "   macro avg       0.65      0.67      0.66      1758\n",
      "weighted avg       0.74      0.72      0.73      1758\n",
      "\n",
      "-----------------------------------------------\n",
      "\n",
      "f2 score for train and test set: \n",
      "  0.9978 0.5331\n",
      "------------\n",
      "2\n",
      "\n",
      "Classification Report for train & test set\n",
      " \n",
      "Train set\n",
      "               precision    recall  f1-score   support\n",
      "\n",
      "           0       0.91      1.00      0.95      3863\n",
      "           1       1.00      0.90      0.95      3863\n",
      "\n",
      "    accuracy                           0.95      7726\n",
      "   macro avg       0.95      0.95      0.95      7726\n",
      "weighted avg       0.95      0.95      0.95      7726\n",
      " \n",
      "\n",
      "Test set\n",
      "               precision    recall  f1-score   support\n",
      "\n",
      "           0       0.81      0.84      0.83      1300\n",
      "           1       0.50      0.46      0.48       458\n",
      "\n",
      "    accuracy                           0.74      1758\n",
      "   macro avg       0.66      0.65      0.65      1758\n",
      "weighted avg       0.73      0.74      0.73      1758\n",
      "\n",
      "-----------------------------------------------\n",
      "\n",
      "f2 score for train and test set: \n",
      "  0.9191 0.4656\n",
      "------------\n",
      "3\n",
      "\n",
      "Classification Report for train & test set\n",
      " \n",
      "Train set\n",
      "               precision    recall  f1-score   support\n",
      "\n",
      "           0       0.96      0.84      0.90      3863\n",
      "           1       0.86      0.97      0.91      3863\n",
      "\n",
      "    accuracy                           0.90      7726\n",
      "   macro avg       0.91      0.90      0.90      7726\n",
      "weighted avg       0.91      0.90      0.90      7726\n",
      " \n",
      "\n",
      "Test set\n",
      "               precision    recall  f1-score   support\n",
      "\n",
      "           0       0.85      0.71      0.77      1300\n",
      "           1       0.44      0.65      0.52       458\n",
      "\n",
      "    accuracy                           0.69      1758\n",
      "   macro avg       0.65      0.68      0.65      1758\n",
      "weighted avg       0.74      0.69      0.71      1758\n",
      "\n",
      "-----------------------------------------------\n",
      "\n",
      "f2 score for train and test set: \n",
      "  0.9423 0.5911\n",
      "------------\n",
      "4\n",
      "\n",
      "Classification Report for train & test set\n",
      " \n",
      "Train set\n",
      "               precision    recall  f1-score   support\n",
      "\n",
      "           0       0.90      0.89      0.89      3863\n",
      "           1       0.89      0.90      0.90      3863\n",
      "\n",
      "    accuracy                           0.89      7726\n",
      "   macro avg       0.89      0.89      0.89      7726\n",
      "weighted avg       0.89      0.89      0.89      7726\n",
      " \n",
      "\n",
      "Test set\n",
      "               precision    recall  f1-score   support\n",
      "\n",
      "           0       0.83      0.77      0.80      1300\n",
      "           1       0.46      0.56      0.51       458\n",
      "\n",
      "    accuracy                           0.72      1758\n",
      "   macro avg       0.65      0.67      0.65      1758\n",
      "weighted avg       0.74      0.72      0.72      1758\n",
      "\n",
      "-----------------------------------------------\n",
      "\n",
      "f2 score for train and test set: \n",
      "  0.8984 0.5402\n",
      "------------\n",
      "5\n",
      "\n",
      "Classification Report for train & test set\n",
      " \n",
      "Train set\n",
      "               precision    recall  f1-score   support\n",
      "\n",
      "           0       0.94      0.78      0.86      3863\n",
      "           1       0.81      0.95      0.88      3863\n",
      "\n",
      "    accuracy                           0.87      7726\n",
      "   macro avg       0.88      0.87      0.87      7726\n",
      "weighted avg       0.88      0.87      0.87      7726\n",
      " \n",
      "\n",
      "Test set\n",
      "               precision    recall  f1-score   support\n",
      "\n",
      "           0       0.86      0.68      0.76      1300\n",
      "           1       0.44      0.70      0.54       458\n",
      "\n",
      "    accuracy                           0.69      1758\n",
      "   macro avg       0.65      0.69      0.65      1758\n",
      "weighted avg       0.75      0.69      0.70      1758\n",
      "\n",
      "-----------------------------------------------\n",
      "\n",
      "f2 score for train and test set: \n",
      "  0.92 0.6223\n",
      "------------\n",
      "6\n",
      "\n",
      "Classification Report for train & test set\n",
      " \n",
      "Train set\n",
      "               precision    recall  f1-score   support\n",
      "\n",
      "           0       0.90      0.83      0.86      3863\n",
      "           1       0.84      0.91      0.87      3863\n",
      "\n",
      "    accuracy                           0.87      7726\n",
      "   macro avg       0.87      0.87      0.87      7726\n",
      "weighted avg       0.87      0.87      0.87      7726\n",
      " \n",
      "\n",
      "Test set\n",
      "               precision    recall  f1-score   support\n",
      "\n",
      "           0       0.86      0.74      0.79      1300\n",
      "           1       0.47      0.66      0.55       458\n",
      "\n",
      "    accuracy                           0.72      1758\n",
      "   macro avg       0.66      0.70      0.67      1758\n",
      "weighted avg       0.76      0.72      0.73      1758\n",
      "\n",
      "-----------------------------------------------\n",
      "\n",
      "f2 score for train and test set: \n",
      "  0.8945 0.6076\n",
      "------------\n",
      "7\n",
      "\n",
      "Classification Report for train & test set\n",
      " \n",
      "Train set\n",
      "               precision    recall  f1-score   support\n",
      "\n",
      "           0       0.92      0.75      0.83      3863\n",
      "           1       0.79      0.94      0.86      3863\n",
      "\n",
      "    accuracy                           0.85      7726\n",
      "   macro avg       0.86      0.85      0.84      7726\n",
      "weighted avg       0.86      0.85      0.84      7726\n",
      " \n",
      "\n",
      "Test set\n",
      "               precision    recall  f1-score   support\n",
      "\n",
      "           0       0.88      0.67      0.76      1300\n",
      "           1       0.44      0.73      0.55       458\n",
      "\n",
      "    accuracy                           0.69      1758\n",
      "   macro avg       0.66      0.70      0.66      1758\n",
      "weighted avg       0.76      0.69      0.71      1758\n",
      "\n",
      "-----------------------------------------------\n",
      "\n",
      "f2 score for train and test set: \n",
      "  0.9049 0.6448\n",
      "------------\n",
      "8\n",
      "\n",
      "Classification Report for train & test set\n",
      " \n",
      "Train set\n",
      "               precision    recall  f1-score   support\n",
      "\n",
      "           0       0.89      0.79      0.84      3863\n",
      "           1       0.81      0.90      0.86      3863\n",
      "\n",
      "    accuracy                           0.85      7726\n",
      "   macro avg       0.85      0.85      0.85      7726\n",
      "weighted avg       0.85      0.85      0.85      7726\n",
      " \n",
      "\n",
      "Test set\n",
      "               precision    recall  f1-score   support\n",
      "\n",
      "           0       0.87      0.72      0.79      1300\n",
      "           1       0.47      0.69      0.56       458\n",
      "\n",
      "    accuracy                           0.71      1758\n",
      "   macro avg       0.67      0.71      0.67      1758\n",
      "weighted avg       0.77      0.71      0.73      1758\n",
      "\n",
      "-----------------------------------------------\n",
      "\n",
      "f2 score for train and test set: \n",
      "  0.8846 0.633\n",
      "------------\n",
      "9\n",
      "\n",
      "Classification Report for train & test set\n",
      " \n",
      "Train set\n",
      "               precision    recall  f1-score   support\n",
      "\n",
      "           0       0.91      0.74      0.81      3863\n",
      "           1       0.78      0.93      0.85      3863\n",
      "\n",
      "    accuracy                           0.83      7726\n",
      "   macro avg       0.85      0.83      0.83      7726\n",
      "weighted avg       0.85      0.83      0.83      7726\n",
      " \n",
      "\n",
      "Test set\n",
      "               precision    recall  f1-score   support\n",
      "\n",
      "           0       0.88      0.68      0.77      1300\n",
      "           1       0.45      0.74      0.56       458\n",
      "\n",
      "    accuracy                           0.69      1758\n",
      "   macro avg       0.66      0.71      0.66      1758\n",
      "weighted avg       0.77      0.69      0.71      1758\n",
      "\n",
      "-----------------------------------------------\n",
      "\n",
      "f2 score for train and test set: \n",
      "  0.8948 0.6561\n",
      "------------\n",
      "10\n",
      "\n",
      "Classification Report for train & test set\n",
      " \n",
      "Train set\n",
      "               precision    recall  f1-score   support\n",
      "\n",
      "           0       0.88      0.78      0.83      3863\n",
      "           1       0.80      0.89      0.84      3863\n",
      "\n",
      "    accuracy                           0.84      7726\n",
      "   macro avg       0.84      0.84      0.84      7726\n",
      "weighted avg       0.84      0.84      0.84      7726\n",
      " \n",
      "\n",
      "Test set\n",
      "               precision    recall  f1-score   support\n",
      "\n",
      "           0       0.87      0.72      0.79      1300\n",
      "           1       0.47      0.71      0.56       458\n",
      "\n",
      "    accuracy                           0.72      1758\n",
      "   macro avg       0.67      0.71      0.68      1758\n",
      "weighted avg       0.77      0.72      0.73      1758\n",
      "\n",
      "-----------------------------------------------\n",
      "\n",
      "f2 score for train and test set: \n",
      "  0.8741 0.6423\n"
     ]
    },
    {
     "name": "stdout",
     "output_type": "stream",
     "text": [
      "------------\n",
      "11\n",
      "\n",
      "Classification Report for train & test set\n",
      " \n",
      "Train set\n",
      "               precision    recall  f1-score   support\n",
      "\n",
      "           0       0.90      0.72      0.80      3863\n",
      "           1       0.77      0.92      0.84      3863\n",
      "\n",
      "    accuracy                           0.82      7726\n",
      "   macro avg       0.84      0.82      0.82      7726\n",
      "weighted avg       0.84      0.82      0.82      7726\n",
      " \n",
      "\n",
      "Test set\n",
      "               precision    recall  f1-score   support\n",
      "\n",
      "           0       0.89      0.67      0.76      1300\n",
      "           1       0.45      0.76      0.56       458\n",
      "\n",
      "    accuracy                           0.69      1758\n",
      "   macro avg       0.67      0.71      0.66      1758\n",
      "weighted avg       0.77      0.69      0.71      1758\n",
      "\n",
      "-----------------------------------------------\n",
      "\n",
      "f2 score for train and test set: \n",
      "  0.8875 0.6658\n",
      "------------\n",
      "12\n",
      "\n",
      "Classification Report for train & test set\n",
      " \n",
      "Train set\n",
      "               precision    recall  f1-score   support\n",
      "\n",
      "           0       0.88      0.75      0.81      3863\n",
      "           1       0.78      0.90      0.83      3863\n",
      "\n",
      "    accuracy                           0.82      7726\n",
      "   macro avg       0.83      0.82      0.82      7726\n",
      "weighted avg       0.83      0.82      0.82      7726\n",
      " \n",
      "\n",
      "Test set\n",
      "               precision    recall  f1-score   support\n",
      "\n",
      "           0       0.87      0.70      0.78      1300\n",
      "           1       0.46      0.71      0.56       458\n",
      "\n",
      "    accuracy                           0.71      1758\n",
      "   macro avg       0.67      0.71      0.67      1758\n",
      "weighted avg       0.77      0.71      0.72      1758\n",
      "\n",
      "-----------------------------------------------\n",
      "\n",
      "f2 score for train and test set: \n",
      "  0.8698 0.6427\n",
      "------------\n",
      "13\n",
      "\n",
      "Classification Report for train & test set\n",
      " \n",
      "Train set\n",
      "               precision    recall  f1-score   support\n",
      "\n",
      "           0       0.89      0.71      0.79      3863\n",
      "           1       0.76      0.92      0.83      3863\n",
      "\n",
      "    accuracy                           0.81      7726\n",
      "   macro avg       0.83      0.81      0.81      7726\n",
      "weighted avg       0.83      0.81      0.81      7726\n",
      " \n",
      "\n",
      "Test set\n",
      "               precision    recall  f1-score   support\n",
      "\n",
      "           0       0.90      0.67      0.77      1300\n",
      "           1       0.45      0.78      0.57       458\n",
      "\n",
      "    accuracy                           0.70      1758\n",
      "   macro avg       0.67      0.72      0.67      1758\n",
      "weighted avg       0.78      0.70      0.72      1758\n",
      "\n",
      "-----------------------------------------------\n",
      "\n",
      "f2 score for train and test set: \n",
      "  0.8792 0.6813\n",
      "------------\n",
      "14\n",
      "\n",
      "Classification Report for train & test set\n",
      " \n",
      "Train set\n",
      "               precision    recall  f1-score   support\n",
      "\n",
      "           0       0.87      0.73      0.80      3863\n",
      "           1       0.77      0.89      0.83      3863\n",
      "\n",
      "    accuracy                           0.81      7726\n",
      "   macro avg       0.82      0.81      0.81      7726\n",
      "weighted avg       0.82      0.81      0.81      7726\n",
      " \n",
      "\n",
      "Test set\n",
      "               precision    recall  f1-score   support\n",
      "\n",
      "           0       0.89      0.69      0.78      1300\n",
      "           1       0.46      0.75      0.57       458\n",
      "\n",
      "    accuracy                           0.71      1758\n",
      "   macro avg       0.67      0.72      0.67      1758\n",
      "weighted avg       0.78      0.71      0.72      1758\n",
      "\n",
      "-----------------------------------------------\n",
      "\n",
      "f2 score for train and test set: \n",
      "  0.8641 0.6663\n",
      "------------\n",
      "15\n",
      "\n",
      "Classification Report for train & test set\n",
      " \n",
      "Train set\n",
      "               precision    recall  f1-score   support\n",
      "\n",
      "           0       0.89      0.70      0.78      3863\n",
      "           1       0.75      0.91      0.82      3863\n",
      "\n",
      "    accuracy                           0.81      7726\n",
      "   macro avg       0.82      0.81      0.80      7726\n",
      "weighted avg       0.82      0.81      0.80      7726\n",
      " \n",
      "\n",
      "Test set\n",
      "               precision    recall  f1-score   support\n",
      "\n",
      "           0       0.90      0.66      0.76      1300\n",
      "           1       0.45      0.80      0.58       458\n",
      "\n",
      "    accuracy                           0.70      1758\n",
      "   macro avg       0.68      0.73      0.67      1758\n",
      "weighted avg       0.79      0.70      0.71      1758\n",
      "\n",
      "-----------------------------------------------\n",
      "\n",
      "f2 score for train and test set: \n",
      "  0.8735 0.6929\n",
      "------------\n",
      "16\n",
      "\n",
      "Classification Report for train & test set\n",
      " \n",
      "Train set\n",
      "               precision    recall  f1-score   support\n",
      "\n",
      "           0       0.87      0.72      0.79      3863\n",
      "           1       0.76      0.89      0.82      3863\n",
      "\n",
      "    accuracy                           0.81      7726\n",
      "   macro avg       0.81      0.81      0.80      7726\n",
      "weighted avg       0.81      0.81      0.80      7726\n",
      " \n",
      "\n",
      "Test set\n",
      "               precision    recall  f1-score   support\n",
      "\n",
      "           0       0.90      0.69      0.78      1300\n",
      "           1       0.47      0.78      0.58       458\n",
      "\n",
      "    accuracy                           0.71      1758\n",
      "   macro avg       0.68      0.73      0.68      1758\n",
      "weighted avg       0.79      0.71      0.73      1758\n",
      "\n",
      "-----------------------------------------------\n",
      "\n",
      "f2 score for train and test set: \n",
      "  0.8598 0.6853\n",
      "------------\n",
      "17\n",
      "\n",
      "Classification Report for train & test set\n",
      " \n",
      "Train set\n",
      "               precision    recall  f1-score   support\n",
      "\n",
      "           0       0.88      0.69      0.77      3863\n",
      "           1       0.75      0.90      0.82      3863\n",
      "\n",
      "    accuracy                           0.80      7726\n",
      "   macro avg       0.81      0.80      0.80      7726\n",
      "weighted avg       0.81      0.80      0.80      7726\n",
      " \n",
      "\n",
      "Test set\n",
      "               precision    recall  f1-score   support\n",
      "\n",
      "           0       0.91      0.66      0.77      1300\n",
      "           1       0.46      0.82      0.59       458\n",
      "\n",
      "    accuracy                           0.70      1758\n",
      "   macro avg       0.69      0.74      0.68      1758\n",
      "weighted avg       0.80      0.70      0.72      1758\n",
      "\n",
      "-----------------------------------------------\n",
      "\n",
      "f2 score for train and test set: \n",
      "  0.8669 0.7111\n",
      "------------\n",
      "18\n",
      "\n",
      "Classification Report for train & test set\n",
      " \n",
      "Train set\n",
      "               precision    recall  f1-score   support\n",
      "\n",
      "           0       0.86      0.72      0.78      3863\n",
      "           1       0.76      0.88      0.82      3863\n",
      "\n",
      "    accuracy                           0.80      7726\n",
      "   macro avg       0.81      0.80      0.80      7726\n",
      "weighted avg       0.81      0.80      0.80      7726\n",
      " \n",
      "\n",
      "Test set\n",
      "               precision    recall  f1-score   support\n",
      "\n",
      "           0       0.90      0.68      0.78      1300\n",
      "           1       0.47      0.79      0.59       458\n",
      "\n",
      "    accuracy                           0.71      1758\n",
      "   macro avg       0.68      0.74      0.68      1758\n",
      "weighted avg       0.79      0.71      0.73      1758\n",
      "\n",
      "-----------------------------------------------\n",
      "\n",
      "f2 score for train and test set: \n",
      "  0.8554 0.6938\n",
      "------------\n",
      "19\n",
      "\n",
      "Classification Report for train & test set\n",
      " \n",
      "Train set\n",
      "               precision    recall  f1-score   support\n",
      "\n",
      "           0       0.87      0.69      0.77      3863\n",
      "           1       0.74      0.90      0.81      3863\n",
      "\n",
      "    accuracy                           0.79      7726\n",
      "   macro avg       0.81      0.79      0.79      7726\n",
      "weighted avg       0.81      0.79      0.79      7726\n",
      " \n",
      "\n",
      "Test set\n",
      "               precision    recall  f1-score   support\n",
      "\n",
      "           0       0.91      0.66      0.77      1300\n",
      "           1       0.46      0.83      0.59       458\n",
      "\n",
      "    accuracy                           0.70      1758\n",
      "   macro avg       0.69      0.74      0.68      1758\n",
      "weighted avg       0.80      0.70      0.72      1758\n",
      "\n",
      "-----------------------------------------------\n",
      "\n",
      "f2 score for train and test set: \n",
      "  0.862 0.7127\n",
      "------------\n",
      "20\n",
      "\n",
      "Classification Report for train & test set\n",
      " \n",
      "Train set\n",
      "               precision    recall  f1-score   support\n",
      "\n",
      "           0       0.86      0.71      0.78      3863\n",
      "           1       0.75      0.88      0.81      3863\n",
      "\n",
      "    accuracy                           0.80      7726\n",
      "   macro avg       0.81      0.80      0.80      7726\n",
      "weighted avg       0.81      0.80      0.80      7726\n",
      " \n",
      "\n",
      "Test set\n",
      "               precision    recall  f1-score   support\n",
      "\n",
      "           0       0.91      0.68      0.78      1300\n",
      "           1       0.47      0.81      0.60       458\n",
      "\n",
      "    accuracy                           0.72      1758\n",
      "   macro avg       0.69      0.75      0.69      1758\n",
      "weighted avg       0.80      0.72      0.73      1758\n",
      "\n",
      "-----------------------------------------------\n",
      "\n",
      "f2 score for train and test set: \n",
      "  0.8529 0.708\n"
     ]
    },
    {
     "name": "stdout",
     "output_type": "stream",
     "text": [
      "------------\n",
      "21\n",
      "\n",
      "Classification Report for train & test set\n",
      " \n",
      "Train set\n",
      "               precision    recall  f1-score   support\n",
      "\n",
      "           0       0.87      0.69      0.77      3863\n",
      "           1       0.74      0.89      0.81      3863\n",
      "\n",
      "    accuracy                           0.79      7726\n",
      "   macro avg       0.80      0.79      0.79      7726\n",
      "weighted avg       0.80      0.79      0.79      7726\n",
      " \n",
      "\n",
      "Test set\n",
      "               precision    recall  f1-score   support\n",
      "\n",
      "           0       0.91      0.66      0.77      1300\n",
      "           1       0.46      0.82      0.59       458\n",
      "\n",
      "    accuracy                           0.70      1758\n",
      "   macro avg       0.68      0.74      0.68      1758\n",
      "weighted avg       0.79      0.70      0.72      1758\n",
      "\n",
      "-----------------------------------------------\n",
      "\n",
      "f2 score for train and test set: \n",
      "  0.8579 0.7065\n",
      "------------\n",
      "22\n",
      "\n",
      "Classification Report for train & test set\n",
      " \n",
      "Train set\n",
      "               precision    recall  f1-score   support\n",
      "\n",
      "           0       0.85      0.71      0.77      3863\n",
      "           1       0.75      0.88      0.81      3863\n",
      "\n",
      "    accuracy                           0.79      7726\n",
      "   macro avg       0.80      0.79      0.79      7726\n",
      "weighted avg       0.80      0.79      0.79      7726\n",
      " \n",
      "\n",
      "Test set\n",
      "               precision    recall  f1-score   support\n",
      "\n",
      "           0       0.91      0.68      0.78      1300\n",
      "           1       0.47      0.80      0.59       458\n",
      "\n",
      "    accuracy                           0.71      1758\n",
      "   macro avg       0.69      0.74      0.68      1758\n",
      "weighted avg       0.79      0.71      0.73      1758\n",
      "\n",
      "-----------------------------------------------\n",
      "\n",
      "f2 score for train and test set: \n",
      "  0.8503 0.6993\n",
      "------------\n",
      "23\n",
      "\n",
      "Classification Report for train & test set\n",
      " \n",
      "Train set\n",
      "               precision    recall  f1-score   support\n",
      "\n",
      "           0       0.87      0.68      0.76      3863\n",
      "           1       0.73      0.90      0.81      3863\n",
      "\n",
      "    accuracy                           0.79      7726\n",
      "   macro avg       0.80      0.79      0.78      7726\n",
      "weighted avg       0.80      0.79      0.78      7726\n",
      " \n",
      "\n",
      "Test set\n",
      "               precision    recall  f1-score   support\n",
      "\n",
      "           0       0.91      0.66      0.76      1300\n",
      "           1       0.45      0.82      0.58       458\n",
      "\n",
      "    accuracy                           0.70      1758\n",
      "   macro avg       0.68      0.74      0.67      1758\n",
      "weighted avg       0.79      0.70      0.72      1758\n",
      "\n",
      "-----------------------------------------------\n",
      "\n",
      "f2 score for train and test set: \n",
      "  0.8579 0.7046\n",
      "------------\n",
      "24\n",
      "\n",
      "Classification Report for train & test set\n",
      " \n",
      "Train set\n",
      "               precision    recall  f1-score   support\n",
      "\n",
      "           0       0.85      0.70      0.77      3863\n",
      "           1       0.74      0.88      0.81      3863\n",
      "\n",
      "    accuracy                           0.79      7726\n",
      "   macro avg       0.80      0.79      0.79      7726\n",
      "weighted avg       0.80      0.79      0.79      7726\n",
      " \n",
      "\n",
      "Test set\n",
      "               precision    recall  f1-score   support\n",
      "\n",
      "           0       0.91      0.67      0.77      1300\n",
      "           1       0.46      0.80      0.59       458\n",
      "\n",
      "    accuracy                           0.71      1758\n",
      "   macro avg       0.69      0.74      0.68      1758\n",
      "weighted avg       0.79      0.71      0.72      1758\n",
      "\n",
      "-----------------------------------------------\n",
      "\n",
      "f2 score for train and test set: \n",
      "  0.8487 0.7007\n",
      "------------\n",
      "25\n",
      "\n",
      "Classification Report for train & test set\n",
      " \n",
      "Train set\n",
      "               precision    recall  f1-score   support\n",
      "\n",
      "           0       0.86      0.68      0.76      3863\n",
      "           1       0.73      0.89      0.81      3863\n",
      "\n",
      "    accuracy                           0.78      7726\n",
      "   macro avg       0.80      0.78      0.78      7726\n",
      "weighted avg       0.80      0.78      0.78      7726\n",
      " \n",
      "\n",
      "Test set\n",
      "               precision    recall  f1-score   support\n",
      "\n",
      "           0       0.91      0.65      0.76      1300\n",
      "           1       0.46      0.82      0.59       458\n",
      "\n",
      "    accuracy                           0.70      1758\n",
      "   macro avg       0.68      0.74      0.67      1758\n",
      "weighted avg       0.79      0.70      0.72      1758\n",
      "\n",
      "-----------------------------------------------\n",
      "\n",
      "f2 score for train and test set: \n",
      "  0.8542 0.7076\n"
     ]
    }
   ],
   "source": [
    "k_range = range(1, 26)\n",
    "\n",
    "for k in k_range:\n",
    "    clf = KNeighborsClassifier(n_neighbors=k)\n",
    "    clf.fit(scaled_X_train_smoted, y_train_smoted)\n",
    "    y_pred_train = clf.predict(scaled_X_train_smoted)\n",
    "    y_pred_test = clf.predict(scaled_X_test)\n",
    "    \n",
    "    print('------------')\n",
    "    print(k)\n",
    "    print('\\nClassification Report for train & test set\\n',\n",
    "              '\\nTrain set\\n',\n",
    "              classification_report(y_train_smoted, y_pred_train),\n",
    "              '\\n\\nTest set\\n',\n",
    "              classification_report(y_test, y_pred_test))\n",
    "    print('-----------------------------------------------\\n')\n",
    "    \n",
    "    print (\"f2 score for train and test set: \\n \",\n",
    "           round(fbeta_score(y_train_smoted, y_pred_train, 2.0),4), \n",
    "           round(fbeta_score(y_test, y_pred_test, 2.0),4))\n",
    "    "
   ]
  },
  {
   "cell_type": "markdown",
   "metadata": {},
   "source": [
    "##### Note\n",
    "I chose n = 21 because it has a high recall value,  less overfitting. KNN is not the best algorithm in this data but I tried to make it as effective as I can.\n",
    "\n",
    "I used ADASYN here but it did not give better results than SMOTE. KNN algorithm doesn't have class weight option so we can solve class weight problem using smote or adasyn."
   ]
  },
  {
   "cell_type": "markdown",
   "metadata": {},
   "source": [
    "## KNN (n=21)"
   ]
  },
  {
   "cell_type": "markdown",
   "metadata": {},
   "source": [
    "### Instantiate, fit and predict"
   ]
  },
  {
   "cell_type": "code",
   "execution_count": 48,
   "metadata": {
    "ExecuteTime": {
     "end_time": "2020-05-31T07:52:38.888883Z",
     "start_time": "2020-05-31T07:52:38.855790Z"
    }
   },
   "outputs": [
    {
     "data": {
      "text/plain": [
       "KNeighborsClassifier(algorithm='auto', leaf_size=30, metric='minkowski',\n",
       "                     metric_params=None, n_jobs=None, n_neighbors=21, p=2,\n",
       "                     weights='uniform')"
      ]
     },
     "execution_count": 48,
     "metadata": {},
     "output_type": "execute_result"
    }
   ],
   "source": [
    "clf = KNeighborsClassifier(n_neighbors=21)\n",
    "clf.fit(scaled_X_train_smoted, y_train_smoted)\n",
    "y_pred_train = clf.predict(scaled_X_train_smoted)\n",
    "y_pred_test = clf.predict(scaled_X_test)"
   ]
  },
  {
   "cell_type": "markdown",
   "metadata": {},
   "source": [
    "### Print Evaluation Metrics"
   ]
  },
  {
   "cell_type": "code",
   "execution_count": 50,
   "metadata": {
    "ExecuteTime": {
     "end_time": "2020-05-31T07:52:41.683729Z",
     "start_time": "2020-05-31T07:52:41.314743Z"
    }
   },
   "outputs": [
    {
     "name": "stdout",
     "output_type": "stream",
     "text": [
      "MODEL EVALUATION METRICS:\n",
      " -----------------------------------------------------\n",
      "Confusion Matrix for train & test set: \n",
      "\n",
      "  Predicted  No Churn   Churn     All\n",
      "0    Actual       NaN     NaN     NaN\n",
      "1  No Churn    2657.0  1206.0  3863.0\n",
      "2     Churn     413.0  3450.0  3863.0\n",
      "3       All    3070.0  4656.0  7726.0 \n",
      "\n",
      "  Predicted  No Churn  Churn     All\n",
      "0    Actual       NaN    NaN     NaN\n",
      "1  No Churn     859.0  441.0  1300.0\n",
      "2     Churn      84.0  374.0   458.0\n",
      "3       All     943.0  815.0  1758.0 \n",
      "\n",
      "-----------------------------------------------------\n",
      "\n",
      "Classification Report for train & test set\n",
      " \n",
      "Train set\n",
      "               precision    recall  f1-score   support\n",
      "\n",
      "           0       0.87      0.69      0.77      3863\n",
      "           1       0.74      0.89      0.81      3863\n",
      "\n",
      "    accuracy                           0.79      7726\n",
      "   macro avg       0.80      0.79      0.79      7726\n",
      "weighted avg       0.80      0.79      0.79      7726\n",
      " \n",
      "\n",
      "Test set\n",
      "               precision    recall  f1-score   support\n",
      "\n",
      "           0       0.91      0.66      0.77      1300\n",
      "           1       0.46      0.82      0.59       458\n",
      "\n",
      "    accuracy                           0.70      1758\n",
      "   macro avg       0.68      0.74      0.68      1758\n",
      "weighted avg       0.79      0.70      0.72      1758\n",
      "\n",
      "-----------------------------------------------------\n",
      "\n",
      "Cohen's Kappa for train and test set:\n",
      "  0.5809 0.3811\n",
      "f2 score for train and test set: \n",
      "  0.8579 0.7065\n",
      "roc auc score for train and test set:\n",
      "  0.7904 0.7387\n",
      "Mean Cross Validation Score:\n",
      " 0.784\n"
     ]
    }
   ],
   "source": [
    "model_evaluation(scaled_X_train_smoted, scaled_X_test, y_train_smoted, y_test, y_pred_train, y_pred_test)"
   ]
  },
  {
   "cell_type": "markdown",
   "metadata": {},
   "source": [
    "# SVM classifier"
   ]
  },
  {
   "cell_type": "markdown",
   "metadata": {},
   "source": [
    "### Make a sample to run SVM faster"
   ]
  },
  {
   "cell_type": "code",
   "execution_count": 81,
   "metadata": {
    "ExecuteTime": {
     "end_time": "2020-05-31T08:35:42.388080Z",
     "start_time": "2020-05-31T08:35:42.382902Z"
    }
   },
   "outputs": [],
   "source": [
    "sample_X_train = X_train.sample(n=1000)\n",
    "sample_y_train = y_train.sample(n=1000)"
   ]
  },
  {
   "cell_type": "markdown",
   "metadata": {},
   "source": [
    "## SVM Classifier (Balanced Class Weight)"
   ]
  },
  {
   "cell_type": "markdown",
   "metadata": {},
   "source": [
    "### Instantiate, fit and predict"
   ]
  },
  {
   "cell_type": "code",
   "execution_count": 82,
   "metadata": {
    "ExecuteTime": {
     "end_time": "2020-05-31T08:38:40.366253Z",
     "start_time": "2020-05-31T08:35:46.313500Z"
    }
   },
   "outputs": [],
   "source": [
    "clf = SVC(kernel='linear', class_weight='balanced')\n",
    "clf.fit(sample_X_train, sample_y_train)\n",
    "y_pred_train = clf.predict(sample_X_train)\n",
    "y_pred_test = clf.predict(X_test)"
   ]
  },
  {
   "cell_type": "markdown",
   "metadata": {},
   "source": [
    "### Print Evaluation Metrics"
   ]
  },
  {
   "cell_type": "code",
   "execution_count": null,
   "metadata": {
    "ExecuteTime": {
     "end_time": "2020-05-31T08:52:09.292787Z",
     "start_time": "2020-05-31T08:45:12.220Z"
    }
   },
   "outputs": [],
   "source": [
    "model_evaluation(sample_X_train, X_test, sample_y_train, y_test, y_pred_train, y_pred_test)"
   ]
  },
  {
   "cell_type": "markdown",
   "metadata": {},
   "source": [
    "### ROC Curve"
   ]
  },
  {
   "cell_type": "code",
   "execution_count": null,
   "metadata": {
    "ExecuteTime": {
     "end_time": "2020-05-31T08:28:41.903065Z",
     "start_time": "2020-05-31T08:23:21.583Z"
    }
   },
   "outputs": [],
   "source": [
    "roc_curve_and_auc(clf, sample_X_train, sample_X_test, y_train, y_test)"
   ]
  },
  {
   "cell_type": "markdown",
   "metadata": {},
   "source": [
    "## SVM Classifier (smote and gridsearch)"
   ]
  },
  {
   "cell_type": "markdown",
   "metadata": {},
   "source": [
    "### Instantiate, fit and predict"
   ]
  },
  {
   "cell_type": "code",
   "execution_count": null,
   "metadata": {},
   "outputs": [],
   "source": [
    "param_grid = {'C': [0.1, 1, 10, 100, 1000],  \n",
    "              'gamma': [1, 0.1, 0.01, 0.001, 0.0001], \n",
    "              'kernel': ['rbf']}  \n",
    "  \n",
    "clf = GridSearchCV(SVC(), param_grid, refit = True, verbose = 3) \n",
    "  \n",
    "\n",
    "clf.fit(scaled_X_train_smoted, y_train_smoted) \n",
    "y_pred_train = clf.predict(scaled_X_train_smoted)\n",
    "y_pred_test = clf.predict(scaled_X_test)"
   ]
  },
  {
   "cell_type": "markdown",
   "metadata": {},
   "source": [
    "### Print Evaluation Metrics"
   ]
  },
  {
   "cell_type": "code",
   "execution_count": null,
   "metadata": {},
   "outputs": [],
   "source": [
    "model_evaluation(scaled_X_train_smoted, scaled_X_test, y_train_smoted, y_test, y_pred_train, y_pred_test)"
   ]
  },
  {
   "cell_type": "markdown",
   "metadata": {},
   "source": [
    "### ROC Curve"
   ]
  },
  {
   "cell_type": "code",
   "execution_count": null,
   "metadata": {},
   "outputs": [],
   "source": [
    "roc_curve_and_auc(clf, X_train, X_test, y_train, y_test)"
   ]
  },
  {
   "cell_type": "markdown",
   "metadata": {},
   "source": [
    "# Gaussian Naive Bayes Classifier"
   ]
  },
  {
   "cell_type": "markdown",
   "metadata": {},
   "source": [
    "## GaussianNB (smoted)"
   ]
  },
  {
   "cell_type": "markdown",
   "metadata": {},
   "source": [
    "### Instantiate, fit and predict"
   ]
  },
  {
   "cell_type": "code",
   "execution_count": 84,
   "metadata": {
    "ExecuteTime": {
     "end_time": "2020-05-31T08:58:05.969941Z",
     "start_time": "2020-05-31T08:58:05.957386Z"
    }
   },
   "outputs": [],
   "source": [
    "clf = GaussianNB()\n",
    "clf.fit(scaled_X_train_smoted, y_train_smoted)\n",
    "y_pred_train = clf.predict(scaled_X_train_smoted)\n",
    "y_pred_test = clf.predict(scaled_X_test)"
   ]
  },
  {
   "cell_type": "markdown",
   "metadata": {},
   "source": [
    "### Print Evaluation Metrics"
   ]
  },
  {
   "cell_type": "code",
   "execution_count": 85,
   "metadata": {
    "ExecuteTime": {
     "end_time": "2020-05-31T08:58:08.072291Z",
     "start_time": "2020-05-31T08:58:07.968676Z"
    }
   },
   "outputs": [
    {
     "name": "stdout",
     "output_type": "stream",
     "text": [
      "MODEL EVALUATION METRICS:\n",
      " -----------------------------------------------------\n",
      "Confusion Matrix for train & test set: \n",
      "\n",
      "  Predicted  No Churn   Churn     All\n",
      "0    Actual       NaN     NaN     NaN\n",
      "1  No Churn    2373.0  1490.0  3863.0\n",
      "2     Churn     524.0  3339.0  3863.0\n",
      "3       All    2897.0  4829.0  7726.0 \n",
      "\n",
      "  Predicted  No Churn  Churn     All\n",
      "0    Actual       NaN    NaN     NaN\n",
      "1  No Churn     787.0  513.0  1300.0\n",
      "2     Churn      70.0  388.0   458.0\n",
      "3       All     857.0  901.0  1758.0 \n",
      "\n",
      "-----------------------------------------------------\n",
      "\n",
      "Classification Report for train & test set\n",
      " \n",
      "Train set\n",
      "               precision    recall  f1-score   support\n",
      "\n",
      "           0       0.82      0.61      0.70      3863\n",
      "           1       0.69      0.86      0.77      3863\n",
      "\n",
      "    accuracy                           0.74      7726\n",
      "   macro avg       0.76      0.74      0.74      7726\n",
      "weighted avg       0.76      0.74      0.74      7726\n",
      " \n",
      "\n",
      "Test set\n",
      "               precision    recall  f1-score   support\n",
      "\n",
      "           0       0.92      0.61      0.73      1300\n",
      "           1       0.43      0.85      0.57       458\n",
      "\n",
      "    accuracy                           0.67      1758\n",
      "   macro avg       0.67      0.73      0.65      1758\n",
      "weighted avg       0.79      0.67      0.69      1758\n",
      "\n",
      "-----------------------------------------------------\n",
      "\n",
      "Cohen's Kappa for train and test set:\n",
      "  0.4786 0.3446\n",
      "f2 score for train and test set: \n",
      "  0.8232 0.7098\n",
      "roc auc score for train and test set:\n",
      "  0.7393 0.7263\n",
      "Mean Cross Validation Score:\n",
      " 0.6788\n"
     ]
    }
   ],
   "source": [
    "model_evaluation(scaled_X_train_smoted, scaled_X_test, y_train_smoted, y_test, y_pred_train, y_pred_test)"
   ]
  },
  {
   "cell_type": "markdown",
   "metadata": {},
   "source": [
    "## Gaussian NB (prior probabilities adjusted)"
   ]
  },
  {
   "cell_type": "markdown",
   "metadata": {},
   "source": [
    "### Instantiate, fit and predict"
   ]
  },
  {
   "cell_type": "code",
   "execution_count": 86,
   "metadata": {
    "ExecuteTime": {
     "end_time": "2020-05-31T08:58:09.718479Z",
     "start_time": "2020-05-31T08:58:09.705898Z"
    }
   },
   "outputs": [],
   "source": [
    "clf = GaussianNB(priors=[0.25, 0.75])\n",
    "clf.fit(X_train, y_train)\n",
    "y_pred_train = clf.predict(X_train)\n",
    "y_pred_test = clf.predict(X_test)"
   ]
  },
  {
   "cell_type": "markdown",
   "metadata": {},
   "source": [
    "### Print Evaluation Metrics"
   ]
  },
  {
   "cell_type": "code",
   "execution_count": 87,
   "metadata": {
    "ExecuteTime": {
     "end_time": "2020-05-31T08:58:10.692540Z",
     "start_time": "2020-05-31T08:58:10.601506Z"
    }
   },
   "outputs": [
    {
     "name": "stdout",
     "output_type": "stream",
     "text": [
      "MODEL EVALUATION METRICS:\n",
      " -----------------------------------------------------\n",
      "Confusion Matrix for train & test set: \n",
      "\n",
      "  Predicted  No Churn   Churn     All\n",
      "0    Actual       NaN     NaN     NaN\n",
      "1  No Churn    2208.0  1655.0  3863.0\n",
      "2     Churn     162.0  1249.0  1411.0\n",
      "3       All    2370.0  2904.0  5274.0 \n",
      "\n",
      "  Predicted  No Churn  Churn     All\n",
      "0    Actual       NaN    NaN     NaN\n",
      "1  No Churn     718.0  582.0  1300.0\n",
      "2     Churn      51.0  407.0   458.0\n",
      "3       All     769.0  989.0  1758.0 \n",
      "\n",
      "-----------------------------------------------------\n",
      "\n",
      "Classification Report for train & test set\n",
      " \n",
      "Train set\n",
      "               precision    recall  f1-score   support\n",
      "\n",
      "           0       0.93      0.57      0.71      3863\n",
      "           1       0.43      0.89      0.58      1411\n",
      "\n",
      "    accuracy                           0.66      5274\n",
      "   macro avg       0.68      0.73      0.64      5274\n",
      "weighted avg       0.80      0.66      0.67      5274\n",
      " \n",
      "\n",
      "Test set\n",
      "               precision    recall  f1-score   support\n",
      "\n",
      "           0       0.93      0.55      0.69      1300\n",
      "           1       0.41      0.89      0.56       458\n",
      "\n",
      "    accuracy                           0.64      1758\n",
      "   macro avg       0.67      0.72      0.63      1758\n",
      "weighted avg       0.80      0.64      0.66      1758\n",
      "\n",
      "-----------------------------------------------------\n",
      "\n",
      "Cohen's Kappa for train and test set:\n",
      "  0.3419 0.3206\n",
      "f2 score for train and test set: \n",
      "  0.7306 0.7214\n",
      "roc auc score for train and test set:\n",
      "  0.7284 0.7205\n",
      "Mean Cross Validation Score:\n",
      " 0.6449\n"
     ]
    }
   ],
   "source": [
    "model_evaluation(X_train, X_test, y_train, y_test, y_pred_train, y_pred_test)"
   ]
  },
  {
   "cell_type": "code",
   "execution_count": 88,
   "metadata": {
    "ExecuteTime": {
     "end_time": "2020-05-31T08:58:11.349067Z",
     "start_time": "2020-05-31T08:58:11.344630Z"
    }
   },
   "outputs": [
    {
     "data": {
      "text/plain": [
       "array([0.25, 0.75])"
      ]
     },
     "execution_count": 88,
     "metadata": {},
     "output_type": "execute_result"
    }
   ],
   "source": [
    "clf.class_prior_"
   ]
  },
  {
   "cell_type": "code",
   "execution_count": null,
   "metadata": {},
   "outputs": [],
   "source": [
    "clf."
   ]
  },
  {
   "cell_type": "code",
   "execution_count": null,
   "metadata": {},
   "outputs": [],
   "source": []
  }
 ],
 "metadata": {
  "kernelspec": {
   "display_name": "Python 3",
   "language": "python",
   "name": "python3"
  },
  "language_info": {
   "codemirror_mode": {
    "name": "ipython",
    "version": 3
   },
   "file_extension": ".py",
   "mimetype": "text/x-python",
   "name": "python",
   "nbconvert_exporter": "python",
   "pygments_lexer": "ipython3",
   "version": "3.7.4"
  },
  "toc": {
   "base_numbering": 1,
   "nav_menu": {},
   "number_sections": true,
   "sideBar": true,
   "skip_h1_title": false,
   "title_cell": "Table of Contents",
   "title_sidebar": "Contents",
   "toc_cell": true,
   "toc_position": {},
   "toc_section_display": true,
   "toc_window_display": true
  },
  "varInspector": {
   "cols": {
    "lenName": 16,
    "lenType": 16,
    "lenVar": 40
   },
   "kernels_config": {
    "python": {
     "delete_cmd_postfix": "",
     "delete_cmd_prefix": "del ",
     "library": "var_list.py",
     "varRefreshCmd": "print(var_dic_list())"
    },
    "r": {
     "delete_cmd_postfix": ") ",
     "delete_cmd_prefix": "rm(",
     "library": "var_list.r",
     "varRefreshCmd": "cat(var_dic_list()) "
    }
   },
   "types_to_exclude": [
    "module",
    "function",
    "builtin_function_or_method",
    "instance",
    "_Feature"
   ],
   "window_display": true
  }
 },
 "nbformat": 4,
 "nbformat_minor": 2
}
