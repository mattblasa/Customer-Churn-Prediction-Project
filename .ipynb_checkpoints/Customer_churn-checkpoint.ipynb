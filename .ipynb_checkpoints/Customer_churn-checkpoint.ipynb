{
 "cells": [
  {
   "cell_type": "markdown",
   "metadata": {},
   "source": [
    "## Final Project Submission\n",
    "\n",
    "Please fill out:\n",
    "* Student name: Seyma Tas\n",
    "* Student pace: full time\n",
    "* Scheduled project review date/time: \n",
    "* Instructor name: Amber Yandow\n",
    "* Blog post URL:\n"
   ]
  },
  {
   "cell_type": "code",
   "execution_count": 1,
   "metadata": {
    "ExecuteTime": {
     "end_time": "2020-05-21T12:46:57.012800Z",
     "start_time": "2020-05-21T12:46:55.945444Z"
    }
   },
   "outputs": [],
   "source": [
    "# Your code here - remember to use markdown cells for comments as well!\n",
    "import pandas as pd\n",
    "import numpy as np\n",
    "import matplotlib.pyplot as plt\n",
    "%matplotlib inline\n",
    "import seaborn as sns\n",
    "sns.set_style('darkgrid', {'axes.facecolor': '0.9'})\n",
    "\n",
    "\n",
    "\n",
    "\n",
    "from sklearn.preprocessing import LabelEncoder, OneHotEncoder, MinMaxScaler, StandardScaler\n",
    "from sklearn.model_selection import train_test_split, cross_val_score, GridSearchCV, ParameterGrid\n",
    "from sklearn.metrics import classification_report, confusion_matrix, accuracy_score, recall_score, precision_score, f1_score, r2_score, roc_auc_score, roc_curve, auc\n",
    "# from sklearn.metrics import plot_confusion_matrix\n",
    "from sklearn.linear_model import LogisticRegression\n",
    "from sklearn.ensemble import RandomForestClassifier\n",
    "from sklearn.neighbors import KNeighborsClassifier\n",
    "from sklearn.tree import DecisionTreeClassifier\n",
    "from sklearn.metrics import make_scorer\n",
    "from sklearn.pipeline import Pipeline\n",
    "\n",
    "from imblearn.over_sampling import SMOTE, ADASYN\n",
    "\n",
    "\n",
    "import warnings\n",
    "warnings.filterwarnings('ignore')"
   ]
  },
  {
   "cell_type": "code",
   "execution_count": 2,
   "metadata": {
    "ExecuteTime": {
     "end_time": "2020-05-21T12:46:57.030370Z",
     "start_time": "2020-05-21T12:46:57.014850Z"
    }
   },
   "outputs": [],
   "source": [
    "df = pd.read_csv('bigml_59c28831336c6604c800002a.csv')"
   ]
  },
  {
   "cell_type": "code",
   "execution_count": 3,
   "metadata": {
    "ExecuteTime": {
     "end_time": "2020-05-21T12:46:57.061549Z",
     "start_time": "2020-05-21T12:46:57.032580Z"
    }
   },
   "outputs": [
    {
     "data": {
      "text/html": [
       "<div>\n",
       "<style scoped>\n",
       "    .dataframe tbody tr th:only-of-type {\n",
       "        vertical-align: middle;\n",
       "    }\n",
       "\n",
       "    .dataframe tbody tr th {\n",
       "        vertical-align: top;\n",
       "    }\n",
       "\n",
       "    .dataframe thead th {\n",
       "        text-align: right;\n",
       "    }\n",
       "</style>\n",
       "<table border=\"1\" class=\"dataframe\">\n",
       "  <thead>\n",
       "    <tr style=\"text-align: right;\">\n",
       "      <th></th>\n",
       "      <th>state</th>\n",
       "      <th>account length</th>\n",
       "      <th>area code</th>\n",
       "      <th>phone number</th>\n",
       "      <th>international plan</th>\n",
       "      <th>voice mail plan</th>\n",
       "      <th>number vmail messages</th>\n",
       "      <th>total day minutes</th>\n",
       "      <th>total day calls</th>\n",
       "      <th>total day charge</th>\n",
       "      <th>...</th>\n",
       "      <th>total eve calls</th>\n",
       "      <th>total eve charge</th>\n",
       "      <th>total night minutes</th>\n",
       "      <th>total night calls</th>\n",
       "      <th>total night charge</th>\n",
       "      <th>total intl minutes</th>\n",
       "      <th>total intl calls</th>\n",
       "      <th>total intl charge</th>\n",
       "      <th>customer service calls</th>\n",
       "      <th>churn</th>\n",
       "    </tr>\n",
       "  </thead>\n",
       "  <tbody>\n",
       "    <tr>\n",
       "      <td>0</td>\n",
       "      <td>KS</td>\n",
       "      <td>128</td>\n",
       "      <td>415</td>\n",
       "      <td>382-4657</td>\n",
       "      <td>no</td>\n",
       "      <td>yes</td>\n",
       "      <td>25</td>\n",
       "      <td>265.1</td>\n",
       "      <td>110</td>\n",
       "      <td>45.07</td>\n",
       "      <td>...</td>\n",
       "      <td>99</td>\n",
       "      <td>16.78</td>\n",
       "      <td>244.7</td>\n",
       "      <td>91</td>\n",
       "      <td>11.01</td>\n",
       "      <td>10.0</td>\n",
       "      <td>3</td>\n",
       "      <td>2.70</td>\n",
       "      <td>1</td>\n",
       "      <td>False</td>\n",
       "    </tr>\n",
       "    <tr>\n",
       "      <td>1</td>\n",
       "      <td>OH</td>\n",
       "      <td>107</td>\n",
       "      <td>415</td>\n",
       "      <td>371-7191</td>\n",
       "      <td>no</td>\n",
       "      <td>yes</td>\n",
       "      <td>26</td>\n",
       "      <td>161.6</td>\n",
       "      <td>123</td>\n",
       "      <td>27.47</td>\n",
       "      <td>...</td>\n",
       "      <td>103</td>\n",
       "      <td>16.62</td>\n",
       "      <td>254.4</td>\n",
       "      <td>103</td>\n",
       "      <td>11.45</td>\n",
       "      <td>13.7</td>\n",
       "      <td>3</td>\n",
       "      <td>3.70</td>\n",
       "      <td>1</td>\n",
       "      <td>False</td>\n",
       "    </tr>\n",
       "    <tr>\n",
       "      <td>2</td>\n",
       "      <td>NJ</td>\n",
       "      <td>137</td>\n",
       "      <td>415</td>\n",
       "      <td>358-1921</td>\n",
       "      <td>no</td>\n",
       "      <td>no</td>\n",
       "      <td>0</td>\n",
       "      <td>243.4</td>\n",
       "      <td>114</td>\n",
       "      <td>41.38</td>\n",
       "      <td>...</td>\n",
       "      <td>110</td>\n",
       "      <td>10.30</td>\n",
       "      <td>162.6</td>\n",
       "      <td>104</td>\n",
       "      <td>7.32</td>\n",
       "      <td>12.2</td>\n",
       "      <td>5</td>\n",
       "      <td>3.29</td>\n",
       "      <td>0</td>\n",
       "      <td>False</td>\n",
       "    </tr>\n",
       "    <tr>\n",
       "      <td>3</td>\n",
       "      <td>OH</td>\n",
       "      <td>84</td>\n",
       "      <td>408</td>\n",
       "      <td>375-9999</td>\n",
       "      <td>yes</td>\n",
       "      <td>no</td>\n",
       "      <td>0</td>\n",
       "      <td>299.4</td>\n",
       "      <td>71</td>\n",
       "      <td>50.90</td>\n",
       "      <td>...</td>\n",
       "      <td>88</td>\n",
       "      <td>5.26</td>\n",
       "      <td>196.9</td>\n",
       "      <td>89</td>\n",
       "      <td>8.86</td>\n",
       "      <td>6.6</td>\n",
       "      <td>7</td>\n",
       "      <td>1.78</td>\n",
       "      <td>2</td>\n",
       "      <td>False</td>\n",
       "    </tr>\n",
       "    <tr>\n",
       "      <td>4</td>\n",
       "      <td>OK</td>\n",
       "      <td>75</td>\n",
       "      <td>415</td>\n",
       "      <td>330-6626</td>\n",
       "      <td>yes</td>\n",
       "      <td>no</td>\n",
       "      <td>0</td>\n",
       "      <td>166.7</td>\n",
       "      <td>113</td>\n",
       "      <td>28.34</td>\n",
       "      <td>...</td>\n",
       "      <td>122</td>\n",
       "      <td>12.61</td>\n",
       "      <td>186.9</td>\n",
       "      <td>121</td>\n",
       "      <td>8.41</td>\n",
       "      <td>10.1</td>\n",
       "      <td>3</td>\n",
       "      <td>2.73</td>\n",
       "      <td>3</td>\n",
       "      <td>False</td>\n",
       "    </tr>\n",
       "  </tbody>\n",
       "</table>\n",
       "<p>5 rows × 21 columns</p>\n",
       "</div>"
      ],
      "text/plain": [
       "  state  account length  area code phone number international plan  \\\n",
       "0    KS             128        415     382-4657                 no   \n",
       "1    OH             107        415     371-7191                 no   \n",
       "2    NJ             137        415     358-1921                 no   \n",
       "3    OH              84        408     375-9999                yes   \n",
       "4    OK              75        415     330-6626                yes   \n",
       "\n",
       "  voice mail plan  number vmail messages  total day minutes  total day calls  \\\n",
       "0             yes                     25              265.1              110   \n",
       "1             yes                     26              161.6              123   \n",
       "2              no                      0              243.4              114   \n",
       "3              no                      0              299.4               71   \n",
       "4              no                      0              166.7              113   \n",
       "\n",
       "   total day charge  ...  total eve calls  total eve charge  \\\n",
       "0             45.07  ...               99             16.78   \n",
       "1             27.47  ...              103             16.62   \n",
       "2             41.38  ...              110             10.30   \n",
       "3             50.90  ...               88              5.26   \n",
       "4             28.34  ...              122             12.61   \n",
       "\n",
       "   total night minutes  total night calls  total night charge  \\\n",
       "0                244.7                 91               11.01   \n",
       "1                254.4                103               11.45   \n",
       "2                162.6                104                7.32   \n",
       "3                196.9                 89                8.86   \n",
       "4                186.9                121                8.41   \n",
       "\n",
       "   total intl minutes  total intl calls  total intl charge  \\\n",
       "0                10.0                 3               2.70   \n",
       "1                13.7                 3               3.70   \n",
       "2                12.2                 5               3.29   \n",
       "3                 6.6                 7               1.78   \n",
       "4                10.1                 3               2.73   \n",
       "\n",
       "   customer service calls  churn  \n",
       "0                       1  False  \n",
       "1                       1  False  \n",
       "2                       0  False  \n",
       "3                       2  False  \n",
       "4                       3  False  \n",
       "\n",
       "[5 rows x 21 columns]"
      ]
     },
     "execution_count": 3,
     "metadata": {},
     "output_type": "execute_result"
    }
   ],
   "source": [
    "df.head()"
   ]
  },
  {
   "cell_type": "code",
   "execution_count": 4,
   "metadata": {
    "ExecuteTime": {
     "end_time": "2020-05-21T12:46:57.071156Z",
     "start_time": "2020-05-21T12:46:57.063060Z"
    }
   },
   "outputs": [
    {
     "name": "stdout",
     "output_type": "stream",
     "text": [
      "<class 'pandas.core.frame.DataFrame'>\n",
      "RangeIndex: 3333 entries, 0 to 3332\n",
      "Data columns (total 21 columns):\n",
      "state                     3333 non-null object\n",
      "account length            3333 non-null int64\n",
      "area code                 3333 non-null int64\n",
      "phone number              3333 non-null object\n",
      "international plan        3333 non-null object\n",
      "voice mail plan           3333 non-null object\n",
      "number vmail messages     3333 non-null int64\n",
      "total day minutes         3333 non-null float64\n",
      "total day calls           3333 non-null int64\n",
      "total day charge          3333 non-null float64\n",
      "total eve minutes         3333 non-null float64\n",
      "total eve calls           3333 non-null int64\n",
      "total eve charge          3333 non-null float64\n",
      "total night minutes       3333 non-null float64\n",
      "total night calls         3333 non-null int64\n",
      "total night charge        3333 non-null float64\n",
      "total intl minutes        3333 non-null float64\n",
      "total intl calls          3333 non-null int64\n",
      "total intl charge         3333 non-null float64\n",
      "customer service calls    3333 non-null int64\n",
      "churn                     3333 non-null bool\n",
      "dtypes: bool(1), float64(8), int64(8), object(4)\n",
      "memory usage: 524.2+ KB\n"
     ]
    }
   ],
   "source": [
    "df.info()"
   ]
  },
  {
   "cell_type": "code",
   "execution_count": 5,
   "metadata": {
    "ExecuteTime": {
     "end_time": "2020-05-21T12:46:57.136821Z",
     "start_time": "2020-05-21T12:46:57.072784Z"
    },
    "scrolled": true
   },
   "outputs": [
    {
     "data": {
      "text/html": [
       "<div>\n",
       "<style scoped>\n",
       "    .dataframe tbody tr th:only-of-type {\n",
       "        vertical-align: middle;\n",
       "    }\n",
       "\n",
       "    .dataframe tbody tr th {\n",
       "        vertical-align: top;\n",
       "    }\n",
       "\n",
       "    .dataframe thead th {\n",
       "        text-align: right;\n",
       "    }\n",
       "</style>\n",
       "<table border=\"1\" class=\"dataframe\">\n",
       "  <thead>\n",
       "    <tr style=\"text-align: right;\">\n",
       "      <th></th>\n",
       "      <th>account length</th>\n",
       "      <th>area code</th>\n",
       "      <th>number vmail messages</th>\n",
       "      <th>total day minutes</th>\n",
       "      <th>total day calls</th>\n",
       "      <th>total day charge</th>\n",
       "      <th>total eve minutes</th>\n",
       "      <th>total eve calls</th>\n",
       "      <th>total eve charge</th>\n",
       "      <th>total night minutes</th>\n",
       "      <th>total night calls</th>\n",
       "      <th>total night charge</th>\n",
       "      <th>total intl minutes</th>\n",
       "      <th>total intl calls</th>\n",
       "      <th>total intl charge</th>\n",
       "      <th>customer service calls</th>\n",
       "    </tr>\n",
       "  </thead>\n",
       "  <tbody>\n",
       "    <tr>\n",
       "      <td>count</td>\n",
       "      <td>3333.00</td>\n",
       "      <td>3333.00</td>\n",
       "      <td>3333.00</td>\n",
       "      <td>3333.00</td>\n",
       "      <td>3333.00</td>\n",
       "      <td>3333.00</td>\n",
       "      <td>3333.00</td>\n",
       "      <td>3333.00</td>\n",
       "      <td>3333.00</td>\n",
       "      <td>3333.00</td>\n",
       "      <td>3333.00</td>\n",
       "      <td>3333.00</td>\n",
       "      <td>3333.00</td>\n",
       "      <td>3333.00</td>\n",
       "      <td>3333.00</td>\n",
       "      <td>3333.00</td>\n",
       "    </tr>\n",
       "    <tr>\n",
       "      <td>mean</td>\n",
       "      <td>101.06</td>\n",
       "      <td>437.18</td>\n",
       "      <td>8.10</td>\n",
       "      <td>179.78</td>\n",
       "      <td>100.44</td>\n",
       "      <td>30.56</td>\n",
       "      <td>200.98</td>\n",
       "      <td>100.11</td>\n",
       "      <td>17.08</td>\n",
       "      <td>200.87</td>\n",
       "      <td>100.11</td>\n",
       "      <td>9.04</td>\n",
       "      <td>10.24</td>\n",
       "      <td>4.48</td>\n",
       "      <td>2.76</td>\n",
       "      <td>1.56</td>\n",
       "    </tr>\n",
       "    <tr>\n",
       "      <td>std</td>\n",
       "      <td>39.82</td>\n",
       "      <td>42.37</td>\n",
       "      <td>13.69</td>\n",
       "      <td>54.47</td>\n",
       "      <td>20.07</td>\n",
       "      <td>9.26</td>\n",
       "      <td>50.71</td>\n",
       "      <td>19.92</td>\n",
       "      <td>4.31</td>\n",
       "      <td>50.57</td>\n",
       "      <td>19.57</td>\n",
       "      <td>2.28</td>\n",
       "      <td>2.79</td>\n",
       "      <td>2.46</td>\n",
       "      <td>0.75</td>\n",
       "      <td>1.32</td>\n",
       "    </tr>\n",
       "    <tr>\n",
       "      <td>min</td>\n",
       "      <td>1.00</td>\n",
       "      <td>408.00</td>\n",
       "      <td>0.00</td>\n",
       "      <td>0.00</td>\n",
       "      <td>0.00</td>\n",
       "      <td>0.00</td>\n",
       "      <td>0.00</td>\n",
       "      <td>0.00</td>\n",
       "      <td>0.00</td>\n",
       "      <td>23.20</td>\n",
       "      <td>33.00</td>\n",
       "      <td>1.04</td>\n",
       "      <td>0.00</td>\n",
       "      <td>0.00</td>\n",
       "      <td>0.00</td>\n",
       "      <td>0.00</td>\n",
       "    </tr>\n",
       "    <tr>\n",
       "      <td>10%</td>\n",
       "      <td>50.00</td>\n",
       "      <td>408.00</td>\n",
       "      <td>0.00</td>\n",
       "      <td>110.32</td>\n",
       "      <td>74.20</td>\n",
       "      <td>18.75</td>\n",
       "      <td>136.72</td>\n",
       "      <td>75.00</td>\n",
       "      <td>11.62</td>\n",
       "      <td>136.34</td>\n",
       "      <td>75.00</td>\n",
       "      <td>6.13</td>\n",
       "      <td>6.70</td>\n",
       "      <td>2.00</td>\n",
       "      <td>1.81</td>\n",
       "      <td>0.00</td>\n",
       "    </tr>\n",
       "    <tr>\n",
       "      <td>25%</td>\n",
       "      <td>74.00</td>\n",
       "      <td>408.00</td>\n",
       "      <td>0.00</td>\n",
       "      <td>143.70</td>\n",
       "      <td>87.00</td>\n",
       "      <td>24.43</td>\n",
       "      <td>166.60</td>\n",
       "      <td>87.00</td>\n",
       "      <td>14.16</td>\n",
       "      <td>167.00</td>\n",
       "      <td>87.00</td>\n",
       "      <td>7.52</td>\n",
       "      <td>8.50</td>\n",
       "      <td>3.00</td>\n",
       "      <td>2.30</td>\n",
       "      <td>1.00</td>\n",
       "    </tr>\n",
       "    <tr>\n",
       "      <td>50%</td>\n",
       "      <td>101.00</td>\n",
       "      <td>415.00</td>\n",
       "      <td>0.00</td>\n",
       "      <td>179.40</td>\n",
       "      <td>101.00</td>\n",
       "      <td>30.50</td>\n",
       "      <td>201.40</td>\n",
       "      <td>100.00</td>\n",
       "      <td>17.12</td>\n",
       "      <td>201.20</td>\n",
       "      <td>100.00</td>\n",
       "      <td>9.05</td>\n",
       "      <td>10.30</td>\n",
       "      <td>4.00</td>\n",
       "      <td>2.78</td>\n",
       "      <td>1.00</td>\n",
       "    </tr>\n",
       "    <tr>\n",
       "      <td>75%</td>\n",
       "      <td>127.00</td>\n",
       "      <td>510.00</td>\n",
       "      <td>20.00</td>\n",
       "      <td>216.40</td>\n",
       "      <td>114.00</td>\n",
       "      <td>36.79</td>\n",
       "      <td>235.30</td>\n",
       "      <td>114.00</td>\n",
       "      <td>20.00</td>\n",
       "      <td>235.30</td>\n",
       "      <td>113.00</td>\n",
       "      <td>10.59</td>\n",
       "      <td>12.10</td>\n",
       "      <td>6.00</td>\n",
       "      <td>3.27</td>\n",
       "      <td>2.00</td>\n",
       "    </tr>\n",
       "    <tr>\n",
       "      <td>90%</td>\n",
       "      <td>152.00</td>\n",
       "      <td>510.00</td>\n",
       "      <td>32.00</td>\n",
       "      <td>249.58</td>\n",
       "      <td>126.00</td>\n",
       "      <td>42.43</td>\n",
       "      <td>265.80</td>\n",
       "      <td>125.00</td>\n",
       "      <td>22.59</td>\n",
       "      <td>264.20</td>\n",
       "      <td>125.00</td>\n",
       "      <td>11.89</td>\n",
       "      <td>13.70</td>\n",
       "      <td>8.00</td>\n",
       "      <td>3.70</td>\n",
       "      <td>3.00</td>\n",
       "    </tr>\n",
       "    <tr>\n",
       "      <td>99%</td>\n",
       "      <td>195.00</td>\n",
       "      <td>510.00</td>\n",
       "      <td>43.00</td>\n",
       "      <td>305.17</td>\n",
       "      <td>146.00</td>\n",
       "      <td>51.88</td>\n",
       "      <td>318.94</td>\n",
       "      <td>147.00</td>\n",
       "      <td>27.11</td>\n",
       "      <td>317.45</td>\n",
       "      <td>146.68</td>\n",
       "      <td>14.28</td>\n",
       "      <td>16.67</td>\n",
       "      <td>13.00</td>\n",
       "      <td>4.50</td>\n",
       "      <td>6.00</td>\n",
       "    </tr>\n",
       "    <tr>\n",
       "      <td>max</td>\n",
       "      <td>243.00</td>\n",
       "      <td>510.00</td>\n",
       "      <td>51.00</td>\n",
       "      <td>350.80</td>\n",
       "      <td>165.00</td>\n",
       "      <td>59.64</td>\n",
       "      <td>363.70</td>\n",
       "      <td>170.00</td>\n",
       "      <td>30.91</td>\n",
       "      <td>395.00</td>\n",
       "      <td>175.00</td>\n",
       "      <td>17.77</td>\n",
       "      <td>20.00</td>\n",
       "      <td>20.00</td>\n",
       "      <td>5.40</td>\n",
       "      <td>9.00</td>\n",
       "    </tr>\n",
       "  </tbody>\n",
       "</table>\n",
       "</div>"
      ],
      "text/plain": [
       "       account length  area code  number vmail messages  total day minutes  \\\n",
       "count         3333.00    3333.00                3333.00            3333.00   \n",
       "mean           101.06     437.18                   8.10             179.78   \n",
       "std             39.82      42.37                  13.69              54.47   \n",
       "min              1.00     408.00                   0.00               0.00   \n",
       "10%             50.00     408.00                   0.00             110.32   \n",
       "25%             74.00     408.00                   0.00             143.70   \n",
       "50%            101.00     415.00                   0.00             179.40   \n",
       "75%            127.00     510.00                  20.00             216.40   \n",
       "90%            152.00     510.00                  32.00             249.58   \n",
       "99%            195.00     510.00                  43.00             305.17   \n",
       "max            243.00     510.00                  51.00             350.80   \n",
       "\n",
       "       total day calls  total day charge  total eve minutes  total eve calls  \\\n",
       "count          3333.00           3333.00            3333.00          3333.00   \n",
       "mean            100.44             30.56             200.98           100.11   \n",
       "std              20.07              9.26              50.71            19.92   \n",
       "min               0.00              0.00               0.00             0.00   \n",
       "10%              74.20             18.75             136.72            75.00   \n",
       "25%              87.00             24.43             166.60            87.00   \n",
       "50%             101.00             30.50             201.40           100.00   \n",
       "75%             114.00             36.79             235.30           114.00   \n",
       "90%             126.00             42.43             265.80           125.00   \n",
       "99%             146.00             51.88             318.94           147.00   \n",
       "max             165.00             59.64             363.70           170.00   \n",
       "\n",
       "       total eve charge  total night minutes  total night calls  \\\n",
       "count           3333.00              3333.00            3333.00   \n",
       "mean              17.08               200.87             100.11   \n",
       "std                4.31                50.57              19.57   \n",
       "min                0.00                23.20              33.00   \n",
       "10%               11.62               136.34              75.00   \n",
       "25%               14.16               167.00              87.00   \n",
       "50%               17.12               201.20             100.00   \n",
       "75%               20.00               235.30             113.00   \n",
       "90%               22.59               264.20             125.00   \n",
       "99%               27.11               317.45             146.68   \n",
       "max               30.91               395.00             175.00   \n",
       "\n",
       "       total night charge  total intl minutes  total intl calls  \\\n",
       "count             3333.00             3333.00           3333.00   \n",
       "mean                 9.04               10.24              4.48   \n",
       "std                  2.28                2.79              2.46   \n",
       "min                  1.04                0.00              0.00   \n",
       "10%                  6.13                6.70              2.00   \n",
       "25%                  7.52                8.50              3.00   \n",
       "50%                  9.05               10.30              4.00   \n",
       "75%                 10.59               12.10              6.00   \n",
       "90%                 11.89               13.70              8.00   \n",
       "99%                 14.28               16.67             13.00   \n",
       "max                 17.77               20.00             20.00   \n",
       "\n",
       "       total intl charge  customer service calls  \n",
       "count            3333.00                 3333.00  \n",
       "mean                2.76                    1.56  \n",
       "std                 0.75                    1.32  \n",
       "min                 0.00                    0.00  \n",
       "10%                 1.81                    0.00  \n",
       "25%                 2.30                    1.00  \n",
       "50%                 2.78                    1.00  \n",
       "75%                 3.27                    2.00  \n",
       "90%                 3.70                    3.00  \n",
       "99%                 4.50                    6.00  \n",
       "max                 5.40                    9.00  "
      ]
     },
     "execution_count": 5,
     "metadata": {},
     "output_type": "execute_result"
    }
   ],
   "source": [
    "df.describe(percentiles=[0.1, 0.25, 0.50, 0.75, 0.90, 0.99]).round(2)"
   ]
  },
  {
   "cell_type": "code",
   "execution_count": 6,
   "metadata": {
    "ExecuteTime": {
     "end_time": "2020-05-21T12:46:57.147232Z",
     "start_time": "2020-05-21T12:46:57.139588Z"
    }
   },
   "outputs": [
    {
     "data": {
      "text/plain": [
       "state                     0\n",
       "account length            0\n",
       "area code                 0\n",
       "phone number              0\n",
       "international plan        0\n",
       "voice mail plan           0\n",
       "number vmail messages     0\n",
       "total day minutes         0\n",
       "total day calls           0\n",
       "total day charge          0\n",
       "total eve minutes         0\n",
       "total eve calls           0\n",
       "total eve charge          0\n",
       "total night minutes       0\n",
       "total night calls         0\n",
       "total night charge        0\n",
       "total intl minutes        0\n",
       "total intl calls          0\n",
       "total intl charge         0\n",
       "customer service calls    0\n",
       "churn                     0\n",
       "dtype: int64"
      ]
     },
     "execution_count": 6,
     "metadata": {},
     "output_type": "execute_result"
    }
   ],
   "source": [
    "df.isna().sum()"
   ]
  },
  {
   "cell_type": "code",
   "execution_count": 7,
   "metadata": {
    "ExecuteTime": {
     "end_time": "2020-05-21T12:46:57.152945Z",
     "start_time": "2020-05-21T12:46:57.148786Z"
    }
   },
   "outputs": [],
   "source": [
    "df1 = df.drop(['area code', 'phone number'], axis=1)"
   ]
  },
  {
   "cell_type": "code",
   "execution_count": 8,
   "metadata": {
    "ExecuteTime": {
     "end_time": "2020-05-21T12:46:57.166065Z",
     "start_time": "2020-05-21T12:46:57.155731Z"
    }
   },
   "outputs": [],
   "source": [
    "df1[[\"churn\"]] *= 1"
   ]
  },
  {
   "cell_type": "markdown",
   "metadata": {},
   "source": [
    "### Saving the cleaned data frame as a new data set."
   ]
  },
  {
   "cell_type": "code",
   "execution_count": 9,
   "metadata": {
    "ExecuteTime": {
     "end_time": "2020-05-21T12:46:57.170035Z",
     "start_time": "2020-05-21T12:46:57.167913Z"
    }
   },
   "outputs": [],
   "source": [
    "# df.to_csv(\"customer_chur_dataset_cleaned.csv\", index=False)"
   ]
  },
  {
   "cell_type": "code",
   "execution_count": 10,
   "metadata": {
    "ExecuteTime": {
     "end_time": "2020-05-21T12:46:57.175939Z",
     "start_time": "2020-05-21T12:46:57.171572Z"
    }
   },
   "outputs": [],
   "source": [
    "X = df1.drop(['churn'], axis=1)\n",
    "y = df1['churn']"
   ]
  },
  {
   "cell_type": "code",
   "execution_count": 11,
   "metadata": {
    "ExecuteTime": {
     "end_time": "2020-05-21T12:46:57.182780Z",
     "start_time": "2020-05-21T12:46:57.177180Z"
    }
   },
   "outputs": [],
   "source": [
    "X_train, X_test, y_train, y_test = train_test_split(X, y, random_state=42)"
   ]
  },
  {
   "cell_type": "code",
   "execution_count": 12,
   "metadata": {
    "ExecuteTime": {
     "end_time": "2020-05-21T12:46:57.190612Z",
     "start_time": "2020-05-21T12:46:57.184228Z"
    }
   },
   "outputs": [
    {
     "data": {
      "text/plain": [
       "0    2141\n",
       "1     358\n",
       "Name: churn, dtype: int64"
      ]
     },
     "execution_count": 12,
     "metadata": {},
     "output_type": "execute_result"
    }
   ],
   "source": [
    "y_train.value_counts()"
   ]
  },
  {
   "cell_type": "code",
   "execution_count": 13,
   "metadata": {
    "ExecuteTime": {
     "end_time": "2020-05-21T12:46:57.227068Z",
     "start_time": "2020-05-21T12:46:57.192820Z"
    }
   },
   "outputs": [],
   "source": [
    "X_train = pd.get_dummies(X_train, drop_first=True)\n",
    "X_test = pd.get_dummies(X_test, drop_first=True)\n"
   ]
  },
  {
   "cell_type": "code",
   "execution_count": 14,
   "metadata": {
    "ExecuteTime": {
     "end_time": "2020-05-21T12:46:57.264000Z",
     "start_time": "2020-05-21T12:46:57.228778Z"
    },
    "scrolled": true
   },
   "outputs": [
    {
     "data": {
      "text/html": [
       "<div>\n",
       "<style scoped>\n",
       "    .dataframe tbody tr th:only-of-type {\n",
       "        vertical-align: middle;\n",
       "    }\n",
       "\n",
       "    .dataframe tbody tr th {\n",
       "        vertical-align: top;\n",
       "    }\n",
       "\n",
       "    .dataframe thead th {\n",
       "        text-align: right;\n",
       "    }\n",
       "</style>\n",
       "<table border=\"1\" class=\"dataframe\">\n",
       "  <thead>\n",
       "    <tr style=\"text-align: right;\">\n",
       "      <th></th>\n",
       "      <th>account length</th>\n",
       "      <th>number vmail messages</th>\n",
       "      <th>total day minutes</th>\n",
       "      <th>total day calls</th>\n",
       "      <th>total day charge</th>\n",
       "      <th>total eve minutes</th>\n",
       "      <th>total eve calls</th>\n",
       "      <th>total eve charge</th>\n",
       "      <th>total night minutes</th>\n",
       "      <th>total night calls</th>\n",
       "      <th>...</th>\n",
       "      <th>state_TX</th>\n",
       "      <th>state_UT</th>\n",
       "      <th>state_VA</th>\n",
       "      <th>state_VT</th>\n",
       "      <th>state_WA</th>\n",
       "      <th>state_WI</th>\n",
       "      <th>state_WV</th>\n",
       "      <th>state_WY</th>\n",
       "      <th>international plan_yes</th>\n",
       "      <th>voice mail plan_yes</th>\n",
       "    </tr>\n",
       "  </thead>\n",
       "  <tbody>\n",
       "    <tr>\n",
       "      <td>0</td>\n",
       "      <td>-1.404508</td>\n",
       "      <td>-0.584700</td>\n",
       "      <td>-1.883677</td>\n",
       "      <td>1.330852</td>\n",
       "      <td>-1.884170</td>\n",
       "      <td>1.037727</td>\n",
       "      <td>0.401340</td>\n",
       "      <td>1.037905</td>\n",
       "      <td>1.069609</td>\n",
       "      <td>0.004940</td>\n",
       "      <td>...</td>\n",
       "      <td>-0.150014</td>\n",
       "      <td>-0.144338</td>\n",
       "      <td>-0.156845</td>\n",
       "      <td>-0.144338</td>\n",
       "      <td>-0.147201</td>\n",
       "      <td>-0.163417</td>\n",
       "      <td>-0.175899</td>\n",
       "      <td>-0.1555</td>\n",
       "      <td>-0.327448</td>\n",
       "      <td>-0.611418</td>\n",
       "    </tr>\n",
       "    <tr>\n",
       "      <td>1</td>\n",
       "      <td>0.366388</td>\n",
       "      <td>-0.584700</td>\n",
       "      <td>0.294083</td>\n",
       "      <td>0.529165</td>\n",
       "      <td>0.293703</td>\n",
       "      <td>0.516178</td>\n",
       "      <td>0.401340</td>\n",
       "      <td>0.517286</td>\n",
       "      <td>2.214376</td>\n",
       "      <td>0.670832</td>\n",
       "      <td>...</td>\n",
       "      <td>-0.150014</td>\n",
       "      <td>-0.144338</td>\n",
       "      <td>-0.156845</td>\n",
       "      <td>-0.144338</td>\n",
       "      <td>-0.147201</td>\n",
       "      <td>-0.163417</td>\n",
       "      <td>-0.175899</td>\n",
       "      <td>-0.1555</td>\n",
       "      <td>-0.327448</td>\n",
       "      <td>-0.611418</td>\n",
       "    </tr>\n",
       "    <tr>\n",
       "      <td>2</td>\n",
       "      <td>0.518179</td>\n",
       "      <td>1.685101</td>\n",
       "      <td>1.056392</td>\n",
       "      <td>-1.875896</td>\n",
       "      <td>1.056666</td>\n",
       "      <td>0.093407</td>\n",
       "      <td>0.849774</td>\n",
       "      <td>0.094283</td>\n",
       "      <td>-0.077125</td>\n",
       "      <td>-0.763398</td>\n",
       "      <td>...</td>\n",
       "      <td>-0.150014</td>\n",
       "      <td>-0.144338</td>\n",
       "      <td>-0.156845</td>\n",
       "      <td>-0.144338</td>\n",
       "      <td>-0.147201</td>\n",
       "      <td>-0.163417</td>\n",
       "      <td>-0.175899</td>\n",
       "      <td>-0.1555</td>\n",
       "      <td>-0.327448</td>\n",
       "      <td>1.635543</td>\n",
       "    </tr>\n",
       "    <tr>\n",
       "      <td>3</td>\n",
       "      <td>2.010792</td>\n",
       "      <td>-0.584700</td>\n",
       "      <td>-0.679156</td>\n",
       "      <td>1.681590</td>\n",
       "      <td>-0.679320</td>\n",
       "      <td>-0.402459</td>\n",
       "      <td>0.650470</td>\n",
       "      <td>-0.403094</td>\n",
       "      <td>-0.322994</td>\n",
       "      <td>-0.660953</td>\n",
       "      <td>...</td>\n",
       "      <td>-0.150014</td>\n",
       "      <td>-0.144338</td>\n",
       "      <td>-0.156845</td>\n",
       "      <td>-0.144338</td>\n",
       "      <td>-0.147201</td>\n",
       "      <td>-0.163417</td>\n",
       "      <td>-0.175899</td>\n",
       "      <td>-0.1555</td>\n",
       "      <td>-0.327448</td>\n",
       "      <td>-0.611418</td>\n",
       "    </tr>\n",
       "    <tr>\n",
       "      <td>4</td>\n",
       "      <td>0.290493</td>\n",
       "      <td>-0.584700</td>\n",
       "      <td>0.484660</td>\n",
       "      <td>1.080325</td>\n",
       "      <td>0.484172</td>\n",
       "      <td>-0.718549</td>\n",
       "      <td>-0.296224</td>\n",
       "      <td>-0.719184</td>\n",
       "      <td>-1.186487</td>\n",
       "      <td>0.056162</td>\n",
       "      <td>...</td>\n",
       "      <td>-0.150014</td>\n",
       "      <td>-0.144338</td>\n",
       "      <td>-0.156845</td>\n",
       "      <td>-0.144338</td>\n",
       "      <td>-0.147201</td>\n",
       "      <td>-0.163417</td>\n",
       "      <td>-0.175899</td>\n",
       "      <td>-0.1555</td>\n",
       "      <td>-0.327448</td>\n",
       "      <td>-0.611418</td>\n",
       "    </tr>\n",
       "  </tbody>\n",
       "</table>\n",
       "<p>5 rows × 67 columns</p>\n",
       "</div>"
      ],
      "text/plain": [
       "   account length  number vmail messages  total day minutes  total day calls  \\\n",
       "0       -1.404508              -0.584700          -1.883677         1.330852   \n",
       "1        0.366388              -0.584700           0.294083         0.529165   \n",
       "2        0.518179               1.685101           1.056392        -1.875896   \n",
       "3        2.010792              -0.584700          -0.679156         1.681590   \n",
       "4        0.290493              -0.584700           0.484660         1.080325   \n",
       "\n",
       "   total day charge  total eve minutes  total eve calls  total eve charge  \\\n",
       "0         -1.884170           1.037727         0.401340          1.037905   \n",
       "1          0.293703           0.516178         0.401340          0.517286   \n",
       "2          1.056666           0.093407         0.849774          0.094283   \n",
       "3         -0.679320          -0.402459         0.650470         -0.403094   \n",
       "4          0.484172          -0.718549        -0.296224         -0.719184   \n",
       "\n",
       "   total night minutes  total night calls  ...  state_TX  state_UT  state_VA  \\\n",
       "0             1.069609           0.004940  ... -0.150014 -0.144338 -0.156845   \n",
       "1             2.214376           0.670832  ... -0.150014 -0.144338 -0.156845   \n",
       "2            -0.077125          -0.763398  ... -0.150014 -0.144338 -0.156845   \n",
       "3            -0.322994          -0.660953  ... -0.150014 -0.144338 -0.156845   \n",
       "4            -1.186487           0.056162  ... -0.150014 -0.144338 -0.156845   \n",
       "\n",
       "   state_VT  state_WA  state_WI  state_WV  state_WY  international plan_yes  \\\n",
       "0 -0.144338 -0.147201 -0.163417 -0.175899   -0.1555               -0.327448   \n",
       "1 -0.144338 -0.147201 -0.163417 -0.175899   -0.1555               -0.327448   \n",
       "2 -0.144338 -0.147201 -0.163417 -0.175899   -0.1555               -0.327448   \n",
       "3 -0.144338 -0.147201 -0.163417 -0.175899   -0.1555               -0.327448   \n",
       "4 -0.144338 -0.147201 -0.163417 -0.175899   -0.1555               -0.327448   \n",
       "\n",
       "   voice mail plan_yes  \n",
       "0            -0.611418  \n",
       "1            -0.611418  \n",
       "2             1.635543  \n",
       "3            -0.611418  \n",
       "4            -0.611418  \n",
       "\n",
       "[5 rows x 67 columns]"
      ]
     },
     "execution_count": 14,
     "metadata": {},
     "output_type": "execute_result"
    }
   ],
   "source": [
    "scaler = StandardScaler()\n",
    "scaled_X_train = scaler.fit_transform(X_train)\n",
    "scaled_X_test = scaler.transform(X_test)\n",
    "\n",
    "scaled_df_train = pd.DataFrame(scaled_X_train, columns=X_train.columns)\n",
    "scaled_df_train.head()\n"
   ]
  },
  {
   "cell_type": "code",
   "execution_count": null,
   "metadata": {},
   "outputs": [],
   "source": []
  },
  {
   "cell_type": "code",
   "execution_count": null,
   "metadata": {},
   "outputs": [],
   "source": []
  },
  {
   "cell_type": "code",
   "execution_count": 15,
   "metadata": {
    "ExecuteTime": {
     "end_time": "2020-05-21T12:46:57.315235Z",
     "start_time": "2020-05-21T12:46:57.265600Z"
    }
   },
   "outputs": [
    {
     "data": {
      "text/plain": [
       "LogisticRegression(C=1000000000000.0, class_weight=None, dual=False,\n",
       "                   fit_intercept=False, intercept_scaling=1, l1_ratio=None,\n",
       "                   max_iter=100, multi_class='warn', n_jobs=None, penalty='l2',\n",
       "                   random_state=None, solver='liblinear', tol=0.0001, verbose=0,\n",
       "                   warm_start=False)"
      ]
     },
     "execution_count": 15,
     "metadata": {},
     "output_type": "execute_result"
    }
   ],
   "source": [
    "logreg = LogisticRegression(fit_intercept=False, C=1e12, solver='liblinear')\n",
    "model_log = logreg.fit(X_train, y_train)\n",
    "model_log"
   ]
  },
  {
   "cell_type": "code",
   "execution_count": 16,
   "metadata": {
    "ExecuteTime": {
     "end_time": "2020-05-21T12:46:57.326441Z",
     "start_time": "2020-05-21T12:46:57.316662Z"
    }
   },
   "outputs": [],
   "source": [
    "y_pred = logreg.predict(X_test)"
   ]
  },
  {
   "cell_type": "markdown",
   "metadata": {},
   "source": [
    "# Evaluation"
   ]
  },
  {
   "cell_type": "code",
   "execution_count": 17,
   "metadata": {
    "ExecuteTime": {
     "end_time": "2020-05-21T12:46:57.334706Z",
     "start_time": "2020-05-21T12:46:57.328472Z"
    }
   },
   "outputs": [],
   "source": [
    "cm = confusion_matrix(y_test, y_pred)"
   ]
  },
  {
   "cell_type": "code",
   "execution_count": 18,
   "metadata": {
    "ExecuteTime": {
     "end_time": "2020-05-21T12:46:57.341379Z",
     "start_time": "2020-05-21T12:46:57.337015Z"
    }
   },
   "outputs": [
    {
     "data": {
      "text/plain": [
       "array([[685,  24],\n",
       "       [105,  20]])"
      ]
     },
     "execution_count": 18,
     "metadata": {},
     "output_type": "execute_result"
    }
   ],
   "source": [
    "cm"
   ]
  },
  {
   "cell_type": "code",
   "execution_count": 19,
   "metadata": {
    "ExecuteTime": {
     "end_time": "2020-05-21T12:46:57.362388Z",
     "start_time": "2020-05-21T12:46:57.343252Z"
    }
   },
   "outputs": [
    {
     "name": "stdout",
     "output_type": "stream",
     "text": [
      "recall: 0.16\n",
      "precision: 0.45454545454545453\n",
      "f1 score: 0.2367\n",
      "accuracy: 0.8453237410071942\n",
      "r2 score:  -0.21394640338504956\n",
      "roc auc score:  0.5630747531734838\n"
     ]
    }
   ],
   "source": [
    "print ('recall:', recall_score(y_test, y_pred))\n",
    "print ('precision:', precision_score(y_test, y_pred))\n",
    "print ('f1 score:', round(f1_score(y_test, y_pred), 4))\n",
    "print ('accuracy:' , accuracy_score(y_test, y_pred))\n",
    "print ('r2 score: ', r2_score(y_test, y_pred))\n",
    "print ('roc auc score: ', roc_auc_score(y_test, y_pred))"
   ]
  },
  {
   "cell_type": "code",
   "execution_count": 20,
   "metadata": {
    "ExecuteTime": {
     "end_time": "2020-05-21T12:46:57.375494Z",
     "start_time": "2020-05-21T12:46:57.364211Z"
    }
   },
   "outputs": [
    {
     "name": "stdout",
     "output_type": "stream",
     "text": [
      "              precision    recall  f1-score   support\n",
      "\n",
      "           0       0.87      0.97      0.91       709\n",
      "           1       0.45      0.16      0.24       125\n",
      "\n",
      "    accuracy                           0.85       834\n",
      "   macro avg       0.66      0.56      0.58       834\n",
      "weighted avg       0.81      0.85      0.81       834\n",
      "\n"
     ]
    }
   ],
   "source": [
    "cr = classification_report(y_test, y_pred)\n",
    "print(cr)"
   ]
  },
  {
   "cell_type": "code",
   "execution_count": 21,
   "metadata": {
    "ExecuteTime": {
     "end_time": "2020-05-21T12:46:57.380851Z",
     "start_time": "2020-05-21T12:46:57.377791Z"
    }
   },
   "outputs": [],
   "source": [
    "# plot_confusion_matrix(y_test, y_pred)"
   ]
  },
  {
   "cell_type": "code",
   "execution_count": 22,
   "metadata": {
    "ExecuteTime": {
     "end_time": "2020-05-21T12:46:57.392617Z",
     "start_time": "2020-05-21T12:46:57.383144Z"
    }
   },
   "outputs": [],
   "source": [
    "\n",
    "# Calculate the probability scores of each point in the training set\n",
    "y_train_score = model_log.decision_function(X_train)\n",
    "\n",
    "# Calculate the fpr, tpr, and thresholds for the training set\n",
    "train_fpr, train_tpr, thresholds = roc_curve(y_train, y_train_score)\n",
    "\n",
    "# Calculate the probability scores of each point in the test set\n",
    "y_test_score = model_log.decision_function(X_test)\n",
    "\n",
    "# Calculate the fpr, tpr, and thresholds for the test set\n",
    "test_fpr, test_tpr, test_thresholds = roc_curve(y_test, y_test_score)\n"
   ]
  },
  {
   "cell_type": "code",
   "execution_count": 23,
   "metadata": {
    "ExecuteTime": {
     "end_time": "2020-05-21T12:46:57.825091Z",
     "start_time": "2020-05-21T12:46:57.398077Z"
    },
    "scrolled": true
   },
   "outputs": [
    {
     "name": "stdout",
     "output_type": "stream",
     "text": [
      "Training AUC: 0.80397\n",
      "Testing AUC: 0.7768\n"
     ]
    },
    {
     "data": {
      "image/png": "[encoded data removed]",
      "text/plain": [
       "<Figure size 720x576 with 1 Axes>"
      ]
     },
     "metadata": {
      "needs_background": "light"
     },
     "output_type": "display_data"
    }
   ],
   "source": [
    "\n",
    "\n",
    "# ROC curve for training set\n",
    "plt.figure(figsize=(10, 8))\n",
    "lw = 2\n",
    "plt.plot(train_fpr, train_tpr, color='darkorange',\n",
    "         lw=lw, label='Train ROC curve')\n",
    "plt.plot(test_fpr, test_tpr, color='blue',\n",
    "         lw=lw, label='Test ROC curve')\n",
    "plt.plot([0, 1], [0, 1], color='navy', lw=lw, linestyle='--')\n",
    "plt.xlim([0.0, 1.0])\n",
    "plt.ylim([0.0, 1.05])\n",
    "plt.yticks([i/20.0 for i in range(21)])\n",
    "plt.xticks([i/20.0 for i in range(21)])\n",
    "plt.xlabel('False Positive Rate')\n",
    "plt.ylabel('True Positive Rate')\n",
    "plt.title('Receiver operating characteristic (ROC) Curve for Training and Testing Sets')\n",
    "plt.legend(loc='lower right')\n",
    "print('Training AUC: {}'.format(round(auc(train_fpr, train_tpr), 5)))\n",
    "print('Testing AUC: {}'.format(round(auc(test_fpr, test_tpr), 5)))\n",
    "plt.show()"
   ]
  },
  {
   "cell_type": "markdown",
   "metadata": {},
   "source": [
    "# Note: I tried all the other solvers here, 'liblinear' gave the best results."
   ]
  },
  {
   "cell_type": "markdown",
   "metadata": {},
   "source": [
    "# SMOTE Imbalanced Data"
   ]
  },
  {
   "cell_type": "code",
   "execution_count": 24,
   "metadata": {
    "ExecuteTime": {
     "end_time": "2020-05-21T12:46:57.956363Z",
     "start_time": "2020-05-21T12:46:57.827638Z"
    }
   },
   "outputs": [
    {
     "data": {
      "image/png": "[encoded data removed]",
      "text/plain": [
       "<Figure size 432x288 with 1 Axes>"
      ]
     },
     "metadata": {
      "needs_background": "light"
     },
     "output_type": "display_data"
    }
   ],
   "source": [
    "sns.countplot(y);"
   ]
  },
  {
   "cell_type": "code",
   "execution_count": 25,
   "metadata": {
    "ExecuteTime": {
     "end_time": "2020-05-21T12:46:57.965357Z",
     "start_time": "2020-05-21T12:46:57.957984Z"
    }
   },
   "outputs": [
    {
     "name": "stdout",
     "output_type": "stream",
     "text": [
      "0    2850\n",
      "1     483\n",
      "Name: churn, dtype: int64\n",
      "0    0.855086\n",
      "1    0.144914\n",
      "Name: churn, dtype: float64\n"
     ]
    }
   ],
   "source": [
    "print(y.value_counts())\n",
    "print(y.value_counts(normalize=True))"
   ]
  },
  {
   "cell_type": "code",
   "execution_count": 26,
   "metadata": {
    "ExecuteTime": {
     "end_time": "2020-05-21T12:46:57.995627Z",
     "start_time": "2020-05-21T12:46:57.967035Z"
    }
   },
   "outputs": [],
   "source": [
    "smote = SMOTE()\n",
    "X_train_smoted, y_train_smoted = smote.fit_sample(X_train, y_train)"
   ]
  },
  {
   "cell_type": "code",
   "execution_count": 27,
   "metadata": {
    "ExecuteTime": {
     "end_time": "2020-05-21T12:46:58.087807Z",
     "start_time": "2020-05-21T12:46:57.997493Z"
    }
   },
   "outputs": [
    {
     "data": {
      "text/plain": [
       "LogisticRegression(C=1e+20, class_weight=None, dual=False, fit_intercept=False,\n",
       "                   intercept_scaling=1, l1_ratio=None, max_iter=100,\n",
       "                   multi_class='warn', n_jobs=None, penalty='l2',\n",
       "                   random_state=None, solver='liblinear', tol=0.0001, verbose=0,\n",
       "                   warm_start=False)"
      ]
     },
     "execution_count": 27,
     "metadata": {},
     "output_type": "execute_result"
    }
   ],
   "source": [
    "logreg = LogisticRegression(fit_intercept=False, C=1e20, solver ='liblinear')\n",
    "model_log = logreg.fit(X_train_smoted, y_train_smoted)\n",
    "model_log\n"
   ]
  },
  {
   "cell_type": "code",
   "execution_count": 28,
   "metadata": {
    "ExecuteTime": {
     "end_time": "2020-05-21T12:46:58.093354Z",
     "start_time": "2020-05-21T12:46:58.089394Z"
    }
   },
   "outputs": [],
   "source": [
    "y_pred = logreg.predict(X_test)"
   ]
  },
  {
   "cell_type": "code",
   "execution_count": 29,
   "metadata": {
    "ExecuteTime": {
     "end_time": "2020-05-21T12:46:58.100699Z",
     "start_time": "2020-05-21T12:46:58.095217Z"
    }
   },
   "outputs": [],
   "source": [
    "cm = confusion_matrix(y_test, y_pred)"
   ]
  },
  {
   "cell_type": "code",
   "execution_count": 30,
   "metadata": {
    "ExecuteTime": {
     "end_time": "2020-05-21T12:46:58.107127Z",
     "start_time": "2020-05-21T12:46:58.102235Z"
    }
   },
   "outputs": [
    {
     "data": {
      "text/plain": [
       "array([[539, 170],\n",
       "       [ 35,  90]])"
      ]
     },
     "execution_count": 30,
     "metadata": {},
     "output_type": "execute_result"
    }
   ],
   "source": [
    "cm"
   ]
  },
  {
   "cell_type": "code",
   "execution_count": 31,
   "metadata": {
    "ExecuteTime": {
     "end_time": "2020-05-21T12:46:58.172084Z",
     "start_time": "2020-05-21T12:46:58.108913Z"
    }
   },
   "outputs": [
    {
     "name": "stdout",
     "output_type": "stream",
     "text": [
      "recall: 0.72\n",
      "precision: 0.34615384615384615\n",
      "f1 score: 0.4675\n",
      "accuracy: 0.7541966426858513\n",
      "r2 score:  -0.9291396332863189\n",
      "roc auc score:  0.7401128349788435\n"
     ]
    }
   ],
   "source": [
    "print ('recall:', recall_score(y_test, y_pred))\n",
    "print ('precision:', precision_score(y_test, y_pred))\n",
    "print ('f1 score:', round(f1_score(y_test, y_pred), 4))\n",
    "print ('accuracy:' , accuracy_score(y_test, y_pred))\n",
    "print ('r2 score: ', r2_score(y_test, y_pred))\n",
    "print ('roc auc score: ', roc_auc_score(y_test, y_pred))"
   ]
  },
  {
   "cell_type": "code",
   "execution_count": 32,
   "metadata": {
    "ExecuteTime": {
     "end_time": "2020-05-21T12:46:58.182333Z",
     "start_time": "2020-05-21T12:46:58.173919Z"
    }
   },
   "outputs": [
    {
     "name": "stdout",
     "output_type": "stream",
     "text": [
      "              precision    recall  f1-score   support\n",
      "\n",
      "           0       0.94      0.76      0.84       709\n",
      "           1       0.35      0.72      0.47       125\n",
      "\n",
      "    accuracy                           0.75       834\n",
      "   macro avg       0.64      0.74      0.65       834\n",
      "weighted avg       0.85      0.75      0.78       834\n",
      "\n"
     ]
    }
   ],
   "source": [
    "cr = classification_report(y_test, y_pred)\n",
    "print(cr)"
   ]
  },
  {
   "cell_type": "code",
   "execution_count": 34,
   "metadata": {
    "ExecuteTime": {
     "end_time": "2020-05-21T12:48:41.058594Z",
     "start_time": "2020-05-21T12:48:41.050324Z"
    }
   },
   "outputs": [],
   "source": [
    "# Calculate the probability scores of each point in the training set\n",
    "y_train_score_SMOTE = model_log.decision_function(X_train_smoted)\n",
    "\n",
    "# Calculate the fpr, tpr, and thresholds for the training set\n",
    "train_fpr_SMOTE, train_tpr_SMOTE, thresholds_SMOTE = roc_curve(y_train_smoted, y_train_score_SMOTE)\n",
    "\n",
    "# Calculate the probability scores of each point in the test set\n",
    "y_test_score_SMOTE = model_log.decision_function(X_test)\n",
    "\n",
    "# Calculate the fpr, tpr, and thresholds for the test set\n",
    "test_fpr_SMOTE, test_tpr_SMOTE, test_thresholds_SMOTE = roc_curve(y_test, y_test_score)\n"
   ]
  },
  {
   "cell_type": "code",
   "execution_count": 35,
   "metadata": {
    "ExecuteTime": {
     "end_time": "2020-05-21T12:48:42.981505Z",
     "start_time": "2020-05-21T12:48:42.624177Z"
    }
   },
   "outputs": [
    {
     "name": "stdout",
     "output_type": "stream",
     "text": [
      "Training AUC, SMOTE: 0.84562\n",
      "Testing AUC, SMOTE: 0.7768\n"
     ]
    },
    {
     "data": {
      "image/png": "[encoded data removed]",
      "text/plain": [
       "<Figure size 720x576 with 1 Axes>"
      ]
     },
     "metadata": {
      "needs_background": "light"
     },
     "output_type": "display_data"
    }
   ],
   "source": [
    "\n",
    "# ROC curve for training set\n",
    "plt.figure(figsize=(10, 8))\n",
    "lw = 2\n",
    "plt.plot(train_fpr_SMOTE, train_tpr_SMOTE, color='darkorange',\n",
    "         lw=lw, label='Train ROC curve')\n",
    "plt.plot(test_fpr_SMOTE, test_tpr_SMOTE, color='blue',\n",
    "         lw=lw, label='Test ROC curve')\n",
    "plt.plot([0, 1], [0, 1], color='navy', lw=lw, linestyle='--')\n",
    "plt.xlim([0.0, 1.0])\n",
    "plt.ylim([0.0, 1.05])\n",
    "plt.yticks([i/20.0 for i in range(21)])\n",
    "plt.xticks([i/20.0 for i in range(21)])\n",
    "plt.xlabel('False Positive Rate')\n",
    "plt.ylabel('True Positive Rate')\n",
    "plt.title('Receiver operating characteristic (ROC) Curve for Training and Testing Sets')\n",
    "plt.legend(loc='lower right')\n",
    "print('Training AUC, SMOTE: {}'.format(round(auc(train_fpr_SMOTE, train_tpr_SMOTE), 5)))\n",
    "print('Testing AUC, SMOTE: {}'.format(round(auc(test_fpr_SMOTE, test_tpr_SMOTE), 5)))\n",
    "plt.show()"
   ]
  },
  {
   "cell_type": "code",
   "execution_count": 36,
   "metadata": {
    "ExecuteTime": {
     "end_time": "2020-05-21T12:48:46.347313Z",
     "start_time": "2020-05-21T12:48:46.344529Z"
    }
   },
   "outputs": [],
   "source": [
    "adasyn = ADASYN()"
   ]
  },
  {
   "cell_type": "code",
   "execution_count": 37,
   "metadata": {
    "ExecuteTime": {
     "end_time": "2020-05-21T12:48:48.374768Z",
     "start_time": "2020-05-21T12:48:47.784188Z"
    }
   },
   "outputs": [
    {
     "name": "stdout",
     "output_type": "stream",
     "text": [
      "recall: 0.64\n",
      "precision: 0.32\n",
      "f1 score: 0.4267\n",
      "accuracy: 0.7422062350119905\n",
      "r2 score:  -1.0232440056417493\n",
      "roc auc score:  0.7001128349788436\n",
      "              precision    recall  f1-score   support\n",
      "\n",
      "           0       0.92      0.76      0.83       709\n",
      "           1       0.32      0.64      0.43       125\n",
      "\n",
      "    accuracy                           0.74       834\n",
      "   macro avg       0.62      0.70      0.63       834\n",
      "weighted avg       0.83      0.74      0.77       834\n",
      "\n",
      "Training AUC, ADASYN: 0.8453\n",
      "Testing AUC, ADASYN: 0.78506\n"
     ]
    },
    {
     "data": {
      "image/png": "[encoded data removed]",
      "text/plain": [
       "<Figure size 720x576 with 1 Axes>"
      ]
     },
     "metadata": {
      "needs_background": "light"
     },
     "output_type": "display_data"
    }
   ],
   "source": [
    "# ADASYN Imbalanced Data\n",
    "\n",
    "\n",
    "X_train_ada, y_train_ada = adasyn.fit_sample(X_train, y_train)\n",
    "\n",
    "logreg = LogisticRegression(fit_intercept=False, C=1e20, solver ='liblinear')\n",
    "model_log = logreg.fit(X_train_ada, y_train_ada)\n",
    "\n",
    "y_pred = logreg.predict(X_test)\n",
    "\n",
    "cm = confusion_matrix(y_test, y_pred)\n",
    "\n",
    "print ('recall:', recall_score(y_test, y_pred))\n",
    "print ('precision:', precision_score(y_test, y_pred))\n",
    "print ('f1 score:', round(f1_score(y_test, y_pred), 4))\n",
    "print ('accuracy:' , accuracy_score(y_test, y_pred))\n",
    "print ('r2 score: ', r2_score(y_test, y_pred))\n",
    "print ('roc auc score: ', roc_auc_score(y_test, y_pred))\n",
    "\n",
    "cr = classification_report(y_test, y_pred)\n",
    "print(cr)\n",
    "\n",
    "# Calculate the probability scores of each point in the training set\n",
    "y_train_score = model_log.decision_function(X_train_ada)\n",
    "\n",
    "# Calculate the fpr, tpr, and thresholds for the training set\n",
    "train_fpr, train_tpr, thresholds = roc_curve(y_train_ada, y_train_score)\n",
    "\n",
    "# Calculate the probability scores of each point in the test set\n",
    "y_test_score = model_log.decision_function(X_test)\n",
    "\n",
    "# Calculate the fpr, tpr, and thresholds for the test set\n",
    "test_fpr, test_tpr, test_thresholds = roc_curve(y_test, y_test_score)\n",
    "\n",
    "\n",
    "\n",
    "# ROC curve for training set\n",
    "plt.figure(figsize=(10, 8))\n",
    "lw = 2\n",
    "plt.plot(train_fpr, train_tpr, color='green',\n",
    "         lw=lw, label='Train ROC curve,ADASYN')\n",
    "plt.plot(test_fpr, test_tpr, color='red',\n",
    "         lw=lw, label='Test ROC curve, ADASYN')\n",
    "\n",
    "plt.plot(train_fpr_SMOTE, train_tpr_SMOTE, color='darkorange',\n",
    "         lw=lw, label='Train ROC curve,SMOTE')\n",
    "plt.plot(test_fpr_SMOTE, test_tpr_SMOTE, color='blue',\n",
    "         lw=lw, label='Test ROC curve, SMOTE')\n",
    "plt.plot([0, 1], [0, 1], color='navy', lw=lw, linestyle='--')\n",
    "plt.xlim([0.0, 1.0])\n",
    "plt.ylim([0.0, 1.05])\n",
    "plt.yticks([i/20.0 for i in range(21)])\n",
    "plt.xticks([i/20.0 for i in range(21)])\n",
    "plt.xlabel('False Positive Rate')\n",
    "plt.ylabel('True Positive Rate')\n",
    "plt.title('Receiver operating characteristic (ROC) Curve for Training and Testing Sets')\n",
    "plt.legend(loc='lower right')\n",
    "print('Training AUC, ADASYN: {}'.format(round(auc(train_fpr, train_tpr), 5)))\n",
    "print('Testing AUC, ADASYN: {}'.format(round(auc(test_fpr, test_tpr), 5)))\n",
    "plt.show()"
   ]
  },
  {
   "cell_type": "markdown",
   "metadata": {},
   "source": [
    "# We can try to solve multicollinearity by interactions"
   ]
  }
 ],
 "metadata": {
  "kernelspec": {
   "display_name": "Python 3",
   "language": "python",
   "name": "python3"
  },
  "language_info": {
   "codemirror_mode": {
    "name": "ipython",
    "version": 3
   },
   "file_extension": ".py",
   "mimetype": "text/x-python",
   "name": "python",
   "nbconvert_exporter": "python",
   "pygments_lexer": "ipython3",
   "version": "3.7.4"
  },
  "varInspector": {
   "cols": {
    "lenName": 16,
    "lenType": 16,
    "lenVar": 40
   },
   "kernels_config": {
    "python": {
     "delete_cmd_postfix": "",
     "delete_cmd_prefix": "del ",
     "library": "var_list.py",
     "varRefreshCmd": "print(var_dic_list())"
    },
    "r": {
     "delete_cmd_postfix": ") ",
     "delete_cmd_prefix": "rm(",
     "library": "var_list.r",
     "varRefreshCmd": "cat(var_dic_list()) "
    }
   },
   "types_to_exclude": [
    "module",
    "function",
    "builtin_function_or_method",
    "instance",
    "_Feature"
   ],
   "window_display": true
  }
 },
 "nbformat": 4,
 "nbformat_minor": 2
}
