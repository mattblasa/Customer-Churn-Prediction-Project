{
 "cells": [
  {
   "cell_type": "markdown",
   "metadata": {},
   "source": [
    "## Final Project Submission\n",
    "\n",
    "Please fill out:\n",
    "* Student name: Seyma Tas\n",
    "* Student pace: full time\n",
    "* Scheduled project review date/time: \n",
    "* Instructor name: Amber Yandow\n",
    "* Blog post URL:\n"
   ]
  },
  {
   "cell_type": "markdown",
   "metadata": {},
   "source": [
    "This is the first modelling notebook. This notebook contains ......."
   ]
  },
  {
   "cell_type": "markdown",
   "metadata": {},
   "source": [
    "##### Import the necessary libraries."
   ]
  },
  {
   "cell_type": "code",
   "execution_count": 1,
   "metadata": {
    "ExecuteTime": {
     "end_time": "2020-05-29T22:33:48.392903Z",
     "start_time": "2020-05-29T22:33:47.218903Z"
    }
   },
   "outputs": [],
   "source": [
    "import seaborn as sns\n",
    "import pandas as pd\n",
    "import numpy as np\n",
    "import matplotlib.pyplot as plt\n",
    "%matplotlib inline\n",
    "sns.set_style('darkgrid', {'axes.facecolor': '0.9'})\n",
    "\n",
    "from sklearn.preprocessing import LabelEncoder, OneHotEncoder, MinMaxScaler, StandardScaler\n",
    "from sklearn.model_selection import train_test_split, cross_val_score, GridSearchCV, ParameterGrid\n",
    "from sklearn.linear_model import LogisticRegression, SGDClassifier\n",
    "from imblearn.over_sampling import SMOTE, ADASYN\n",
    "from sklearn.naive_bayes import GaussianNB\n",
    "from sklearn.svm import SVC\n",
    "from sklearn.tree import DecisionTreeClassifier\n",
    "from sklearn.neighbors import KNeighborsClassifier\n",
    "from sklearn.ensemble import RandomForestClassifier, AdaBoostClassifier, GradientBoostingClassifier, BaggingClassifier\n",
    "from sklearn.metrics import recall_score, f1_score,fbeta_score, r2_score, roc_auc_score, roc_curve, auc, cohen_kappa_score\n",
    "from sklearn.metrics import classification_report, confusion_matrix, accuracy_score, precision_score\n",
    "from sklearn.metrics import make_scorer\n",
    "from sklearn.pipeline import Pipeline\n",
    "import xgboost as xgb\n",
    "# from sklearn.metrics import plot_confusion_matrix\n",
    "\n",
    "import warnings\n",
    "warnings.filterwarnings('ignore')"
   ]
  },
  {
   "cell_type": "markdown",
   "metadata": {},
   "source": [
    "##### Download the data set which was cleaned, unnecessary columns are omitted and one hot encoded."
   ]
  },
  {
   "cell_type": "code",
   "execution_count": 6,
   "metadata": {
    "ExecuteTime": {
     "end_time": "2020-05-29T22:35:09.362320Z",
     "start_time": "2020-05-29T22:35:09.345809Z"
    }
   },
   "outputs": [],
   "source": [
    "df = pd.read_csv('TelcoCustomerChurnData_cleaned_ohe.csv')"
   ]
  },
  {
   "cell_type": "code",
   "execution_count": 7,
   "metadata": {
    "ExecuteTime": {
     "end_time": "2020-05-29T22:35:10.633431Z",
     "start_time": "2020-05-29T22:35:10.616993Z"
    }
   },
   "outputs": [
    {
     "data": {
      "text/html": [
       "<div>\n",
       "<style scoped>\n",
       "    .dataframe tbody tr th:only-of-type {\n",
       "        vertical-align: middle;\n",
       "    }\n",
       "\n",
       "    .dataframe tbody tr th {\n",
       "        vertical-align: top;\n",
       "    }\n",
       "\n",
       "    .dataframe thead th {\n",
       "        text-align: right;\n",
       "    }\n",
       "</style>\n",
       "<table border=\"1\" class=\"dataframe\">\n",
       "  <thead>\n",
       "    <tr style=\"text-align: right;\">\n",
       "      <th></th>\n",
       "      <th>tenure</th>\n",
       "      <th>MonthlyCharges</th>\n",
       "      <th>TotalCharges</th>\n",
       "      <th>Churn</th>\n",
       "      <th>SeniorCitizen_1</th>\n",
       "      <th>Partner_Yes</th>\n",
       "      <th>Dependents_Yes</th>\n",
       "      <th>MultipleLines_No phone service</th>\n",
       "      <th>MultipleLines_Yes</th>\n",
       "      <th>InternetService_Fiber optic</th>\n",
       "      <th>...</th>\n",
       "      <th>TechSupport_No internet service</th>\n",
       "      <th>TechSupport_Yes</th>\n",
       "      <th>StreamingTV_No internet service</th>\n",
       "      <th>StreamingTV_Yes</th>\n",
       "      <th>Contract_One year</th>\n",
       "      <th>Contract_Two year</th>\n",
       "      <th>PaperlessBilling_Yes</th>\n",
       "      <th>PaymentMethod_Credit card (automatic)</th>\n",
       "      <th>PaymentMethod_Electronic check</th>\n",
       "      <th>PaymentMethod_Mailed check</th>\n",
       "    </tr>\n",
       "  </thead>\n",
       "  <tbody>\n",
       "    <tr>\n",
       "      <td>0</td>\n",
       "      <td>1</td>\n",
       "      <td>29.85</td>\n",
       "      <td>29.85</td>\n",
       "      <td>0</td>\n",
       "      <td>0</td>\n",
       "      <td>1</td>\n",
       "      <td>0</td>\n",
       "      <td>1</td>\n",
       "      <td>0</td>\n",
       "      <td>0</td>\n",
       "      <td>...</td>\n",
       "      <td>0</td>\n",
       "      <td>0</td>\n",
       "      <td>0</td>\n",
       "      <td>0</td>\n",
       "      <td>0</td>\n",
       "      <td>0</td>\n",
       "      <td>1</td>\n",
       "      <td>0</td>\n",
       "      <td>1</td>\n",
       "      <td>0</td>\n",
       "    </tr>\n",
       "    <tr>\n",
       "      <td>1</td>\n",
       "      <td>34</td>\n",
       "      <td>56.95</td>\n",
       "      <td>1889.50</td>\n",
       "      <td>0</td>\n",
       "      <td>0</td>\n",
       "      <td>0</td>\n",
       "      <td>0</td>\n",
       "      <td>0</td>\n",
       "      <td>0</td>\n",
       "      <td>0</td>\n",
       "      <td>...</td>\n",
       "      <td>0</td>\n",
       "      <td>0</td>\n",
       "      <td>0</td>\n",
       "      <td>0</td>\n",
       "      <td>1</td>\n",
       "      <td>0</td>\n",
       "      <td>0</td>\n",
       "      <td>0</td>\n",
       "      <td>0</td>\n",
       "      <td>1</td>\n",
       "    </tr>\n",
       "    <tr>\n",
       "      <td>2</td>\n",
       "      <td>2</td>\n",
       "      <td>53.85</td>\n",
       "      <td>108.15</td>\n",
       "      <td>1</td>\n",
       "      <td>0</td>\n",
       "      <td>0</td>\n",
       "      <td>0</td>\n",
       "      <td>0</td>\n",
       "      <td>0</td>\n",
       "      <td>0</td>\n",
       "      <td>...</td>\n",
       "      <td>0</td>\n",
       "      <td>0</td>\n",
       "      <td>0</td>\n",
       "      <td>0</td>\n",
       "      <td>0</td>\n",
       "      <td>0</td>\n",
       "      <td>1</td>\n",
       "      <td>0</td>\n",
       "      <td>0</td>\n",
       "      <td>1</td>\n",
       "    </tr>\n",
       "    <tr>\n",
       "      <td>3</td>\n",
       "      <td>45</td>\n",
       "      <td>42.30</td>\n",
       "      <td>1840.75</td>\n",
       "      <td>0</td>\n",
       "      <td>0</td>\n",
       "      <td>0</td>\n",
       "      <td>0</td>\n",
       "      <td>1</td>\n",
       "      <td>0</td>\n",
       "      <td>0</td>\n",
       "      <td>...</td>\n",
       "      <td>0</td>\n",
       "      <td>1</td>\n",
       "      <td>0</td>\n",
       "      <td>0</td>\n",
       "      <td>1</td>\n",
       "      <td>0</td>\n",
       "      <td>0</td>\n",
       "      <td>0</td>\n",
       "      <td>0</td>\n",
       "      <td>0</td>\n",
       "    </tr>\n",
       "    <tr>\n",
       "      <td>4</td>\n",
       "      <td>2</td>\n",
       "      <td>70.70</td>\n",
       "      <td>151.65</td>\n",
       "      <td>1</td>\n",
       "      <td>0</td>\n",
       "      <td>0</td>\n",
       "      <td>0</td>\n",
       "      <td>0</td>\n",
       "      <td>0</td>\n",
       "      <td>1</td>\n",
       "      <td>...</td>\n",
       "      <td>0</td>\n",
       "      <td>0</td>\n",
       "      <td>0</td>\n",
       "      <td>0</td>\n",
       "      <td>0</td>\n",
       "      <td>0</td>\n",
       "      <td>1</td>\n",
       "      <td>0</td>\n",
       "      <td>1</td>\n",
       "      <td>0</td>\n",
       "    </tr>\n",
       "  </tbody>\n",
       "</table>\n",
       "<p>5 rows × 25 columns</p>\n",
       "</div>"
      ],
      "text/plain": [
       "   tenure  MonthlyCharges  TotalCharges  Churn  SeniorCitizen_1  Partner_Yes  \\\n",
       "0       1           29.85         29.85      0                0            1   \n",
       "1      34           56.95       1889.50      0                0            0   \n",
       "2       2           53.85        108.15      1                0            0   \n",
       "3      45           42.30       1840.75      0                0            0   \n",
       "4       2           70.70        151.65      1                0            0   \n",
       "\n",
       "   Dependents_Yes  MultipleLines_No phone service  MultipleLines_Yes  \\\n",
       "0               0                               1                  0   \n",
       "1               0                               0                  0   \n",
       "2               0                               0                  0   \n",
       "3               0                               1                  0   \n",
       "4               0                               0                  0   \n",
       "\n",
       "   InternetService_Fiber optic  ...  TechSupport_No internet service  \\\n",
       "0                            0  ...                                0   \n",
       "1                            0  ...                                0   \n",
       "2                            0  ...                                0   \n",
       "3                            0  ...                                0   \n",
       "4                            1  ...                                0   \n",
       "\n",
       "   TechSupport_Yes  StreamingTV_No internet service  StreamingTV_Yes  \\\n",
       "0                0                                0                0   \n",
       "1                0                                0                0   \n",
       "2                0                                0                0   \n",
       "3                1                                0                0   \n",
       "4                0                                0                0   \n",
       "\n",
       "   Contract_One year  Contract_Two year  PaperlessBilling_Yes  \\\n",
       "0                  0                  0                     1   \n",
       "1                  1                  0                     0   \n",
       "2                  0                  0                     1   \n",
       "3                  1                  0                     0   \n",
       "4                  0                  0                     1   \n",
       "\n",
       "   PaymentMethod_Credit card (automatic)  PaymentMethod_Electronic check  \\\n",
       "0                                      0                               1   \n",
       "1                                      0                               0   \n",
       "2                                      0                               0   \n",
       "3                                      0                               0   \n",
       "4                                      0                               1   \n",
       "\n",
       "   PaymentMethod_Mailed check  \n",
       "0                           0  \n",
       "1                           1  \n",
       "2                           1  \n",
       "3                           0  \n",
       "4                           0  \n",
       "\n",
       "[5 rows x 25 columns]"
      ]
     },
     "execution_count": 7,
     "metadata": {},
     "output_type": "execute_result"
    }
   ],
   "source": [
    "df.head()"
   ]
  },
  {
   "cell_type": "markdown",
   "metadata": {},
   "source": [
    "### Splitting the data into test and train sets"
   ]
  },
  {
   "cell_type": "code",
   "execution_count": 8,
   "metadata": {
    "ExecuteTime": {
     "end_time": "2020-05-29T22:35:16.508750Z",
     "start_time": "2020-05-29T22:35:16.503689Z"
    }
   },
   "outputs": [],
   "source": [
    "X = df.drop(['Churn'], axis=1)\n",
    "y = df['Churn']"
   ]
  },
  {
   "cell_type": "code",
   "execution_count": 9,
   "metadata": {
    "ExecuteTime": {
     "end_time": "2020-05-29T22:35:17.303952Z",
     "start_time": "2020-05-29T22:35:17.297369Z"
    }
   },
   "outputs": [],
   "source": [
    "X_train, X_test, y_train, y_test = train_test_split(X, y, random_state=42)"
   ]
  },
  {
   "cell_type": "markdown",
   "metadata": {},
   "source": [
    "### Scaling the data by sklearn Standard Scaler"
   ]
  },
  {
   "cell_type": "code",
   "execution_count": 10,
   "metadata": {
    "ExecuteTime": {
     "end_time": "2020-05-29T22:35:18.429697Z",
     "start_time": "2020-05-29T22:35:18.416666Z"
    }
   },
   "outputs": [],
   "source": [
    "scaler = StandardScaler()\n",
    "scaled_x_train = scaler.fit_transform(X_train)\n",
    "scaled_X_test = scaler.transform(X_test)\n",
    "scaled_X_train = pd.DataFrame(scaled_x_train, columns=X_train.columns)\n"
   ]
  },
  {
   "cell_type": "markdown",
   "metadata": {},
   "source": [
    "### Functions to evaluate the model"
   ]
  },
  {
   "cell_type": "markdown",
   "metadata": {},
   "source": [
    "##### Function to draw the ROC curve and to calculate the area under the curve"
   ]
  },
  {
   "cell_type": "code",
   "execution_count": 11,
   "metadata": {
    "ExecuteTime": {
     "end_time": "2020-05-29T22:35:21.513121Z",
     "start_time": "2020-05-29T22:35:21.503606Z"
    },
    "code_folding": [
     0
    ]
   },
   "outputs": [],
   "source": [
    "def roc_curve_and_auc(clf, X_train, X_test, y_train, y_test):\n",
    "\n",
    "    # Calculate the probability scores of each point in the training set\n",
    "    y_train_score = clf.fit(X_train, y_train).decision_function(X_train)\n",
    "\n",
    "    # Calculate the fpr, tpr, and thresholds for the training set\n",
    "    train_fpr, train_tpr, thresholds = roc_curve(y_train, y_train_score)\n",
    "\n",
    "    # Calculate the probability scores of each point in the test set\n",
    "    y_test_score = clf.decision_function(X_test)\n",
    "\n",
    "    # Calculate the fpr, tpr, and thresholds for the test set\n",
    "    test_fpr, test_tpr, test_thresholds = roc_curve(y_test, y_test_score)\n",
    "\n",
    "    # ROC curve for training set\n",
    "    plt.figure(figsize=(10, 8))\n",
    "    lw = 2\n",
    "    plt.plot(train_fpr, train_tpr, color='darkorange',\n",
    "             lw=lw, label='Train ROC curve')\n",
    "    plt.plot(test_fpr, test_tpr, color='blue',\n",
    "             lw=lw, label='Test ROC curve')\n",
    "    plt.plot([0, 1], [0, 1], color='navy', lw=lw, linestyle='--')\n",
    "    plt.xlim([0.0, 1.0])\n",
    "    plt.ylim([0.0, 1.05])\n",
    "    plt.yticks([i/20.0 for i in range(21)])\n",
    "    plt.xticks([i/20.0 for i in range(21)])\n",
    "    plt.xlabel('False Positive Rate')\n",
    "    plt.ylabel('True Positive Rate')\n",
    "    plt.title('Receiver operating characteristic (ROC) Curve for Training and Testing Sets')\n",
    "    plt.legend(loc='lower right')\n",
    "    plt.show()\n",
    "    # Print the area under the roc curve\n",
    "    print('Training AUC: {}'.format(round(auc(train_fpr, train_tpr), 5)))\n",
    "    print('Testing AUC: {}'.format(round(auc(test_fpr, test_tpr), 5)))"
   ]
  },
  {
   "cell_type": "markdown",
   "metadata": {},
   "source": [
    "##### Function to draw the feature importances"
   ]
  },
  {
   "cell_type": "code",
   "execution_count": 12,
   "metadata": {
    "ExecuteTime": {
     "end_time": "2020-05-29T22:35:22.412288Z",
     "start_time": "2020-05-29T22:35:22.408010Z"
    },
    "code_folding": [
     0
    ]
   },
   "outputs": [],
   "source": [
    "def plot_feature_importances(model):\n",
    "    n_features = X_train.shape[1]\n",
    "    plt.figure(figsize=(8,8))\n",
    "    plt.barh(range(n_features), model.feature_importances_, align='center') \n",
    "    plt.yticks(np.arange(n_features), X_train.columns.values) \n",
    "    plt.xlabel('Feature importance')\n",
    "    plt.ylabel('Feature')"
   ]
  },
  {
   "cell_type": "markdown",
   "metadata": {},
   "source": [
    "##### Function to print the confusion matrix in a data frame to make the matrix more readable."
   ]
  },
  {
   "cell_type": "code",
   "execution_count": null,
   "metadata": {
    "ExecuteTime": {
     "start_time": "2020-05-29T23:53:13.399Z"
    }
   },
   "outputs": [],
   "source": [
    " def confusion_matrix_df(y_test, y_pred_test):\n",
    "    confusion_mat = confusion_matrix(y_test, y_pred_test, labels=[0, 1])\n",
    "    _row = confusion_mat.sum(axis=0)\n",
    "    _col = [np.nan] + list(confusion_mat.sum(axis=1)) + [sum(_row)]\n",
    "    con_df = pd.DataFrame({})\n",
    "    con_df[\"Predicted\"] = [\"Actual\"] + [\"No Churn\", \"Churn\"] + [\"All\"]\n",
    "    for label, idx in {\"No Churn\": 0, \"Churn\": 1}.items():\n",
    "        temp = [np.nan] + list(confusion_mat[:, idx]) + [_row[idx]]\n",
    "        con_df[label] = temp\n",
    "\n",
    "    con_df[\"All\"] = _col\n",
    "    return con_df"
   ]
  },
  {
   "cell_type": "markdown",
   "metadata": {},
   "source": [
    "##### Function to print the metrics including Confusion Matrix, Classification Report, Cohen's Kappa, F beta score, roc-auc score and mean cross validation score."
   ]
  },
  {
   "cell_type": "code",
   "execution_count": 14,
   "metadata": {
    "ExecuteTime": {
     "end_time": "2020-05-29T22:35:24.183593Z",
     "start_time": "2020-05-29T22:35:24.176153Z"
    },
    "code_folding": []
   },
   "outputs": [],
   "source": [
    "def model_evaluation(X_train, X_test, y_train, y_test, y_pred_train, y_pred_test):\n",
    "\n",
    "    print('MODEL EVALUATION METRICS:\\n',\n",
    "          '-----------------------------------------------------')\n",
    "    \n",
    "    print('Confusion Matrix for train & test set: \\n')\n",
    "    print(confusion_matrix_df(y_train, y_pred_train), '\\n')\n",
    "    print(confusion_matrix_df(y_test, y_pred_test),'\\n')\n",
    "   \n",
    "    print('-----------------------------------------------------')\n",
    "    print('\\nClassification Report for train & test set\\n',\n",
    "          '\\nTrain set\\n',\n",
    "          classification_report(y_train, y_pred_train),\n",
    "          '\\n\\nTest set\\n',\n",
    "          classification_report(y_test, y_pred_test))\n",
    " \n",
    "    print('-----------------------------------------------------\\n')\n",
    "    print(\"Cohen's Kappa for train and test set:\\n \",\n",
    "            round(cohen_kappa_score(y_train, y_pred_train), 4),\n",
    "            round(cohen_kappa_score(y_test, y_pred_test), 4))\n",
    "\n",
    "    print (\"f2 score for train and test set: \\n \",\n",
    "           round(fbeta_score(y_train, y_pred_train, 2.0),4), \n",
    "           round(fbeta_score(y_test, y_pred_test, 2.0),4))\n",
    "    \n",
    "    print ('roc auc score for train and test set:\\n ', \n",
    "           round(roc_auc_score(y_train, y_pred_train),4),\n",
    "           round(roc_auc_score(y_test, y_pred_test),4) )\n",
    "    \n",
    "    print('Mean Cross Validation Score:\\n', round(cross_val_score(clf, X, y, cv=5).mean(), 4))   "
   ]
  },
  {
   "cell_type": "markdown",
   "metadata": {},
   "source": [
    "# MODELLING"
   ]
  },
  {
   "cell_type": "markdown",
   "metadata": {},
   "source": [
    "### Handling Imbalanced Data"
   ]
  },
  {
   "cell_type": "code",
   "execution_count": 29,
   "metadata": {
    "ExecuteTime": {
     "end_time": "2020-05-29T22:36:42.730604Z",
     "start_time": "2020-05-29T22:36:42.597352Z"
    }
   },
   "outputs": [
    {
     "data": {
      "image/png": "[encoded data removed]",
      "text/plain": [
       "<Figure size 432x288 with 1 Axes>"
      ]
     },
     "metadata": {
      "needs_background": "light"
     },
     "output_type": "display_data"
    }
   ],
   "source": [
    "sns.countplot(y);"
   ]
  },
  {
   "cell_type": "code",
   "execution_count": null,
   "metadata": {
    "ExecuteTime": {
     "start_time": "2020-05-30T00:02:56.873Z"
    }
   },
   "outputs": [],
   "source": [
    "y.value_counts(normalize=True)"
   ]
  },
  {
   "cell_type": "markdown",
   "metadata": {},
   "source": [
    "We have an imbalanced data. We have to find ways to handle it or we are going to have a high accuracy but we can not make true predictions of the minority class which is 'Churn' in this project. \n",
    "We can use class_weight parameter of the models, we can make synthetic samples of the minority class using SMOTE or ADASYN or we can just oversample or under sample the necessary class."
   ]
  },
  {
   "cell_type": "markdown",
   "metadata": {},
   "source": [
    "# Logistic Regression"
   ]
  },
  {
   "cell_type": "markdown",
   "metadata": {},
   "source": [
    "## Baseline model"
   ]
  },
  {
   "cell_type": "code",
   "execution_count": 23,
   "metadata": {
    "ExecuteTime": {
     "end_time": "2020-05-29T22:36:35.286703Z",
     "start_time": "2020-05-29T22:36:35.254624Z"
    }
   },
   "outputs": [
    {
     "data": {
      "text/plain": [
       "LogisticRegression(C=1000000000000.0, class_weight='balanced', dual=False,\n",
       "                   fit_intercept=False, intercept_scaling=1, l1_ratio=None,\n",
       "                   max_iter=100, multi_class='warn', n_jobs=None, penalty='l2',\n",
       "                   random_state=None, solver='liblinear', tol=0.0001, verbose=0,\n",
       "                   warm_start=False)"
      ]
     },
     "execution_count": 23,
     "metadata": {},
     "output_type": "execute_result"
    }
   ],
   "source": [
    "clf = LogisticRegression(fit_intercept=False, C=1e12, solver='liblinear', class_weight='balanced')\n",
    "clf.fit(X_train, y_train)"
   ]
  },
  {
   "cell_type": "code",
   "execution_count": 24,
   "metadata": {
    "ExecuteTime": {
     "end_time": "2020-05-29T22:36:36.069012Z",
     "start_time": "2020-05-29T22:36:36.063223Z"
    }
   },
   "outputs": [],
   "source": [
    "y_pred_train = clf.predict(X_train)\n",
    "y_pred_test = clf.predict(X_test)"
   ]
  },
  {
   "cell_type": "code",
   "execution_count": 25,
   "metadata": {
    "ExecuteTime": {
     "end_time": "2020-05-29T22:36:37.106495Z",
     "start_time": "2020-05-29T22:36:36.864627Z"
    },
    "scrolled": true
   },
   "outputs": [
    {
     "name": "stdout",
     "output_type": "stream",
     "text": [
      "MODEL EVALUATION METRICS:\n",
      " -----------------------------------------------------\n",
      "Confusion Matrix for train & test set: \n",
      "\n",
      "  Predicted  No Churn   Churn     All\n",
      "0    Actual       NaN     NaN     NaN\n",
      "1  No Churn    2837.0  1026.0  3863.0\n",
      "2     Churn     272.0  1139.0  1411.0\n",
      "3       All    3109.0  2165.0  5274.0\n",
      "None \n",
      "\n",
      "  Predicted  No Churn  Churn     All\n",
      "0    Actual       NaN    NaN     NaN\n",
      "1  No Churn     932.0  368.0  1300.0\n",
      "2     Churn      97.0  361.0   458.0\n",
      "3       All    1029.0  729.0  1758.0\n",
      "None \n",
      "\n",
      "-----------------------------------------------------\n",
      "\n",
      "Classification Report for train & test set\n",
      " \n",
      "Train set\n",
      "               precision    recall  f1-score   support\n",
      "\n",
      "           0       0.91      0.73      0.81      3863\n",
      "           1       0.53      0.81      0.64      1411\n",
      "\n",
      "    accuracy                           0.75      5274\n",
      "   macro avg       0.72      0.77      0.73      5274\n",
      "weighted avg       0.81      0.75      0.77      5274\n",
      " \n",
      "\n",
      "Test set\n",
      "               precision    recall  f1-score   support\n",
      "\n",
      "           0       0.91      0.72      0.80      1300\n",
      "           1       0.50      0.79      0.61       458\n",
      "\n",
      "    accuracy                           0.74      1758\n",
      "   macro avg       0.70      0.75      0.70      1758\n",
      "weighted avg       0.80      0.74      0.75      1758\n",
      "\n",
      "-----------------------------------------------------\n",
      "\n",
      "Cohen's Kappa for train and test set:\n",
      "  0.4631 0.4239\n",
      "f2 score for train and test set: \n",
      "  0.7293 0.7048\n",
      "roc auc score for train and test set:\n",
      "  0.7708 0.7526\n",
      "Mean Cross Validation Score:\n",
      " 0.7462\n"
     ]
    }
   ],
   "source": [
    "model_evaluation(X_train, X_test, y_train, y_test, y_pred_train, y_pred_test)\n"
   ]
  },
  {
   "cell_type": "code",
   "execution_count": 26,
   "metadata": {
    "ExecuteTime": {
     "end_time": "2020-05-29T22:36:38.268738Z",
     "start_time": "2020-05-29T22:36:37.879038Z"
    },
    "scrolled": true
   },
   "outputs": [
    {
     "data": {
      "image/png": "[encoded data removed]",
      "text/plain": [
       "<Figure size 720x576 with 1 Axes>"
      ]
     },
     "metadata": {
      "needs_background": "light"
     },
     "output_type": "display_data"
    },
    {
     "name": "stdout",
     "output_type": "stream",
     "text": [
      "Training AUC: 0.84942\n",
      "Testing AUC: 0.83321\n"
     ]
    }
   ],
   "source": [
    "roc_curve_and_auc(clf, X_train, X_test, y_train, y_test)"
   ]
  },
  {
   "cell_type": "code",
   "execution_count": 27,
   "metadata": {
    "ExecuteTime": {
     "end_time": "2020-05-29T22:36:39.370452Z",
     "start_time": "2020-05-29T22:36:39.366049Z"
    }
   },
   "outputs": [
    {
     "data": {
      "text/plain": [
       "array([[-0.06,  0.01,  0.  ,  0.24,  0.08, -0.25,  0.82,  0.14,  0.69,\n",
       "        -0.07, -0.07, -0.16, -0.07, -0.05, -0.07, -0.41, -0.07,  0.17,\n",
       "        -0.8 , -1.39,  0.22, -0.04,  0.39, -0.07]])"
      ]
     },
     "execution_count": 27,
     "metadata": {},
     "output_type": "execute_result"
    }
   ],
   "source": [
    "clf.coef_.round(2)"
   ]
  },
  {
   "cell_type": "code",
   "execution_count": 28,
   "metadata": {
    "ExecuteTime": {
     "end_time": "2020-05-29T22:36:40.175166Z",
     "start_time": "2020-05-29T22:36:40.172851Z"
    }
   },
   "outputs": [],
   "source": [
    "# plot_feature_importances(clf)"
   ]
  },
  {
   "cell_type": "markdown",
   "metadata": {},
   "source": [
    "### Logistic regression with syntetic samples"
   ]
  },
  {
   "cell_type": "markdown",
   "metadata": {},
   "source": [
    "## SMOTE\n"
   ]
  },
  {
   "cell_type": "code",
   "execution_count": 31,
   "metadata": {
    "ExecuteTime": {
     "end_time": "2020-05-29T22:36:48.043726Z",
     "start_time": "2020-05-29T22:36:47.973032Z"
    }
   },
   "outputs": [],
   "source": [
    "smote = SMOTE()\n",
    "scaled_X_train_smoted, y_train_smoted = smote.fit_sample(scaled_X_train, y_train)"
   ]
  },
  {
   "cell_type": "markdown",
   "metadata": {},
   "source": [
    "## ADASYN"
   ]
  },
  {
   "cell_type": "code",
   "execution_count": 32,
   "metadata": {
    "ExecuteTime": {
     "end_time": "2020-05-29T22:36:49.861394Z",
     "start_time": "2020-05-29T22:36:49.772774Z"
    }
   },
   "outputs": [],
   "source": [
    "adasyn = ADASYN()\n",
    "X_train_ada, y_train_ada = adasyn.fit_sample(X_train, y_train)"
   ]
  },
  {
   "cell_type": "code",
   "execution_count": 33,
   "metadata": {
    "ExecuteTime": {
     "end_time": "2020-05-29T22:37:48.240425Z",
     "start_time": "2020-05-29T22:37:48.193124Z"
    }
   },
   "outputs": [],
   "source": [
    "clf = LogisticRegression(fit_intercept=False, C=1e20, solver ='liblinear')\n",
    "clf.fit(X_train_ada, y_train_ada)\n",
    "y_pred_train = clf.predict(X_train_ada)\n",
    "y_pred_test = clf.predict(X_test)"
   ]
  },
  {
   "cell_type": "code",
   "execution_count": 34,
   "metadata": {
    "ExecuteTime": {
     "end_time": "2020-05-29T22:37:51.024309Z",
     "start_time": "2020-05-29T22:37:50.800631Z"
    }
   },
   "outputs": [
    {
     "name": "stdout",
     "output_type": "stream",
     "text": [
      "MODEL EVALUATION METRICS:\n",
      " -----------------------------------------------------\n",
      "Confusion Matrix for train & test set: \n",
      "\n",
      "  Predicted  No Churn   Churn     All\n",
      "0    Actual       NaN     NaN     NaN\n",
      "1  No Churn    2723.0  1140.0  3863.0\n",
      "2     Churn     773.0  3135.0  3908.0\n",
      "3       All    3496.0  4275.0  7771.0\n",
      "None \n",
      "\n",
      "  Predicted  No Churn  Churn     All\n",
      "0    Actual       NaN    NaN     NaN\n",
      "1  No Churn     886.0  414.0  1300.0\n",
      "2     Churn      80.0  378.0   458.0\n",
      "3       All     966.0  792.0  1758.0\n",
      "None \n",
      "\n",
      "-----------------------------------------------------\n",
      "\n",
      "Classification Report for train & test set\n",
      " \n",
      "Train set\n",
      "               precision    recall  f1-score   support\n",
      "\n",
      "           0       0.78      0.70      0.74      3863\n",
      "           1       0.73      0.80      0.77      3908\n",
      "\n",
      "    accuracy                           0.75      7771\n",
      "   macro avg       0.76      0.75      0.75      7771\n",
      "weighted avg       0.76      0.75      0.75      7771\n",
      " \n",
      "\n",
      "Test set\n",
      "               precision    recall  f1-score   support\n",
      "\n",
      "           0       0.92      0.68      0.78      1300\n",
      "           1       0.48      0.83      0.60       458\n",
      "\n",
      "    accuracy                           0.72      1758\n",
      "   macro avg       0.70      0.75      0.69      1758\n",
      "weighted avg       0.80      0.72      0.74      1758\n",
      "\n",
      "-----------------------------------------------------\n",
      "\n",
      "Cohen's Kappa for train and test set:\n",
      "  0.5074 0.41\n",
      "f2 score for train and test set: \n",
      "  0.7874 0.7203\n",
      "roc auc score for train and test set:\n",
      "  0.7535 0.7534\n",
      "Mean Cross Validation Score:\n",
      " 0.7995\n"
     ]
    }
   ],
   "source": [
    "model_evaluation(X_train_ada, X_test, y_train_ada, y_test, y_pred_train, y_pred_test)"
   ]
  },
  {
   "cell_type": "code",
   "execution_count": 35,
   "metadata": {
    "ExecuteTime": {
     "end_time": "2020-05-29T22:39:24.361321Z",
     "start_time": "2020-05-29T22:39:23.958686Z"
    },
    "scrolled": true
   },
   "outputs": [
    {
     "data": {
      "image/png": "[encoded data removed]",
      "text/plain": [
       "<Figure size 720x576 with 1 Axes>"
      ]
     },
     "metadata": {
      "needs_background": "light"
     },
     "output_type": "display_data"
    },
    {
     "name": "stdout",
     "output_type": "stream",
     "text": [
      "Training AUC: 0.82707\n",
      "Testing AUC: 0.83024\n"
     ]
    }
   ],
   "source": [
    "roc_curve_and_auc(clf, X_train_ada, X_test, y_train_ada, y_test)"
   ]
  },
  {
   "cell_type": "code",
   "execution_count": 36,
   "metadata": {
    "ExecuteTime": {
     "end_time": "2020-05-29T22:39:37.329974Z",
     "start_time": "2020-05-29T22:39:37.325518Z"
    }
   },
   "outputs": [
    {
     "data": {
      "text/plain": [
       "array([[-0.06,  0.01,  0.  ,  0.27,  0.15, -0.29,  0.94,  0.16,  0.57,\n",
       "        -0.06, -0.06, -0.23, -0.06, -0.04, -0.06, -0.45, -0.06,  0.15,\n",
       "        -0.93, -1.64,  0.23, -0.09,  0.42,  0.03]])"
      ]
     },
     "execution_count": 36,
     "metadata": {},
     "output_type": "execute_result"
    }
   ],
   "source": [
    "clf.coef_.round(2)"
   ]
  },
  {
   "cell_type": "code",
   "execution_count": null,
   "metadata": {},
   "outputs": [],
   "source": [
    "# plot_feature_importances(clf)"
   ]
  },
  {
   "cell_type": "code",
   "execution_count": 39,
   "metadata": {
    "ExecuteTime": {
     "end_time": "2020-05-29T22:40:58.797886Z",
     "start_time": "2020-05-29T22:40:58.793604Z"
    }
   },
   "outputs": [
    {
     "data": {
      "text/plain": [
       "Index(['tenure', 'MonthlyCharges', 'TotalCharges', 'SeniorCitizen_1',\n",
       "       'Partner_Yes', 'Dependents_Yes', 'MultipleLines_No phone service',\n",
       "       'MultipleLines_Yes', 'InternetService_Fiber optic',\n",
       "       'InternetService_No', 'OnlineBackup_No internet service',\n",
       "       'OnlineBackup_Yes', 'DeviceProtection_No internet service',\n",
       "       'DeviceProtection_Yes', 'TechSupport_No internet service',\n",
       "       'TechSupport_Yes', 'StreamingTV_No internet service', 'StreamingTV_Yes',\n",
       "       'Contract_One year', 'Contract_Two year', 'PaperlessBilling_Yes',\n",
       "       'PaymentMethod_Credit card (automatic)',\n",
       "       'PaymentMethod_Electronic check', 'PaymentMethod_Mailed check'],\n",
       "      dtype='object')"
      ]
     },
     "execution_count": 39,
     "metadata": {},
     "output_type": "execute_result"
    }
   ],
   "source": [
    "X_train.columns"
   ]
  },
  {
   "cell_type": "markdown",
   "metadata": {},
   "source": [
    "# L1 regression (Lasso and Ridge regularizations)"
   ]
  },
  {
   "cell_type": "code",
   "execution_count": 40,
   "metadata": {
    "ExecuteTime": {
     "end_time": "2020-05-29T22:42:20.875045Z",
     "start_time": "2020-05-29T22:42:20.761909Z"
    },
    "scrolled": false
   },
   "outputs": [
    {
     "data": {
      "text/plain": [
       "SGDClassifier(alpha=0.0001, average=False, class_weight=None,\n",
       "              early_stopping=False, epsilon=0.1, eta0=0.0, fit_intercept=True,\n",
       "              l1_ratio=0.15, learning_rate='optimal', loss='hinge',\n",
       "              max_iter=1000, n_iter_no_change=5, n_jobs=None,\n",
       "              penalty='elasticnet', power_t=0.5, random_state=None,\n",
       "              shuffle=True, tol=0.001, validation_fraction=0.1, verbose=0,\n",
       "              warm_start=False)"
      ]
     },
     "execution_count": 40,
     "metadata": {},
     "output_type": "execute_result"
    }
   ],
   "source": [
    "clf = SGDClassifier(penalty='elasticnet')\n",
    "clf.fit(scaled_X_train_smoted, y_train_smoted)"
   ]
  },
  {
   "cell_type": "code",
   "execution_count": 41,
   "metadata": {
    "ExecuteTime": {
     "end_time": "2020-05-29T22:42:21.715167Z",
     "start_time": "2020-05-29T22:42:21.711346Z"
    }
   },
   "outputs": [],
   "source": [
    "y_pred_train = clf.predict(scaled_X_train_smoted)\n",
    "y_pred_test = clf.predict(scaled_X_test)"
   ]
  },
  {
   "cell_type": "code",
   "execution_count": 42,
   "metadata": {
    "ExecuteTime": {
     "end_time": "2020-05-29T22:42:23.469796Z",
     "start_time": "2020-05-29T22:42:22.697585Z"
    },
    "scrolled": true
   },
   "outputs": [
    {
     "name": "stdout",
     "output_type": "stream",
     "text": [
      "MODEL EVALUATION METRICS:\n",
      " -----------------------------------------------------\n",
      "Confusion Matrix for train & test set: \n",
      "\n",
      "  Predicted  No Churn   Churn     All\n",
      "0    Actual       NaN     NaN     NaN\n",
      "1  No Churn    2605.0  1258.0  3863.0\n",
      "2     Churn     653.0  3210.0  3863.0\n",
      "3       All    3258.0  4468.0  7726.0\n",
      "None \n",
      "\n",
      "  Predicted  No Churn  Churn     All\n",
      "0    Actual       NaN    NaN     NaN\n",
      "1  No Churn     859.0  441.0  1300.0\n",
      "2     Churn      86.0  372.0   458.0\n",
      "3       All     945.0  813.0  1758.0\n",
      "None \n",
      "\n",
      "-----------------------------------------------------\n",
      "\n",
      "Classification Report for train & test set\n",
      " \n",
      "Train set\n",
      "               precision    recall  f1-score   support\n",
      "\n",
      "           0       0.80      0.67      0.73      3863\n",
      "           1       0.72      0.83      0.77      3863\n",
      "\n",
      "    accuracy                           0.75      7726\n",
      "   macro avg       0.76      0.75      0.75      7726\n",
      "weighted avg       0.76      0.75      0.75      7726\n",
      " \n",
      "\n",
      "Test set\n",
      "               precision    recall  f1-score   support\n",
      "\n",
      "           0       0.91      0.66      0.77      1300\n",
      "           1       0.46      0.81      0.59       458\n",
      "\n",
      "    accuracy                           0.70      1758\n",
      "   macro avg       0.68      0.74      0.68      1758\n",
      "weighted avg       0.79      0.70      0.72      1758\n",
      "\n",
      "-----------------------------------------------------\n",
      "\n",
      "Cohen's Kappa for train and test set:\n",
      "  0.5053 0.3781\n",
      "f2 score for train and test set: \n",
      "  0.8057 0.7032\n",
      "roc auc score for train and test set:\n",
      "  0.7527 0.7365\n",
      "Mean Cross Validation Score:\n",
      " 0.6778\n"
     ]
    }
   ],
   "source": [
    "model_evaluation(scaled_X_train_smoted, scaled_X_test, y_train_smoted, y_test, y_pred_train, y_pred_test)"
   ]
  },
  {
   "cell_type": "code",
   "execution_count": 43,
   "metadata": {
    "ExecuteTime": {
     "end_time": "2020-05-29T22:42:44.809092Z",
     "start_time": "2020-05-29T22:42:44.729638Z"
    },
    "scrolled": false
   },
   "outputs": [
    {
     "data": {
      "text/plain": [
       "SGDClassifier(alpha=0.0001, average=False, class_weight='balanced',\n",
       "              early_stopping=False, epsilon=0.1, eta0=0.0, fit_intercept=True,\n",
       "              l1_ratio=0.15, learning_rate='optimal', loss='hinge',\n",
       "              max_iter=1000, n_iter_no_change=5, n_jobs=None,\n",
       "              penalty='elasticnet', power_t=0.5, random_state=None,\n",
       "              shuffle=True, tol=0.001, validation_fraction=0.1, verbose=0,\n",
       "              warm_start=False)"
      ]
     },
     "execution_count": 43,
     "metadata": {},
     "output_type": "execute_result"
    }
   ],
   "source": [
    "clf = SGDClassifier(penalty='elasticnet',class_weight='balanced')\n",
    "clf.fit(scaled_X_train, y_train)"
   ]
  },
  {
   "cell_type": "code",
   "execution_count": 44,
   "metadata": {
    "ExecuteTime": {
     "end_time": "2020-05-29T22:42:47.678160Z",
     "start_time": "2020-05-29T22:42:47.673476Z"
    }
   },
   "outputs": [],
   "source": [
    "y_pred_train = clf.predict(scaled_X_train)\n",
    "y_pred_test = clf.predict(scaled_X_test)"
   ]
  },
  {
   "cell_type": "code",
   "execution_count": 45,
   "metadata": {
    "ExecuteTime": {
     "end_time": "2020-05-29T22:42:49.250515Z",
     "start_time": "2020-05-29T22:42:48.704265Z"
    },
    "scrolled": true
   },
   "outputs": [
    {
     "name": "stdout",
     "output_type": "stream",
     "text": [
      "MODEL EVALUATION METRICS:\n",
      " -----------------------------------------------------\n",
      "Confusion Matrix for train & test set: \n",
      "\n",
      "  Predicted  No Churn   Churn     All\n",
      "0    Actual       NaN     NaN     NaN\n",
      "1  No Churn    2901.0   962.0  3863.0\n",
      "2     Churn     352.0  1059.0  1411.0\n",
      "3       All    3253.0  2021.0  5274.0\n",
      "None \n",
      "\n",
      "  Predicted  No Churn  Churn     All\n",
      "0    Actual       NaN    NaN     NaN\n",
      "1  No Churn     968.0  332.0  1300.0\n",
      "2     Churn     119.0  339.0   458.0\n",
      "3       All    1087.0  671.0  1758.0\n",
      "None \n",
      "\n",
      "-----------------------------------------------------\n",
      "\n",
      "Classification Report for train & test set\n",
      " \n",
      "Train set\n",
      "               precision    recall  f1-score   support\n",
      "\n",
      "           0       0.89      0.75      0.82      3863\n",
      "           1       0.52      0.75      0.62      1411\n",
      "\n",
      "    accuracy                           0.75      5274\n",
      "   macro avg       0.71      0.75      0.72      5274\n",
      "weighted avg       0.79      0.75      0.76      5274\n",
      " \n",
      "\n",
      "Test set\n",
      "               precision    recall  f1-score   support\n",
      "\n",
      "           0       0.89      0.74      0.81      1300\n",
      "           1       0.51      0.74      0.60       458\n",
      "\n",
      "    accuracy                           0.74      1758\n",
      "   macro avg       0.70      0.74      0.71      1758\n",
      "weighted avg       0.79      0.74      0.76      1758\n",
      "\n",
      "-----------------------------------------------------\n",
      "\n",
      "Cohen's Kappa for train and test set:\n",
      "  0.441 0.4213\n",
      "f2 score for train and test set: \n",
      "  0.6908 0.6772\n",
      "roc auc score for train and test set:\n",
      "  0.7508 0.7424\n",
      "Mean Cross Validation Score:\n",
      " 0.731\n"
     ]
    }
   ],
   "source": [
    "model_evaluation(scaled_X_train, scaled_X_test, y_train, y_test, y_pred_train, y_pred_test)"
   ]
  },
  {
   "cell_type": "code",
   "execution_count": null,
   "metadata": {
    "ExecuteTime": {
     "start_time": "2020-05-30T00:29:35.855Z"
    },
    "scrolled": true
   },
   "outputs": [],
   "source": [
    "len(clf.coef_)"
   ]
  },
  {
   "cell_type": "markdown",
   "metadata": {},
   "source": [
    "# KNN Classifier"
   ]
  },
  {
   "cell_type": "code",
   "execution_count": 47,
   "metadata": {
    "ExecuteTime": {
     "end_time": "2020-05-29T22:45:18.184612Z",
     "start_time": "2020-05-29T22:44:38.867724Z"
    }
   },
   "outputs": [
    {
     "name": "stdout",
     "output_type": "stream",
     "text": [
      "------------\n",
      "1\n",
      "\n",
      "Classification Report for train & test set\n",
      " \n",
      "Train set\n",
      "               precision    recall  f1-score   support\n",
      "\n",
      "           0       1.00      1.00      1.00      3863\n",
      "           1       1.00      1.00      1.00      3863\n",
      "\n",
      "    accuracy                           1.00      7726\n",
      "   macro avg       1.00      1.00      1.00      7726\n",
      "weighted avg       1.00      1.00      1.00      7726\n",
      " \n",
      "\n",
      "Test set\n",
      "               precision    recall  f1-score   support\n",
      "\n",
      "           0       0.83      0.78      0.80      1300\n",
      "           1       0.47      0.55      0.50       458\n",
      "\n",
      "    accuracy                           0.72      1758\n",
      "   macro avg       0.65      0.66      0.65      1758\n",
      "weighted avg       0.74      0.72      0.73      1758\n",
      "\n",
      "-----------------------------------------------\n",
      "\n",
      "f2 score for train and test set: \n",
      "  0.998 0.5281\n",
      "------------\n",
      "2\n",
      "\n",
      "Classification Report for train & test set\n",
      " \n",
      "Train set\n",
      "               precision    recall  f1-score   support\n",
      "\n",
      "           0       0.90      1.00      0.95      3863\n",
      "           1       1.00      0.89      0.94      3863\n",
      "\n",
      "    accuracy                           0.94      7726\n",
      "   macro avg       0.95      0.94      0.94      7726\n",
      "weighted avg       0.95      0.94      0.94      7726\n",
      " \n",
      "\n",
      "Test set\n",
      "               precision    recall  f1-score   support\n",
      "\n",
      "           0       0.81      0.84      0.83      1300\n",
      "           1       0.50      0.45      0.47       458\n",
      "\n",
      "    accuracy                           0.74      1758\n",
      "   macro avg       0.65      0.64      0.65      1758\n",
      "weighted avg       0.73      0.74      0.73      1758\n",
      "\n",
      "-----------------------------------------------\n",
      "\n",
      "f2 score for train and test set: \n",
      "  0.9093 0.4584\n",
      "------------\n",
      "3\n",
      "\n",
      "Classification Report for train & test set\n",
      " \n",
      "Train set\n",
      "               precision    recall  f1-score   support\n",
      "\n",
      "           0       0.96      0.84      0.90      3863\n",
      "           1       0.86      0.97      0.91      3863\n",
      "\n",
      "    accuracy                           0.90      7726\n",
      "   macro avg       0.91      0.90      0.90      7726\n",
      "weighted avg       0.91      0.90      0.90      7726\n",
      " \n",
      "\n",
      "Test set\n",
      "               precision    recall  f1-score   support\n",
      "\n",
      "           0       0.85      0.71      0.77      1300\n",
      "           1       0.44      0.65      0.53       458\n",
      "\n",
      "    accuracy                           0.69      1758\n",
      "   macro avg       0.65      0.68      0.65      1758\n",
      "weighted avg       0.74      0.69      0.71      1758\n",
      "\n",
      "-----------------------------------------------\n",
      "\n",
      "f2 score for train and test set: \n",
      "  0.9415 0.5949\n",
      "------------\n",
      "4\n",
      "\n",
      "Classification Report for train & test set\n",
      " \n",
      "Train set\n",
      "               precision    recall  f1-score   support\n",
      "\n",
      "           0       0.90      0.88      0.89      3863\n",
      "           1       0.88      0.90      0.89      3863\n",
      "\n",
      "    accuracy                           0.89      7726\n",
      "   macro avg       0.89      0.89      0.89      7726\n",
      "weighted avg       0.89      0.89      0.89      7726\n",
      " \n",
      "\n",
      "Test set\n",
      "               precision    recall  f1-score   support\n",
      "\n",
      "           0       0.83      0.77      0.80      1300\n",
      "           1       0.46      0.56      0.51       458\n",
      "\n",
      "    accuracy                           0.71      1758\n",
      "   macro avg       0.65      0.66      0.65      1758\n",
      "weighted avg       0.74      0.71      0.72      1758\n",
      "\n",
      "-----------------------------------------------\n",
      "\n",
      "f2 score for train and test set: \n",
      "  0.8976 0.5377\n",
      "------------\n",
      "5\n",
      "\n",
      "Classification Report for train & test set\n",
      " \n",
      "Train set\n",
      "               precision    recall  f1-score   support\n",
      "\n",
      "           0       0.94      0.78      0.85      3863\n",
      "           1       0.81      0.95      0.88      3863\n",
      "\n",
      "    accuracy                           0.87      7726\n",
      "   macro avg       0.88      0.87      0.86      7726\n",
      "weighted avg       0.88      0.87      0.86      7726\n",
      " \n",
      "\n",
      "Test set\n",
      "               precision    recall  f1-score   support\n",
      "\n",
      "           0       0.87      0.68      0.77      1300\n",
      "           1       0.44      0.72      0.55       458\n",
      "\n",
      "    accuracy                           0.69      1758\n",
      "   macro avg       0.66      0.70      0.66      1758\n",
      "weighted avg       0.76      0.69      0.71      1758\n",
      "\n",
      "-----------------------------------------------\n",
      "\n",
      "f2 score for train and test set: \n",
      "  0.9189 0.6379\n",
      "------------\n",
      "6\n",
      "\n",
      "Classification Report for train & test set\n",
      " \n",
      "Train set\n",
      "               precision    recall  f1-score   support\n",
      "\n",
      "           0       0.91      0.82      0.86      3863\n",
      "           1       0.84      0.91      0.87      3863\n",
      "\n",
      "    accuracy                           0.87      7726\n",
      "   macro avg       0.87      0.87      0.87      7726\n",
      "weighted avg       0.87      0.87      0.87      7726\n",
      " \n",
      "\n",
      "Test set\n",
      "               precision    recall  f1-score   support\n",
      "\n",
      "           0       0.85      0.75      0.80      1300\n",
      "           1       0.47      0.64      0.54       458\n",
      "\n",
      "    accuracy                           0.72      1758\n",
      "   macro avg       0.66      0.69      0.67      1758\n",
      "weighted avg       0.76      0.72      0.73      1758\n",
      "\n",
      "-----------------------------------------------\n",
      "\n",
      "f2 score for train and test set: \n",
      "  0.8981 0.5972\n",
      "------------\n",
      "7\n",
      "\n",
      "Classification Report for train & test set\n",
      " \n",
      "Train set\n",
      "               precision    recall  f1-score   support\n",
      "\n",
      "           0       0.93      0.75      0.83      3863\n",
      "           1       0.79      0.94      0.86      3863\n",
      "\n",
      "    accuracy                           0.85      7726\n",
      "   macro avg       0.86      0.85      0.84      7726\n",
      "weighted avg       0.86      0.85      0.84      7726\n",
      " \n",
      "\n",
      "Test set\n",
      "               precision    recall  f1-score   support\n",
      "\n",
      "           0       0.87      0.68      0.77      1300\n",
      "           1       0.45      0.72      0.55       458\n",
      "\n",
      "    accuracy                           0.69      1758\n",
      "   macro avg       0.66      0.70      0.66      1758\n",
      "weighted avg       0.76      0.69      0.71      1758\n",
      "\n",
      "-----------------------------------------------\n",
      "\n",
      "f2 score for train and test set: \n",
      "  0.9055 0.6427\n",
      "------------\n",
      "8\n",
      "\n",
      "Classification Report for train & test set\n",
      " \n",
      "Train set\n",
      "               precision    recall  f1-score   support\n",
      "\n",
      "           0       0.89      0.79      0.84      3863\n",
      "           1       0.81      0.90      0.85      3863\n",
      "\n",
      "    accuracy                           0.85      7726\n",
      "   macro avg       0.85      0.85      0.84      7726\n",
      "weighted avg       0.85      0.85      0.84      7726\n",
      " \n",
      "\n",
      "Test set\n",
      "               precision    recall  f1-score   support\n",
      "\n",
      "           0       0.87      0.73      0.79      1300\n",
      "           1       0.47      0.68      0.56       458\n",
      "\n",
      "    accuracy                           0.72      1758\n",
      "   macro avg       0.67      0.70      0.67      1758\n",
      "weighted avg       0.76      0.72      0.73      1758\n",
      "\n",
      "-----------------------------------------------\n",
      "\n",
      "f2 score for train and test set: \n",
      "  0.8798 0.6235\n",
      "------------\n",
      "9\n",
      "\n",
      "Classification Report for train & test set\n",
      " \n",
      "Train set\n",
      "               precision    recall  f1-score   support\n",
      "\n",
      "           0       0.91      0.73      0.81      3863\n",
      "           1       0.78      0.93      0.84      3863\n",
      "\n",
      "    accuracy                           0.83      7726\n",
      "   macro avg       0.84      0.83      0.83      7726\n",
      "weighted avg       0.84      0.83      0.83      7726\n",
      " \n",
      "\n",
      "Test set\n",
      "               precision    recall  f1-score   support\n",
      "\n",
      "           0       0.88      0.68      0.77      1300\n",
      "           1       0.45      0.74      0.56       458\n",
      "\n",
      "    accuracy                           0.70      1758\n",
      "   macro avg       0.67      0.71      0.67      1758\n",
      "weighted avg       0.77      0.70      0.72      1758\n",
      "\n",
      "-----------------------------------------------\n",
      "\n",
      "f2 score for train and test set: \n",
      "  0.8911 0.6596\n",
      "------------\n",
      "10\n",
      "\n",
      "Classification Report for train & test set\n",
      " \n",
      "Train set\n",
      "               precision    recall  f1-score   support\n",
      "\n",
      "           0       0.88      0.77      0.82      3863\n",
      "           1       0.80      0.89      0.84      3863\n",
      "\n",
      "    accuracy                           0.83      7726\n",
      "   macro avg       0.84      0.83      0.83      7726\n",
      "weighted avg       0.84      0.83      0.83      7726\n",
      " \n",
      "\n",
      "Test set\n",
      "               precision    recall  f1-score   support\n",
      "\n",
      "           0       0.88      0.73      0.80      1300\n",
      "           1       0.48      0.71      0.57       458\n",
      "\n",
      "    accuracy                           0.72      1758\n",
      "   macro avg       0.68      0.72      0.68      1758\n",
      "weighted avg       0.77      0.72      0.74      1758\n",
      "\n",
      "-----------------------------------------------\n",
      "\n",
      "f2 score for train and test set: \n",
      "  0.8733 0.6442\n"
     ]
    },
    {
     "name": "stdout",
     "output_type": "stream",
     "text": [
      "------------\n",
      "11\n",
      "\n",
      "Classification Report for train & test set\n",
      " \n",
      "Train set\n",
      "               precision    recall  f1-score   support\n",
      "\n",
      "           0       0.90      0.72      0.80      3863\n",
      "           1       0.76      0.92      0.83      3863\n",
      "\n",
      "    accuracy                           0.82      7726\n",
      "   macro avg       0.83      0.82      0.82      7726\n",
      "weighted avg       0.83      0.82      0.82      7726\n",
      " \n",
      "\n",
      "Test set\n",
      "               precision    recall  f1-score   support\n",
      "\n",
      "           0       0.89      0.68      0.77      1300\n",
      "           1       0.45      0.76      0.57       458\n",
      "\n",
      "    accuracy                           0.70      1758\n",
      "   macro avg       0.67      0.72      0.67      1758\n",
      "weighted avg       0.78      0.70      0.72      1758\n",
      "\n",
      "-----------------------------------------------\n",
      "\n",
      "f2 score for train and test set: \n",
      "  0.8844 0.669\n",
      "------------\n",
      "12\n",
      "\n",
      "Classification Report for train & test set\n",
      " \n",
      "Train set\n",
      "               precision    recall  f1-score   support\n",
      "\n",
      "           0       0.87      0.75      0.81      3863\n",
      "           1       0.78      0.89      0.83      3863\n",
      "\n",
      "    accuracy                           0.82      7726\n",
      "   macro avg       0.83      0.82      0.82      7726\n",
      "weighted avg       0.83      0.82      0.82      7726\n",
      " \n",
      "\n",
      "Test set\n",
      "               precision    recall  f1-score   support\n",
      "\n",
      "           0       0.88      0.71      0.79      1300\n",
      "           1       0.47      0.73      0.57       458\n",
      "\n",
      "    accuracy                           0.72      1758\n",
      "   macro avg       0.68      0.72      0.68      1758\n",
      "weighted avg       0.77      0.72      0.73      1758\n",
      "\n",
      "-----------------------------------------------\n",
      "\n",
      "f2 score for train and test set: \n",
      "  0.8678 0.6555\n",
      "------------\n",
      "13\n",
      "\n",
      "Classification Report for train & test set\n",
      " \n",
      "Train set\n",
      "               precision    recall  f1-score   support\n",
      "\n",
      "           0       0.89      0.71      0.79      3863\n",
      "           1       0.76      0.91      0.83      3863\n",
      "\n",
      "    accuracy                           0.81      7726\n",
      "   macro avg       0.82      0.81      0.81      7726\n",
      "weighted avg       0.82      0.81      0.81      7726\n",
      " \n",
      "\n",
      "Test set\n",
      "               precision    recall  f1-score   support\n",
      "\n",
      "           0       0.90      0.67      0.77      1300\n",
      "           1       0.45      0.78      0.57       458\n",
      "\n",
      "    accuracy                           0.70      1758\n",
      "   macro avg       0.67      0.72      0.67      1758\n",
      "weighted avg       0.78      0.70      0.72      1758\n",
      "\n",
      "-----------------------------------------------\n",
      "\n",
      "f2 score for train and test set: \n",
      "  0.8764 0.6802\n",
      "------------\n",
      "14\n",
      "\n",
      "Classification Report for train & test set\n",
      " \n",
      "Train set\n",
      "               precision    recall  f1-score   support\n",
      "\n",
      "           0       0.87      0.74      0.80      3863\n",
      "           1       0.77      0.89      0.82      3863\n",
      "\n",
      "    accuracy                           0.81      7726\n",
      "   macro avg       0.82      0.81      0.81      7726\n",
      "weighted avg       0.82      0.81      0.81      7726\n",
      " \n",
      "\n",
      "Test set\n",
      "               precision    recall  f1-score   support\n",
      "\n",
      "           0       0.89      0.71      0.79      1300\n",
      "           1       0.48      0.76      0.59       458\n",
      "\n",
      "    accuracy                           0.72      1758\n",
      "   macro avg       0.68      0.73      0.69      1758\n",
      "weighted avg       0.78      0.72      0.74      1758\n",
      "\n",
      "-----------------------------------------------\n",
      "\n",
      "f2 score for train and test set: \n",
      "  0.8597 0.6789\n",
      "------------\n",
      "15\n",
      "\n",
      "Classification Report for train & test set\n",
      " \n",
      "Train set\n",
      "               precision    recall  f1-score   support\n",
      "\n",
      "           0       0.88      0.70      0.78      3863\n",
      "           1       0.75      0.90      0.82      3863\n",
      "\n",
      "    accuracy                           0.80      7726\n",
      "   macro avg       0.82      0.80      0.80      7726\n",
      "weighted avg       0.82      0.80      0.80      7726\n",
      " \n",
      "\n",
      "Test set\n",
      "               precision    recall  f1-score   support\n",
      "\n",
      "           0       0.90      0.66      0.76      1300\n",
      "           1       0.45      0.80      0.58       458\n",
      "\n",
      "    accuracy                           0.70      1758\n",
      "   macro avg       0.68      0.73      0.67      1758\n",
      "weighted avg       0.79      0.70      0.72      1758\n",
      "\n",
      "-----------------------------------------------\n",
      "\n",
      "f2 score for train and test set: \n",
      "  0.8695 0.6921\n",
      "------------\n",
      "16\n",
      "\n",
      "Classification Report for train & test set\n",
      " \n",
      "Train set\n",
      "               precision    recall  f1-score   support\n",
      "\n",
      "           0       0.86      0.72      0.79      3863\n",
      "           1       0.76      0.88      0.82      3863\n",
      "\n",
      "    accuracy                           0.80      7726\n",
      "   macro avg       0.81      0.80      0.80      7726\n",
      "weighted avg       0.81      0.80      0.80      7726\n",
      " \n",
      "\n",
      "Test set\n",
      "               precision    recall  f1-score   support\n",
      "\n",
      "           0       0.90      0.69      0.78      1300\n",
      "           1       0.47      0.77      0.58       458\n",
      "\n",
      "    accuracy                           0.71      1758\n",
      "   macro avg       0.68      0.73      0.68      1758\n",
      "weighted avg       0.78      0.71      0.73      1758\n",
      "\n",
      "-----------------------------------------------\n",
      "\n",
      "f2 score for train and test set: \n",
      "  0.8551 0.682\n",
      "------------\n",
      "17\n",
      "\n",
      "Classification Report for train & test set\n",
      " \n",
      "Train set\n",
      "               precision    recall  f1-score   support\n",
      "\n",
      "           0       0.87      0.70      0.77      3863\n",
      "           1       0.75      0.90      0.82      3863\n",
      "\n",
      "    accuracy                           0.80      7726\n",
      "   macro avg       0.81      0.80      0.80      7726\n",
      "weighted avg       0.81      0.80      0.80      7726\n",
      " \n",
      "\n",
      "Test set\n",
      "               precision    recall  f1-score   support\n",
      "\n",
      "           0       0.91      0.65      0.76      1300\n",
      "           1       0.45      0.81      0.58       458\n",
      "\n",
      "    accuracy                           0.69      1758\n",
      "   macro avg       0.68      0.73      0.67      1758\n",
      "weighted avg       0.79      0.69      0.71      1758\n",
      "\n",
      "-----------------------------------------------\n",
      "\n",
      "f2 score for train and test set: \n",
      "  0.8649 0.7006\n",
      "------------\n",
      "18\n",
      "\n",
      "Classification Report for train & test set\n",
      " \n",
      "Train set\n",
      "               precision    recall  f1-score   support\n",
      "\n",
      "           0       0.86      0.72      0.78      3863\n",
      "           1       0.76      0.88      0.82      3863\n",
      "\n",
      "    accuracy                           0.80      7726\n",
      "   macro avg       0.81      0.80      0.80      7726\n",
      "weighted avg       0.81      0.80      0.80      7726\n",
      " \n",
      "\n",
      "Test set\n",
      "               precision    recall  f1-score   support\n",
      "\n",
      "           0       0.90      0.68      0.77      1300\n",
      "           1       0.46      0.79      0.58       458\n",
      "\n",
      "    accuracy                           0.71      1758\n",
      "   macro avg       0.68      0.73      0.68      1758\n",
      "weighted avg       0.79      0.71      0.72      1758\n",
      "\n",
      "-----------------------------------------------\n",
      "\n",
      "f2 score for train and test set: \n",
      "  0.8535 0.6891\n",
      "------------\n",
      "19\n",
      "\n",
      "Classification Report for train & test set\n",
      " \n",
      "Train set\n",
      "               precision    recall  f1-score   support\n",
      "\n",
      "           0       0.87      0.70      0.77      3863\n",
      "           1       0.75      0.89      0.81      3863\n",
      "\n",
      "    accuracy                           0.80      7726\n",
      "   macro avg       0.81      0.80      0.79      7726\n",
      "weighted avg       0.81      0.80      0.79      7726\n",
      " \n",
      "\n",
      "Test set\n",
      "               precision    recall  f1-score   support\n",
      "\n",
      "           0       0.91      0.65      0.76      1300\n",
      "           1       0.45      0.82      0.58       458\n",
      "\n",
      "    accuracy                           0.70      1758\n",
      "   macro avg       0.68      0.74      0.67      1758\n",
      "weighted avg       0.79      0.70      0.71      1758\n",
      "\n",
      "-----------------------------------------------\n",
      "\n",
      "f2 score for train and test set: \n",
      "  0.8604 0.7078\n",
      "------------\n",
      "20\n",
      "\n",
      "Classification Report for train & test set\n",
      " \n",
      "Train set\n",
      "               precision    recall  f1-score   support\n",
      "\n",
      "           0       0.85      0.72      0.78      3863\n",
      "           1       0.76      0.87      0.81      3863\n",
      "\n",
      "    accuracy                           0.80      7726\n",
      "   macro avg       0.80      0.80      0.79      7726\n",
      "weighted avg       0.80      0.80      0.79      7726\n",
      " \n",
      "\n",
      "Test set\n",
      "               precision    recall  f1-score   support\n",
      "\n",
      "           0       0.91      0.68      0.78      1300\n",
      "           1       0.47      0.80      0.59       458\n",
      "\n",
      "    accuracy                           0.71      1758\n",
      "   macro avg       0.69      0.74      0.69      1758\n",
      "weighted avg       0.79      0.71      0.73      1758\n",
      "\n",
      "-----------------------------------------------\n",
      "\n",
      "f2 score for train and test set: \n",
      "  0.8478 0.7034\n"
     ]
    },
    {
     "name": "stdout",
     "output_type": "stream",
     "text": [
      "------------\n",
      "21\n",
      "\n",
      "Classification Report for train & test set\n",
      " \n",
      "Train set\n",
      "               precision    recall  f1-score   support\n",
      "\n",
      "           0       0.87      0.69      0.77      3863\n",
      "           1       0.74      0.89      0.81      3863\n",
      "\n",
      "    accuracy                           0.79      7726\n",
      "   macro avg       0.80      0.79      0.79      7726\n",
      "weighted avg       0.80      0.79      0.79      7726\n",
      " \n",
      "\n",
      "Test set\n",
      "               precision    recall  f1-score   support\n",
      "\n",
      "           0       0.91      0.65      0.76      1300\n",
      "           1       0.45      0.83      0.59       458\n",
      "\n",
      "    accuracy                           0.70      1758\n",
      "   macro avg       0.68      0.74      0.67      1758\n",
      "weighted avg       0.79      0.70      0.72      1758\n",
      "\n",
      "-----------------------------------------------\n",
      "\n",
      "f2 score for train and test set: \n",
      "  0.8579 0.7111\n",
      "------------\n",
      "22\n",
      "\n",
      "Classification Report for train & test set\n",
      " \n",
      "Train set\n",
      "               precision    recall  f1-score   support\n",
      "\n",
      "           0       0.85      0.71      0.77      3863\n",
      "           1       0.75      0.88      0.81      3863\n",
      "\n",
      "    accuracy                           0.79      7726\n",
      "   macro avg       0.80      0.79      0.79      7726\n",
      "weighted avg       0.80      0.79      0.79      7726\n",
      " \n",
      "\n",
      "Test set\n",
      "               precision    recall  f1-score   support\n",
      "\n",
      "           0       0.91      0.67      0.77      1300\n",
      "           1       0.46      0.81      0.59       458\n",
      "\n",
      "    accuracy                           0.71      1758\n",
      "   macro avg       0.69      0.74      0.68      1758\n",
      "weighted avg       0.79      0.71      0.72      1758\n",
      "\n",
      "-----------------------------------------------\n",
      "\n",
      "f2 score for train and test set: \n",
      "  0.848 0.7021\n",
      "------------\n",
      "23\n",
      "\n",
      "Classification Report for train & test set\n",
      " \n",
      "Train set\n",
      "               precision    recall  f1-score   support\n",
      "\n",
      "           0       0.87      0.68      0.76      3863\n",
      "           1       0.74      0.90      0.81      3863\n",
      "\n",
      "    accuracy                           0.79      7726\n",
      "   macro avg       0.80      0.79      0.79      7726\n",
      "weighted avg       0.80      0.79      0.79      7726\n",
      " \n",
      "\n",
      "Test set\n",
      "               precision    recall  f1-score   support\n",
      "\n",
      "           0       0.91      0.64      0.75      1300\n",
      "           1       0.45      0.82      0.58       458\n",
      "\n",
      "    accuracy                           0.69      1758\n",
      "   macro avg       0.68      0.73      0.66      1758\n",
      "weighted avg       0.79      0.69      0.71      1758\n",
      "\n",
      "-----------------------------------------------\n",
      "\n",
      "f2 score for train and test set: \n",
      "  0.8591 0.7001\n",
      "------------\n",
      "24\n",
      "\n",
      "Classification Report for train & test set\n",
      " \n",
      "Train set\n",
      "               precision    recall  f1-score   support\n",
      "\n",
      "           0       0.85      0.70      0.77      3863\n",
      "           1       0.75      0.88      0.81      3863\n",
      "\n",
      "    accuracy                           0.79      7726\n",
      "   macro avg       0.80      0.79      0.79      7726\n",
      "weighted avg       0.80      0.79      0.79      7726\n",
      " \n",
      "\n",
      "Test set\n",
      "               precision    recall  f1-score   support\n",
      "\n",
      "           0       0.90      0.66      0.76      1300\n",
      "           1       0.45      0.80      0.58       458\n",
      "\n",
      "    accuracy                           0.70      1758\n",
      "   macro avg       0.68      0.73      0.67      1758\n",
      "weighted avg       0.79      0.70      0.72      1758\n",
      "\n",
      "-----------------------------------------------\n",
      "\n",
      "f2 score for train and test set: \n",
      "  0.8499 0.6926\n",
      "------------\n",
      "25\n",
      "\n",
      "Classification Report for train & test set\n",
      " \n",
      "Train set\n",
      "               precision    recall  f1-score   support\n",
      "\n",
      "           0       0.86      0.68      0.76      3863\n",
      "           1       0.74      0.89      0.81      3863\n",
      "\n",
      "    accuracy                           0.79      7726\n",
      "   macro avg       0.80      0.79      0.78      7726\n",
      "weighted avg       0.80      0.79      0.78      7726\n",
      " \n",
      "\n",
      "Test set\n",
      "               precision    recall  f1-score   support\n",
      "\n",
      "           0       0.91      0.64      0.75      1300\n",
      "           1       0.44      0.82      0.58       458\n",
      "\n",
      "    accuracy                           0.69      1758\n",
      "   macro avg       0.68      0.73      0.66      1758\n",
      "weighted avg       0.79      0.69      0.71      1758\n",
      "\n",
      "-----------------------------------------------\n",
      "\n",
      "f2 score for train and test set: \n",
      "  0.8554 0.6993\n"
     ]
    }
   ],
   "source": [
    "k_range = range(1, 26)\n",
    "\n",
    "for k in k_range:\n",
    "    clf = KNeighborsClassifier(n_neighbors=k)\n",
    "    clf.fit(scaled_X_train_smoted, y_train_smoted)\n",
    "    y_pred_train = clf.predict(scaled_X_train_smoted)\n",
    "    y_pred_test = clf.predict(scaled_X_test)\n",
    "    \n",
    "    print('------------')\n",
    "    print(k)\n",
    "    print('\\nClassification Report for train & test set\\n',\n",
    "              '\\nTrain set\\n',\n",
    "              classification_report(y_train_smoted, y_pred_train),\n",
    "              '\\n\\nTest set\\n',\n",
    "              classification_report(y_test, y_pred_test))\n",
    "    print('-----------------------------------------------\\n')\n",
    "    \n",
    "    print (\"f2 score for train and test set: \\n \",\n",
    "           round(fbeta_score(y_train_smoted, y_pred_train, 2.0),4), \n",
    "           round(fbeta_score(y_test, y_pred_test, 2.0),4))\n",
    "    "
   ]
  },
  {
   "cell_type": "markdown",
   "metadata": {},
   "source": [
    "# I chose n = 21 because it has a high recall value,  less overfitting. KNN is not the best algorithm in this data but I tried to make it as effiective as I can. High variance\n",
    "I tried ADASYN here but it did not give better results than SMOTE."
   ]
  },
  {
   "cell_type": "code",
   "execution_count": 48,
   "metadata": {
    "ExecuteTime": {
     "end_time": "2020-05-29T22:47:34.652406Z",
     "start_time": "2020-05-29T22:47:34.618826Z"
    }
   },
   "outputs": [
    {
     "data": {
      "text/plain": [
       "KNeighborsClassifier(algorithm='auto', leaf_size=30, metric='minkowski',\n",
       "                     metric_params=None, n_jobs=None, n_neighbors=21, p=2,\n",
       "                     weights='uniform')"
      ]
     },
     "execution_count": 48,
     "metadata": {},
     "output_type": "execute_result"
    }
   ],
   "source": [
    "clf = KNeighborsClassifier(n_neighbors=21)\n",
    "clf.fit(scaled_X_train_smoted, y_train_smoted)"
   ]
  },
  {
   "cell_type": "code",
   "execution_count": 49,
   "metadata": {
    "ExecuteTime": {
     "end_time": "2020-05-29T22:47:37.263539Z",
     "start_time": "2020-05-29T22:47:35.490470Z"
    }
   },
   "outputs": [],
   "source": [
    "y_pred_train = clf.predict(scaled_X_train_smoted)\n",
    "y_pred_test = clf.predict(scaled_X_test)"
   ]
  },
  {
   "cell_type": "code",
   "execution_count": 50,
   "metadata": {
    "ExecuteTime": {
     "end_time": "2020-05-29T22:47:38.466912Z",
     "start_time": "2020-05-29T22:47:38.073073Z"
    }
   },
   "outputs": [
    {
     "name": "stdout",
     "output_type": "stream",
     "text": [
      "MODEL EVALUATION METRICS:\n",
      " -----------------------------------------------------\n",
      "Confusion Matrix for train & test set: \n",
      "\n",
      "  Predicted  No Churn   Churn     All\n",
      "0    Actual       NaN     NaN     NaN\n",
      "1  No Churn    2658.0  1205.0  3863.0\n",
      "2     Churn     413.0  3450.0  3863.0\n",
      "3       All    3071.0  4655.0  7726.0\n",
      "None \n",
      "\n",
      "  Predicted  No Churn  Churn     All\n",
      "0    Actual       NaN    NaN     NaN\n",
      "1  No Churn     846.0  454.0  1300.0\n",
      "2     Churn      79.0  379.0   458.0\n",
      "3       All     925.0  833.0  1758.0\n",
      "None \n",
      "\n",
      "-----------------------------------------------------\n",
      "\n",
      "Classification Report for train & test set\n",
      " \n",
      "Train set\n",
      "               precision    recall  f1-score   support\n",
      "\n",
      "           0       0.87      0.69      0.77      3863\n",
      "           1       0.74      0.89      0.81      3863\n",
      "\n",
      "    accuracy                           0.79      7726\n",
      "   macro avg       0.80      0.79      0.79      7726\n",
      "weighted avg       0.80      0.79      0.79      7726\n",
      " \n",
      "\n",
      "Test set\n",
      "               precision    recall  f1-score   support\n",
      "\n",
      "           0       0.91      0.65      0.76      1300\n",
      "           1       0.45      0.83      0.59       458\n",
      "\n",
      "    accuracy                           0.70      1758\n",
      "   macro avg       0.68      0.74      0.67      1758\n",
      "weighted avg       0.79      0.70      0.72      1758\n",
      "\n",
      "-----------------------------------------------------\n",
      "\n",
      "Cohen's Kappa for train and test set:\n",
      "  0.5812 0.378\n",
      "f2 score for train and test set: \n",
      "  0.8579 0.7111\n",
      "roc auc score for train and test set:\n",
      "  0.7906 0.7391\n",
      "Mean Cross Validation Score:\n",
      " 0.784\n"
     ]
    }
   ],
   "source": [
    "model_evaluation(scaled_X_train_smoted, scaled_X_test, y_train_smoted, y_test, y_pred_train, y_pred_test)"
   ]
  },
  {
   "cell_type": "markdown",
   "metadata": {},
   "source": [
    "# SVM classifier"
   ]
  },
  {
   "cell_type": "code",
   "execution_count": 51,
   "metadata": {
    "ExecuteTime": {
     "end_time": "2020-05-29T22:48:17.221499Z",
     "start_time": "2020-05-29T22:48:17.216317Z"
    }
   },
   "outputs": [],
   "source": [
    "sample_X_train = X_train.sample(n=1000)\n",
    "sample_y_train = y_train.sample(n=1000)"
   ]
  },
  {
   "cell_type": "code",
   "execution_count": 52,
   "metadata": {
    "ExecuteTime": {
     "end_time": "2020-05-29T22:50:41.360062Z",
     "start_time": "2020-05-29T22:48:22.671772Z"
    }
   },
   "outputs": [],
   "source": [
    "clf = SVC(kernel='linear', class_weight='balanced')\n",
    "clf.fit(sample_X_train, sample_y_train)\n",
    "y_pred_train = clf.predict(X_train)\n",
    "y_pred_test = clf.predict(X_test)"
   ]
  },
  {
   "cell_type": "code",
   "execution_count": null,
   "metadata": {
    "ExecuteTime": {
     "start_time": "2020-05-29T23:13:36.372Z"
    }
   },
   "outputs": [
    {
     "name": "stdout",
     "output_type": "stream",
     "text": [
      "MODEL EVALUATION METRICS:\n",
      " -----------------------------------------------------\n",
      "Confusion Matrix for train & test set: \n",
      "\n",
      "  Predicted  No Churn   Churn     All\n",
      "0    Actual       NaN     NaN     NaN\n",
      "1  No Churn    1305.0  2558.0  3863.0\n",
      "2     Churn     532.0   879.0  1411.0\n",
      "3       All    1837.0  3437.0  5274.0\n",
      "None \n",
      "\n",
      "  Predicted  No Churn   Churn     All\n",
      "0    Actual       NaN     NaN     NaN\n",
      "1  No Churn     421.0   879.0  1300.0\n",
      "2     Churn     181.0   277.0   458.0\n",
      "3       All     602.0  1156.0  1758.0\n",
      "None \n",
      "\n",
      "-----------------------------------------------------\n",
      "\n",
      "Classification Report for train & test set\n",
      " \n",
      "Train set\n",
      "               precision    recall  f1-score   support\n",
      "\n",
      "           0       0.71      0.34      0.46      3863\n",
      "           1       0.26      0.62      0.36      1411\n",
      "\n",
      "    accuracy                           0.41      5274\n",
      "   macro avg       0.48      0.48      0.41      5274\n",
      "weighted avg       0.59      0.41      0.43      5274\n",
      " \n",
      "\n",
      "Test set\n",
      "               precision    recall  f1-score   support\n",
      "\n",
      "           0       0.70      0.32      0.44      1300\n",
      "           1       0.24      0.60      0.34       458\n",
      "\n",
      "    accuracy                           0.40      1758\n",
      "   macro avg       0.47      0.46      0.39      1758\n",
      "weighted avg       0.58      0.40      0.42      1758\n",
      "\n",
      "-----------------------------------------------------\n",
      "\n",
      "Cohen's Kappa for train and test set:\n",
      "  -0.0269 -0.0478\n",
      "f2 score for train and test set: \n",
      "  0.484 0.4635\n",
      "roc auc score for train and test set:\n",
      "  0.4804 0.4643\n"
     ]
    }
   ],
   "source": [
    "model_evaluation(X_train, X_test, y_train, y_test, y_pred_train, y_pred_test)"
   ]
  },
  {
   "cell_type": "code",
   "execution_count": null,
   "metadata": {},
   "outputs": [],
   "source": [
    "roc_curve_and_auc(clf, X_train, X_test, y_train, y_test)"
   ]
  },
  {
   "cell_type": "markdown",
   "metadata": {},
   "source": [
    "# SVM classifier smote gridsearch"
   ]
  },
  {
   "cell_type": "code",
   "execution_count": null,
   "metadata": {},
   "outputs": [],
   "source": [
    "param_grid = {'C': [0.1, 1, 10, 100, 1000],  \n",
    "              'gamma': [1, 0.1, 0.01, 0.001, 0.0001], \n",
    "              'kernel': ['rbf']}  \n",
    "  \n",
    "clf = GridSearchCV(SVC(), param_grid, refit = True, verbose = 3) \n",
    "  \n",
    "\n",
    "clf.fit(scaled_X_train_smoted, y_train_smoted) "
   ]
  },
  {
   "cell_type": "code",
   "execution_count": null,
   "metadata": {},
   "outputs": [],
   "source": [
    "y_pred_train = clf.predict(scaled_X_train_smoted)\n",
    "y_pred_test = clf.predict(scaled_X_test)"
   ]
  },
  {
   "cell_type": "code",
   "execution_count": null,
   "metadata": {},
   "outputs": [],
   "source": [
    "model_evaluation(scaled_X_train_smoted, scaled_X_test, y_train_smoted, y_test, y_pred_train, y_pred_test)"
   ]
  },
  {
   "cell_type": "code",
   "execution_count": null,
   "metadata": {},
   "outputs": [],
   "source": [
    "roc_curve_and_auc(clf, X_train, X_test, y_train, y_test)"
   ]
  },
  {
   "cell_type": "markdown",
   "metadata": {},
   "source": [
    "# Naive Bayes"
   ]
  },
  {
   "cell_type": "code",
   "execution_count": null,
   "metadata": {},
   "outputs": [],
   "source": [
    "clf = GaussianNB()\n",
    "clf.fit(scaled_X_train_smoted, y_train_smoted)\n",
    "y_pred_train = clf.predict(scaled_X_train_smoted)\n",
    "y_pred_test = clf.predict(scaled_X_test)"
   ]
  },
  {
   "cell_type": "code",
   "execution_count": null,
   "metadata": {},
   "outputs": [],
   "source": [
    "model_evaluation(scaled_X_train_smoted, scaled_X_test, y_train_smoted, y_test, y_pred_train, y_pred_test)"
   ]
  },
  {
   "cell_type": "code",
   "execution_count": null,
   "metadata": {},
   "outputs": [],
   "source": [
    "# roc_curve_and_auc(clf, X_train, X_test, y_train, y_test)"
   ]
  },
  {
   "cell_type": "code",
   "execution_count": null,
   "metadata": {},
   "outputs": [],
   "source": [
    "# clf.feature_importances_"
   ]
  },
  {
   "cell_type": "code",
   "execution_count": null,
   "metadata": {},
   "outputs": [],
   "source": [
    "# plot_feature_importances(clf)"
   ]
  }
 ],
 "metadata": {
  "kernelspec": {
   "display_name": "Python 3",
   "language": "python",
   "name": "python3"
  },
  "language_info": {
   "codemirror_mode": {
    "name": "ipython",
    "version": 3
   },
   "file_extension": ".py",
   "mimetype": "text/x-python",
   "name": "python",
   "nbconvert_exporter": "python",
   "pygments_lexer": "ipython3",
   "version": "3.7.4"
  },
  "varInspector": {
   "cols": {
    "lenName": 16,
    "lenType": 16,
    "lenVar": 40
   },
   "kernels_config": {
    "python": {
     "delete_cmd_postfix": "",
     "delete_cmd_prefix": "del ",
     "library": "var_list.py",
     "varRefreshCmd": "print(var_dic_list())"
    },
    "r": {
     "delete_cmd_postfix": ") ",
     "delete_cmd_prefix": "rm(",
     "library": "var_list.r",
     "varRefreshCmd": "cat(var_dic_list()) "
    }
   },
   "types_to_exclude": [
    "module",
    "function",
    "builtin_function_or_method",
    "instance",
    "_Feature"
   ],
   "window_display": true
  }
 },
 "nbformat": 4,
 "nbformat_minor": 2
}
