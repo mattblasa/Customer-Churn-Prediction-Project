{
 "cells": [
  {
   "cell_type": "markdown",
   "metadata": {},
   "source": [
    "## Final Project Submission\n",
    "\n",
    "Please fill out:\n",
    "* Student name: Seyma Tas\n",
    "* Student pace: full time\n",
    "* Scheduled project review date/time: \n",
    "* Instructor name: Amber Yandow\n",
    "* Blog post URL:\n"
   ]
  },
  {
   "cell_type": "code",
   "execution_count": 77,
   "metadata": {
    "ExecuteTime": {
     "end_time": "2020-05-29T13:35:13.703878Z",
     "start_time": "2020-05-29T13:35:13.677573Z"
    }
   },
   "outputs": [],
   "source": [
    "import seaborn as sns\n",
    "import pandas as pd\n",
    "import numpy as np\n",
    "import matplotlib.pyplot as plt\n",
    "%matplotlib inline\n",
    "sns.set_style('darkgrid', {'axes.facecolor': '0.9'})\n",
    "\n",
    "from sklearn.preprocessing import LabelEncoder, OneHotEncoder, MinMaxScaler, StandardScaler\n",
    "from sklearn.model_selection import train_test_split, cross_val_score, GridSearchCV, ParameterGrid\n",
    "from sklearn.linear_model import LogisticRegression, SGDClassifier\n",
    "from imblearn.over_sampling import SMOTE, ADASYN\n",
    "from sklearn.naive_bayes import GaussianNB\n",
    "from sklearn.svm import SVC\n",
    "from sklearn.tree import DecisionTreeClassifier\n",
    "from sklearn.neighbors import KNeighborsClassifier\n",
    "from sklearn.ensemble import RandomForestClassifier, AdaBoostClassifier, GradientBoostingClassifier, BaggingClassifier\n",
    "from sklearn.metrics import recall_score, f1_score,fbeta_score, r2_score, roc_auc_score, roc_curve, auc, cohen_kappa_score\n",
    "from sklearn.metrics import classification_report, confusion_matrix, accuracy_score, precision_score\n",
    "from sklearn.metrics import make_scorer\n",
    "from sklearn.pipeline import Pipeline\n",
    "import xgboost as xgb\n",
    "# from sklearn.metrics import plot_confusion_matrix\n",
    "\n",
    "import warnings\n",
    "warnings.filterwarnings('ignore')"
   ]
  },
  {
   "cell_type": "code",
   "execution_count": 2,
   "metadata": {
    "ExecuteTime": {
     "end_time": "2020-05-28T23:24:38.331262Z",
     "start_time": "2020-05-28T23:24:38.309330Z"
    }
   },
   "outputs": [],
   "source": [
    "df = pd.read_csv('TelcoCustomerChurnData_cleaned_ohe.csv')"
   ]
  },
  {
   "cell_type": "markdown",
   "metadata": {},
   "source": [
    "# Splitting the data into test and train sets"
   ]
  },
  {
   "cell_type": "code",
   "execution_count": 3,
   "metadata": {
    "ExecuteTime": {
     "end_time": "2020-05-28T23:24:39.890142Z",
     "start_time": "2020-05-28T23:24:39.885273Z"
    }
   },
   "outputs": [],
   "source": [
    "X = df.drop(['Churn'], axis=1)\n",
    "y = df['Churn']"
   ]
  },
  {
   "cell_type": "code",
   "execution_count": 4,
   "metadata": {
    "ExecuteTime": {
     "end_time": "2020-05-28T23:24:40.604870Z",
     "start_time": "2020-05-28T23:24:40.597557Z"
    }
   },
   "outputs": [],
   "source": [
    "X_train, X_test, y_train, y_test = train_test_split(X, y, random_state=42)"
   ]
  },
  {
   "cell_type": "code",
   "execution_count": 5,
   "metadata": {
    "ExecuteTime": {
     "end_time": "2020-05-28T23:24:41.212654Z",
     "start_time": "2020-05-28T23:24:41.198459Z"
    }
   },
   "outputs": [],
   "source": [
    "scaler = StandardScaler()\n",
    "scaled_x_train = scaler.fit_transform(X_train)\n",
    "scaled_X_test = scaler.transform(X_test)\n",
    "scaled_X_train = pd.DataFrame(scaled_x_train, columns=X_train.columns)\n"
   ]
  },
  {
   "cell_type": "markdown",
   "metadata": {},
   "source": [
    "## Functions to evaluate the model"
   ]
  },
  {
   "cell_type": "code",
   "execution_count": 6,
   "metadata": {
    "ExecuteTime": {
     "end_time": "2020-05-28T23:24:43.391509Z",
     "start_time": "2020-05-28T23:24:43.381533Z"
    },
    "code_folding": [
     0
    ]
   },
   "outputs": [],
   "source": [
    "def roc_curve_and_auc(clf, X_train, X_test, y_train, y_test):\n",
    "\n",
    "    # Calculate the probability scores of each point in the training set\n",
    "    y_train_score = clf.fit(X_train, y_train).decision_function(X_train)\n",
    "\n",
    "    # Calculate the fpr, tpr, and thresholds for the training set\n",
    "    train_fpr, train_tpr, thresholds = roc_curve(y_train, y_train_score)\n",
    "\n",
    "    # Calculate the probability scores of each point in the test set\n",
    "    y_test_score = clf.decision_function(X_test)\n",
    "\n",
    "    # Calculate the fpr, tpr, and thresholds for the test set\n",
    "    test_fpr, test_tpr, test_thresholds = roc_curve(y_test, y_test_score)\n",
    "\n",
    "    # ROC curve for training set\n",
    "    plt.figure(figsize=(10, 8))\n",
    "    lw = 2\n",
    "    plt.plot(train_fpr, train_tpr, color='darkorange',\n",
    "             lw=lw, label='Train ROC curve')\n",
    "    plt.plot(test_fpr, test_tpr, color='blue',\n",
    "             lw=lw, label='Test ROC curve')\n",
    "    plt.plot([0, 1], [0, 1], color='navy', lw=lw, linestyle='--')\n",
    "    plt.xlim([0.0, 1.0])\n",
    "    plt.ylim([0.0, 1.05])\n",
    "    plt.yticks([i/20.0 for i in range(21)])\n",
    "    plt.xticks([i/20.0 for i in range(21)])\n",
    "    plt.xlabel('False Positive Rate')\n",
    "    plt.ylabel('True Positive Rate')\n",
    "    plt.title('Receiver operating characteristic (ROC) Curve for Training and Testing Sets')\n",
    "    plt.legend(loc='lower right')\n",
    "    plt.show()\n",
    "    # Print the area under the roc curve\n",
    "    print('Training AUC: {}'.format(round(auc(train_fpr, train_tpr), 5)))\n",
    "    print('Testing AUC: {}'.format(round(auc(test_fpr, test_tpr), 5)))"
   ]
  },
  {
   "cell_type": "code",
   "execution_count": 7,
   "metadata": {
    "ExecuteTime": {
     "end_time": "2020-05-28T23:24:43.993539Z",
     "start_time": "2020-05-28T23:24:43.989231Z"
    },
    "code_folding": [
     0
    ]
   },
   "outputs": [],
   "source": [
    "def plot_feature_importances(model):\n",
    "    n_features = X_train.shape[1]\n",
    "    plt.figure(figsize=(8,8))\n",
    "    plt.barh(range(n_features), model.feature_importances_, align='center') \n",
    "    plt.yticks(np.arange(n_features), X_train.columns.values) \n",
    "    plt.xlabel('Feature importance')\n",
    "    plt.ylabel('Feature')"
   ]
  },
  {
   "cell_type": "code",
   "execution_count": 90,
   "metadata": {
    "ExecuteTime": {
     "end_time": "2020-05-29T13:45:19.779212Z",
     "start_time": "2020-05-29T13:45:19.764668Z"
    },
    "code_folding": []
   },
   "outputs": [],
   "source": [
    "def model_evaluation(X_train, X_test, y_train, y_test, y_pred_train, y_pred_test):\n",
    "\n",
    "    print('MODEL EVALUATION METRICS:\\n',\n",
    "          '-----------------------------------------------------')\n",
    "    print('Confusion Matrix for train & test set: \\n')\n",
    "    print(confusion_matrix(y_train, y_pred_train),'\\n')\n",
    "    \n",
    "    print(confusion_matrix(y_test, y_pred_test))\n",
    "    \n",
    "    print('-----------------------------------------------------')\n",
    "    print('\\nClassification Report for train & test set\\n',\n",
    "          '\\nTrain set\\n',\n",
    "          classification_report(y_train, y_pred_train),\n",
    "          '\\n\\nTest set\\n',\n",
    "          classification_report(y_test, y_pred_test))\n",
    "    \n",
    "#     print('\\nRecall for train & test set:\\n',\n",
    "#           round(recall_score(y_train, y_pred_train), 4),\n",
    "#           round(recall_score(y_test, y_pred_test), 4))\n",
    "       \n",
    "#     print('Precision for train & test set:\\n', \n",
    "#           round(precision_score(y_train, y_pred_train), 4),\n",
    "#           round(precision_score(y_test, y_pred_test), 4))\n",
    "\n",
    "#     print('f1 score for train & test set:\\n', \n",
    "#           round(f1_score(y_train, y_pred_train), 4),\n",
    "#           round(f1_score(y_test, y_pred_test), 4))\n",
    "\n",
    "#     print('Accuracy for train and test set:\\n ',\n",
    "#           round(accuracy_score(y_train, y_pred_train), 4),\n",
    "#           round(accuracy_score(y_test, y_pred_test), 4))\n",
    "    print('-----------------------------------------------------\\n')\n",
    "    print(\"Cohen's Kappa for train and test set:\\n \",\n",
    "            round(cohen_kappa_score(y_train, y_pred_train), 4),\n",
    "            round(cohen_kappa_score(y_test, y_pred_test), 4))\n",
    "\n",
    "    print (\"f2 score for train and test set: \\n \",\n",
    "           round(fbeta_score(y_train, y_pred_train, 2.0),4), \n",
    "           round(fbeta_score(y_test, y_pred_test, 2.0),4))\n",
    "    \n",
    "    print ('roc auc score for train and test set:\\n ', \n",
    "           round(roc_auc_score(y_train, y_pred_train),4),\n",
    "           round(roc_auc_score(y_test, y_pred_test),4) )\n",
    "    \n",
    "    print('Mean Cross Validation Score:\\n', round(cross_val_score(clf, X, y, cv=5).mean(), 4))   "
   ]
  },
  {
   "cell_type": "markdown",
   "metadata": {},
   "source": [
    "# Logistic Regression"
   ]
  },
  {
   "cell_type": "markdown",
   "metadata": {},
   "source": [
    "## Baseline model"
   ]
  },
  {
   "cell_type": "code",
   "execution_count": 91,
   "metadata": {
    "ExecuteTime": {
     "end_time": "2020-05-29T13:45:21.792835Z",
     "start_time": "2020-05-29T13:45:21.635616Z"
    }
   },
   "outputs": [
    {
     "data": {
      "text/plain": [
       "LogisticRegression(C=1000000000000.0, class_weight='balanced', dual=False,\n",
       "                   fit_intercept=False, intercept_scaling=1, l1_ratio=None,\n",
       "                   max_iter=100, multi_class='warn', n_jobs=None, penalty='l2',\n",
       "                   random_state=None, solver='liblinear', tol=0.0001, verbose=0,\n",
       "                   warm_start=False)"
      ]
     },
     "execution_count": 91,
     "metadata": {},
     "output_type": "execute_result"
    }
   ],
   "source": [
    "clf = LogisticRegression(fit_intercept=False, C=1e12, solver='liblinear', class_weight='balanced')\n",
    "clf.fit(X_train, y_train)"
   ]
  },
  {
   "cell_type": "code",
   "execution_count": 92,
   "metadata": {
    "ExecuteTime": {
     "end_time": "2020-05-29T13:45:23.837406Z",
     "start_time": "2020-05-29T13:45:23.799756Z"
    }
   },
   "outputs": [],
   "source": [
    "y_pred_train = clf.predict(X_train)\n",
    "y_pred_test = clf.predict(X_test)"
   ]
  },
  {
   "cell_type": "code",
   "execution_count": 93,
   "metadata": {
    "ExecuteTime": {
     "end_time": "2020-05-29T13:45:26.515617Z",
     "start_time": "2020-05-29T13:45:25.788387Z"
    },
    "scrolled": true
   },
   "outputs": [
    {
     "name": "stdout",
     "output_type": "stream",
     "text": [
      "MODEL EVALUATION METRICS:\n",
      " -----------------------------------------------------\n",
      "Confusion Matrix for train & test set: \n",
      "\n",
      "[[2829 1034]\n",
      " [ 275 1136]] \n",
      "\n",
      "[[931 369]\n",
      " [ 94 364]]\n",
      "-----------------------------------------------------\n",
      "\n",
      "Classification Report for train & test set\n",
      " \n",
      "Train set\n",
      "               precision    recall  f1-score   support\n",
      "\n",
      "           0       0.91      0.73      0.81      3863\n",
      "           1       0.52      0.81      0.63      1411\n",
      "\n",
      "    accuracy                           0.75      5274\n",
      "   macro avg       0.72      0.77      0.72      5274\n",
      "weighted avg       0.81      0.75      0.76      5274\n",
      " \n",
      "\n",
      "Test set\n",
      "               precision    recall  f1-score   support\n",
      "\n",
      "           0       0.91      0.72      0.80      1300\n",
      "           1       0.50      0.79      0.61       458\n",
      "\n",
      "    accuracy                           0.74      1758\n",
      "   macro avg       0.70      0.76      0.71      1758\n",
      "weighted avg       0.80      0.74      0.75      1758\n",
      "\n",
      "-----------------------------------------------------\n",
      "\n",
      "Cohen's Kappa for train and test set:\n",
      "  0.4591 0.4277\n",
      "f2 score for train and test set: \n",
      "  0.7269 0.7096\n",
      "roc auc score for train and test set:\n",
      "  0.7687 0.7555\n",
      "Mean Cross Validation Score:\n",
      " 0.7484\n"
     ]
    }
   ],
   "source": [
    "model_evaluation(X_train, X_test, y_train, y_test, y_pred_train, y_pred_test)\n"
   ]
  },
  {
   "cell_type": "code",
   "execution_count": 25,
   "metadata": {
    "ExecuteTime": {
     "end_time": "2020-05-28T23:29:36.726135Z",
     "start_time": "2020-05-28T23:29:36.300190Z"
    },
    "scrolled": true
   },
   "outputs": [
    {
     "data": {
      "image/png": "[encoded data removed]",
      "text/plain": [
       "<Figure size 720x576 with 1 Axes>"
      ]
     },
     "metadata": {
      "needs_background": "light"
     },
     "output_type": "display_data"
    },
    {
     "name": "stdout",
     "output_type": "stream",
     "text": [
      "Training AUC: 0.85155\n",
      "Testing AUC: 0.83391\n"
     ]
    }
   ],
   "source": [
    "roc_curve_and_auc(clf, X_train, X_test, y_train, y_test)"
   ]
  },
  {
   "cell_type": "code",
   "execution_count": 13,
   "metadata": {
    "ExecuteTime": {
     "end_time": "2020-05-28T23:25:20.897537Z",
     "start_time": "2020-05-28T23:25:20.893305Z"
    }
   },
   "outputs": [
    {
     "data": {
      "text/plain": [
       "array([[-0.06,  0.  ,  0.  , -0.04,  0.24,  0.11, -0.26, -0.54,  0.23,\n",
       "         0.16,  0.74, -0.1 , -0.1 , -0.48, -0.1 , -0.15, -0.1 , -0.02,\n",
       "        -0.1 , -0.44, -0.1 ,  0.15, -0.1 ,  0.2 , -0.69, -1.03,  0.22,\n",
       "        -0.16,  0.21, -0.08]])"
      ]
     },
     "execution_count": 13,
     "metadata": {},
     "output_type": "execute_result"
    }
   ],
   "source": [
    "clf.coef_.round(2)"
   ]
  },
  {
   "cell_type": "code",
   "execution_count": null,
   "metadata": {},
   "outputs": [],
   "source": [
    "# plot_feature_importances(clf)"
   ]
  },
  {
   "cell_type": "markdown",
   "metadata": {
    "heading_collapsed": true
   },
   "source": [
    "### Note: I tried all the other solvers here, 'liblinear' gave the best results."
   ]
  },
  {
   "cell_type": "markdown",
   "metadata": {},
   "source": [
    "## Handling Imbalanced Data"
   ]
  },
  {
   "cell_type": "code",
   "execution_count": 14,
   "metadata": {
    "ExecuteTime": {
     "end_time": "2020-05-28T23:25:57.148344Z",
     "start_time": "2020-05-28T23:25:57.004844Z"
    }
   },
   "outputs": [
    {
     "data": {
      "image/png": "[encoded data removed]",
      "text/plain": [
       "<Figure size 432x288 with 1 Axes>"
      ]
     },
     "metadata": {
      "needs_background": "light"
     },
     "output_type": "display_data"
    }
   ],
   "source": [
    "sns.countplot(y);"
   ]
  },
  {
   "cell_type": "code",
   "execution_count": 15,
   "metadata": {
    "ExecuteTime": {
     "end_time": "2020-05-28T23:25:59.292042Z",
     "start_time": "2020-05-28T23:25:59.276075Z"
    }
   },
   "outputs": [
    {
     "name": "stdout",
     "output_type": "stream",
     "text": [
      "0    5163\n",
      "1    1869\n",
      "Name: Churn, dtype: int64\n",
      "0    0.734215\n",
      "1    0.265785\n",
      "Name: Churn, dtype: float64\n"
     ]
    }
   ],
   "source": [
    "print(y.value_counts())\n",
    "print(y.value_counts(normalize=True))"
   ]
  },
  {
   "cell_type": "markdown",
   "metadata": {},
   "source": [
    "## SMOTE\n"
   ]
  },
  {
   "cell_type": "code",
   "execution_count": 16,
   "metadata": {
    "ExecuteTime": {
     "end_time": "2020-05-28T23:26:02.219147Z",
     "start_time": "2020-05-28T23:26:02.122786Z"
    }
   },
   "outputs": [],
   "source": [
    "smote = SMOTE()\n",
    "scaled_X_train_smoted, y_train_smoted = smote.fit_sample(scaled_X_train, y_train)"
   ]
  },
  {
   "cell_type": "markdown",
   "metadata": {},
   "source": [
    "## ADASYN"
   ]
  },
  {
   "cell_type": "code",
   "execution_count": 94,
   "metadata": {
    "ExecuteTime": {
     "end_time": "2020-05-29T13:46:12.123509Z",
     "start_time": "2020-05-29T13:46:11.861163Z"
    }
   },
   "outputs": [],
   "source": [
    "adasyn = ADASYN()\n",
    "X_train_ada, y_train_ada = adasyn.fit_sample(X_train, y_train)"
   ]
  },
  {
   "cell_type": "code",
   "execution_count": 95,
   "metadata": {
    "ExecuteTime": {
     "end_time": "2020-05-29T13:46:14.100938Z",
     "start_time": "2020-05-29T13:46:13.947276Z"
    }
   },
   "outputs": [],
   "source": [
    "clf = LogisticRegression(fit_intercept=False, C=1e20, solver ='liblinear')\n",
    "clf.fit(X_train_ada, y_train_ada)\n",
    "y_pred_train = clf.predict(X_train_ada)\n",
    "y_pred_test = clf.predict(X_test)"
   ]
  },
  {
   "cell_type": "code",
   "execution_count": 96,
   "metadata": {
    "ExecuteTime": {
     "end_time": "2020-05-29T13:46:16.579273Z",
     "start_time": "2020-05-29T13:46:15.916093Z"
    }
   },
   "outputs": [
    {
     "name": "stdout",
     "output_type": "stream",
     "text": [
      "MODEL EVALUATION METRICS:\n",
      " -----------------------------------------------------\n",
      "Confusion Matrix for train & test set: \n",
      "\n",
      "[[2725 1138]\n",
      " [ 758 3147]] \n",
      "\n",
      "[[899 401]\n",
      " [ 80 378]]\n",
      "-----------------------------------------------------\n",
      "\n",
      "Classification Report for train & test set\n",
      " \n",
      "Train set\n",
      "               precision    recall  f1-score   support\n",
      "\n",
      "           0       0.78      0.71      0.74      3863\n",
      "           1       0.73      0.81      0.77      3905\n",
      "\n",
      "    accuracy                           0.76      7768\n",
      "   macro avg       0.76      0.76      0.76      7768\n",
      "weighted avg       0.76      0.76      0.76      7768\n",
      " \n",
      "\n",
      "Test set\n",
      "               precision    recall  f1-score   support\n",
      "\n",
      "           0       0.92      0.69      0.79      1300\n",
      "           1       0.49      0.83      0.61       458\n",
      "\n",
      "    accuracy                           0.73      1758\n",
      "   macro avg       0.70      0.76      0.70      1758\n",
      "weighted avg       0.81      0.73      0.74      1758\n",
      "\n",
      "-----------------------------------------------------\n",
      "\n",
      "Cohen's Kappa for train and test set:\n",
      "  0.5116 0.4213\n",
      "f2 score for train and test set: \n",
      "  0.7905 0.7239\n",
      "roc auc score for train and test set:\n",
      "  0.7557 0.7584\n",
      "Mean Cross Validation Score:\n",
      " 0.804\n"
     ]
    }
   ],
   "source": [
    "model_evaluation(X_train_ada, X_test, y_train_ada, y_test, y_pred_train, y_pred_test)"
   ]
  },
  {
   "cell_type": "code",
   "execution_count": 30,
   "metadata": {
    "ExecuteTime": {
     "end_time": "2020-05-28T23:38:14.731160Z",
     "start_time": "2020-05-28T23:38:14.297063Z"
    },
    "scrolled": true
   },
   "outputs": [
    {
     "data": {
      "image/png": "[encoded data removed]",
      "text/plain": [
       "<Figure size 720x576 with 1 Axes>"
      ]
     },
     "metadata": {
      "needs_background": "light"
     },
     "output_type": "display_data"
    },
    {
     "name": "stdout",
     "output_type": "stream",
     "text": [
      "Training AUC: 0.8307\n",
      "Testing AUC: 0.83161\n"
     ]
    }
   ],
   "source": [
    "roc_curve_and_auc(clf, X_train_ada, X_test, y_train_ada, y_test)"
   ]
  },
  {
   "cell_type": "code",
   "execution_count": 33,
   "metadata": {
    "ExecuteTime": {
     "end_time": "2020-05-28T23:38:51.544508Z",
     "start_time": "2020-05-28T23:38:51.539685Z"
    }
   },
   "outputs": [
    {
     "data": {
      "text/plain": [
       "array([[-0.06,  0.02,  0.  ,  0.02,  0.28,  0.12, -0.29, -0.22,  0.74,\n",
       "         0.1 ,  0.08, -0.03, -0.03, -0.56, -0.03, -0.27, -0.03, -0.14,\n",
       "        -0.03, -0.5 , -0.03, -0.02, -0.03,  0.07, -0.87, -1.5 ,  0.28,\n",
       "        -0.07,  0.45, -0.09]])"
      ]
     },
     "execution_count": 33,
     "metadata": {},
     "output_type": "execute_result"
    }
   ],
   "source": [
    "clf.coef_.round(2)"
   ]
  },
  {
   "cell_type": "code",
   "execution_count": 35,
   "metadata": {
    "ExecuteTime": {
     "end_time": "2020-05-28T23:39:08.189448Z",
     "start_time": "2020-05-28T23:39:08.187219Z"
    }
   },
   "outputs": [],
   "source": [
    "# plot_feature_importances(clf)"
   ]
  },
  {
   "cell_type": "markdown",
   "metadata": {},
   "source": [
    "# L1 regression (Lasso)"
   ]
  },
  {
   "cell_type": "code",
   "execution_count": 97,
   "metadata": {
    "ExecuteTime": {
     "end_time": "2020-05-29T14:01:21.146432Z",
     "start_time": "2020-05-29T14:01:20.860627Z"
    },
    "scrolled": false
   },
   "outputs": [
    {
     "data": {
      "text/plain": [
       "SGDClassifier(alpha=0.0001, average=False, class_weight=None,\n",
       "              early_stopping=False, epsilon=0.1, eta0=0.0, fit_intercept=True,\n",
       "              l1_ratio=0.15, learning_rate='optimal', loss='hinge',\n",
       "              max_iter=1000, n_iter_no_change=5, n_jobs=None,\n",
       "              penalty='elasticnet', power_t=0.5, random_state=None,\n",
       "              shuffle=True, tol=0.001, validation_fraction=0.1, verbose=0,\n",
       "              warm_start=False)"
      ]
     },
     "execution_count": 97,
     "metadata": {},
     "output_type": "execute_result"
    }
   ],
   "source": [
    "clf = SGDClassifier(penalty='elasticnet')\n",
    "clf.fit(scaled_X_train_smoted, y_train_smoted)"
   ]
  },
  {
   "cell_type": "code",
   "execution_count": 98,
   "metadata": {
    "ExecuteTime": {
     "end_time": "2020-05-29T14:01:23.162384Z",
     "start_time": "2020-05-29T14:01:23.136208Z"
    }
   },
   "outputs": [],
   "source": [
    "y_pred_train = clf.predict(scaled_X_train_smoted)\n",
    "y_pred_test = clf.predict(scaled_X_test)"
   ]
  },
  {
   "cell_type": "code",
   "execution_count": 99,
   "metadata": {
    "ExecuteTime": {
     "end_time": "2020-05-29T14:01:26.808057Z",
     "start_time": "2020-05-29T14:01:25.110827Z"
    },
    "scrolled": true
   },
   "outputs": [
    {
     "name": "stdout",
     "output_type": "stream",
     "text": [
      "MODEL EVALUATION METRICS:\n",
      " -----------------------------------------------------\n",
      "Confusion Matrix for train & test set: \n",
      "\n",
      "[[2774 1089]\n",
      " [ 667 3196]] \n",
      "\n",
      "[[921 379]\n",
      " [ 97 361]]\n",
      "-----------------------------------------------------\n",
      "\n",
      "Classification Report for train & test set\n",
      " \n",
      "Train set\n",
      "               precision    recall  f1-score   support\n",
      "\n",
      "           0       0.81      0.72      0.76      3863\n",
      "           1       0.75      0.83      0.78      3863\n",
      "\n",
      "    accuracy                           0.77      7726\n",
      "   macro avg       0.78      0.77      0.77      7726\n",
      "weighted avg       0.78      0.77      0.77      7726\n",
      " \n",
      "\n",
      "Test set\n",
      "               precision    recall  f1-score   support\n",
      "\n",
      "           0       0.90      0.71      0.79      1300\n",
      "           1       0.49      0.79      0.60       458\n",
      "\n",
      "    accuracy                           0.73      1758\n",
      "   macro avg       0.70      0.75      0.70      1758\n",
      "weighted avg       0.80      0.73      0.74      1758\n",
      "\n",
      "-----------------------------------------------------\n",
      "\n",
      "Cohen's Kappa for train and test set:\n",
      "  0.5454 0.4141\n",
      "f2 score for train and test set: \n",
      "  0.8096 0.7018\n",
      "roc auc score for train and test set:\n",
      "  0.7727 0.7483\n",
      "Mean Cross Validation Score:\n",
      " 0.7718\n"
     ]
    }
   ],
   "source": [
    "model_evaluation(scaled_X_train_smoted, scaled_X_test, y_train_smoted, y_test, y_pred_train, y_pred_test)"
   ]
  },
  {
   "cell_type": "code",
   "execution_count": 100,
   "metadata": {
    "ExecuteTime": {
     "end_time": "2020-05-29T14:01:46.197038Z",
     "start_time": "2020-05-29T14:01:45.939889Z"
    },
    "scrolled": false
   },
   "outputs": [
    {
     "data": {
      "text/plain": [
       "SGDClassifier(alpha=0.0001, average=False, class_weight='balanced',\n",
       "              early_stopping=False, epsilon=0.1, eta0=0.0, fit_intercept=True,\n",
       "              l1_ratio=0.15, learning_rate='optimal', loss='hinge',\n",
       "              max_iter=1000, n_iter_no_change=5, n_jobs=None,\n",
       "              penalty='elasticnet', power_t=0.5, random_state=None,\n",
       "              shuffle=True, tol=0.001, validation_fraction=0.1, verbose=0,\n",
       "              warm_start=False)"
      ]
     },
     "execution_count": 100,
     "metadata": {},
     "output_type": "execute_result"
    }
   ],
   "source": [
    "clf = SGDClassifier(penalty='elasticnet',class_weight='balanced')\n",
    "clf.fit(scaled_X_train, y_train)"
   ]
  },
  {
   "cell_type": "code",
   "execution_count": 101,
   "metadata": {
    "ExecuteTime": {
     "end_time": "2020-05-29T14:01:48.142049Z",
     "start_time": "2020-05-29T14:01:48.106011Z"
    }
   },
   "outputs": [],
   "source": [
    "y_pred_train = clf.predict(scaled_X_train)\n",
    "y_pred_test = clf.predict(scaled_X_test)"
   ]
  },
  {
   "cell_type": "code",
   "execution_count": 102,
   "metadata": {
    "ExecuteTime": {
     "end_time": "2020-05-29T14:01:51.490721Z",
     "start_time": "2020-05-29T14:01:50.038516Z"
    }
   },
   "outputs": [
    {
     "name": "stdout",
     "output_type": "stream",
     "text": [
      "MODEL EVALUATION METRICS:\n",
      " -----------------------------------------------------\n",
      "Confusion Matrix for train & test set: \n",
      "\n",
      "[[2583 1280]\n",
      " [ 236 1175]] \n",
      "\n",
      "[[846 454]\n",
      " [ 83 375]]\n",
      "-----------------------------------------------------\n",
      "\n",
      "Classification Report for train & test set\n",
      " \n",
      "Train set\n",
      "               precision    recall  f1-score   support\n",
      "\n",
      "           0       0.92      0.67      0.77      3863\n",
      "           1       0.48      0.83      0.61      1411\n",
      "\n",
      "    accuracy                           0.71      5274\n",
      "   macro avg       0.70      0.75      0.69      5274\n",
      "weighted avg       0.80      0.71      0.73      5274\n",
      " \n",
      "\n",
      "Test set\n",
      "               precision    recall  f1-score   support\n",
      "\n",
      "           0       0.91      0.65      0.76      1300\n",
      "           1       0.45      0.82      0.58       458\n",
      "\n",
      "    accuracy                           0.69      1758\n",
      "   macro avg       0.68      0.73      0.67      1758\n",
      "weighted avg       0.79      0.69      0.71      1758\n",
      "\n",
      "-----------------------------------------------------\n",
      "\n",
      "Cohen's Kappa for train and test set:\n",
      "  0.406 0.372\n",
      "f2 score for train and test set: \n",
      "  0.7254 0.7046\n",
      "roc auc score for train and test set:\n",
      "  0.7507 0.7348\n",
      "Mean Cross Validation Score:\n",
      " 0.5907\n"
     ]
    }
   ],
   "source": [
    "model_evaluation(scaled_X_train, scaled_X_test, y_train, y_test, y_pred_train, y_pred_test)"
   ]
  },
  {
   "cell_type": "markdown",
   "metadata": {},
   "source": [
    "# KNN"
   ]
  },
  {
   "cell_type": "code",
   "execution_count": 105,
   "metadata": {
    "ExecuteTime": {
     "end_time": "2020-05-29T14:06:28.012595Z",
     "start_time": "2020-05-29T14:03:48.906007Z"
    }
   },
   "outputs": [
    {
     "name": "stdout",
     "output_type": "stream",
     "text": [
      "------------\n",
      "1\n",
      "\n",
      "Classification Report for train & test set\n",
      " \n",
      "Train set\n",
      "               precision    recall  f1-score   support\n",
      "\n",
      "           0       1.00      1.00      1.00      3863\n",
      "           1       1.00      1.00      1.00      3863\n",
      "\n",
      "    accuracy                           1.00      7726\n",
      "   macro avg       1.00      1.00      1.00      7726\n",
      "weighted avg       1.00      1.00      1.00      7726\n",
      " \n",
      "\n",
      "Test set\n",
      "               precision    recall  f1-score   support\n",
      "\n",
      "           0       0.82      0.76      0.79      1300\n",
      "           1       0.43      0.52      0.47       458\n",
      "\n",
      "    accuracy                           0.70      1758\n",
      "   macro avg       0.62      0.64      0.63      1758\n",
      "weighted avg       0.72      0.70      0.70      1758\n",
      "\n",
      "-----------------------------------------------\n",
      "\n",
      "f2 score for train and test set: \n",
      "  0.9985 0.4954\n",
      "------------\n",
      "2\n",
      "\n",
      "Classification Report for train & test set\n",
      " \n",
      "Train set\n",
      "               precision    recall  f1-score   support\n",
      "\n",
      "           0       0.93      1.00      0.96      3863\n",
      "           1       1.00      0.92      0.96      3863\n",
      "\n",
      "    accuracy                           0.96      7726\n",
      "   macro avg       0.96      0.96      0.96      7726\n",
      "weighted avg       0.96      0.96      0.96      7726\n",
      " \n",
      "\n",
      "Test set\n",
      "               precision    recall  f1-score   support\n",
      "\n",
      "           0       0.80      0.82      0.81      1300\n",
      "           1       0.46      0.43      0.45       458\n",
      "\n",
      "    accuracy                           0.72      1758\n",
      "   macro avg       0.63      0.63      0.63      1758\n",
      "weighted avg       0.71      0.72      0.72      1758\n",
      "\n",
      "-----------------------------------------------\n",
      "\n",
      "f2 score for train and test set: \n",
      "  0.9352 0.4377\n",
      "------------\n",
      "3\n",
      "\n",
      "Classification Report for train & test set\n",
      " \n",
      "Train set\n",
      "               precision    recall  f1-score   support\n",
      "\n",
      "           0       0.97      0.83      0.89      3863\n",
      "           1       0.85      0.97      0.91      3863\n",
      "\n",
      "    accuracy                           0.90      7726\n",
      "   macro avg       0.91      0.90      0.90      7726\n",
      "weighted avg       0.91      0.90      0.90      7726\n",
      " \n",
      "\n",
      "Test set\n",
      "               precision    recall  f1-score   support\n",
      "\n",
      "           0       0.86      0.70      0.77      1300\n",
      "           1       0.44      0.67      0.53       458\n",
      "\n",
      "    accuracy                           0.69      1758\n",
      "   macro avg       0.65      0.68      0.65      1758\n",
      "weighted avg       0.75      0.69      0.71      1758\n",
      "\n",
      "-----------------------------------------------\n",
      "\n",
      "f2 score for train and test set: \n",
      "  0.9449 0.606\n",
      "------------\n",
      "4\n",
      "\n",
      "Classification Report for train & test set\n",
      " \n",
      "Train set\n",
      "               precision    recall  f1-score   support\n",
      "\n",
      "           0       0.92      0.87      0.89      3863\n",
      "           1       0.88      0.92      0.90      3863\n",
      "\n",
      "    accuracy                           0.90      7726\n",
      "   macro avg       0.90      0.90      0.90      7726\n",
      "weighted avg       0.90      0.90      0.90      7726\n",
      " \n",
      "\n",
      "Test set\n",
      "               precision    recall  f1-score   support\n",
      "\n",
      "           0       0.84      0.77      0.80      1300\n",
      "           1       0.47      0.58      0.52       458\n",
      "\n",
      "    accuracy                           0.72      1758\n",
      "   macro avg       0.65      0.67      0.66      1758\n",
      "weighted avg       0.74      0.72      0.73      1758\n",
      "\n",
      "-----------------------------------------------\n",
      "\n",
      "f2 score for train and test set: \n",
      "  0.911 0.5558\n",
      "------------\n",
      "5\n",
      "\n",
      "Classification Report for train & test set\n",
      " \n",
      "Train set\n",
      "               precision    recall  f1-score   support\n",
      "\n",
      "           0       0.94      0.77      0.85      3863\n",
      "           1       0.80      0.95      0.87      3863\n",
      "\n",
      "    accuracy                           0.86      7726\n",
      "   macro avg       0.87      0.86      0.86      7726\n",
      "weighted avg       0.87      0.86      0.86      7726\n",
      " \n",
      "\n",
      "Test set\n",
      "               precision    recall  f1-score   support\n",
      "\n",
      "           0       0.86      0.68      0.76      1300\n",
      "           1       0.44      0.69      0.54       458\n",
      "\n",
      "    accuracy                           0.69      1758\n",
      "   macro avg       0.65      0.69      0.65      1758\n",
      "weighted avg       0.75      0.69      0.70      1758\n",
      "\n",
      "-----------------------------------------------\n",
      "\n",
      "f2 score for train and test set: \n",
      "  0.9194 0.6211\n",
      "------------\n",
      "6\n",
      "\n",
      "Classification Report for train & test set\n",
      " \n",
      "Train set\n",
      "               precision    recall  f1-score   support\n",
      "\n",
      "           0       0.90      0.81      0.85      3863\n",
      "           1       0.83      0.91      0.87      3863\n",
      "\n",
      "    accuracy                           0.86      7726\n",
      "   macro avg       0.87      0.86      0.86      7726\n",
      "weighted avg       0.87      0.86      0.86      7726\n",
      " \n",
      "\n",
      "Test set\n",
      "               precision    recall  f1-score   support\n",
      "\n",
      "           0       0.85      0.73      0.79      1300\n",
      "           1       0.45      0.64      0.53       458\n",
      "\n",
      "    accuracy                           0.71      1758\n",
      "   macro avg       0.65      0.68      0.66      1758\n",
      "weighted avg       0.75      0.71      0.72      1758\n",
      "\n",
      "-----------------------------------------------\n",
      "\n",
      "f2 score for train and test set: \n",
      "  0.8956 0.5884\n",
      "------------\n",
      "7\n",
      "\n",
      "Classification Report for train & test set\n",
      " \n",
      "Train set\n",
      "               precision    recall  f1-score   support\n",
      "\n",
      "           0       0.94      0.74      0.82      3863\n",
      "           1       0.78      0.95      0.86      3863\n",
      "\n",
      "    accuracy                           0.84      7726\n",
      "   macro avg       0.86      0.84      0.84      7726\n",
      "weighted avg       0.86      0.84      0.84      7726\n",
      " \n",
      "\n",
      "Test set\n",
      "               precision    recall  f1-score   support\n",
      "\n",
      "           0       0.87      0.66      0.75      1300\n",
      "           1       0.43      0.73      0.54       458\n",
      "\n",
      "    accuracy                           0.67      1758\n",
      "   macro avg       0.65      0.69      0.64      1758\n",
      "weighted avg       0.76      0.67      0.69      1758\n",
      "\n",
      "-----------------------------------------------\n",
      "\n",
      "f2 score for train and test set: \n",
      "  0.9111 0.6389\n",
      "------------\n",
      "8\n",
      "\n",
      "Classification Report for train & test set\n",
      " \n",
      "Train set\n",
      "               precision    recall  f1-score   support\n",
      "\n",
      "           0       0.91      0.77      0.83      3863\n",
      "           1       0.80      0.92      0.86      3863\n",
      "\n",
      "    accuracy                           0.85      7726\n",
      "   macro avg       0.86      0.85      0.85      7726\n",
      "weighted avg       0.86      0.85      0.85      7726\n",
      " \n",
      "\n",
      "Test set\n",
      "               precision    recall  f1-score   support\n",
      "\n",
      "           0       0.87      0.70      0.78      1300\n",
      "           1       0.45      0.70      0.55       458\n",
      "\n",
      "    accuracy                           0.70      1758\n",
      "   macro avg       0.66      0.70      0.66      1758\n",
      "weighted avg       0.76      0.70      0.72      1758\n",
      "\n",
      "-----------------------------------------------\n",
      "\n",
      "f2 score for train and test set: \n",
      "  0.8951 0.6282\n",
      "------------\n",
      "9\n",
      "\n",
      "Classification Report for train & test set\n",
      " \n",
      "Train set\n",
      "               precision    recall  f1-score   support\n",
      "\n",
      "           0       0.93      0.71      0.81      3863\n",
      "           1       0.77      0.94      0.85      3863\n",
      "\n",
      "    accuracy                           0.83      7726\n",
      "   macro avg       0.85      0.83      0.83      7726\n",
      "weighted avg       0.85      0.83      0.83      7726\n",
      " \n",
      "\n",
      "Test set\n",
      "               precision    recall  f1-score   support\n",
      "\n",
      "           0       0.90      0.65      0.76      1300\n",
      "           1       0.44      0.79      0.57       458\n",
      "\n",
      "    accuracy                           0.69      1758\n",
      "   macro avg       0.67      0.72      0.66      1758\n",
      "weighted avg       0.78      0.69      0.71      1758\n",
      "\n",
      "-----------------------------------------------\n",
      "\n",
      "f2 score for train and test set: \n",
      "  0.9012 0.6824\n",
      "------------\n",
      "10\n",
      "\n",
      "Classification Report for train & test set\n",
      " \n",
      "Train set\n",
      "               precision    recall  f1-score   support\n",
      "\n",
      "           0       0.90      0.75      0.82      3863\n",
      "           1       0.78      0.91      0.84      3863\n",
      "\n",
      "    accuracy                           0.83      7726\n",
      "   macro avg       0.84      0.83      0.83      7726\n",
      "weighted avg       0.84      0.83      0.83      7726\n",
      " \n",
      "\n",
      "Test set\n",
      "               precision    recall  f1-score   support\n",
      "\n",
      "           0       0.89      0.69      0.78      1300\n",
      "           1       0.46      0.75      0.57       458\n",
      "\n",
      "    accuracy                           0.71      1758\n",
      "   macro avg       0.67      0.72      0.67      1758\n",
      "weighted avg       0.78      0.71      0.72      1758\n",
      "\n",
      "-----------------------------------------------\n",
      "\n",
      "f2 score for train and test set: \n",
      "  0.8849 0.6643\n"
     ]
    },
    {
     "name": "stdout",
     "output_type": "stream",
     "text": [
      "------------\n",
      "11\n",
      "\n",
      "Classification Report for train & test set\n",
      " \n",
      "Train set\n",
      "               precision    recall  f1-score   support\n",
      "\n",
      "           0       0.91      0.70      0.79      3863\n",
      "           1       0.76      0.93      0.84      3863\n",
      "\n",
      "    accuracy                           0.82      7726\n",
      "   macro avg       0.84      0.82      0.81      7726\n",
      "weighted avg       0.84      0.82      0.81      7726\n",
      " \n",
      "\n",
      "Test set\n",
      "               precision    recall  f1-score   support\n",
      "\n",
      "           0       0.90      0.65      0.76      1300\n",
      "           1       0.45      0.81      0.58       458\n",
      "\n",
      "    accuracy                           0.69      1758\n",
      "   macro avg       0.68      0.73      0.67      1758\n",
      "weighted avg       0.79      0.69      0.71      1758\n",
      "\n",
      "-----------------------------------------------\n",
      "\n",
      "f2 score for train and test set: \n",
      "  0.8916 0.6944\n",
      "------------\n",
      "12\n",
      "\n",
      "Classification Report for train & test set\n",
      " \n",
      "Train set\n",
      "               precision    recall  f1-score   support\n",
      "\n",
      "           0       0.90      0.73      0.80      3863\n",
      "           1       0.77      0.91      0.84      3863\n",
      "\n",
      "    accuracy                           0.82      7726\n",
      "   macro avg       0.83      0.82      0.82      7726\n",
      "weighted avg       0.83      0.82      0.82      7726\n",
      " \n",
      "\n",
      "Test set\n",
      "               precision    recall  f1-score   support\n",
      "\n",
      "           0       0.90      0.68      0.77      1300\n",
      "           1       0.46      0.78      0.58       458\n",
      "\n",
      "    accuracy                           0.70      1758\n",
      "   macro avg       0.68      0.73      0.68      1758\n",
      "weighted avg       0.78      0.70      0.72      1758\n",
      "\n",
      "-----------------------------------------------\n",
      "\n",
      "f2 score for train and test set: \n",
      "  0.882 0.6844\n",
      "------------\n",
      "13\n",
      "\n",
      "Classification Report for train & test set\n",
      " \n",
      "Train set\n",
      "               precision    recall  f1-score   support\n",
      "\n",
      "           0       0.91      0.69      0.78      3863\n",
      "           1       0.75      0.93      0.83      3863\n",
      "\n",
      "    accuracy                           0.81      7726\n",
      "   macro avg       0.83      0.81      0.80      7726\n",
      "weighted avg       0.83      0.81      0.80      7726\n",
      " \n",
      "\n",
      "Test set\n",
      "               precision    recall  f1-score   support\n",
      "\n",
      "           0       0.91      0.64      0.75      1300\n",
      "           1       0.45      0.81      0.58       458\n",
      "\n",
      "    accuracy                           0.69      1758\n",
      "   macro avg       0.68      0.73      0.67      1758\n",
      "weighted avg       0.79      0.69      0.71      1758\n",
      "\n",
      "-----------------------------------------------\n",
      "\n",
      "f2 score for train and test set: \n",
      "  0.8856 0.6993\n",
      "------------\n",
      "14\n",
      "\n",
      "Classification Report for train & test set\n",
      " \n",
      "Train set\n",
      "               precision    recall  f1-score   support\n",
      "\n",
      "           0       0.89      0.72      0.79      3863\n",
      "           1       0.76      0.91      0.83      3863\n",
      "\n",
      "    accuracy                           0.81      7726\n",
      "   macro avg       0.83      0.81      0.81      7726\n",
      "weighted avg       0.83      0.81      0.81      7726\n",
      " \n",
      "\n",
      "Test set\n",
      "               precision    recall  f1-score   support\n",
      "\n",
      "           0       0.90      0.67      0.77      1300\n",
      "           1       0.46      0.79      0.58       458\n",
      "\n",
      "    accuracy                           0.70      1758\n",
      "   macro avg       0.68      0.73      0.68      1758\n",
      "weighted avg       0.79      0.70      0.72      1758\n",
      "\n",
      "-----------------------------------------------\n",
      "\n",
      "f2 score for train and test set: \n",
      "  0.8768 0.6927\n",
      "------------\n",
      "15\n",
      "\n",
      "Classification Report for train & test set\n",
      " \n",
      "Train set\n",
      "               precision    recall  f1-score   support\n",
      "\n",
      "           0       0.91      0.68      0.78      3863\n",
      "           1       0.74      0.93      0.83      3863\n",
      "\n",
      "    accuracy                           0.80      7726\n",
      "   macro avg       0.82      0.80      0.80      7726\n",
      "weighted avg       0.82      0.80      0.80      7726\n",
      " \n",
      "\n",
      "Test set\n",
      "               precision    recall  f1-score   support\n",
      "\n",
      "           0       0.91      0.64      0.75      1300\n",
      "           1       0.44      0.82      0.58       458\n",
      "\n",
      "    accuracy                           0.68      1758\n",
      "   macro avg       0.68      0.73      0.66      1758\n",
      "weighted avg       0.79      0.68      0.70      1758\n",
      "\n",
      "-----------------------------------------------\n",
      "\n",
      "f2 score for train and test set: \n",
      "  0.8848 0.7012\n",
      "------------\n",
      "16\n",
      "\n",
      "Classification Report for train & test set\n",
      " \n",
      "Train set\n",
      "               precision    recall  f1-score   support\n",
      "\n",
      "           0       0.89      0.70      0.79      3863\n",
      "           1       0.75      0.92      0.83      3863\n",
      "\n",
      "    accuracy                           0.81      7726\n",
      "   macro avg       0.82      0.81      0.81      7726\n",
      "weighted avg       0.82      0.81      0.81      7726\n",
      " \n",
      "\n",
      "Test set\n",
      "               precision    recall  f1-score   support\n",
      "\n",
      "           0       0.90      0.66      0.76      1300\n",
      "           1       0.45      0.80      0.58       458\n",
      "\n",
      "    accuracy                           0.70      1758\n",
      "   macro avg       0.68      0.73      0.67      1758\n",
      "weighted avg       0.79      0.70      0.72      1758\n",
      "\n",
      "-----------------------------------------------\n",
      "\n",
      "f2 score for train and test set: \n",
      "  0.8784 0.6953\n",
      "------------\n",
      "17\n",
      "\n",
      "Classification Report for train & test set\n",
      " \n",
      "Train set\n",
      "               precision    recall  f1-score   support\n",
      "\n",
      "           0       0.90      0.67      0.77      3863\n",
      "           1       0.74      0.93      0.82      3863\n",
      "\n",
      "    accuracy                           0.80      7726\n",
      "   macro avg       0.82      0.80      0.80      7726\n",
      "weighted avg       0.82      0.80      0.80      7726\n",
      " \n",
      "\n",
      "Test set\n",
      "               precision    recall  f1-score   support\n",
      "\n",
      "           0       0.92      0.63      0.74      1300\n",
      "           1       0.44      0.84      0.58       458\n",
      "\n",
      "    accuracy                           0.68      1758\n",
      "   macro avg       0.68      0.73      0.66      1758\n",
      "weighted avg       0.79      0.68      0.70      1758\n",
      "\n",
      "-----------------------------------------------\n",
      "\n",
      "f2 score for train and test set: \n",
      "  0.8819 0.7119\n",
      "------------\n",
      "18\n",
      "\n",
      "Classification Report for train & test set\n",
      " \n",
      "Train set\n",
      "               precision    recall  f1-score   support\n",
      "\n",
      "           0       0.89      0.70      0.78      3863\n",
      "           1       0.75      0.91      0.82      3863\n",
      "\n",
      "    accuracy                           0.80      7726\n",
      "   macro avg       0.82      0.80      0.80      7726\n",
      "weighted avg       0.82      0.80      0.80      7726\n",
      " \n",
      "\n",
      "Test set\n",
      "               precision    recall  f1-score   support\n",
      "\n",
      "           0       0.91      0.65      0.76      1300\n",
      "           1       0.45      0.81      0.58       458\n",
      "\n",
      "    accuracy                           0.69      1758\n",
      "   macro avg       0.68      0.73      0.67      1758\n",
      "weighted avg       0.79      0.69      0.71      1758\n",
      "\n",
      "-----------------------------------------------\n",
      "\n",
      "f2 score for train and test set: \n",
      "  0.8748 0.6995\n",
      "------------\n",
      "19\n",
      "\n",
      "Classification Report for train & test set\n",
      " \n",
      "Train set\n",
      "               precision    recall  f1-score   support\n",
      "\n",
      "           0       0.90      0.67      0.77      3863\n",
      "           1       0.74      0.92      0.82      3863\n",
      "\n",
      "    accuracy                           0.80      7726\n",
      "   macro avg       0.82      0.80      0.79      7726\n",
      "weighted avg       0.82      0.80      0.79      7726\n",
      " \n",
      "\n",
      "Test set\n",
      "               precision    recall  f1-score   support\n",
      "\n",
      "           0       0.92      0.63      0.74      1300\n",
      "           1       0.44      0.84      0.58       458\n",
      "\n",
      "    accuracy                           0.68      1758\n",
      "   macro avg       0.68      0.73      0.66      1758\n",
      "weighted avg       0.79      0.68      0.70      1758\n",
      "\n",
      "-----------------------------------------------\n",
      "\n",
      "f2 score for train and test set: \n",
      "  0.8782 0.7087\n",
      "------------\n",
      "20\n",
      "\n",
      "Classification Report for train & test set\n",
      " \n",
      "Train set\n",
      "               precision    recall  f1-score   support\n",
      "\n",
      "           0       0.88      0.69      0.78      3863\n",
      "           1       0.75      0.91      0.82      3863\n",
      "\n",
      "    accuracy                           0.80      7726\n",
      "   macro avg       0.82      0.80      0.80      7726\n",
      "weighted avg       0.82      0.80      0.80      7726\n",
      " \n",
      "\n",
      "Test set\n",
      "               precision    recall  f1-score   support\n",
      "\n",
      "           0       0.91      0.64      0.75      1300\n",
      "           1       0.45      0.81      0.58       458\n",
      "\n",
      "    accuracy                           0.69      1758\n",
      "   macro avg       0.68      0.73      0.66      1758\n",
      "weighted avg       0.79      0.69      0.71      1758\n",
      "\n",
      "-----------------------------------------------\n",
      "\n",
      "f2 score for train and test set: \n",
      "  0.8719 0.699\n"
     ]
    },
    {
     "name": "stdout",
     "output_type": "stream",
     "text": [
      "------------\n",
      "21\n",
      "\n",
      "Classification Report for train & test set\n",
      " \n",
      "Train set\n",
      "               precision    recall  f1-score   support\n",
      "\n",
      "           0       0.89      0.66      0.76      3863\n",
      "           1       0.73      0.92      0.82      3863\n",
      "\n",
      "    accuracy                           0.79      7726\n",
      "   macro avg       0.81      0.79      0.79      7726\n",
      "weighted avg       0.81      0.79      0.79      7726\n",
      " \n",
      "\n",
      "Test set\n",
      "               precision    recall  f1-score   support\n",
      "\n",
      "           0       0.92      0.62      0.74      1300\n",
      "           1       0.44      0.84      0.58       458\n",
      "\n",
      "    accuracy                           0.68      1758\n",
      "   macro avg       0.68      0.73      0.66      1758\n",
      "weighted avg       0.79      0.68      0.70      1758\n",
      "\n",
      "-----------------------------------------------\n",
      "\n",
      "f2 score for train and test set: \n",
      "  0.8758 0.7077\n",
      "------------\n",
      "22\n",
      "\n",
      "Classification Report for train & test set\n",
      " \n",
      "Train set\n",
      "               precision    recall  f1-score   support\n",
      "\n",
      "           0       0.88      0.68      0.77      3863\n",
      "           1       0.74      0.91      0.82      3863\n",
      "\n",
      "    accuracy                           0.80      7726\n",
      "   macro avg       0.81      0.80      0.79      7726\n",
      "weighted avg       0.81      0.80      0.79      7726\n",
      " \n",
      "\n",
      "Test set\n",
      "               precision    recall  f1-score   support\n",
      "\n",
      "           0       0.91      0.64      0.75      1300\n",
      "           1       0.45      0.82      0.58       458\n",
      "\n",
      "    accuracy                           0.69      1758\n",
      "   macro avg       0.68      0.73      0.67      1758\n",
      "weighted avg       0.79      0.69      0.71      1758\n",
      "\n",
      "-----------------------------------------------\n",
      "\n",
      "f2 score for train and test set: \n",
      "  0.8701 0.7031\n",
      "------------\n",
      "23\n",
      "\n",
      "Classification Report for train & test set\n",
      " \n",
      "Train set\n",
      "               precision    recall  f1-score   support\n",
      "\n",
      "           0       0.89      0.66      0.76      3863\n",
      "           1       0.73      0.92      0.81      3863\n",
      "\n",
      "    accuracy                           0.79      7726\n",
      "   macro avg       0.81      0.79      0.79      7726\n",
      "weighted avg       0.81      0.79      0.79      7726\n",
      " \n",
      "\n",
      "Test set\n",
      "               precision    recall  f1-score   support\n",
      "\n",
      "           0       0.92      0.62      0.74      1300\n",
      "           1       0.44      0.84      0.58       458\n",
      "\n",
      "    accuracy                           0.68      1758\n",
      "   macro avg       0.68      0.73      0.66      1758\n",
      "weighted avg       0.79      0.68      0.70      1758\n",
      "\n",
      "-----------------------------------------------\n",
      "\n",
      "f2 score for train and test set: \n",
      "  0.8744 0.7111\n",
      "------------\n",
      "24\n",
      "\n",
      "Classification Report for train & test set\n",
      " \n",
      "Train set\n",
      "               precision    recall  f1-score   support\n",
      "\n",
      "           0       0.88      0.69      0.77      3863\n",
      "           1       0.74      0.91      0.82      3863\n",
      "\n",
      "    accuracy                           0.80      7726\n",
      "   macro avg       0.81      0.80      0.79      7726\n",
      "weighted avg       0.81      0.80      0.79      7726\n",
      " \n",
      "\n",
      "Test set\n",
      "               precision    recall  f1-score   support\n",
      "\n",
      "           0       0.92      0.64      0.75      1300\n",
      "           1       0.45      0.83      0.58       458\n",
      "\n",
      "    accuracy                           0.69      1758\n",
      "   macro avg       0.68      0.74      0.67      1758\n",
      "weighted avg       0.79      0.69      0.71      1758\n",
      "\n",
      "-----------------------------------------------\n",
      "\n",
      "f2 score for train and test set: \n",
      "  0.8692 0.7108\n",
      "------------\n",
      "25\n",
      "\n",
      "Classification Report for train & test set\n",
      " \n",
      "Train set\n",
      "               precision    recall  f1-score   support\n",
      "\n",
      "           0       0.89      0.66      0.76      3863\n",
      "           1       0.73      0.92      0.81      3863\n",
      "\n",
      "    accuracy                           0.79      7726\n",
      "   macro avg       0.81      0.79      0.78      7726\n",
      "weighted avg       0.81      0.79      0.78      7726\n",
      " \n",
      "\n",
      "Test set\n",
      "               precision    recall  f1-score   support\n",
      "\n",
      "           0       0.92      0.62      0.74      1300\n",
      "           1       0.44      0.85      0.58       458\n",
      "\n",
      "    accuracy                           0.68      1758\n",
      "   macro avg       0.68      0.73      0.66      1758\n",
      "weighted avg       0.79      0.68      0.70      1758\n",
      "\n",
      "-----------------------------------------------\n",
      "\n",
      "f2 score for train and test set: \n",
      "  0.8754 0.7148\n"
     ]
    }
   ],
   "source": [
    "k_range = range(1, 26)\n",
    "\n",
    "for k in k_range:\n",
    "    clf = KNeighborsClassifier(n_neighbors=k)\n",
    "    clf.fit(scaled_X_train_smoted, y_train_smoted)\n",
    "    y_pred_train = clf.predict(scaled_X_train_smoted)\n",
    "    y_pred_test = clf.predict(scaled_X_test)\n",
    "    \n",
    "    print('------------')\n",
    "    print(k)\n",
    "    print('\\nClassification Report for train & test set\\n',\n",
    "              '\\nTrain set\\n',\n",
    "              classification_report(y_train_smoted, y_pred_train),\n",
    "              '\\n\\nTest set\\n',\n",
    "              classification_report(y_test, y_pred_test))\n",
    "    print('-----------------------------------------------\\n')\n",
    "    \n",
    "    print (\"f2 score for train and test set: \\n \",\n",
    "           round(fbeta_score(y_train_smoted, y_pred_train, 2.0),4), \n",
    "           round(fbeta_score(y_test, y_pred_test, 2.0),4))\n",
    "    "
   ]
  },
  {
   "cell_type": "markdown",
   "metadata": {},
   "source": [
    "### I chose n = 14 because it has a high recall value,  less overfitting. KNN is not the best algorithm in this data but I tried to make it as effiective as I can. High variance\n",
    "I tried ADASYN here but it did not give better results than SMOTE."
   ]
  },
  {
   "cell_type": "code",
   "execution_count": 109,
   "metadata": {
    "ExecuteTime": {
     "end_time": "2020-05-29T14:12:25.682365Z",
     "start_time": "2020-05-29T14:12:25.612976Z"
    }
   },
   "outputs": [
    {
     "data": {
      "text/plain": [
       "KNeighborsClassifier(algorithm='auto', leaf_size=30, metric='minkowski',\n",
       "                     metric_params=None, n_jobs=None, n_neighbors=14, p=2,\n",
       "                     weights='uniform')"
      ]
     },
     "execution_count": 109,
     "metadata": {},
     "output_type": "execute_result"
    }
   ],
   "source": [
    "clf = KNeighborsClassifier(n_neighbors=14)\n",
    "clf.fit(scaled_X_train_smoted, y_train_smoted)"
   ]
  },
  {
   "cell_type": "code",
   "execution_count": 110,
   "metadata": {
    "ExecuteTime": {
     "end_time": "2020-05-29T14:12:34.420745Z",
     "start_time": "2020-05-29T14:12:27.845824Z"
    }
   },
   "outputs": [],
   "source": [
    "y_pred_train = clf.predict(scaled_X_train_smoted)\n",
    "y_pred_test = clf.predict(scaled_X_test)"
   ]
  },
  {
   "cell_type": "code",
   "execution_count": 111,
   "metadata": {
    "ExecuteTime": {
     "end_time": "2020-05-29T14:12:37.399138Z",
     "start_time": "2020-05-29T14:12:36.312645Z"
    }
   },
   "outputs": [
    {
     "name": "stdout",
     "output_type": "stream",
     "text": [
      "MODEL EVALUATION METRICS:\n",
      " -----------------------------------------------------\n",
      "Confusion Matrix for train & test set: \n",
      "\n",
      "[[2766 1097]\n",
      " [ 344 3519]] \n",
      "\n",
      "[[875 425]\n",
      " [ 95 363]]\n",
      "-----------------------------------------------------\n",
      "\n",
      "Classification Report for train & test set\n",
      " \n",
      "Train set\n",
      "               precision    recall  f1-score   support\n",
      "\n",
      "           0       0.89      0.72      0.79      3863\n",
      "           1       0.76      0.91      0.83      3863\n",
      "\n",
      "    accuracy                           0.81      7726\n",
      "   macro avg       0.83      0.81      0.81      7726\n",
      "weighted avg       0.83      0.81      0.81      7726\n",
      " \n",
      "\n",
      "Test set\n",
      "               precision    recall  f1-score   support\n",
      "\n",
      "           0       0.90      0.67      0.77      1300\n",
      "           1       0.46      0.79      0.58       458\n",
      "\n",
      "    accuracy                           0.70      1758\n",
      "   macro avg       0.68      0.73      0.68      1758\n",
      "weighted avg       0.79      0.70      0.72      1758\n",
      "\n",
      "-----------------------------------------------------\n",
      "\n",
      "Cohen's Kappa for train and test set:\n",
      "  0.627 0.3776\n",
      "f2 score for train and test set: \n",
      "  0.8768 0.6927\n",
      "roc auc score for train and test set:\n",
      "  0.8135 0.7328\n",
      "Mean Cross Validation Score:\n",
      " 0.7793\n"
     ]
    }
   ],
   "source": [
    "model_evaluation(scaled_X_train_smoted, scaled_X_test, y_train_smoted, y_test, y_pred_train, y_pred_test)"
   ]
  },
  {
   "cell_type": "markdown",
   "metadata": {},
   "source": [
    "# SVM classifier"
   ]
  },
  {
   "cell_type": "code",
   "execution_count": 123,
   "metadata": {
    "ExecuteTime": {
     "end_time": "2020-05-29T14:55:52.333668Z",
     "start_time": "2020-05-29T14:55:52.327903Z"
    }
   },
   "outputs": [],
   "source": [
    "sample_X_train = X_train.sample(n=1000)\n",
    "sample_y_train = y_train.sample(n=1000)"
   ]
  },
  {
   "cell_type": "code",
   "execution_count": 125,
   "metadata": {
    "ExecuteTime": {
     "end_time": "2020-05-29T14:56:52.079821Z",
     "start_time": "2020-05-29T14:56:52.074573Z"
    }
   },
   "outputs": [],
   "source": []
  },
  {
   "cell_type": "code",
   "execution_count": null,
   "metadata": {
    "ExecuteTime": {
     "start_time": "2020-05-29T14:57:52.954Z"
    }
   },
   "outputs": [],
   "source": [
    "clf = SVC(kernel='linear', class_weight='balanced')\n",
    "clf.fit(sample_X_train, sample_y_train)\n",
    "y_pred_train = clf.predict(X_train)\n",
    "y_pred_test = clf.predict(X_test)"
   ]
  },
  {
   "cell_type": "code",
   "execution_count": null,
   "metadata": {
    "ExecuteTime": {
     "start_time": "2020-05-29T14:57:56.479Z"
    }
   },
   "outputs": [],
   "source": [
    "model_evaluation(X_train, X_test, y_train, y_test, y_pred_train, y_pred_test)"
   ]
  },
  {
   "cell_type": "code",
   "execution_count": 76,
   "metadata": {
    "ExecuteTime": {
     "end_time": "2020-05-29T06:18:08.550165Z",
     "start_time": "2020-05-29T06:10:56.977813Z"
    }
   },
   "outputs": [
    {
     "data": {
      "image/png": "[encoded data removed]",
      "text/plain": [
       "<Figure size 720x576 with 1 Axes>"
      ]
     },
     "metadata": {
      "needs_background": "light"
     },
     "output_type": "display_data"
    },
    {
     "name": "stdout",
     "output_type": "stream",
     "text": [
      "Training AUC: 0.8415\n",
      "Testing AUC: 0.82093\n"
     ]
    }
   ],
   "source": [
    "roc_curve_and_auc(clf, X_train, X_test, y_train, y_test)"
   ]
  },
  {
   "cell_type": "markdown",
   "metadata": {},
   "source": [
    "# SVM classifier smote gridsearch"
   ]
  },
  {
   "cell_type": "code",
   "execution_count": null,
   "metadata": {},
   "outputs": [],
   "source": [
    "param_grid = {'C': [0.1, 1, 10, 100, 1000],  \n",
    "              'gamma': [1, 0.1, 0.01, 0.001, 0.0001], \n",
    "              'kernel': ['rbf']}  \n",
    "  \n",
    "clf = GridSearchCV(SVC(), param_grid, refit = True, verbose = 3) \n",
    "  \n",
    "\n",
    "clf.fit(scaled_X_train_smoted, y_train_smoted) "
   ]
  },
  {
   "cell_type": "code",
   "execution_count": null,
   "metadata": {},
   "outputs": [],
   "source": [
    "y_pred_train = clf.predict(scaled_X_train_smoted)\n",
    "y_pred_test = clf.predict(scaled_X_test)"
   ]
  },
  {
   "cell_type": "code",
   "execution_count": null,
   "metadata": {},
   "outputs": [],
   "source": [
    "model_evaluation(scaled_X_train_smoted, scaled_X_test, y_train_smoted, y_test, y_pred_train, y_pred_test)"
   ]
  },
  {
   "cell_type": "code",
   "execution_count": null,
   "metadata": {},
   "outputs": [],
   "source": [
    "roc_curve_and_auc(clf, X_train, X_test, y_train, y_test)"
   ]
  },
  {
   "cell_type": "markdown",
   "metadata": {},
   "source": [
    "# Naive Bayes"
   ]
  },
  {
   "cell_type": "code",
   "execution_count": null,
   "metadata": {},
   "outputs": [],
   "source": [
    "clf = GaussianNB()\n",
    "clf.fit(scaled_X_train_smoted, y_train_smoted)\n",
    "y_pred_train = clf.predict(scaled_X_train_smoted)\n",
    "y_pred_test = clf.predict(scaled_X_test)"
   ]
  },
  {
   "cell_type": "code",
   "execution_count": null,
   "metadata": {},
   "outputs": [],
   "source": [
    "model_evaluation(scaled_X_train_smoted, scaled_X_test, y_train_smoted, y_test, y_pred_train, y_pred_test)"
   ]
  },
  {
   "cell_type": "code",
   "execution_count": null,
   "metadata": {},
   "outputs": [],
   "source": [
    "# roc_curve_and_auc(clf, X_train, X_test, y_train, y_test)"
   ]
  },
  {
   "cell_type": "code",
   "execution_count": null,
   "metadata": {},
   "outputs": [],
   "source": [
    "# clf.feature_importances_"
   ]
  },
  {
   "cell_type": "code",
   "execution_count": null,
   "metadata": {},
   "outputs": [],
   "source": [
    "# plot_feature_importances(clf)"
   ]
  },
  {
   "cell_type": "markdown",
   "metadata": {},
   "source": [
    "Feature Importance\n",
    "Class Weight\n",
    "Over Under SAmpling SMOTE yaptim\n",
    "Stratify\n",
    "Radius Neighbors Classifier Cok fazla model oldu\n",
    "bagging yaptim\n",
    "make_scorer\n",
    "\n",
    "simple imputer\n",
    "n_jobs = -1"
   ]
  },
  {
   "cell_type": "markdown",
   "metadata": {},
   "source": [
    "cohen_kappa_score\n",
    "Cohen suggested the Kappa result be interpreted as follows: values ≤ 0 as indicating no agreement and 0.01–0.20 as none to slight, 0.21–0.40 as fair, 0.41– 0.60 as moderate, 0.61–0.80 as substantial, and 0.81–1.00 as almost perfect agreement."
   ]
  },
  {
   "cell_type": "code",
   "execution_count": null,
   "metadata": {},
   "outputs": [],
   "source": [
    "William’s SVM ",
    "kernel=‘poly’ ",
    "Gamma = ‘0.1’ ",
    "c=1 "
   ]
  },
  {
   "cell_type": "code",
   "execution_count": null,
   "metadata": {},
   "outputs": [],
   "source": [
    "# Plot features importances metric evaluation fonksiyonuna bunu ekleyecegim\n",
    "imp = pd.Series(data=clf.feature_importances_, index=x.columns).sort_values(ascending=False)\n",
    "plt.figure(figsize=(10,12))\n",
    "plt.title(\"Feature importance\")\n",
    "ax = sns.barplot(y=imp.index, x=imp.values, palette=\"Blues_d\", orient='h')"
   ]
  }
 ],
 "metadata": {
  "kernelspec": {
   "display_name": "Python 3",
   "language": "python",
   "name": "python3"
  },
  "language_info": {
   "codemirror_mode": {
    "name": "ipython",
    "version": 3
   },
   "file_extension": ".py",
   "mimetype": "text/x-python",
   "name": "python",
   "nbconvert_exporter": "python",
   "pygments_lexer": "ipython3",
   "version": "3.7.4"
  },
  "varInspector": {
   "cols": {
    "lenName": 16,
    "lenType": 16,
    "lenVar": 40
   },
   "kernels_config": {
    "python": {
     "delete_cmd_postfix": "",
     "delete_cmd_prefix": "del ",
     "library": "var_list.py",
     "varRefreshCmd": "print(var_dic_list())"
    },
    "r": {
     "delete_cmd_postfix": ") ",
     "delete_cmd_prefix": "rm(",
     "library": "var_list.r",
     "varRefreshCmd": "cat(var_dic_list()) "
    }
   },
   "types_to_exclude": [
    "module",
    "function",
    "builtin_function_or_method",
    "instance",
    "_Feature"
   ],
   "window_display": true
  }
 },
 "nbformat": 4,
 "nbformat_minor": 2
}
